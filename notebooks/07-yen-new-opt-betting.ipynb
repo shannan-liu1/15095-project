{
 "cells": [
  {
   "cell_type": "code",
   "execution_count": null,
   "metadata": {},
   "outputs": [],
   "source": [
    "using DataFrames, CSV, JuMP, Gurobi, LinearAlgebra, Random, Printf, StatsBase, CategoricalArrays, Plots, StatsPlots, Distributions"
   ]
  },
  {
   "cell_type": "markdown",
   "metadata": {},
   "source": [
    "## ____________________________________________________________________"
   ]
  },
  {
   "cell_type": "markdown",
   "metadata": {},
   "source": [
    "## Import Datasets (Outputted Probabilities and Returns on $100 Bets)"
   ]
  },
  {
   "cell_type": "code",
   "execution_count": null,
   "metadata": {},
   "outputs": [],
   "source": [
    "# # add actual data here\n",
    "# xgb_preds = CSV.read(\"C:\\\\Users\\\\shann\\\\Documents\\\\GitHub\\\\15095-project\\\\notebooks\\\\xgb_cv_pred.csv\",DataFrame)\n",
    "# rf_preds = CSV.read(\"C:\\\\Users\\\\shann\\\\Documents\\\\GitHub\\\\15095-project\\\\notebooks\\\\rf_pred.csv\",DataFrame)\n",
    "# lgbm_preds = CSV.read(\"C:\\\\Users\\\\shann\\\\Documents\\\\GitHub\\\\15095-project\\\\notebooks\\\\lgbm_cv_pred.csv\",DataFrame);\n",
    "# logreg_preds = CSV.read(\"C:\\\\Users\\\\shann\\\\Documents\\\\GitHub\\\\15095-project\\\\notebooks\\\\logreg_pred.csv\",DataFrame);\n",
    "# new_xgb_preds = CSV.read(\"C:\\\\Users\\\\shann\\\\Documents\\\\GitHub\\\\15095-project\\\\notebooks\\\\new_xgb_pred.csv\",DataFrame);\n",
    "# rf_preds = CSV.read(\"C:\\\\Users\\\\shann\\\\Documents\\\\GitHub\\\\15095-project\\\\notebooks\\\\rf_pred.csv\",DataFrame);\n",
    "# returns = CSV.read(\"C:\\\\Users\\\\shann\\\\Documents\\\\GitHub\\\\15095-project\\\\data\\\\group_stage_betting_odds_final_cleaned.csv\",DataFrame);\n",
    "\n",
    "# # add actual data here\n",
    "new_xgb_preds = CSV.read(\"/Users/yenhann/Documents/MIT/15.095 Machine Learning/15095-project/notebooks/new_xgb_pred.csv\",DataFrame);\n",
    "# rf_preds = CSV.read(\"/Users/yenhann/Documents/MIT/15.095 Machine Learning/15095-project/notebooks/rf_pred.csv\",DataFrame);\n",
    "returns = CSV.read(\"/Users/yenhann/Documents/MIT/15.095 Machine Learning/15095-project/data/group_stage_betting_odds_final_cleaned.csv\",DataFrame);\n",
    "\n",
    "# real outcomes for each match (DONT NEED TO MANUALLY KEY IN THE REAL OUTCOMES OF EVERY MATCH)\n",
    "real_outcomes = CSV.read(\"/Users/yenhann/Documents/MIT/15.095 Machine Learning/15095-project/data/group_stage_mapped_outcomes.csv\",DataFrame);"
   ]
  },
  {
   "cell_type": "code",
   "execution_count": null,
   "metadata": {},
   "outputs": [],
   "source": [
    "returns_matrix = Matrix(returns[:,3:5]);\n",
    "# # matrix of probabilities for model's predictions\n",
    "# xgb_probs = Matrix(xgb_preds[:,3:5]);\n",
    "# rf_probs = Matrix(rf_preds[:,3:5]);\n",
    "# lgbm_probs = Matrix(lgbm_preds[:,3:5]);\n",
    "# logreg_probs = Matrix(logreg_preds[:,3:5]);\n",
    "new_xgb_probs = Matrix(new_xgb_preds[:,3:5]);"
   ]
  },
  {
   "cell_type": "code",
   "execution_count": null,
   "metadata": {},
   "outputs": [
    {
     "data": {
      "text/html": [
       "<div><div style = \"float: left;\"><span>8×5 DataFrame</span></div><div style = \"clear: both;\"></div></div><div class = \"data-frame\" style = \"overflow-x: scroll;\"><table class = \"data-frame\" style = \"margin-bottom: 6px;\"><thead><tr class = \"header\"><th class = \"rowNumber\" style = \"font-weight: bold; text-align: right;\">Row</th><th style = \"text-align: left;\">home_team</th><th style = \"text-align: left;\">away_team</th><th style = \"text-align: left;\">home_win</th><th style = \"text-align: left;\">draw</th><th style = \"text-align: left;\">home_loss</th></tr><tr class = \"subheader headerLastRow\"><th class = \"rowNumber\" style = \"font-weight: bold; text-align: right;\"></th><th title = \"String15\" style = \"text-align: left;\">String15</th><th title = \"String15\" style = \"text-align: left;\">String15</th><th title = \"Float64\" style = \"text-align: left;\">Float64</th><th title = \"Float64\" style = \"text-align: left;\">Float64</th><th title = \"Float64\" style = \"text-align: left;\">Float64</th></tr></thead><tbody><tr><td class = \"rowNumber\" style = \"font-weight: bold; text-align: right;\">1</td><td style = \"text-align: left;\">Argentina</td><td style = \"text-align: left;\">Mexico</td><td style = \"text-align: right;\">0.691677</td><td style = \"text-align: right;\">0.0415087</td><td style = \"text-align: right;\">0.266814</td></tr><tr><td class = \"rowNumber\" style = \"font-weight: bold; text-align: right;\">2</td><td style = \"text-align: left;\">Argentina</td><td style = \"text-align: left;\">Saudi Arabia</td><td style = \"text-align: right;\">0.968919</td><td style = \"text-align: right;\">0.025733</td><td style = \"text-align: right;\">0.00534816</td></tr><tr><td class = \"rowNumber\" style = \"font-weight: bold; text-align: right;\">3</td><td style = \"text-align: left;\">Australia</td><td style = \"text-align: left;\">Denmark</td><td style = \"text-align: right;\">0.238239</td><td style = \"text-align: right;\">0.210197</td><td style = \"text-align: right;\">0.551563</td></tr><tr><td class = \"rowNumber\" style = \"font-weight: bold; text-align: right;\">4</td><td style = \"text-align: left;\">Belgium</td><td style = \"text-align: left;\">Canada</td><td style = \"text-align: right;\">0.964543</td><td style = \"text-align: right;\">0.0154218</td><td style = \"text-align: right;\">0.0200349</td></tr><tr><td class = \"rowNumber\" style = \"font-weight: bold; text-align: right;\">5</td><td style = \"text-align: left;\">Belgium</td><td style = \"text-align: left;\">Morocco</td><td style = \"text-align: right;\">0.86645</td><td style = \"text-align: right;\">0.0244761</td><td style = \"text-align: right;\">0.109074</td></tr><tr><td class = \"rowNumber\" style = \"font-weight: bold; text-align: right;\">6</td><td style = \"text-align: left;\">Brazil</td><td style = \"text-align: left;\">Serbia</td><td style = \"text-align: right;\">0.760576</td><td style = \"text-align: right;\">0.0116859</td><td style = \"text-align: right;\">0.227739</td></tr><tr><td class = \"rowNumber\" style = \"font-weight: bold; text-align: right;\">7</td><td style = \"text-align: left;\">Brazil</td><td style = \"text-align: left;\">Switzerland</td><td style = \"text-align: right;\">0.907287</td><td style = \"text-align: right;\">0.00921022</td><td style = \"text-align: right;\">0.0835025</td></tr><tr><td class = \"rowNumber\" style = \"font-weight: bold; text-align: right;\">8</td><td style = \"text-align: left;\">Cameroon</td><td style = \"text-align: left;\">Brazil</td><td style = \"text-align: right;\">0.00561122</td><td style = \"text-align: right;\">0.175407</td><td style = \"text-align: right;\">0.818982</td></tr></tbody></table></div>"
      ],
      "text/latex": [
       "\\begin{tabular}{r|ccccc}\n",
       "\t& home\\_team & away\\_team & home\\_win & draw & home\\_loss\\\\\n",
       "\t\\hline\n",
       "\t& String15 & String15 & Float64 & Float64 & Float64\\\\\n",
       "\t\\hline\n",
       "\t1 & Argentina & Mexico & 0.691677 & 0.0415087 & 0.266814 \\\\\n",
       "\t2 & Argentina & Saudi Arabia & 0.968919 & 0.025733 & 0.00534816 \\\\\n",
       "\t3 & Australia & Denmark & 0.238239 & 0.210197 & 0.551563 \\\\\n",
       "\t4 & Belgium & Canada & 0.964543 & 0.0154218 & 0.0200349 \\\\\n",
       "\t5 & Belgium & Morocco & 0.86645 & 0.0244761 & 0.109074 \\\\\n",
       "\t6 & Brazil & Serbia & 0.760576 & 0.0116859 & 0.227739 \\\\\n",
       "\t7 & Brazil & Switzerland & 0.907287 & 0.00921022 & 0.0835025 \\\\\n",
       "\t8 & Cameroon & Brazil & 0.00561122 & 0.175407 & 0.818982 \\\\\n",
       "\\end{tabular}\n"
      ],
      "text/plain": [
       "\u001b[1m8×5 DataFrame\n",
       "\u001b[1m Row │\u001b[1m home_team \u001b[1m away_team    \u001b[1m home_win   \u001b[1m draw       \u001b[1m home_loss\n",
       "     │\u001b[90m String15  \u001b[90m String15     \u001b[90m Float64    \u001b[90m Float64    \u001b[90m Float64\n",
       "─────┼─────────────────────────────────────────────────────────────\n",
       "   1 │ Argentina  Mexico        0.691677    0.0415087   0.266814\n",
       "   2 │ Argentina  Saudi Arabia  0.968919    0.025733    0.00534816\n",
       "   3 │ Australia  Denmark       0.238239    0.210197    0.551563\n",
       "   4 │ Belgium    Canada        0.964543    0.0154218   0.0200349\n",
       "   5 │ Belgium    Morocco       0.86645     0.0244761   0.109074\n",
       "   6 │ Brazil     Serbia        0.760576    0.0116859   0.227739\n",
       "   7 │ Brazil     Switzerland   0.907287    0.00921022  0.0835025\n",
       "   8 │ Cameroon   Brazil        0.00561122  0.175407    0.818982"
      ]
     },
     "metadata": {},
     "output_type": "display_data"
    }
   ],
   "source": [
    "new_xgb_preds[1:8,:]"
   ]
  },
  {
   "cell_type": "code",
   "execution_count": null,
   "metadata": {},
   "outputs": [
    {
     "data": {
      "text/html": [
       "<div><div style = \"float: left;\"><span>5×8 DataFrame</span></div><div style = \"clear: both;\"></div></div><div class = \"data-frame\" style = \"overflow-x: scroll;\"><table class = \"data-frame\" style = \"margin-bottom: 6px;\"><thead><tr class = \"header\"><th class = \"rowNumber\" style = \"font-weight: bold; text-align: right;\">Row</th><th style = \"text-align: left;\">home_team</th><th style = \"text-align: left;\">away_team</th><th style = \"text-align: left;\">home_win_earnings_per_dollar</th><th style = \"text-align: left;\">draw_earnings_per_dollar</th><th style = \"text-align: left;\">away_win_earnings_per_dollar</th><th style = \"text-align: left;\">implied_probability_of_home_win</th><th style = \"text-align: left;\">implied_probability_of_draw</th><th style = \"text-align: left;\">implied_probability_of_away_win</th></tr><tr class = \"subheader headerLastRow\"><th class = \"rowNumber\" style = \"font-weight: bold; text-align: right;\"></th><th title = \"String15\" style = \"text-align: left;\">String15</th><th title = \"String15\" style = \"text-align: left;\">String15</th><th title = \"Float64\" style = \"text-align: left;\">Float64</th><th title = \"Float64\" style = \"text-align: left;\">Float64</th><th title = \"Float64\" style = \"text-align: left;\">Float64</th><th title = \"Float64\" style = \"text-align: left;\">Float64</th><th title = \"Float64\" style = \"text-align: left;\">Float64</th><th title = \"Float64\" style = \"text-align: left;\">Float64</th></tr></thead><tbody><tr><td class = \"rowNumber\" style = \"font-weight: bold; text-align: right;\">1</td><td style = \"text-align: left;\">Argentina</td><td style = \"text-align: left;\">Mexico</td><td style = \"text-align: right;\">0.549451</td><td style = \"text-align: right;\">2.95</td><td style = \"text-align: right;\">6.12</td><td style = \"text-align: right;\">0.64539</td><td style = \"text-align: right;\">0.253165</td><td style = \"text-align: right;\">0.140449</td></tr><tr><td class = \"rowNumber\" style = \"font-weight: bold; text-align: right;\">2</td><td style = \"text-align: left;\">Argentina</td><td style = \"text-align: left;\">Saudi Arabia</td><td style = \"text-align: right;\">0.120048</td><td style = \"text-align: right;\">8.21</td><td style = \"text-align: right;\">24.52</td><td style = \"text-align: right;\">0.892819</td><td style = \"text-align: right;\">0.108578</td><td style = \"text-align: right;\">0.039185</td></tr><tr><td class = \"rowNumber\" style = \"font-weight: bold; text-align: right;\">3</td><td style = \"text-align: left;\">Australia</td><td style = \"text-align: left;\">Denmark</td><td style = \"text-align: right;\">6.38</td><td style = \"text-align: right;\">3.88</td><td style = \"text-align: right;\">0.429185</td><td style = \"text-align: right;\">0.135501</td><td style = \"text-align: right;\">0.204918</td><td style = \"text-align: right;\">0.6997</td></tr><tr><td class = \"rowNumber\" style = \"font-weight: bold; text-align: right;\">4</td><td style = \"text-align: left;\">Belgium</td><td style = \"text-align: left;\">Canada</td><td style = \"text-align: right;\">0.900901</td><td style = \"text-align: right;\">2.45</td><td style = \"text-align: right;\">3.51</td><td style = \"text-align: right;\">0.526066</td><td style = \"text-align: right;\">0.289855</td><td style = \"text-align: right;\">0.221729</td></tr><tr><td class = \"rowNumber\" style = \"font-weight: bold; text-align: right;\">5</td><td style = \"text-align: left;\">Belgium</td><td style = \"text-align: left;\">Morocco</td><td style = \"text-align: right;\">0.581395</td><td style = \"text-align: right;\">3.21</td><td style = \"text-align: right;\">4.92</td><td style = \"text-align: right;\">0.632353</td><td style = \"text-align: right;\">0.23753</td><td style = \"text-align: right;\">0.168919</td></tr></tbody></table></div>"
      ],
      "text/latex": [
       "\\begin{tabular}{r|ccccc}\n",
       "\t& home\\_team & away\\_team & home\\_win\\_earnings\\_per\\_dollar & draw\\_earnings\\_per\\_dollar & \\\\\n",
       "\t\\hline\n",
       "\t& String15 & String15 & Float64 & Float64 & \\\\\n",
       "\t\\hline\n",
       "\t1 & Argentina & Mexico & 0.549451 & 2.95 & $\\dots$ \\\\\n",
       "\t2 & Argentina & Saudi Arabia & 0.120048 & 8.21 & $\\dots$ \\\\\n",
       "\t3 & Australia & Denmark & 6.38 & 3.88 & $\\dots$ \\\\\n",
       "\t4 & Belgium & Canada & 0.900901 & 2.45 & $\\dots$ \\\\\n",
       "\t5 & Belgium & Morocco & 0.581395 & 3.21 & $\\dots$ \\\\\n",
       "\\end{tabular}\n"
      ],
      "text/plain": [
       "\u001b[1m5×8 DataFrame\n",
       "\u001b[1m Row │\u001b[1m home_team \u001b[1m away_team    \u001b[1m home_win_earnings_per_dollar \u001b[1m draw_earnings_pe ⋯\n",
       "     │\u001b[90m String15  \u001b[90m String15     \u001b[90m Float64                      \u001b[90m Float64          ⋯\n",
       "─────┼──────────────────────────────────────────────────────────────────────────\n",
       "   1 │ Argentina  Mexico                            0.549451                   ⋯\n",
       "   2 │ Argentina  Saudi Arabia                      0.120048\n",
       "   3 │ Australia  Denmark                           6.38\n",
       "   4 │ Belgium    Canada                            0.900901\n",
       "   5 │ Belgium    Morocco                           0.581395                   ⋯\n",
       "\u001b[36m                                                               5 columns omitted"
      ]
     },
     "metadata": {},
     "output_type": "display_data"
    }
   ],
   "source": [
    "returns[1:5,:]"
   ]
  },
  {
   "cell_type": "code",
   "execution_count": null,
   "metadata": {},
   "outputs": [],
   "source": [
    "# check if each row of new_xgb_preds and returns are the same\n",
    "for i in 1:size(new_xgb_preds,1)\n",
    "    if new_xgb_preds[i,1] != returns[i,1] || new_xgb_preds[i,2] != returns[i,2]\n",
    "        println(\"XGB and Returns not the same\")\n",
    "    end\n",
    "end\n",
    "\n",
    "# check if each row of new_xgb_preds and real_outcomes are the same\n",
    "for i in 1:size(new_xgb_preds,1)\n",
    "    if new_xgb_preds[i,1] != real_outcomes[i,1] || new_xgb_preds[i,2] != real_outcomes[i,2]\n",
    "        println(\"XGB and Real Outcomes not the same\")\n",
    "    end\n",
    "end\n",
    "\n",
    "# check if returns and real_outcomes are the same\n",
    "for i in 1:size(returns,1)\n",
    "    if returns[i,1] != real_outcomes[i,1] || returns[i,2] != real_outcomes[i,2]\n",
    "        println(\"Returns and Real Outcomes not the same\")\n",
    "    end\n",
    "end"
   ]
  },
  {
   "cell_type": "markdown",
   "metadata": {},
   "source": [
    "## ____________________________________________________________________"
   ]
  },
  {
   "cell_type": "code",
   "execution_count": null,
   "metadata": {},
   "outputs": [
    {
     "data": {
      "text/plain": [
       "FIFA2022_GS_Bettings (generic function with 1 method)"
      ]
     },
     "metadata": {},
     "output_type": "display_data"
    }
   ],
   "source": [
    "function FIFA2022_GS_Bettings(P, R, B, K)\n",
    "    \n",
    "    # define model\n",
    "    model = Model(Gurobi.Optimizer)\n",
    "\n",
    "    # define parameters and decision variables\n",
    "    m = size(P, 1)              # 48 group stage matches\n",
    "    n = size(P, 2)              # 3 outcomes\n",
    "\n",
    "    @variable(model, x[i=1:m, j=1:n] >= 0) # x[i,j] is the amount of money bet on outcome j of match i\n",
    "    @variable(model, z[i=1:m, j=1:n], Bin) # z[i,j] is whether you bet on outcome j of match i\n",
    "\n",
    "    # define objective: maximising expected total returns across all matches\n",
    "    @objective(model, Max, sum(P[i,1]*R[i,1]*x[i,1] + \n",
    "                               P[i,2]*R[i,2]*x[i,2] + \n",
    "                               P[i,3]*R[i,3]*x[i,3] - \n",
    "                               sum(x[i,j] for j=1:n) for i=1:m))\n",
    "\n",
    "    # # constraints\n",
    "    # 1) You can only bet on one outcome for each match\n",
    "    @constraint(model, [i=1:m], sum(z[i,j] for j=1:n) <= 1)\n",
    "\n",
    "    # 2) x[i,j] <= B/12*z[i,j] for all i and j\n",
    "    # you can't bet more than 5% of your budget on a single match\n",
    "    @constraint(model, [i=1:m, j=1:n], x[i,j] <= B/20*z[i,j])\n",
    "\n",
    "    # 3) Budget constraints\n",
    "    @constraint(model, sum(x[i,j] for j=1:n, i=1:m) <= B)\n",
    "\n",
    "    # 4) You must spread your risk across at least K matches\n",
    "    @constraint(model, sum(z[i,j] for j=1:n, i=1:m) >= K)\n",
    "\n",
    "    # 5) if z = 1, then x > 0\n",
    "    @constraint(model, [i=1:m, j=1:n], x[i,j] >= 1*z[i,j])\n",
    "\n",
    "    # solve model\n",
    "    optimize!(model)\n",
    "\n",
    "    # get optimal bet amounts (x) and how you bet (z)\n",
    "    opt_val = objective_value(model)\n",
    "    x_opt = value.(x)\n",
    "    z_opt = value.(z)\n",
    "\n",
    "    return opt_val, x_opt, z_opt\n",
    "end"
   ]
  },
  {
   "cell_type": "code",
   "execution_count": null,
   "metadata": {},
   "outputs": [
    {
     "name": "stdout",
     "output_type": "stream",
     "text": [
      "Set parameter Username\n",
      "Academic license - for non-commercial use only - expires 2023-08-19\n",
      "Gurobi Optimizer version 9.5.2 build v9.5.2rc0 (mac64[x86])\n",
      "Thread count: 4 physical cores, 8 logical processors, using up to 8 threads\n",
      "Optimize a model with 338 rows, 288 columns and 1008 nonzeros\n",
      "Model fingerprint: 0xa1ebd13e\n",
      "Variable types: 144 continuous, 144 integer (144 binary)\n",
      "Coefficient statistics:\n",
      "  Matrix range     [1e+00, 2e+02]\n",
      "  Objective range  [1e-02, 1e+01]\n",
      "  Bounds range     [0e+00, 0e+00]\n",
      "  RHS range        [1e+00, 5e+03]\n",
      "Found heuristic solution: objective 119.8196463\n",
      "Presolve removed 338 rows and 288 columns\n",
      "Presolve time: 0.00s\n",
      "Presolve: All rows and columns removed\n",
      "\n",
      "Explored 0 nodes (0 simplex iterations) in 0.00 seconds (0.00 work units)\n",
      "Thread count was 1 (of 8 available processors)\n",
      "\n",
      "Solution count 2: 5220.83 119.82 \n",
      "\n",
      "Optimal solution found (tolerance 1.00e-04)\n",
      "Best objective 5.220830380900e+03, best bound 5.220830380900e+03, gap 0.0000%\n",
      "\n",
      "User-callback calls 520, time in user-callback 0.00 sec\n"
     ]
    }
   ],
   "source": [
    "exp_prof, x_opt, z_opt = FIFA2022_GS_Bettings(new_xgb_probs, returns_matrix, 5000, 5);"
   ]
  },
  {
   "cell_type": "code",
   "execution_count": null,
   "metadata": {},
   "outputs": [
    {
     "data": {
      "text/plain": [
       "18-element Vector{CartesianIndex{2}}:\n",
       " CartesianIndex(3, 1)\n",
       " CartesianIndex(22, 1)\n",
       " CartesianIndex(28, 1)\n",
       " CartesianIndex(37, 1)\n",
       " CartesianIndex(38, 1)\n",
       " CartesianIndex(11, 2)\n",
       " CartesianIndex(21, 2)\n",
       " CartesianIndex(31, 2)\n",
       " CartesianIndex(35, 2)\n",
       " CartesianIndex(39, 2)\n",
       " CartesianIndex(41, 2)\n",
       " CartesianIndex(47, 2)\n",
       " CartesianIndex(1, 3)\n",
       " CartesianIndex(6, 3)\n",
       " CartesianIndex(12, 3)\n",
       " CartesianIndex(15, 3)\n",
       " CartesianIndex(19, 3)\n",
       " CartesianIndex(45, 3)"
      ]
     },
     "metadata": {},
     "output_type": "display_data"
    }
   ],
   "source": [
    "# which matches to bet on\n",
    "betting_matches = findall(x -> x >= 1, z_opt)"
   ]
  },
  {
   "cell_type": "code",
   "execution_count": null,
   "metadata": {},
   "outputs": [
    {
     "data": {
      "text/plain": [
       "18-element Vector{Int64}:\n",
       "  3\n",
       " 22\n",
       " 28\n",
       " 37\n",
       " 38\n",
       " 11\n",
       " 21\n",
       " 31\n",
       " 35\n",
       " 39\n",
       " 41\n",
       " 47\n",
       "  1\n",
       "  6\n",
       " 12\n",
       " 15\n",
       " 19\n",
       " 45"
      ]
     },
     "metadata": {},
     "output_type": "display_data"
    }
   ],
   "source": [
    "# make betting matches into list of first index of tuples\n",
    "betting_matches_list = [x[1] for x in betting_matches]\n",
    "betting_matches_outcomes = [x[2] for x in betting_matches]\n",
    "\n",
    "betting_matches_list"
   ]
  },
  {
   "cell_type": "code",
   "execution_count": null,
   "metadata": {},
   "outputs": [
    {
     "data": {
      "text/html": [
       "<div><div style = \"float: left;\"><span>DataFrameRow (5 columns)</span></div><div style = \"clear: both;\"></div></div><div class = \"data-frame\" style = \"overflow-x: scroll;\"><table class = \"data-frame\" style = \"margin-bottom: 6px;\"><thead><tr class = \"header\"><th class = \"rowLabel\" style = \"font-weight: bold; text-align: right;\">Row</th><th style = \"text-align: left;\">home_team</th><th style = \"text-align: left;\">away_team</th><th style = \"text-align: left;\">home_win</th><th style = \"text-align: left;\">draw</th><th style = \"text-align: left;\">home_loss</th></tr><tr class = \"subheader headerLastRow\"><th class = \"rowLabel\" style = \"font-weight: bold; text-align: right;\"></th><th title = \"String15\" style = \"text-align: left;\">String15</th><th title = \"String15\" style = \"text-align: left;\">String15</th><th title = \"Float64\" style = \"text-align: left;\">Float64</th><th title = \"Float64\" style = \"text-align: left;\">Float64</th><th title = \"Float64\" style = \"text-align: left;\">Float64</th></tr></thead><tbody><tr><td class = \"rowLabel\" style = \"font-weight: bold; text-align: right;\">3</td><td style = \"text-align: left;\">Australia</td><td style = \"text-align: left;\">Denmark</td><td style = \"text-align: right;\">0.238239</td><td style = \"text-align: right;\">0.210197</td><td style = \"text-align: right;\">0.551563</td></tr></tbody></table></div>"
      ],
      "text/latex": [
       "\\begin{tabular}{r|ccccc}\n",
       "\t& home\\_team & away\\_team & home\\_win & draw & home\\_loss\\\\\n",
       "\t\\hline\n",
       "\t& String15 & String15 & Float64 & Float64 & Float64\\\\\n",
       "\t\\hline\n",
       "\t3 & Australia & Denmark & 0.238239 & 0.210197 & 0.551563 \\\\\n",
       "\\end{tabular}\n"
      ],
      "text/plain": [
       "\u001b[1mDataFrameRow\n",
       "\u001b[1m Row │\u001b[1m home_team \u001b[1m away_team \u001b[1m home_win \u001b[1m draw     \u001b[1m home_loss\n",
       "     │\u001b[90m String15  \u001b[90m String15  \u001b[90m Float64  \u001b[90m Float64  \u001b[90m Float64\n",
       "─────┼─────────────────────────────────────────────────────\n",
       "   3 │ Australia  Denmark    0.238239  0.210197   0.551563"
      ]
     },
     "metadata": {},
     "output_type": "display_data"
    }
   ],
   "source": [
    "new_xgb_preds[3,:]"
   ]
  },
  {
   "cell_type": "code",
   "execution_count": null,
   "metadata": {},
   "outputs": [
    {
     "data": {
      "text/plain": [
       "3-element Vector{Float64}:\n",
       " 250.0\n",
       "   0.0\n",
       "   0.0"
      ]
     },
     "metadata": {},
     "output_type": "display_data"
    }
   ],
   "source": [
    "x_opt[3,:]"
   ]
  },
  {
   "cell_type": "code",
   "execution_count": null,
   "metadata": {},
   "outputs": [
    {
     "data": {
      "text/html": [
       "<div><div style = \"float: left;\"><span>DataFrameRow (8 columns)</span></div><div style = \"clear: both;\"></div></div><div class = \"data-frame\" style = \"overflow-x: scroll;\"><table class = \"data-frame\" style = \"margin-bottom: 6px;\"><thead><tr class = \"header\"><th class = \"rowLabel\" style = \"font-weight: bold; text-align: right;\">Row</th><th style = \"text-align: left;\">home_team</th><th style = \"text-align: left;\">away_team</th><th style = \"text-align: left;\">home_win_earnings_per_dollar</th><th style = \"text-align: left;\">draw_earnings_per_dollar</th><th style = \"text-align: left;\">away_win_earnings_per_dollar</th><th style = \"text-align: left;\">implied_probability_of_home_win</th><th style = \"text-align: left;\">implied_probability_of_draw</th><th style = \"text-align: left;\">implied_probability_of_away_win</th></tr><tr class = \"subheader headerLastRow\"><th class = \"rowLabel\" style = \"font-weight: bold; text-align: right;\"></th><th title = \"String15\" style = \"text-align: left;\">String15</th><th title = \"String15\" style = \"text-align: left;\">String15</th><th title = \"Float64\" style = \"text-align: left;\">Float64</th><th title = \"Float64\" style = \"text-align: left;\">Float64</th><th title = \"Float64\" style = \"text-align: left;\">Float64</th><th title = \"Float64\" style = \"text-align: left;\">Float64</th><th title = \"Float64\" style = \"text-align: left;\">Float64</th><th title = \"Float64\" style = \"text-align: left;\">Float64</th></tr></thead><tbody><tr><td class = \"rowLabel\" style = \"font-weight: bold; text-align: right;\">11</td><td style = \"text-align: left;\">Costa Rica</td><td style = \"text-align: left;\">Germany</td><td style = \"text-align: right;\">22.79</td><td style = \"text-align: right;\">10.17</td><td style = \"text-align: right;\">0.1</td><td style = \"text-align: right;\">0.0420345</td><td style = \"text-align: right;\">0.0895255</td><td style = \"text-align: right;\">0.909091</td></tr></tbody></table></div>"
      ],
      "text/latex": [
       "\\begin{tabular}{r|cccccc}\n",
       "\t& home\\_team & away\\_team & home\\_win\\_earnings\\_per\\_dollar & draw\\_earnings\\_per\\_dollar & away\\_win\\_earnings\\_per\\_dollar & \\\\\n",
       "\t\\hline\n",
       "\t& String15 & String15 & Float64 & Float64 & Float64 & \\\\\n",
       "\t\\hline\n",
       "\t11 & Costa Rica & Germany & 22.79 & 10.17 & 0.1 & $\\dots$ \\\\\n",
       "\\end{tabular}\n"
      ],
      "text/plain": [
       "\u001b[1mDataFrameRow\n",
       "\u001b[1m Row │\u001b[1m home_team  \u001b[1m away_team \u001b[1m home_win_earnings_per_dollar \u001b[1m draw_earnings_per_ ⋯\n",
       "     │\u001b[90m String15   \u001b[90m String15  \u001b[90m Float64                      \u001b[90m Float64            ⋯\n",
       "─────┼──────────────────────────────────────────────────────────────────────────\n",
       "  11 │ Costa Rica  Germany                           22.79                     ⋯\n",
       "\u001b[36m                                                               5 columns omitted"
      ]
     },
     "metadata": {},
     "output_type": "display_data"
    }
   ],
   "source": [
    "returns[11,:]"
   ]
  },
  {
   "cell_type": "code",
   "execution_count": null,
   "metadata": {},
   "outputs": [
    {
     "data": {
      "text/html": [
       "<div><div style = \"float: left;\"><span>18×5 DataFrame</span></div><div style = \"clear: both;\"></div></div><div class = \"data-frame\" style = \"overflow-x: scroll;\"><table class = \"data-frame\" style = \"margin-bottom: 6px;\"><thead><tr class = \"header\"><th class = \"rowNumber\" style = \"font-weight: bold; text-align: right;\">Row</th><th style = \"text-align: left;\">home_team</th><th style = \"text-align: left;\">away_team</th><th style = \"text-align: left;\">home_win</th><th style = \"text-align: left;\">draw</th><th style = \"text-align: left;\">home_loss</th></tr><tr class = \"subheader headerLastRow\"><th class = \"rowNumber\" style = \"font-weight: bold; text-align: right;\"></th><th title = \"String15\" style = \"text-align: left;\">String15</th><th title = \"String15\" style = \"text-align: left;\">String15</th><th title = \"Float64\" style = \"text-align: left;\">Float64</th><th title = \"Float64\" style = \"text-align: left;\">Float64</th><th title = \"Float64\" style = \"text-align: left;\">Float64</th></tr></thead><tbody><tr><td class = \"rowNumber\" style = \"font-weight: bold; text-align: right;\">1</td><td style = \"text-align: left;\">Australia</td><td style = \"text-align: left;\">Denmark</td><td style = \"text-align: right;\">0.238239</td><td style = \"text-align: right;\">0.210197</td><td style = \"text-align: right;\">0.551563</td></tr><tr><td class = \"rowNumber\" style = \"font-weight: bold; text-align: right;\">2</td><td style = \"text-align: left;\">Iran</td><td style = \"text-align: left;\">USA</td><td style = \"text-align: right;\">0.515694</td><td style = \"text-align: right;\">0.270426</td><td style = \"text-align: right;\">0.21388</td></tr><tr><td class = \"rowNumber\" style = \"font-weight: bold; text-align: right;\">3</td><td style = \"text-align: left;\">Morocco</td><td style = \"text-align: left;\">Croatia</td><td style = \"text-align: right;\">0.465358</td><td style = \"text-align: right;\">0.434983</td><td style = \"text-align: right;\">0.0996595</td></tr><tr><td class = \"rowNumber\" style = \"font-weight: bold; text-align: right;\">4</td><td style = \"text-align: left;\">Saudi Arabia</td><td style = \"text-align: left;\">Mexico</td><td style = \"text-align: right;\">0.557936</td><td style = \"text-align: right;\">0.14692</td><td style = \"text-align: right;\">0.295144</td></tr><tr><td class = \"rowNumber\" style = \"font-weight: bold; text-align: right;\">5</td><td style = \"text-align: left;\">Senegal</td><td style = \"text-align: left;\">Netherlands</td><td style = \"text-align: right;\">0.246266</td><td style = \"text-align: right;\">0.403616</td><td style = \"text-align: right;\">0.350118</td></tr><tr><td class = \"rowNumber\" style = \"font-weight: bold; text-align: right;\">6</td><td style = \"text-align: left;\">Costa Rica</td><td style = \"text-align: left;\">Germany</td><td style = \"text-align: right;\">0.0131862</td><td style = \"text-align: right;\">0.444052</td><td style = \"text-align: right;\">0.542761</td></tr><tr><td class = \"rowNumber\" style = \"font-weight: bold; text-align: right;\">7</td><td style = \"text-align: left;\">Ghana</td><td style = \"text-align: left;\">Uruguay</td><td style = \"text-align: right;\">0.090158</td><td style = \"text-align: right;\">0.393147</td><td style = \"text-align: right;\">0.516695</td></tr><tr><td class = \"rowNumber\" style = \"font-weight: bold; text-align: right;\">8</td><td style = \"text-align: left;\">Poland</td><td style = \"text-align: left;\">Argentina</td><td style = \"text-align: right;\">0.0124997</td><td style = \"text-align: right;\">0.398129</td><td style = \"text-align: right;\">0.589371</td></tr><tr><td class = \"rowNumber\" style = \"font-weight: bold; text-align: right;\">9</td><td style = \"text-align: left;\">Qatar</td><td style = \"text-align: left;\">Ecuador</td><td style = \"text-align: right;\">0.326202</td><td style = \"text-align: right;\">0.570737</td><td style = \"text-align: right;\">0.103061</td></tr><tr><td class = \"rowNumber\" style = \"font-weight: bold; text-align: right;\">10</td><td style = \"text-align: left;\">Serbia</td><td style = \"text-align: left;\">Switzerland</td><td style = \"text-align: right;\">0.358455</td><td style = \"text-align: right;\">0.437939</td><td style = \"text-align: right;\">0.203606</td></tr><tr><td class = \"rowNumber\" style = \"font-weight: bold; text-align: right;\">11</td><td style = \"text-align: left;\">Spain</td><td style = \"text-align: left;\">Germany</td><td style = \"text-align: right;\">0.227806</td><td style = \"text-align: right;\">0.54764</td><td style = \"text-align: right;\">0.224554</td></tr><tr><td class = \"rowNumber\" style = \"font-weight: bold; text-align: right;\">12</td><td style = \"text-align: left;\">Wales</td><td style = \"text-align: left;\">England</td><td style = \"text-align: right;\">0.0622313</td><td style = \"text-align: right;\">0.321516</td><td style = \"text-align: right;\">0.616253</td></tr><tr><td class = \"rowNumber\" style = \"font-weight: bold; text-align: right;\">13</td><td style = \"text-align: left;\">Argentina</td><td style = \"text-align: left;\">Mexico</td><td style = \"text-align: right;\">0.691677</td><td style = \"text-align: right;\">0.0415087</td><td style = \"text-align: right;\">0.266814</td></tr><tr><td class = \"rowNumber\" style = \"font-weight: bold; text-align: right;\">14</td><td style = \"text-align: left;\">Brazil</td><td style = \"text-align: left;\">Serbia</td><td style = \"text-align: right;\">0.760576</td><td style = \"text-align: right;\">0.0116859</td><td style = \"text-align: right;\">0.227739</td></tr><tr><td class = \"rowNumber\" style = \"font-weight: bold; text-align: right;\">15</td><td style = \"text-align: left;\">Croatia</td><td style = \"text-align: left;\">Belgium</td><td style = \"text-align: right;\">0.139307</td><td style = \"text-align: right;\">0.0531642</td><td style = \"text-align: right;\">0.807529</td></tr><tr><td class = \"rowNumber\" style = \"font-weight: bold; text-align: right;\">16</td><td style = \"text-align: left;\">Ecuador</td><td style = \"text-align: left;\">Senegal</td><td style = \"text-align: right;\">0.105359</td><td style = \"text-align: right;\">0.180916</td><td style = \"text-align: right;\">0.713725</td></tr><tr><td class = \"rowNumber\" style = \"font-weight: bold; text-align: right;\">17</td><td style = \"text-align: left;\">France</td><td style = \"text-align: left;\">Denmark</td><td style = \"text-align: right;\">0.0639191</td><td style = \"text-align: right;\">0.0319283</td><td style = \"text-align: right;\">0.904153</td></tr><tr><td class = \"rowNumber\" style = \"font-weight: bold; text-align: right;\">18</td><td style = \"text-align: left;\">USA</td><td style = \"text-align: left;\">Wales</td><td style = \"text-align: right;\">0.313079</td><td style = \"text-align: right;\">0.03656</td><td style = \"text-align: right;\">0.650361</td></tr></tbody></table></div>"
      ],
      "text/latex": [
       "\\begin{tabular}{r|ccccc}\n",
       "\t& home\\_team & away\\_team & home\\_win & draw & home\\_loss\\\\\n",
       "\t\\hline\n",
       "\t& String15 & String15 & Float64 & Float64 & Float64\\\\\n",
       "\t\\hline\n",
       "\t1 & Australia & Denmark & 0.238239 & 0.210197 & 0.551563 \\\\\n",
       "\t2 & Iran & USA & 0.515694 & 0.270426 & 0.21388 \\\\\n",
       "\t3 & Morocco & Croatia & 0.465358 & 0.434983 & 0.0996595 \\\\\n",
       "\t4 & Saudi Arabia & Mexico & 0.557936 & 0.14692 & 0.295144 \\\\\n",
       "\t5 & Senegal & Netherlands & 0.246266 & 0.403616 & 0.350118 \\\\\n",
       "\t6 & Costa Rica & Germany & 0.0131862 & 0.444052 & 0.542761 \\\\\n",
       "\t7 & Ghana & Uruguay & 0.090158 & 0.393147 & 0.516695 \\\\\n",
       "\t8 & Poland & Argentina & 0.0124997 & 0.398129 & 0.589371 \\\\\n",
       "\t9 & Qatar & Ecuador & 0.326202 & 0.570737 & 0.103061 \\\\\n",
       "\t10 & Serbia & Switzerland & 0.358455 & 0.437939 & 0.203606 \\\\\n",
       "\t11 & Spain & Germany & 0.227806 & 0.54764 & 0.224554 \\\\\n",
       "\t12 & Wales & England & 0.0622313 & 0.321516 & 0.616253 \\\\\n",
       "\t13 & Argentina & Mexico & 0.691677 & 0.0415087 & 0.266814 \\\\\n",
       "\t14 & Brazil & Serbia & 0.760576 & 0.0116859 & 0.227739 \\\\\n",
       "\t15 & Croatia & Belgium & 0.139307 & 0.0531642 & 0.807529 \\\\\n",
       "\t16 & Ecuador & Senegal & 0.105359 & 0.180916 & 0.713725 \\\\\n",
       "\t17 & France & Denmark & 0.0639191 & 0.0319283 & 0.904153 \\\\\n",
       "\t18 & USA & Wales & 0.313079 & 0.03656 & 0.650361 \\\\\n",
       "\\end{tabular}\n"
      ],
      "text/plain": [
       "\u001b[1m18×5 DataFrame\n",
       "\u001b[1m Row │\u001b[1m home_team    \u001b[1m away_team   \u001b[1m home_win  \u001b[1m draw      \u001b[1m home_loss\n",
       "     │\u001b[90m String15     \u001b[90m String15    \u001b[90m Float64   \u001b[90m Float64   \u001b[90m Float64\n",
       "─────┼────────────────────────────────────────────────────────────\n",
       "   1 │ Australia     Denmark      0.238239   0.210197   0.551563\n",
       "   2 │ Iran          USA          0.515694   0.270426   0.21388\n",
       "   3 │ Morocco       Croatia      0.465358   0.434983   0.0996595\n",
       "   4 │ Saudi Arabia  Mexico       0.557936   0.14692    0.295144\n",
       "   5 │ Senegal       Netherlands  0.246266   0.403616   0.350118\n",
       "   6 │ Costa Rica    Germany      0.0131862  0.444052   0.542761\n",
       "   7 │ Ghana         Uruguay      0.090158   0.393147   0.516695\n",
       "   8 │ Poland        Argentina    0.0124997  0.398129   0.589371\n",
       "   9 │ Qatar         Ecuador      0.326202   0.570737   0.103061\n",
       "  10 │ Serbia        Switzerland  0.358455   0.437939   0.203606\n",
       "  11 │ Spain         Germany      0.227806   0.54764    0.224554\n",
       "  12 │ Wales         England      0.0622313  0.321516   0.616253\n",
       "  13 │ Argentina     Mexico       0.691677   0.0415087  0.266814\n",
       "  14 │ Brazil        Serbia       0.760576   0.0116859  0.227739\n",
       "  15 │ Croatia       Belgium      0.139307   0.0531642  0.807529\n",
       "  16 │ Ecuador       Senegal      0.105359   0.180916   0.713725\n",
       "  17 │ France        Denmark      0.0639191  0.0319283  0.904153\n",
       "  18 │ USA           Wales        0.313079   0.03656    0.650361"
      ]
     },
     "metadata": {},
     "output_type": "display_data"
    }
   ],
   "source": [
    "outcomes = new_xgb_preds[betting_matches_list,:]"
   ]
  },
  {
   "cell_type": "code",
   "execution_count": null,
   "metadata": {},
   "outputs": [],
   "source": [
    "outcomes[:,\"bet_amount\"] = [x_opt[i] for i in betting_matches];"
   ]
  },
  {
   "cell_type": "code",
   "execution_count": null,
   "metadata": {},
   "outputs": [],
   "source": [
    "# # rf_pred_outcomes\n",
    "# outcomes[:,\"actual_outcome\"] = [1,3,3,2,1];\n",
    "\n",
    "# # new_xgb_pred_outcomes (fill out)\n",
    "# outcomes[:,\"actual_outcome\"]=real_\n",
    "\n",
    "# take real match outcomes from the real_outcomes dataframe by taking the corresponding indices from betting_matches_list\n",
    "outcomes[:,\"actual_outcome\"] = [real_outcomes[i,4] for i in betting_matches_list];"
   ]
  },
  {
   "cell_type": "code",
   "execution_count": null,
   "metadata": {},
   "outputs": [],
   "source": [
    "outcomes[:,\"bet_outcome\"] = [x[2] for x in betting_matches];"
   ]
  },
  {
   "cell_type": "code",
   "execution_count": null,
   "metadata": {},
   "outputs": [],
   "source": [
    "# is actual_outcome = bet_outcome?\n",
    "outcomes[:,\"correct\"] = outcomes[:,\"actual_outcome\"] .== outcomes[:,\"bet_outcome\"];"
   ]
  },
  {
   "cell_type": "code",
   "execution_count": null,
   "metadata": {},
   "outputs": [
    {
     "data": {
      "text/plain": [
       "1470.8303809000008"
      ]
     },
     "metadata": {},
     "output_type": "display_data"
    }
   ],
   "source": [
    "# bet result: if correct == false, then bet_result = -bet_amount, if correct == true, then bet_result = bet_amount*\n",
    "bet_result = exp_prof - sum(outcomes[:,\"bet_amount\"].* (outcomes[:,\"correct\"].==false))"
   ]
  },
  {
   "cell_type": "code",
   "execution_count": null,
   "metadata": {},
   "outputs": [
    {
     "data": {
      "text/plain": [
       "1470.8303809000008"
      ]
     },
     "metadata": {},
     "output_type": "display_data"
    }
   ],
   "source": [
    "exp_prof-sum(outcomes[:,\"bet_amount\"].*(outcomes[:,\"correct\"].==false))"
   ]
  },
  {
   "cell_type": "code",
   "execution_count": null,
   "metadata": {},
   "outputs": [
    {
     "data": {
      "text/html": [
       "<div><div style = \"float: left;\"><span>18×9 DataFrame</span></div><div style = \"clear: both;\"></div></div><div class = \"data-frame\" style = \"overflow-x: scroll;\"><table class = \"data-frame\" style = \"margin-bottom: 6px;\"><thead><tr class = \"header\"><th class = \"rowNumber\" style = \"font-weight: bold; text-align: right;\">Row</th><th style = \"text-align: left;\">home_team</th><th style = \"text-align: left;\">away_team</th><th style = \"text-align: left;\">home_win</th><th style = \"text-align: left;\">draw</th><th style = \"text-align: left;\">home_loss</th><th style = \"text-align: left;\">bet_amount</th><th style = \"text-align: left;\">actual_outcome</th><th style = \"text-align: left;\">bet_outcome</th><th style = \"text-align: left;\">correct</th></tr><tr class = \"subheader headerLastRow\"><th class = \"rowNumber\" style = \"font-weight: bold; text-align: right;\"></th><th title = \"String15\" style = \"text-align: left;\">String15</th><th title = \"String15\" style = \"text-align: left;\">String15</th><th title = \"Float64\" style = \"text-align: left;\">Float64</th><th title = \"Float64\" style = \"text-align: left;\">Float64</th><th title = \"Float64\" style = \"text-align: left;\">Float64</th><th title = \"Float64\" style = \"text-align: left;\">Float64</th><th title = \"Int64\" style = \"text-align: left;\">Int64</th><th title = \"Int64\" style = \"text-align: left;\">Int64</th><th title = \"Bool\" style = \"text-align: left;\">Bool</th></tr></thead><tbody><tr><td class = \"rowNumber\" style = \"font-weight: bold; text-align: right;\">1</td><td style = \"text-align: left;\">Australia</td><td style = \"text-align: left;\">Denmark</td><td style = \"text-align: right;\">0.238239</td><td style = \"text-align: right;\">0.210197</td><td style = \"text-align: right;\">0.551563</td><td style = \"text-align: right;\">250.0</td><td style = \"text-align: right;\">1</td><td style = \"text-align: right;\">1</td><td style = \"text-align: right;\">true</td></tr><tr><td class = \"rowNumber\" style = \"font-weight: bold; text-align: right;\">2</td><td style = \"text-align: left;\">Iran</td><td style = \"text-align: left;\">USA</td><td style = \"text-align: right;\">0.515694</td><td style = \"text-align: right;\">0.270426</td><td style = \"text-align: right;\">0.21388</td><td style = \"text-align: right;\">250.0</td><td style = \"text-align: right;\">3</td><td style = \"text-align: right;\">1</td><td style = \"text-align: right;\">false</td></tr><tr><td class = \"rowNumber\" style = \"font-weight: bold; text-align: right;\">3</td><td style = \"text-align: left;\">Morocco</td><td style = \"text-align: left;\">Croatia</td><td style = \"text-align: right;\">0.465358</td><td style = \"text-align: right;\">0.434983</td><td style = \"text-align: right;\">0.0996595</td><td style = \"text-align: right;\">250.0</td><td style = \"text-align: right;\">2</td><td style = \"text-align: right;\">1</td><td style = \"text-align: right;\">false</td></tr><tr><td class = \"rowNumber\" style = \"font-weight: bold; text-align: right;\">4</td><td style = \"text-align: left;\">Saudi Arabia</td><td style = \"text-align: left;\">Mexico</td><td style = \"text-align: right;\">0.557936</td><td style = \"text-align: right;\">0.14692</td><td style = \"text-align: right;\">0.295144</td><td style = \"text-align: right;\">250.0</td><td style = \"text-align: right;\">3</td><td style = \"text-align: right;\">1</td><td style = \"text-align: right;\">false</td></tr><tr><td class = \"rowNumber\" style = \"font-weight: bold; text-align: right;\">5</td><td style = \"text-align: left;\">Senegal</td><td style = \"text-align: left;\">Netherlands</td><td style = \"text-align: right;\">0.246266</td><td style = \"text-align: right;\">0.403616</td><td style = \"text-align: right;\">0.350118</td><td style = \"text-align: right;\">250.0</td><td style = \"text-align: right;\">3</td><td style = \"text-align: right;\">1</td><td style = \"text-align: right;\">false</td></tr><tr><td class = \"rowNumber\" style = \"font-weight: bold; text-align: right;\">6</td><td style = \"text-align: left;\">Costa Rica</td><td style = \"text-align: left;\">Germany</td><td style = \"text-align: right;\">0.0131862</td><td style = \"text-align: right;\">0.444052</td><td style = \"text-align: right;\">0.542761</td><td style = \"text-align: right;\">250.0</td><td style = \"text-align: right;\">3</td><td style = \"text-align: right;\">2</td><td style = \"text-align: right;\">false</td></tr><tr><td class = \"rowNumber\" style = \"font-weight: bold; text-align: right;\">7</td><td style = \"text-align: left;\">Ghana</td><td style = \"text-align: left;\">Uruguay</td><td style = \"text-align: right;\">0.090158</td><td style = \"text-align: right;\">0.393147</td><td style = \"text-align: right;\">0.516695</td><td style = \"text-align: right;\">250.0</td><td style = \"text-align: right;\">3</td><td style = \"text-align: right;\">2</td><td style = \"text-align: right;\">false</td></tr><tr><td class = \"rowNumber\" style = \"font-weight: bold; text-align: right;\">8</td><td style = \"text-align: left;\">Poland</td><td style = \"text-align: left;\">Argentina</td><td style = \"text-align: right;\">0.0124997</td><td style = \"text-align: right;\">0.398129</td><td style = \"text-align: right;\">0.589371</td><td style = \"text-align: right;\">250.0</td><td style = \"text-align: right;\">3</td><td style = \"text-align: right;\">2</td><td style = \"text-align: right;\">false</td></tr><tr><td class = \"rowNumber\" style = \"font-weight: bold; text-align: right;\">9</td><td style = \"text-align: left;\">Qatar</td><td style = \"text-align: left;\">Ecuador</td><td style = \"text-align: right;\">0.326202</td><td style = \"text-align: right;\">0.570737</td><td style = \"text-align: right;\">0.103061</td><td style = \"text-align: right;\">250.0</td><td style = \"text-align: right;\">3</td><td style = \"text-align: right;\">2</td><td style = \"text-align: right;\">false</td></tr><tr><td class = \"rowNumber\" style = \"font-weight: bold; text-align: right;\">10</td><td style = \"text-align: left;\">Serbia</td><td style = \"text-align: left;\">Switzerland</td><td style = \"text-align: right;\">0.358455</td><td style = \"text-align: right;\">0.437939</td><td style = \"text-align: right;\">0.203606</td><td style = \"text-align: right;\">250.0</td><td style = \"text-align: right;\">3</td><td style = \"text-align: right;\">2</td><td style = \"text-align: right;\">false</td></tr><tr><td class = \"rowNumber\" style = \"font-weight: bold; text-align: right;\">11</td><td style = \"text-align: left;\">Spain</td><td style = \"text-align: left;\">Germany</td><td style = \"text-align: right;\">0.227806</td><td style = \"text-align: right;\">0.54764</td><td style = \"text-align: right;\">0.224554</td><td style = \"text-align: right;\">250.0</td><td style = \"text-align: right;\">2</td><td style = \"text-align: right;\">2</td><td style = \"text-align: right;\">true</td></tr><tr><td class = \"rowNumber\" style = \"font-weight: bold; text-align: right;\">12</td><td style = \"text-align: left;\">Wales</td><td style = \"text-align: left;\">England</td><td style = \"text-align: right;\">0.0622313</td><td style = \"text-align: right;\">0.321516</td><td style = \"text-align: right;\">0.616253</td><td style = \"text-align: right;\">250.0</td><td style = \"text-align: right;\">3</td><td style = \"text-align: right;\">2</td><td style = \"text-align: right;\">false</td></tr><tr><td class = \"rowNumber\" style = \"font-weight: bold; text-align: right;\">13</td><td style = \"text-align: left;\">Argentina</td><td style = \"text-align: left;\">Mexico</td><td style = \"text-align: right;\">0.691677</td><td style = \"text-align: right;\">0.0415087</td><td style = \"text-align: right;\">0.266814</td><td style = \"text-align: right;\">250.0</td><td style = \"text-align: right;\">1</td><td style = \"text-align: right;\">3</td><td style = \"text-align: right;\">false</td></tr><tr><td class = \"rowNumber\" style = \"font-weight: bold; text-align: right;\">14</td><td style = \"text-align: left;\">Brazil</td><td style = \"text-align: left;\">Serbia</td><td style = \"text-align: right;\">0.760576</td><td style = \"text-align: right;\">0.0116859</td><td style = \"text-align: right;\">0.227739</td><td style = \"text-align: right;\">250.0</td><td style = \"text-align: right;\">1</td><td style = \"text-align: right;\">3</td><td style = \"text-align: right;\">false</td></tr><tr><td class = \"rowNumber\" style = \"font-weight: bold; text-align: right;\">15</td><td style = \"text-align: left;\">Croatia</td><td style = \"text-align: left;\">Belgium</td><td style = \"text-align: right;\">0.139307</td><td style = \"text-align: right;\">0.0531642</td><td style = \"text-align: right;\">0.807529</td><td style = \"text-align: right;\">250.0</td><td style = \"text-align: right;\">2</td><td style = \"text-align: right;\">3</td><td style = \"text-align: right;\">false</td></tr><tr><td class = \"rowNumber\" style = \"font-weight: bold; text-align: right;\">16</td><td style = \"text-align: left;\">Ecuador</td><td style = \"text-align: left;\">Senegal</td><td style = \"text-align: right;\">0.105359</td><td style = \"text-align: right;\">0.180916</td><td style = \"text-align: right;\">0.713725</td><td style = \"text-align: right;\">250.0</td><td style = \"text-align: right;\">3</td><td style = \"text-align: right;\">3</td><td style = \"text-align: right;\">true</td></tr><tr><td class = \"rowNumber\" style = \"font-weight: bold; text-align: right;\">17</td><td style = \"text-align: left;\">France</td><td style = \"text-align: left;\">Denmark</td><td style = \"text-align: right;\">0.0639191</td><td style = \"text-align: right;\">0.0319283</td><td style = \"text-align: right;\">0.904153</td><td style = \"text-align: right;\">250.0</td><td style = \"text-align: right;\">1</td><td style = \"text-align: right;\">3</td><td style = \"text-align: right;\">false</td></tr><tr><td class = \"rowNumber\" style = \"font-weight: bold; text-align: right;\">18</td><td style = \"text-align: left;\">USA</td><td style = \"text-align: left;\">Wales</td><td style = \"text-align: right;\">0.313079</td><td style = \"text-align: right;\">0.03656</td><td style = \"text-align: right;\">0.650361</td><td style = \"text-align: right;\">250.0</td><td style = \"text-align: right;\">2</td><td style = \"text-align: right;\">3</td><td style = \"text-align: right;\">false</td></tr></tbody></table></div>"
      ],
      "text/latex": [
       "\\begin{tabular}{r|cccccccc}\n",
       "\t& home\\_team & away\\_team & home\\_win & draw & home\\_loss & bet\\_amount & actual\\_outcome & \\\\\n",
       "\t\\hline\n",
       "\t& String15 & String15 & Float64 & Float64 & Float64 & Float64 & Int64 & \\\\\n",
       "\t\\hline\n",
       "\t1 & Australia & Denmark & 0.238239 & 0.210197 & 0.551563 & 250.0 & 1 & $\\dots$ \\\\\n",
       "\t2 & Iran & USA & 0.515694 & 0.270426 & 0.21388 & 250.0 & 3 & $\\dots$ \\\\\n",
       "\t3 & Morocco & Croatia & 0.465358 & 0.434983 & 0.0996595 & 250.0 & 2 & $\\dots$ \\\\\n",
       "\t4 & Saudi Arabia & Mexico & 0.557936 & 0.14692 & 0.295144 & 250.0 & 3 & $\\dots$ \\\\\n",
       "\t5 & Senegal & Netherlands & 0.246266 & 0.403616 & 0.350118 & 250.0 & 3 & $\\dots$ \\\\\n",
       "\t6 & Costa Rica & Germany & 0.0131862 & 0.444052 & 0.542761 & 250.0 & 3 & $\\dots$ \\\\\n",
       "\t7 & Ghana & Uruguay & 0.090158 & 0.393147 & 0.516695 & 250.0 & 3 & $\\dots$ \\\\\n",
       "\t8 & Poland & Argentina & 0.0124997 & 0.398129 & 0.589371 & 250.0 & 3 & $\\dots$ \\\\\n",
       "\t9 & Qatar & Ecuador & 0.326202 & 0.570737 & 0.103061 & 250.0 & 3 & $\\dots$ \\\\\n",
       "\t10 & Serbia & Switzerland & 0.358455 & 0.437939 & 0.203606 & 250.0 & 3 & $\\dots$ \\\\\n",
       "\t11 & Spain & Germany & 0.227806 & 0.54764 & 0.224554 & 250.0 & 2 & $\\dots$ \\\\\n",
       "\t12 & Wales & England & 0.0622313 & 0.321516 & 0.616253 & 250.0 & 3 & $\\dots$ \\\\\n",
       "\t13 & Argentina & Mexico & 0.691677 & 0.0415087 & 0.266814 & 250.0 & 1 & $\\dots$ \\\\\n",
       "\t14 & Brazil & Serbia & 0.760576 & 0.0116859 & 0.227739 & 250.0 & 1 & $\\dots$ \\\\\n",
       "\t15 & Croatia & Belgium & 0.139307 & 0.0531642 & 0.807529 & 250.0 & 2 & $\\dots$ \\\\\n",
       "\t16 & Ecuador & Senegal & 0.105359 & 0.180916 & 0.713725 & 250.0 & 3 & $\\dots$ \\\\\n",
       "\t17 & France & Denmark & 0.0639191 & 0.0319283 & 0.904153 & 250.0 & 1 & $\\dots$ \\\\\n",
       "\t18 & USA & Wales & 0.313079 & 0.03656 & 0.650361 & 250.0 & 2 & $\\dots$ \\\\\n",
       "\\end{tabular}\n"
      ],
      "text/plain": [
       "\u001b[1m18×9 DataFrame\n",
       "\u001b[1m Row │\u001b[1m home_team    \u001b[1m away_team   \u001b[1m home_win  \u001b[1m draw      \u001b[1m home_loss \u001b[1m bet_amount \u001b[1m ⋯\n",
       "     │\u001b[90m String15     \u001b[90m String15    \u001b[90m Float64   \u001b[90m Float64   \u001b[90m Float64   \u001b[90m Float64    \u001b[90m ⋯\n",
       "─────┼──────────────────────────────────────────────────────────────────────────\n",
       "   1 │ Australia     Denmark      0.238239   0.210197   0.551563        250.0  ⋯\n",
       "   2 │ Iran          USA          0.515694   0.270426   0.21388         250.0\n",
       "   3 │ Morocco       Croatia      0.465358   0.434983   0.0996595       250.0\n",
       "   4 │ Saudi Arabia  Mexico       0.557936   0.14692    0.295144        250.0\n",
       "   5 │ Senegal       Netherlands  0.246266   0.403616   0.350118        250.0  ⋯\n",
       "   6 │ Costa Rica    Germany      0.0131862  0.444052   0.542761        250.0\n",
       "   7 │ Ghana         Uruguay      0.090158   0.393147   0.516695        250.0\n",
       "   8 │ Poland        Argentina    0.0124997  0.398129   0.589371        250.0\n",
       "   9 │ Qatar         Ecuador      0.326202   0.570737   0.103061        250.0  ⋯\n",
       "  10 │ Serbia        Switzerland  0.358455   0.437939   0.203606        250.0\n",
       "  11 │ Spain         Germany      0.227806   0.54764    0.224554        250.0\n",
       "  12 │ Wales         England      0.0622313  0.321516   0.616253        250.0\n",
       "  13 │ Argentina     Mexico       0.691677   0.0415087  0.266814        250.0  ⋯\n",
       "  14 │ Brazil        Serbia       0.760576   0.0116859  0.227739        250.0\n",
       "  15 │ Croatia       Belgium      0.139307   0.0531642  0.807529        250.0\n",
       "  16 │ Ecuador       Senegal      0.105359   0.180916   0.713725        250.0\n",
       "  17 │ France        Denmark      0.0639191  0.0319283  0.904153        250.0  ⋯\n",
       "  18 │ USA           Wales        0.313079   0.03656    0.650361        250.0\n",
       "\u001b[36m                                                               3 columns omitted"
      ]
     },
     "metadata": {},
     "output_type": "display_data"
    }
   ],
   "source": [
    "outcomes"
   ]
  },
  {
   "cell_type": "code",
   "execution_count": null,
   "metadata": {},
   "outputs": [
    {
     "data": {
      "text/plain": [
       "18-element Vector{CartesianIndex{2}}:\n",
       " CartesianIndex(3, 1)\n",
       " CartesianIndex(22, 1)\n",
       " CartesianIndex(28, 1)\n",
       " CartesianIndex(37, 1)\n",
       " CartesianIndex(38, 1)\n",
       " CartesianIndex(11, 2)\n",
       " CartesianIndex(21, 2)\n",
       " CartesianIndex(31, 2)\n",
       " CartesianIndex(35, 2)\n",
       " CartesianIndex(39, 2)\n",
       " CartesianIndex(41, 2)\n",
       " CartesianIndex(47, 2)\n",
       " CartesianIndex(1, 3)\n",
       " CartesianIndex(6, 3)\n",
       " CartesianIndex(12, 3)\n",
       " CartesianIndex(15, 3)\n",
       " CartesianIndex(19, 3)\n",
       " CartesianIndex(45, 3)"
      ]
     },
     "metadata": {},
     "output_type": "display_data"
    }
   ],
   "source": [
    "betting_matches"
   ]
  },
  {
   "cell_type": "markdown",
   "metadata": {},
   "source": [
    "## money actually earned"
   ]
  },
  {
   "cell_type": "code",
   "execution_count": null,
   "metadata": {},
   "outputs": [
    {
     "data": {
      "text/html": [
       "<div><div style = \"float: left;\"><span>18×11 DataFrame</span></div><div style = \"clear: both;\"></div></div><div class = \"data-frame\" style = \"overflow-x: scroll;\"><table class = \"data-frame\" style = \"margin-bottom: 6px;\"><thead><tr class = \"header\"><th class = \"rowNumber\" style = \"font-weight: bold; text-align: right;\">Row</th><th style = \"text-align: left;\">home_team</th><th style = \"text-align: left;\">away_team</th><th style = \"text-align: left;\">home_win</th><th style = \"text-align: left;\">draw</th><th style = \"text-align: left;\">home_loss</th><th style = \"text-align: left;\">bet_amount</th><th style = \"text-align: left;\">actual_outcome</th><th style = \"text-align: left;\">bet_outcome</th><th style = \"text-align: left;\">correct</th><th style = \"text-align: left;\">betting_matches_indices</th><th style = \"text-align: left;\">betting_matches_outcomes</th></tr><tr class = \"subheader headerLastRow\"><th class = \"rowNumber\" style = \"font-weight: bold; text-align: right;\"></th><th title = \"String15\" style = \"text-align: left;\">String15</th><th title = \"String15\" style = \"text-align: left;\">String15</th><th title = \"Float64\" style = \"text-align: left;\">Float64</th><th title = \"Float64\" style = \"text-align: left;\">Float64</th><th title = \"Float64\" style = \"text-align: left;\">Float64</th><th title = \"Float64\" style = \"text-align: left;\">Float64</th><th title = \"Int64\" style = \"text-align: left;\">Int64</th><th title = \"Int64\" style = \"text-align: left;\">Int64</th><th title = \"Bool\" style = \"text-align: left;\">Bool</th><th title = \"Int64\" style = \"text-align: left;\">Int64</th><th title = \"Int64\" style = \"text-align: left;\">Int64</th></tr></thead><tbody><tr><td class = \"rowNumber\" style = \"font-weight: bold; text-align: right;\">1</td><td style = \"text-align: left;\">Australia</td><td style = \"text-align: left;\">Denmark</td><td style = \"text-align: right;\">0.238239</td><td style = \"text-align: right;\">0.210197</td><td style = \"text-align: right;\">0.551563</td><td style = \"text-align: right;\">250.0</td><td style = \"text-align: right;\">1</td><td style = \"text-align: right;\">1</td><td style = \"text-align: right;\">true</td><td style = \"text-align: right;\">3</td><td style = \"text-align: right;\">1</td></tr><tr><td class = \"rowNumber\" style = \"font-weight: bold; text-align: right;\">2</td><td style = \"text-align: left;\">Iran</td><td style = \"text-align: left;\">USA</td><td style = \"text-align: right;\">0.515694</td><td style = \"text-align: right;\">0.270426</td><td style = \"text-align: right;\">0.21388</td><td style = \"text-align: right;\">250.0</td><td style = \"text-align: right;\">3</td><td style = \"text-align: right;\">1</td><td style = \"text-align: right;\">false</td><td style = \"text-align: right;\">22</td><td style = \"text-align: right;\">1</td></tr><tr><td class = \"rowNumber\" style = \"font-weight: bold; text-align: right;\">3</td><td style = \"text-align: left;\">Morocco</td><td style = \"text-align: left;\">Croatia</td><td style = \"text-align: right;\">0.465358</td><td style = \"text-align: right;\">0.434983</td><td style = \"text-align: right;\">0.0996595</td><td style = \"text-align: right;\">250.0</td><td style = \"text-align: right;\">2</td><td style = \"text-align: right;\">1</td><td style = \"text-align: right;\">false</td><td style = \"text-align: right;\">28</td><td style = \"text-align: right;\">1</td></tr><tr><td class = \"rowNumber\" style = \"font-weight: bold; text-align: right;\">4</td><td style = \"text-align: left;\">Saudi Arabia</td><td style = \"text-align: left;\">Mexico</td><td style = \"text-align: right;\">0.557936</td><td style = \"text-align: right;\">0.14692</td><td style = \"text-align: right;\">0.295144</td><td style = \"text-align: right;\">250.0</td><td style = \"text-align: right;\">3</td><td style = \"text-align: right;\">1</td><td style = \"text-align: right;\">false</td><td style = \"text-align: right;\">37</td><td style = \"text-align: right;\">1</td></tr><tr><td class = \"rowNumber\" style = \"font-weight: bold; text-align: right;\">5</td><td style = \"text-align: left;\">Senegal</td><td style = \"text-align: left;\">Netherlands</td><td style = \"text-align: right;\">0.246266</td><td style = \"text-align: right;\">0.403616</td><td style = \"text-align: right;\">0.350118</td><td style = \"text-align: right;\">250.0</td><td style = \"text-align: right;\">3</td><td style = \"text-align: right;\">1</td><td style = \"text-align: right;\">false</td><td style = \"text-align: right;\">38</td><td style = \"text-align: right;\">1</td></tr><tr><td class = \"rowNumber\" style = \"font-weight: bold; text-align: right;\">6</td><td style = \"text-align: left;\">Costa Rica</td><td style = \"text-align: left;\">Germany</td><td style = \"text-align: right;\">0.0131862</td><td style = \"text-align: right;\">0.444052</td><td style = \"text-align: right;\">0.542761</td><td style = \"text-align: right;\">250.0</td><td style = \"text-align: right;\">3</td><td style = \"text-align: right;\">2</td><td style = \"text-align: right;\">false</td><td style = \"text-align: right;\">11</td><td style = \"text-align: right;\">2</td></tr><tr><td class = \"rowNumber\" style = \"font-weight: bold; text-align: right;\">7</td><td style = \"text-align: left;\">Ghana</td><td style = \"text-align: left;\">Uruguay</td><td style = \"text-align: right;\">0.090158</td><td style = \"text-align: right;\">0.393147</td><td style = \"text-align: right;\">0.516695</td><td style = \"text-align: right;\">250.0</td><td style = \"text-align: right;\">3</td><td style = \"text-align: right;\">2</td><td style = \"text-align: right;\">false</td><td style = \"text-align: right;\">21</td><td style = \"text-align: right;\">2</td></tr><tr><td class = \"rowNumber\" style = \"font-weight: bold; text-align: right;\">8</td><td style = \"text-align: left;\">Poland</td><td style = \"text-align: left;\">Argentina</td><td style = \"text-align: right;\">0.0124997</td><td style = \"text-align: right;\">0.398129</td><td style = \"text-align: right;\">0.589371</td><td style = \"text-align: right;\">250.0</td><td style = \"text-align: right;\">3</td><td style = \"text-align: right;\">2</td><td style = \"text-align: right;\">false</td><td style = \"text-align: right;\">31</td><td style = \"text-align: right;\">2</td></tr><tr><td class = \"rowNumber\" style = \"font-weight: bold; text-align: right;\">9</td><td style = \"text-align: left;\">Qatar</td><td style = \"text-align: left;\">Ecuador</td><td style = \"text-align: right;\">0.326202</td><td style = \"text-align: right;\">0.570737</td><td style = \"text-align: right;\">0.103061</td><td style = \"text-align: right;\">250.0</td><td style = \"text-align: right;\">3</td><td style = \"text-align: right;\">2</td><td style = \"text-align: right;\">false</td><td style = \"text-align: right;\">35</td><td style = \"text-align: right;\">2</td></tr><tr><td class = \"rowNumber\" style = \"font-weight: bold; text-align: right;\">10</td><td style = \"text-align: left;\">Serbia</td><td style = \"text-align: left;\">Switzerland</td><td style = \"text-align: right;\">0.358455</td><td style = \"text-align: right;\">0.437939</td><td style = \"text-align: right;\">0.203606</td><td style = \"text-align: right;\">250.0</td><td style = \"text-align: right;\">3</td><td style = \"text-align: right;\">2</td><td style = \"text-align: right;\">false</td><td style = \"text-align: right;\">39</td><td style = \"text-align: right;\">2</td></tr><tr><td class = \"rowNumber\" style = \"font-weight: bold; text-align: right;\">11</td><td style = \"text-align: left;\">Spain</td><td style = \"text-align: left;\">Germany</td><td style = \"text-align: right;\">0.227806</td><td style = \"text-align: right;\">0.54764</td><td style = \"text-align: right;\">0.224554</td><td style = \"text-align: right;\">250.0</td><td style = \"text-align: right;\">2</td><td style = \"text-align: right;\">2</td><td style = \"text-align: right;\">true</td><td style = \"text-align: right;\">41</td><td style = \"text-align: right;\">2</td></tr><tr><td class = \"rowNumber\" style = \"font-weight: bold; text-align: right;\">12</td><td style = \"text-align: left;\">Wales</td><td style = \"text-align: left;\">England</td><td style = \"text-align: right;\">0.0622313</td><td style = \"text-align: right;\">0.321516</td><td style = \"text-align: right;\">0.616253</td><td style = \"text-align: right;\">250.0</td><td style = \"text-align: right;\">3</td><td style = \"text-align: right;\">2</td><td style = \"text-align: right;\">false</td><td style = \"text-align: right;\">47</td><td style = \"text-align: right;\">2</td></tr><tr><td class = \"rowNumber\" style = \"font-weight: bold; text-align: right;\">13</td><td style = \"text-align: left;\">Argentina</td><td style = \"text-align: left;\">Mexico</td><td style = \"text-align: right;\">0.691677</td><td style = \"text-align: right;\">0.0415087</td><td style = \"text-align: right;\">0.266814</td><td style = \"text-align: right;\">250.0</td><td style = \"text-align: right;\">1</td><td style = \"text-align: right;\">3</td><td style = \"text-align: right;\">false</td><td style = \"text-align: right;\">1</td><td style = \"text-align: right;\">3</td></tr><tr><td class = \"rowNumber\" style = \"font-weight: bold; text-align: right;\">14</td><td style = \"text-align: left;\">Brazil</td><td style = \"text-align: left;\">Serbia</td><td style = \"text-align: right;\">0.760576</td><td style = \"text-align: right;\">0.0116859</td><td style = \"text-align: right;\">0.227739</td><td style = \"text-align: right;\">250.0</td><td style = \"text-align: right;\">1</td><td style = \"text-align: right;\">3</td><td style = \"text-align: right;\">false</td><td style = \"text-align: right;\">6</td><td style = \"text-align: right;\">3</td></tr><tr><td class = \"rowNumber\" style = \"font-weight: bold; text-align: right;\">15</td><td style = \"text-align: left;\">Croatia</td><td style = \"text-align: left;\">Belgium</td><td style = \"text-align: right;\">0.139307</td><td style = \"text-align: right;\">0.0531642</td><td style = \"text-align: right;\">0.807529</td><td style = \"text-align: right;\">250.0</td><td style = \"text-align: right;\">2</td><td style = \"text-align: right;\">3</td><td style = \"text-align: right;\">false</td><td style = \"text-align: right;\">12</td><td style = \"text-align: right;\">3</td></tr><tr><td class = \"rowNumber\" style = \"font-weight: bold; text-align: right;\">16</td><td style = \"text-align: left;\">Ecuador</td><td style = \"text-align: left;\">Senegal</td><td style = \"text-align: right;\">0.105359</td><td style = \"text-align: right;\">0.180916</td><td style = \"text-align: right;\">0.713725</td><td style = \"text-align: right;\">250.0</td><td style = \"text-align: right;\">3</td><td style = \"text-align: right;\">3</td><td style = \"text-align: right;\">true</td><td style = \"text-align: right;\">15</td><td style = \"text-align: right;\">3</td></tr><tr><td class = \"rowNumber\" style = \"font-weight: bold; text-align: right;\">17</td><td style = \"text-align: left;\">France</td><td style = \"text-align: left;\">Denmark</td><td style = \"text-align: right;\">0.0639191</td><td style = \"text-align: right;\">0.0319283</td><td style = \"text-align: right;\">0.904153</td><td style = \"text-align: right;\">250.0</td><td style = \"text-align: right;\">1</td><td style = \"text-align: right;\">3</td><td style = \"text-align: right;\">false</td><td style = \"text-align: right;\">19</td><td style = \"text-align: right;\">3</td></tr><tr><td class = \"rowNumber\" style = \"font-weight: bold; text-align: right;\">18</td><td style = \"text-align: left;\">USA</td><td style = \"text-align: left;\">Wales</td><td style = \"text-align: right;\">0.313079</td><td style = \"text-align: right;\">0.03656</td><td style = \"text-align: right;\">0.650361</td><td style = \"text-align: right;\">250.0</td><td style = \"text-align: right;\">2</td><td style = \"text-align: right;\">3</td><td style = \"text-align: right;\">false</td><td style = \"text-align: right;\">45</td><td style = \"text-align: right;\">3</td></tr></tbody></table></div>"
      ],
      "text/latex": [
       "\\begin{tabular}{r|cccccccc}\n",
       "\t& home\\_team & away\\_team & home\\_win & draw & home\\_loss & bet\\_amount & actual\\_outcome & \\\\\n",
       "\t\\hline\n",
       "\t& String15 & String15 & Float64 & Float64 & Float64 & Float64 & Int64 & \\\\\n",
       "\t\\hline\n",
       "\t1 & Australia & Denmark & 0.238239 & 0.210197 & 0.551563 & 250.0 & 1 & $\\dots$ \\\\\n",
       "\t2 & Iran & USA & 0.515694 & 0.270426 & 0.21388 & 250.0 & 3 & $\\dots$ \\\\\n",
       "\t3 & Morocco & Croatia & 0.465358 & 0.434983 & 0.0996595 & 250.0 & 2 & $\\dots$ \\\\\n",
       "\t4 & Saudi Arabia & Mexico & 0.557936 & 0.14692 & 0.295144 & 250.0 & 3 & $\\dots$ \\\\\n",
       "\t5 & Senegal & Netherlands & 0.246266 & 0.403616 & 0.350118 & 250.0 & 3 & $\\dots$ \\\\\n",
       "\t6 & Costa Rica & Germany & 0.0131862 & 0.444052 & 0.542761 & 250.0 & 3 & $\\dots$ \\\\\n",
       "\t7 & Ghana & Uruguay & 0.090158 & 0.393147 & 0.516695 & 250.0 & 3 & $\\dots$ \\\\\n",
       "\t8 & Poland & Argentina & 0.0124997 & 0.398129 & 0.589371 & 250.0 & 3 & $\\dots$ \\\\\n",
       "\t9 & Qatar & Ecuador & 0.326202 & 0.570737 & 0.103061 & 250.0 & 3 & $\\dots$ \\\\\n",
       "\t10 & Serbia & Switzerland & 0.358455 & 0.437939 & 0.203606 & 250.0 & 3 & $\\dots$ \\\\\n",
       "\t11 & Spain & Germany & 0.227806 & 0.54764 & 0.224554 & 250.0 & 2 & $\\dots$ \\\\\n",
       "\t12 & Wales & England & 0.0622313 & 0.321516 & 0.616253 & 250.0 & 3 & $\\dots$ \\\\\n",
       "\t13 & Argentina & Mexico & 0.691677 & 0.0415087 & 0.266814 & 250.0 & 1 & $\\dots$ \\\\\n",
       "\t14 & Brazil & Serbia & 0.760576 & 0.0116859 & 0.227739 & 250.0 & 1 & $\\dots$ \\\\\n",
       "\t15 & Croatia & Belgium & 0.139307 & 0.0531642 & 0.807529 & 250.0 & 2 & $\\dots$ \\\\\n",
       "\t16 & Ecuador & Senegal & 0.105359 & 0.180916 & 0.713725 & 250.0 & 3 & $\\dots$ \\\\\n",
       "\t17 & France & Denmark & 0.0639191 & 0.0319283 & 0.904153 & 250.0 & 1 & $\\dots$ \\\\\n",
       "\t18 & USA & Wales & 0.313079 & 0.03656 & 0.650361 & 250.0 & 2 & $\\dots$ \\\\\n",
       "\\end{tabular}\n"
      ],
      "text/plain": [
       "\u001b[1m18×11 DataFrame\n",
       "\u001b[1m Row │\u001b[1m home_team    \u001b[1m away_team   \u001b[1m home_win  \u001b[1m draw      \u001b[1m home_loss \u001b[1m bet_amount \u001b[1m ⋯\n",
       "     │\u001b[90m String15     \u001b[90m String15    \u001b[90m Float64   \u001b[90m Float64   \u001b[90m Float64   \u001b[90m Float64    \u001b[90m ⋯\n",
       "─────┼──────────────────────────────────────────────────────────────────────────\n",
       "   1 │ Australia     Denmark      0.238239   0.210197   0.551563        250.0  ⋯\n",
       "   2 │ Iran          USA          0.515694   0.270426   0.21388         250.0\n",
       "   3 │ Morocco       Croatia      0.465358   0.434983   0.0996595       250.0\n",
       "   4 │ Saudi Arabia  Mexico       0.557936   0.14692    0.295144        250.0\n",
       "   5 │ Senegal       Netherlands  0.246266   0.403616   0.350118        250.0  ⋯\n",
       "   6 │ Costa Rica    Germany      0.0131862  0.444052   0.542761        250.0\n",
       "   7 │ Ghana         Uruguay      0.090158   0.393147   0.516695        250.0\n",
       "   8 │ Poland        Argentina    0.0124997  0.398129   0.589371        250.0\n",
       "   9 │ Qatar         Ecuador      0.326202   0.570737   0.103061        250.0  ⋯\n",
       "  10 │ Serbia        Switzerland  0.358455   0.437939   0.203606        250.0\n",
       "  11 │ Spain         Germany      0.227806   0.54764    0.224554        250.0\n",
       "  12 │ Wales         England      0.0622313  0.321516   0.616253        250.0\n",
       "  13 │ Argentina     Mexico       0.691677   0.0415087  0.266814        250.0  ⋯\n",
       "  14 │ Brazil        Serbia       0.760576   0.0116859  0.227739        250.0\n",
       "  15 │ Croatia       Belgium      0.139307   0.0531642  0.807529        250.0\n",
       "  16 │ Ecuador       Senegal      0.105359   0.180916   0.713725        250.0\n",
       "  17 │ France        Denmark      0.0639191  0.0319283  0.904153        250.0  ⋯\n",
       "  18 │ USA           Wales        0.313079   0.03656    0.650361        250.0\n",
       "\u001b[36m                                                               5 columns omitted"
      ]
     },
     "metadata": {},
     "output_type": "display_data"
    }
   ],
   "source": [
    "outcomes\n",
    "\n",
    "# add betting_matches_list as a column called :betting_indices so we can map to the correct row and columns in 'returns' dataframe\n",
    "outcomes[:,\"betting_matches_indices\"] = betting_matches_list;\n",
    "outcomes[:,\"betting_matches_outcomes\"] = betting_matches_outcomes;\n",
    "outcomes"
   ]
  },
  {
   "cell_type": "code",
   "execution_count": null,
   "metadata": {},
   "outputs": [
    {
     "data": {
      "text/html": [
       "<div><div style = \"float: left;\"><span>18×12 DataFrame</span></div><div style = \"clear: both;\"></div></div><div class = \"data-frame\" style = \"overflow-x: scroll;\"><table class = \"data-frame\" style = \"margin-bottom: 6px;\"><thead><tr class = \"header\"><th class = \"rowNumber\" style = \"font-weight: bold; text-align: right;\">Row</th><th style = \"text-align: left;\">home_team</th><th style = \"text-align: left;\">away_team</th><th style = \"text-align: left;\">home_win</th><th style = \"text-align: left;\">draw</th><th style = \"text-align: left;\">home_loss</th><th style = \"text-align: left;\">bet_amount</th><th style = \"text-align: left;\">actual_outcome</th><th style = \"text-align: left;\">bet_outcome</th><th style = \"text-align: left;\">correct</th><th style = \"text-align: left;\">betting_matches_indices</th><th style = \"text-align: left;\">betting_matches_outcomes</th><th style = \"text-align: left;\">if_bets_correct_profit</th></tr><tr class = \"subheader headerLastRow\"><th class = \"rowNumber\" style = \"font-weight: bold; text-align: right;\"></th><th title = \"String15\" style = \"text-align: left;\">String15</th><th title = \"String15\" style = \"text-align: left;\">String15</th><th title = \"Float64\" style = \"text-align: left;\">Float64</th><th title = \"Float64\" style = \"text-align: left;\">Float64</th><th title = \"Float64\" style = \"text-align: left;\">Float64</th><th title = \"Float64\" style = \"text-align: left;\">Float64</th><th title = \"Int64\" style = \"text-align: left;\">Int64</th><th title = \"Int64\" style = \"text-align: left;\">Int64</th><th title = \"Bool\" style = \"text-align: left;\">Bool</th><th title = \"Int64\" style = \"text-align: left;\">Int64</th><th title = \"Int64\" style = \"text-align: left;\">Int64</th><th title = \"Float64\" style = \"text-align: left;\">Float64</th></tr></thead><tbody><tr><td class = \"rowNumber\" style = \"font-weight: bold; text-align: right;\">1</td><td style = \"text-align: left;\">Australia</td><td style = \"text-align: left;\">Denmark</td><td style = \"text-align: right;\">0.238239</td><td style = \"text-align: right;\">0.210197</td><td style = \"text-align: right;\">0.551563</td><td style = \"text-align: right;\">250.0</td><td style = \"text-align: right;\">1</td><td style = \"text-align: right;\">1</td><td style = \"text-align: right;\">true</td><td style = \"text-align: right;\">3</td><td style = \"text-align: right;\">1</td><td style = \"text-align: right;\">1345.0</td></tr><tr><td class = \"rowNumber\" style = \"font-weight: bold; text-align: right;\">2</td><td style = \"text-align: left;\">Iran</td><td style = \"text-align: left;\">USA</td><td style = \"text-align: right;\">0.515694</td><td style = \"text-align: right;\">0.270426</td><td style = \"text-align: right;\">0.21388</td><td style = \"text-align: right;\">250.0</td><td style = \"text-align: right;\">3</td><td style = \"text-align: right;\">1</td><td style = \"text-align: right;\">false</td><td style = \"text-align: right;\">22</td><td style = \"text-align: right;\">1</td><td style = \"text-align: right;\">545.0</td></tr><tr><td class = \"rowNumber\" style = \"font-weight: bold; text-align: right;\">3</td><td style = \"text-align: left;\">Morocco</td><td style = \"text-align: left;\">Croatia</td><td style = \"text-align: right;\">0.465358</td><td style = \"text-align: right;\">0.434983</td><td style = \"text-align: right;\">0.0996595</td><td style = \"text-align: right;\">250.0</td><td style = \"text-align: right;\">2</td><td style = \"text-align: right;\">1</td><td style = \"text-align: right;\">false</td><td style = \"text-align: right;\">28</td><td style = \"text-align: right;\">1</td><td style = \"text-align: right;\">392.5</td></tr><tr><td class = \"rowNumber\" style = \"font-weight: bold; text-align: right;\">4</td><td style = \"text-align: left;\">Saudi Arabia</td><td style = \"text-align: left;\">Mexico</td><td style = \"text-align: right;\">0.557936</td><td style = \"text-align: right;\">0.14692</td><td style = \"text-align: right;\">0.295144</td><td style = \"text-align: right;\">250.0</td><td style = \"text-align: right;\">3</td><td style = \"text-align: right;\">1</td><td style = \"text-align: right;\">false</td><td style = \"text-align: right;\">37</td><td style = \"text-align: right;\">1</td><td style = \"text-align: right;\">835.0</td></tr><tr><td class = \"rowNumber\" style = \"font-weight: bold; text-align: right;\">5</td><td style = \"text-align: left;\">Senegal</td><td style = \"text-align: left;\">Netherlands</td><td style = \"text-align: right;\">0.246266</td><td style = \"text-align: right;\">0.403616</td><td style = \"text-align: right;\">0.350118</td><td style = \"text-align: right;\">250.0</td><td style = \"text-align: right;\">3</td><td style = \"text-align: right;\">1</td><td style = \"text-align: right;\">false</td><td style = \"text-align: right;\">38</td><td style = \"text-align: right;\">1</td><td style = \"text-align: right;\">1022.5</td></tr><tr><td class = \"rowNumber\" style = \"font-weight: bold; text-align: right;\">6</td><td style = \"text-align: left;\">Costa Rica</td><td style = \"text-align: left;\">Germany</td><td style = \"text-align: right;\">0.0131862</td><td style = \"text-align: right;\">0.444052</td><td style = \"text-align: right;\">0.542761</td><td style = \"text-align: right;\">250.0</td><td style = \"text-align: right;\">3</td><td style = \"text-align: right;\">2</td><td style = \"text-align: right;\">false</td><td style = \"text-align: right;\">11</td><td style = \"text-align: right;\">2</td><td style = \"text-align: right;\">2292.5</td></tr><tr><td class = \"rowNumber\" style = \"font-weight: bold; text-align: right;\">7</td><td style = \"text-align: left;\">Ghana</td><td style = \"text-align: left;\">Uruguay</td><td style = \"text-align: right;\">0.090158</td><td style = \"text-align: right;\">0.393147</td><td style = \"text-align: right;\">0.516695</td><td style = \"text-align: right;\">250.0</td><td style = \"text-align: right;\">3</td><td style = \"text-align: right;\">2</td><td style = \"text-align: right;\">false</td><td style = \"text-align: right;\">21</td><td style = \"text-align: right;\">2</td><td style = \"text-align: right;\">455.0</td></tr><tr><td class = \"rowNumber\" style = \"font-weight: bold; text-align: right;\">8</td><td style = \"text-align: left;\">Poland</td><td style = \"text-align: left;\">Argentina</td><td style = \"text-align: right;\">0.0124997</td><td style = \"text-align: right;\">0.398129</td><td style = \"text-align: right;\">0.589371</td><td style = \"text-align: right;\">250.0</td><td style = \"text-align: right;\">3</td><td style = \"text-align: right;\">2</td><td style = \"text-align: right;\">false</td><td style = \"text-align: right;\">31</td><td style = \"text-align: right;\">2</td><td style = \"text-align: right;\">642.5</td></tr><tr><td class = \"rowNumber\" style = \"font-weight: bold; text-align: right;\">9</td><td style = \"text-align: left;\">Qatar</td><td style = \"text-align: left;\">Ecuador</td><td style = \"text-align: right;\">0.326202</td><td style = \"text-align: right;\">0.570737</td><td style = \"text-align: right;\">0.103061</td><td style = \"text-align: right;\">250.0</td><td style = \"text-align: right;\">3</td><td style = \"text-align: right;\">2</td><td style = \"text-align: right;\">false</td><td style = \"text-align: right;\">35</td><td style = \"text-align: right;\">2</td><td style = \"text-align: right;\">400.0</td></tr><tr><td class = \"rowNumber\" style = \"font-weight: bold; text-align: right;\">10</td><td style = \"text-align: left;\">Serbia</td><td style = \"text-align: left;\">Switzerland</td><td style = \"text-align: right;\">0.358455</td><td style = \"text-align: right;\">0.437939</td><td style = \"text-align: right;\">0.203606</td><td style = \"text-align: right;\">250.0</td><td style = \"text-align: right;\">3</td><td style = \"text-align: right;\">2</td><td style = \"text-align: right;\">false</td><td style = \"text-align: right;\">39</td><td style = \"text-align: right;\">2</td><td style = \"text-align: right;\">340.0</td></tr><tr><td class = \"rowNumber\" style = \"font-weight: bold; text-align: right;\">11</td><td style = \"text-align: left;\">Spain</td><td style = \"text-align: left;\">Germany</td><td style = \"text-align: right;\">0.227806</td><td style = \"text-align: right;\">0.54764</td><td style = \"text-align: right;\">0.224554</td><td style = \"text-align: right;\">250.0</td><td style = \"text-align: right;\">2</td><td style = \"text-align: right;\">2</td><td style = \"text-align: right;\">true</td><td style = \"text-align: right;\">41</td><td style = \"text-align: right;\">2</td><td style = \"text-align: right;\">355.0</td></tr><tr><td class = \"rowNumber\" style = \"font-weight: bold; text-align: right;\">12</td><td style = \"text-align: left;\">Wales</td><td style = \"text-align: left;\">England</td><td style = \"text-align: right;\">0.0622313</td><td style = \"text-align: right;\">0.321516</td><td style = \"text-align: right;\">0.616253</td><td style = \"text-align: right;\">250.0</td><td style = \"text-align: right;\">3</td><td style = \"text-align: right;\">2</td><td style = \"text-align: right;\">false</td><td style = \"text-align: right;\">47</td><td style = \"text-align: right;\">2</td><td style = \"text-align: right;\">612.5</td></tr><tr><td class = \"rowNumber\" style = \"font-weight: bold; text-align: right;\">13</td><td style = \"text-align: left;\">Argentina</td><td style = \"text-align: left;\">Mexico</td><td style = \"text-align: right;\">0.691677</td><td style = \"text-align: right;\">0.0415087</td><td style = \"text-align: right;\">0.266814</td><td style = \"text-align: right;\">250.0</td><td style = \"text-align: right;\">1</td><td style = \"text-align: right;\">3</td><td style = \"text-align: right;\">false</td><td style = \"text-align: right;\">1</td><td style = \"text-align: right;\">3</td><td style = \"text-align: right;\">1280.0</td></tr><tr><td class = \"rowNumber\" style = \"font-weight: bold; text-align: right;\">14</td><td style = \"text-align: left;\">Brazil</td><td style = \"text-align: left;\">Serbia</td><td style = \"text-align: right;\">0.760576</td><td style = \"text-align: right;\">0.0116859</td><td style = \"text-align: right;\">0.227739</td><td style = \"text-align: right;\">250.0</td><td style = \"text-align: right;\">1</td><td style = \"text-align: right;\">3</td><td style = \"text-align: right;\">false</td><td style = \"text-align: right;\">6</td><td style = \"text-align: right;\">3</td><td style = \"text-align: right;\">1400.0</td></tr><tr><td class = \"rowNumber\" style = \"font-weight: bold; text-align: right;\">15</td><td style = \"text-align: left;\">Croatia</td><td style = \"text-align: left;\">Belgium</td><td style = \"text-align: right;\">0.139307</td><td style = \"text-align: right;\">0.0531642</td><td style = \"text-align: right;\">0.807529</td><td style = \"text-align: right;\">250.0</td><td style = \"text-align: right;\">2</td><td style = \"text-align: right;\">3</td><td style = \"text-align: right;\">false</td><td style = \"text-align: right;\">12</td><td style = \"text-align: right;\">3</td><td style = \"text-align: right;\">110.0</td></tr><tr><td class = \"rowNumber\" style = \"font-weight: bold; text-align: right;\">16</td><td style = \"text-align: left;\">Ecuador</td><td style = \"text-align: left;\">Senegal</td><td style = \"text-align: right;\">0.105359</td><td style = \"text-align: right;\">0.180916</td><td style = \"text-align: right;\">0.713725</td><td style = \"text-align: right;\">250.0</td><td style = \"text-align: right;\">3</td><td style = \"text-align: right;\">3</td><td style = \"text-align: right;\">true</td><td style = \"text-align: right;\">15</td><td style = \"text-align: right;\">3</td><td style = \"text-align: right;\">270.0</td></tr><tr><td class = \"rowNumber\" style = \"font-weight: bold; text-align: right;\">17</td><td style = \"text-align: left;\">France</td><td style = \"text-align: left;\">Denmark</td><td style = \"text-align: right;\">0.0639191</td><td style = \"text-align: right;\">0.0319283</td><td style = \"text-align: right;\">0.904153</td><td style = \"text-align: right;\">250.0</td><td style = \"text-align: right;\">1</td><td style = \"text-align: right;\">3</td><td style = \"text-align: right;\">false</td><td style = \"text-align: right;\">19</td><td style = \"text-align: right;\">3</td><td style = \"text-align: right;\">2965.0</td></tr><tr><td class = \"rowNumber\" style = \"font-weight: bold; text-align: right;\">18</td><td style = \"text-align: left;\">USA</td><td style = \"text-align: left;\">Wales</td><td style = \"text-align: right;\">0.313079</td><td style = \"text-align: right;\">0.03656</td><td style = \"text-align: right;\">0.650361</td><td style = \"text-align: right;\">250.0</td><td style = \"text-align: right;\">2</td><td style = \"text-align: right;\">3</td><td style = \"text-align: right;\">false</td><td style = \"text-align: right;\">45</td><td style = \"text-align: right;\">3</td><td style = \"text-align: right;\">305.0</td></tr></tbody></table></div>"
      ],
      "text/latex": [
       "\\begin{tabular}{r|cccccccc}\n",
       "\t& home\\_team & away\\_team & home\\_win & draw & home\\_loss & bet\\_amount & actual\\_outcome & \\\\\n",
       "\t\\hline\n",
       "\t& String15 & String15 & Float64 & Float64 & Float64 & Float64 & Int64 & \\\\\n",
       "\t\\hline\n",
       "\t1 & Australia & Denmark & 0.238239 & 0.210197 & 0.551563 & 250.0 & 1 & $\\dots$ \\\\\n",
       "\t2 & Iran & USA & 0.515694 & 0.270426 & 0.21388 & 250.0 & 3 & $\\dots$ \\\\\n",
       "\t3 & Morocco & Croatia & 0.465358 & 0.434983 & 0.0996595 & 250.0 & 2 & $\\dots$ \\\\\n",
       "\t4 & Saudi Arabia & Mexico & 0.557936 & 0.14692 & 0.295144 & 250.0 & 3 & $\\dots$ \\\\\n",
       "\t5 & Senegal & Netherlands & 0.246266 & 0.403616 & 0.350118 & 250.0 & 3 & $\\dots$ \\\\\n",
       "\t6 & Costa Rica & Germany & 0.0131862 & 0.444052 & 0.542761 & 250.0 & 3 & $\\dots$ \\\\\n",
       "\t7 & Ghana & Uruguay & 0.090158 & 0.393147 & 0.516695 & 250.0 & 3 & $\\dots$ \\\\\n",
       "\t8 & Poland & Argentina & 0.0124997 & 0.398129 & 0.589371 & 250.0 & 3 & $\\dots$ \\\\\n",
       "\t9 & Qatar & Ecuador & 0.326202 & 0.570737 & 0.103061 & 250.0 & 3 & $\\dots$ \\\\\n",
       "\t10 & Serbia & Switzerland & 0.358455 & 0.437939 & 0.203606 & 250.0 & 3 & $\\dots$ \\\\\n",
       "\t11 & Spain & Germany & 0.227806 & 0.54764 & 0.224554 & 250.0 & 2 & $\\dots$ \\\\\n",
       "\t12 & Wales & England & 0.0622313 & 0.321516 & 0.616253 & 250.0 & 3 & $\\dots$ \\\\\n",
       "\t13 & Argentina & Mexico & 0.691677 & 0.0415087 & 0.266814 & 250.0 & 1 & $\\dots$ \\\\\n",
       "\t14 & Brazil & Serbia & 0.760576 & 0.0116859 & 0.227739 & 250.0 & 1 & $\\dots$ \\\\\n",
       "\t15 & Croatia & Belgium & 0.139307 & 0.0531642 & 0.807529 & 250.0 & 2 & $\\dots$ \\\\\n",
       "\t16 & Ecuador & Senegal & 0.105359 & 0.180916 & 0.713725 & 250.0 & 3 & $\\dots$ \\\\\n",
       "\t17 & France & Denmark & 0.0639191 & 0.0319283 & 0.904153 & 250.0 & 1 & $\\dots$ \\\\\n",
       "\t18 & USA & Wales & 0.313079 & 0.03656 & 0.650361 & 250.0 & 2 & $\\dots$ \\\\\n",
       "\\end{tabular}\n"
      ],
      "text/plain": [
       "\u001b[1m18×12 DataFrame\n",
       "\u001b[1m Row │\u001b[1m home_team    \u001b[1m away_team   \u001b[1m home_win  \u001b[1m draw      \u001b[1m home_loss \u001b[1m bet_amount \u001b[1m ⋯\n",
       "     │\u001b[90m String15     \u001b[90m String15    \u001b[90m Float64   \u001b[90m Float64   \u001b[90m Float64   \u001b[90m Float64    \u001b[90m ⋯\n",
       "─────┼──────────────────────────────────────────────────────────────────────────\n",
       "   1 │ Australia     Denmark      0.238239   0.210197   0.551563        250.0  ⋯\n",
       "   2 │ Iran          USA          0.515694   0.270426   0.21388         250.0\n",
       "   3 │ Morocco       Croatia      0.465358   0.434983   0.0996595       250.0\n",
       "   4 │ Saudi Arabia  Mexico       0.557936   0.14692    0.295144        250.0\n",
       "   5 │ Senegal       Netherlands  0.246266   0.403616   0.350118        250.0  ⋯\n",
       "   6 │ Costa Rica    Germany      0.0131862  0.444052   0.542761        250.0\n",
       "   7 │ Ghana         Uruguay      0.090158   0.393147   0.516695        250.0\n",
       "   8 │ Poland        Argentina    0.0124997  0.398129   0.589371        250.0\n",
       "   9 │ Qatar         Ecuador      0.326202   0.570737   0.103061        250.0  ⋯\n",
       "  10 │ Serbia        Switzerland  0.358455   0.437939   0.203606        250.0\n",
       "  11 │ Spain         Germany      0.227806   0.54764    0.224554        250.0\n",
       "  12 │ Wales         England      0.0622313  0.321516   0.616253        250.0\n",
       "  13 │ Argentina     Mexico       0.691677   0.0415087  0.266814        250.0  ⋯\n",
       "  14 │ Brazil        Serbia       0.760576   0.0116859  0.227739        250.0\n",
       "  15 │ Croatia       Belgium      0.139307   0.0531642  0.807529        250.0\n",
       "  16 │ Ecuador       Senegal      0.105359   0.180916   0.713725        250.0\n",
       "  17 │ France        Denmark      0.0639191  0.0319283  0.904153        250.0  ⋯\n",
       "  18 │ USA           Wales        0.313079   0.03656    0.650361        250.0\n",
       "\u001b[36m                                                               6 columns omitted"
      ]
     },
     "metadata": {},
     "output_type": "display_data"
    }
   ],
   "source": [
    "# # DETERMINISTIC IF BETS ARE CORRECT PROFIT\n",
    "# create a new column called \"if_bets_correct_profit\" that calculates the profit if the bets are correct\n",
    "# initialise new if bets correct profit list\n",
    "if_bets_correct_profit = zeros(size(outcomes,1))\n",
    "\n",
    "# for each row in outcomes, calculate the profit if the bets are correct\n",
    "for i in 1:size(outcomes,1)\n",
    "    if_bets_correct_profit[i] = outcomes[i,\"bet_amount\"] * returns[outcomes[i,\"betting_matches_indices\"],outcomes[i,\"betting_matches_outcomes\"]+2] - outcomes[i,\"bet_amount\"]\n",
    "end\n",
    "\n",
    "# add if_bets_correct_profit to outcomes dataframe\n",
    "outcomes[:,\"if_bets_correct_profit\"] = if_bets_correct_profit;\n",
    "outcomes\n"
   ]
  },
  {
   "cell_type": "code",
   "execution_count": null,
   "metadata": {},
   "outputs": [
    {
     "data": {
      "text/html": [
       "<div><div style = \"float: left;\"><span>18×13 DataFrame</span></div><div style = \"clear: both;\"></div></div><div class = \"data-frame\" style = \"overflow-x: scroll;\"><table class = \"data-frame\" style = \"margin-bottom: 6px;\"><thead><tr class = \"header\"><th class = \"rowNumber\" style = \"font-weight: bold; text-align: right;\">Row</th><th style = \"text-align: left;\">home_team</th><th style = \"text-align: left;\">away_team</th><th style = \"text-align: left;\">home_win</th><th style = \"text-align: left;\">draw</th><th style = \"text-align: left;\">home_loss</th><th style = \"text-align: left;\">bet_amount</th><th style = \"text-align: left;\">actual_outcome</th><th style = \"text-align: left;\">bet_outcome</th><th style = \"text-align: left;\">correct</th><th style = \"text-align: left;\">betting_matches_indices</th><th style = \"text-align: left;\">betting_matches_outcomes</th><th style = \"text-align: left;\">if_bets_correct_profit</th><th style = \"text-align: left;\">actual_profit</th></tr><tr class = \"subheader headerLastRow\"><th class = \"rowNumber\" style = \"font-weight: bold; text-align: right;\"></th><th title = \"String15\" style = \"text-align: left;\">String15</th><th title = \"String15\" style = \"text-align: left;\">String15</th><th title = \"Float64\" style = \"text-align: left;\">Float64</th><th title = \"Float64\" style = \"text-align: left;\">Float64</th><th title = \"Float64\" style = \"text-align: left;\">Float64</th><th title = \"Float64\" style = \"text-align: left;\">Float64</th><th title = \"Int64\" style = \"text-align: left;\">Int64</th><th title = \"Int64\" style = \"text-align: left;\">Int64</th><th title = \"Bool\" style = \"text-align: left;\">Bool</th><th title = \"Int64\" style = \"text-align: left;\">Int64</th><th title = \"Int64\" style = \"text-align: left;\">Int64</th><th title = \"Float64\" style = \"text-align: left;\">Float64</th><th title = \"Float64\" style = \"text-align: left;\">Float64</th></tr></thead><tbody><tr><td class = \"rowNumber\" style = \"font-weight: bold; text-align: right;\">1</td><td style = \"text-align: left;\">Australia</td><td style = \"text-align: left;\">Denmark</td><td style = \"text-align: right;\">0.238239</td><td style = \"text-align: right;\">0.210197</td><td style = \"text-align: right;\">0.551563</td><td style = \"text-align: right;\">250.0</td><td style = \"text-align: right;\">1</td><td style = \"text-align: right;\">1</td><td style = \"text-align: right;\">true</td><td style = \"text-align: right;\">3</td><td style = \"text-align: right;\">1</td><td style = \"text-align: right;\">1345.0</td><td style = \"text-align: right;\">1345.0</td></tr><tr><td class = \"rowNumber\" style = \"font-weight: bold; text-align: right;\">2</td><td style = \"text-align: left;\">Iran</td><td style = \"text-align: left;\">USA</td><td style = \"text-align: right;\">0.515694</td><td style = \"text-align: right;\">0.270426</td><td style = \"text-align: right;\">0.21388</td><td style = \"text-align: right;\">250.0</td><td style = \"text-align: right;\">3</td><td style = \"text-align: right;\">1</td><td style = \"text-align: right;\">false</td><td style = \"text-align: right;\">22</td><td style = \"text-align: right;\">1</td><td style = \"text-align: right;\">545.0</td><td style = \"text-align: right;\">-250.0</td></tr><tr><td class = \"rowNumber\" style = \"font-weight: bold; text-align: right;\">3</td><td style = \"text-align: left;\">Morocco</td><td style = \"text-align: left;\">Croatia</td><td style = \"text-align: right;\">0.465358</td><td style = \"text-align: right;\">0.434983</td><td style = \"text-align: right;\">0.0996595</td><td style = \"text-align: right;\">250.0</td><td style = \"text-align: right;\">2</td><td style = \"text-align: right;\">1</td><td style = \"text-align: right;\">false</td><td style = \"text-align: right;\">28</td><td style = \"text-align: right;\">1</td><td style = \"text-align: right;\">392.5</td><td style = \"text-align: right;\">-250.0</td></tr><tr><td class = \"rowNumber\" style = \"font-weight: bold; text-align: right;\">4</td><td style = \"text-align: left;\">Saudi Arabia</td><td style = \"text-align: left;\">Mexico</td><td style = \"text-align: right;\">0.557936</td><td style = \"text-align: right;\">0.14692</td><td style = \"text-align: right;\">0.295144</td><td style = \"text-align: right;\">250.0</td><td style = \"text-align: right;\">3</td><td style = \"text-align: right;\">1</td><td style = \"text-align: right;\">false</td><td style = \"text-align: right;\">37</td><td style = \"text-align: right;\">1</td><td style = \"text-align: right;\">835.0</td><td style = \"text-align: right;\">-250.0</td></tr><tr><td class = \"rowNumber\" style = \"font-weight: bold; text-align: right;\">5</td><td style = \"text-align: left;\">Senegal</td><td style = \"text-align: left;\">Netherlands</td><td style = \"text-align: right;\">0.246266</td><td style = \"text-align: right;\">0.403616</td><td style = \"text-align: right;\">0.350118</td><td style = \"text-align: right;\">250.0</td><td style = \"text-align: right;\">3</td><td style = \"text-align: right;\">1</td><td style = \"text-align: right;\">false</td><td style = \"text-align: right;\">38</td><td style = \"text-align: right;\">1</td><td style = \"text-align: right;\">1022.5</td><td style = \"text-align: right;\">-250.0</td></tr><tr><td class = \"rowNumber\" style = \"font-weight: bold; text-align: right;\">6</td><td style = \"text-align: left;\">Costa Rica</td><td style = \"text-align: left;\">Germany</td><td style = \"text-align: right;\">0.0131862</td><td style = \"text-align: right;\">0.444052</td><td style = \"text-align: right;\">0.542761</td><td style = \"text-align: right;\">250.0</td><td style = \"text-align: right;\">3</td><td style = \"text-align: right;\">2</td><td style = \"text-align: right;\">false</td><td style = \"text-align: right;\">11</td><td style = \"text-align: right;\">2</td><td style = \"text-align: right;\">2292.5</td><td style = \"text-align: right;\">-250.0</td></tr><tr><td class = \"rowNumber\" style = \"font-weight: bold; text-align: right;\">7</td><td style = \"text-align: left;\">Ghana</td><td style = \"text-align: left;\">Uruguay</td><td style = \"text-align: right;\">0.090158</td><td style = \"text-align: right;\">0.393147</td><td style = \"text-align: right;\">0.516695</td><td style = \"text-align: right;\">250.0</td><td style = \"text-align: right;\">3</td><td style = \"text-align: right;\">2</td><td style = \"text-align: right;\">false</td><td style = \"text-align: right;\">21</td><td style = \"text-align: right;\">2</td><td style = \"text-align: right;\">455.0</td><td style = \"text-align: right;\">-250.0</td></tr><tr><td class = \"rowNumber\" style = \"font-weight: bold; text-align: right;\">8</td><td style = \"text-align: left;\">Poland</td><td style = \"text-align: left;\">Argentina</td><td style = \"text-align: right;\">0.0124997</td><td style = \"text-align: right;\">0.398129</td><td style = \"text-align: right;\">0.589371</td><td style = \"text-align: right;\">250.0</td><td style = \"text-align: right;\">3</td><td style = \"text-align: right;\">2</td><td style = \"text-align: right;\">false</td><td style = \"text-align: right;\">31</td><td style = \"text-align: right;\">2</td><td style = \"text-align: right;\">642.5</td><td style = \"text-align: right;\">-250.0</td></tr><tr><td class = \"rowNumber\" style = \"font-weight: bold; text-align: right;\">9</td><td style = \"text-align: left;\">Qatar</td><td style = \"text-align: left;\">Ecuador</td><td style = \"text-align: right;\">0.326202</td><td style = \"text-align: right;\">0.570737</td><td style = \"text-align: right;\">0.103061</td><td style = \"text-align: right;\">250.0</td><td style = \"text-align: right;\">3</td><td style = \"text-align: right;\">2</td><td style = \"text-align: right;\">false</td><td style = \"text-align: right;\">35</td><td style = \"text-align: right;\">2</td><td style = \"text-align: right;\">400.0</td><td style = \"text-align: right;\">-250.0</td></tr><tr><td class = \"rowNumber\" style = \"font-weight: bold; text-align: right;\">10</td><td style = \"text-align: left;\">Serbia</td><td style = \"text-align: left;\">Switzerland</td><td style = \"text-align: right;\">0.358455</td><td style = \"text-align: right;\">0.437939</td><td style = \"text-align: right;\">0.203606</td><td style = \"text-align: right;\">250.0</td><td style = \"text-align: right;\">3</td><td style = \"text-align: right;\">2</td><td style = \"text-align: right;\">false</td><td style = \"text-align: right;\">39</td><td style = \"text-align: right;\">2</td><td style = \"text-align: right;\">340.0</td><td style = \"text-align: right;\">-250.0</td></tr><tr><td class = \"rowNumber\" style = \"font-weight: bold; text-align: right;\">11</td><td style = \"text-align: left;\">Spain</td><td style = \"text-align: left;\">Germany</td><td style = \"text-align: right;\">0.227806</td><td style = \"text-align: right;\">0.54764</td><td style = \"text-align: right;\">0.224554</td><td style = \"text-align: right;\">250.0</td><td style = \"text-align: right;\">2</td><td style = \"text-align: right;\">2</td><td style = \"text-align: right;\">true</td><td style = \"text-align: right;\">41</td><td style = \"text-align: right;\">2</td><td style = \"text-align: right;\">355.0</td><td style = \"text-align: right;\">355.0</td></tr><tr><td class = \"rowNumber\" style = \"font-weight: bold; text-align: right;\">12</td><td style = \"text-align: left;\">Wales</td><td style = \"text-align: left;\">England</td><td style = \"text-align: right;\">0.0622313</td><td style = \"text-align: right;\">0.321516</td><td style = \"text-align: right;\">0.616253</td><td style = \"text-align: right;\">250.0</td><td style = \"text-align: right;\">3</td><td style = \"text-align: right;\">2</td><td style = \"text-align: right;\">false</td><td style = \"text-align: right;\">47</td><td style = \"text-align: right;\">2</td><td style = \"text-align: right;\">612.5</td><td style = \"text-align: right;\">-250.0</td></tr><tr><td class = \"rowNumber\" style = \"font-weight: bold; text-align: right;\">13</td><td style = \"text-align: left;\">Argentina</td><td style = \"text-align: left;\">Mexico</td><td style = \"text-align: right;\">0.691677</td><td style = \"text-align: right;\">0.0415087</td><td style = \"text-align: right;\">0.266814</td><td style = \"text-align: right;\">250.0</td><td style = \"text-align: right;\">1</td><td style = \"text-align: right;\">3</td><td style = \"text-align: right;\">false</td><td style = \"text-align: right;\">1</td><td style = \"text-align: right;\">3</td><td style = \"text-align: right;\">1280.0</td><td style = \"text-align: right;\">-250.0</td></tr><tr><td class = \"rowNumber\" style = \"font-weight: bold; text-align: right;\">14</td><td style = \"text-align: left;\">Brazil</td><td style = \"text-align: left;\">Serbia</td><td style = \"text-align: right;\">0.760576</td><td style = \"text-align: right;\">0.0116859</td><td style = \"text-align: right;\">0.227739</td><td style = \"text-align: right;\">250.0</td><td style = \"text-align: right;\">1</td><td style = \"text-align: right;\">3</td><td style = \"text-align: right;\">false</td><td style = \"text-align: right;\">6</td><td style = \"text-align: right;\">3</td><td style = \"text-align: right;\">1400.0</td><td style = \"text-align: right;\">-250.0</td></tr><tr><td class = \"rowNumber\" style = \"font-weight: bold; text-align: right;\">15</td><td style = \"text-align: left;\">Croatia</td><td style = \"text-align: left;\">Belgium</td><td style = \"text-align: right;\">0.139307</td><td style = \"text-align: right;\">0.0531642</td><td style = \"text-align: right;\">0.807529</td><td style = \"text-align: right;\">250.0</td><td style = \"text-align: right;\">2</td><td style = \"text-align: right;\">3</td><td style = \"text-align: right;\">false</td><td style = \"text-align: right;\">12</td><td style = \"text-align: right;\">3</td><td style = \"text-align: right;\">110.0</td><td style = \"text-align: right;\">-250.0</td></tr><tr><td class = \"rowNumber\" style = \"font-weight: bold; text-align: right;\">16</td><td style = \"text-align: left;\">Ecuador</td><td style = \"text-align: left;\">Senegal</td><td style = \"text-align: right;\">0.105359</td><td style = \"text-align: right;\">0.180916</td><td style = \"text-align: right;\">0.713725</td><td style = \"text-align: right;\">250.0</td><td style = \"text-align: right;\">3</td><td style = \"text-align: right;\">3</td><td style = \"text-align: right;\">true</td><td style = \"text-align: right;\">15</td><td style = \"text-align: right;\">3</td><td style = \"text-align: right;\">270.0</td><td style = \"text-align: right;\">270.0</td></tr><tr><td class = \"rowNumber\" style = \"font-weight: bold; text-align: right;\">17</td><td style = \"text-align: left;\">France</td><td style = \"text-align: left;\">Denmark</td><td style = \"text-align: right;\">0.0639191</td><td style = \"text-align: right;\">0.0319283</td><td style = \"text-align: right;\">0.904153</td><td style = \"text-align: right;\">250.0</td><td style = \"text-align: right;\">1</td><td style = \"text-align: right;\">3</td><td style = \"text-align: right;\">false</td><td style = \"text-align: right;\">19</td><td style = \"text-align: right;\">3</td><td style = \"text-align: right;\">2965.0</td><td style = \"text-align: right;\">-250.0</td></tr><tr><td class = \"rowNumber\" style = \"font-weight: bold; text-align: right;\">18</td><td style = \"text-align: left;\">USA</td><td style = \"text-align: left;\">Wales</td><td style = \"text-align: right;\">0.313079</td><td style = \"text-align: right;\">0.03656</td><td style = \"text-align: right;\">0.650361</td><td style = \"text-align: right;\">250.0</td><td style = \"text-align: right;\">2</td><td style = \"text-align: right;\">3</td><td style = \"text-align: right;\">false</td><td style = \"text-align: right;\">45</td><td style = \"text-align: right;\">3</td><td style = \"text-align: right;\">305.0</td><td style = \"text-align: right;\">-250.0</td></tr></tbody></table></div>"
      ],
      "text/latex": [
       "\\begin{tabular}{r|cccccccc}\n",
       "\t& home\\_team & away\\_team & home\\_win & draw & home\\_loss & bet\\_amount & actual\\_outcome & \\\\\n",
       "\t\\hline\n",
       "\t& String15 & String15 & Float64 & Float64 & Float64 & Float64 & Int64 & \\\\\n",
       "\t\\hline\n",
       "\t1 & Australia & Denmark & 0.238239 & 0.210197 & 0.551563 & 250.0 & 1 & $\\dots$ \\\\\n",
       "\t2 & Iran & USA & 0.515694 & 0.270426 & 0.21388 & 250.0 & 3 & $\\dots$ \\\\\n",
       "\t3 & Morocco & Croatia & 0.465358 & 0.434983 & 0.0996595 & 250.0 & 2 & $\\dots$ \\\\\n",
       "\t4 & Saudi Arabia & Mexico & 0.557936 & 0.14692 & 0.295144 & 250.0 & 3 & $\\dots$ \\\\\n",
       "\t5 & Senegal & Netherlands & 0.246266 & 0.403616 & 0.350118 & 250.0 & 3 & $\\dots$ \\\\\n",
       "\t6 & Costa Rica & Germany & 0.0131862 & 0.444052 & 0.542761 & 250.0 & 3 & $\\dots$ \\\\\n",
       "\t7 & Ghana & Uruguay & 0.090158 & 0.393147 & 0.516695 & 250.0 & 3 & $\\dots$ \\\\\n",
       "\t8 & Poland & Argentina & 0.0124997 & 0.398129 & 0.589371 & 250.0 & 3 & $\\dots$ \\\\\n",
       "\t9 & Qatar & Ecuador & 0.326202 & 0.570737 & 0.103061 & 250.0 & 3 & $\\dots$ \\\\\n",
       "\t10 & Serbia & Switzerland & 0.358455 & 0.437939 & 0.203606 & 250.0 & 3 & $\\dots$ \\\\\n",
       "\t11 & Spain & Germany & 0.227806 & 0.54764 & 0.224554 & 250.0 & 2 & $\\dots$ \\\\\n",
       "\t12 & Wales & England & 0.0622313 & 0.321516 & 0.616253 & 250.0 & 3 & $\\dots$ \\\\\n",
       "\t13 & Argentina & Mexico & 0.691677 & 0.0415087 & 0.266814 & 250.0 & 1 & $\\dots$ \\\\\n",
       "\t14 & Brazil & Serbia & 0.760576 & 0.0116859 & 0.227739 & 250.0 & 1 & $\\dots$ \\\\\n",
       "\t15 & Croatia & Belgium & 0.139307 & 0.0531642 & 0.807529 & 250.0 & 2 & $\\dots$ \\\\\n",
       "\t16 & Ecuador & Senegal & 0.105359 & 0.180916 & 0.713725 & 250.0 & 3 & $\\dots$ \\\\\n",
       "\t17 & France & Denmark & 0.0639191 & 0.0319283 & 0.904153 & 250.0 & 1 & $\\dots$ \\\\\n",
       "\t18 & USA & Wales & 0.313079 & 0.03656 & 0.650361 & 250.0 & 2 & $\\dots$ \\\\\n",
       "\\end{tabular}\n"
      ],
      "text/plain": [
       "\u001b[1m18×13 DataFrame\n",
       "\u001b[1m Row │\u001b[1m home_team    \u001b[1m away_team   \u001b[1m home_win  \u001b[1m draw      \u001b[1m home_loss \u001b[1m bet_amount \u001b[1m ⋯\n",
       "     │\u001b[90m String15     \u001b[90m String15    \u001b[90m Float64   \u001b[90m Float64   \u001b[90m Float64   \u001b[90m Float64    \u001b[90m ⋯\n",
       "─────┼──────────────────────────────────────────────────────────────────────────\n",
       "   1 │ Australia     Denmark      0.238239   0.210197   0.551563        250.0  ⋯\n",
       "   2 │ Iran          USA          0.515694   0.270426   0.21388         250.0\n",
       "   3 │ Morocco       Croatia      0.465358   0.434983   0.0996595       250.0\n",
       "   4 │ Saudi Arabia  Mexico       0.557936   0.14692    0.295144        250.0\n",
       "   5 │ Senegal       Netherlands  0.246266   0.403616   0.350118        250.0  ⋯\n",
       "   6 │ Costa Rica    Germany      0.0131862  0.444052   0.542761        250.0\n",
       "   7 │ Ghana         Uruguay      0.090158   0.393147   0.516695        250.0\n",
       "   8 │ Poland        Argentina    0.0124997  0.398129   0.589371        250.0\n",
       "   9 │ Qatar         Ecuador      0.326202   0.570737   0.103061        250.0  ⋯\n",
       "  10 │ Serbia        Switzerland  0.358455   0.437939   0.203606        250.0\n",
       "  11 │ Spain         Germany      0.227806   0.54764    0.224554        250.0\n",
       "  12 │ Wales         England      0.0622313  0.321516   0.616253        250.0\n",
       "  13 │ Argentina     Mexico       0.691677   0.0415087  0.266814        250.0  ⋯\n",
       "  14 │ Brazil        Serbia       0.760576   0.0116859  0.227739        250.0\n",
       "  15 │ Croatia       Belgium      0.139307   0.0531642  0.807529        250.0\n",
       "  16 │ Ecuador       Senegal      0.105359   0.180916   0.713725        250.0\n",
       "  17 │ France        Denmark      0.0639191  0.0319283  0.904153        250.0  ⋯\n",
       "  18 │ USA           Wales        0.313079   0.03656    0.650361        250.0\n",
       "\u001b[36m                                                               7 columns omitted"
      ]
     },
     "metadata": {},
     "output_type": "display_data"
    }
   ],
   "source": [
    "# # ACTUAL PROFIT\n",
    "# for each row i in outcomes:\n",
    "# if correct == true, then actual_profit = if_bets_correct_profit, \n",
    "# if correct == false, then actual_profit = -bet_amount\n",
    "\n",
    "# initialise new actual profit list\n",
    "actual_profit = zeros(size(outcomes,1))\n",
    "\n",
    "# for each row in outcomes, calculate the actual profit and store in actual_profit list\n",
    "for i in 1:size(outcomes,1)\n",
    "    if outcomes[i,\"correct\"] == true\n",
    "        actual_profit[i] = outcomes[i,\"if_bets_correct_profit\"]\n",
    "    else\n",
    "        actual_profit[i] = -outcomes[i,\"bet_amount\"]\n",
    "    end\n",
    "end\n",
    "\n",
    "# add actual_profit to outcomes dataframe\n",
    "outcomes[:,\"actual_profit\"] = actual_profit;\n",
    "outcomes"
   ]
  },
  {
   "cell_type": "code",
   "execution_count": null,
   "metadata": {},
   "outputs": [
    {
     "data": {
      "text/plain": [
       "-1780.0"
      ]
     },
     "metadata": {},
     "output_type": "display_data"
    }
   ],
   "source": [
    "# sum outcomes[:,\"actual_earnings\"]\n",
    "sum(outcomes[:,\"actual_profit\"])"
   ]
  },
  {
   "cell_type": "markdown",
   "metadata": {},
   "source": [
    "## _________________________________________________________"
   ]
  },
  {
   "cell_type": "markdown",
   "metadata": {},
   "source": [
    "## <u>Looping to Find The Optimal Betting Percentage"
   ]
  },
  {
   "cell_type": "code",
   "execution_count": null,
   "metadata": {},
   "outputs": [
    {
     "data": {
      "text/plain": [
       "FIFA2022_GS_Bettings_LOOP (generic function with 1 method)"
      ]
     },
     "metadata": {},
     "output_type": "display_data"
    }
   ],
   "source": [
    "function FIFA2022_GS_Bettings_LOOP(P, R, B, K, perc)\n",
    "    \n",
    "    # define divisor\n",
    "    divisor = 1/perc\n",
    "\n",
    "    # define model\n",
    "    model = Model(Gurobi.Optimizer)\n",
    "\n",
    "    # define parameters and decision variables\n",
    "    m = size(P, 1)              # 48 group stage matches\n",
    "    n = size(P, 2)              # 3 outcomes\n",
    "\n",
    "    @variable(model, x[i=1:m, j=1:n] >= 0) # x[i,j] is the amount of money bet on outcome j of match i\n",
    "    @variable(model, z[i=1:m, j=1:n], Bin) # z[i,j] is whether you bet on outcome j of match i\n",
    "\n",
    "    # define objective: maximising expected total returns across all matches\n",
    "    @objective(model, Max, sum(P[i,1]*R[i,1]*x[i,1] + \n",
    "                               P[i,2]*R[i,2]*x[i,2] + \n",
    "                               P[i,3]*R[i,3]*x[i,3] - \n",
    "                               sum(x[i,j] for j=1:n) for i=1:m))\n",
    "\n",
    "    # # constraints\n",
    "    # 1) You can only bet on one outcome for each match\n",
    "    @constraint(model, [i=1:m], sum(z[i,j] for j=1:n) <= 1)\n",
    "\n",
    "    # 2) x[i,j] <= B/12*z[i,j] for all i and j\n",
    "    # you can't bet more than 10% of your budget on a single match\n",
    "    @constraint(model, [i=1:m, j=1:n], x[i,j] <= (B/divisor)*z[i,j])\n",
    "\n",
    "    # 3) Budget constraints\n",
    "    @constraint(model, sum(x[i,j] for j=1:n, i=1:m) <= B)\n",
    "\n",
    "    # 4) You must spread your risk across at least K matches\n",
    "    @constraint(model, sum(z[i,j] for j=1:n, i=1:m) >= K)\n",
    "\n",
    "    # 5) if z = 1, then x > 0\n",
    "    @constraint(model, [i=1:m, j=1:n], x[i,j] >= 1*z[i,j])\n",
    "\n",
    "    # solve model\n",
    "    optimize!(model)\n",
    "\n",
    "    # get optimal bet amounts (x) and how you bet (z)\n",
    "    opt_val = objective_value(model)\n",
    "    x_opt = value.(x)\n",
    "    z_opt = value.(z)\n",
    "\n",
    "    return opt_val, x_opt, z_opt\n",
    "end"
   ]
  },
  {
   "cell_type": "code",
   "execution_count": null,
   "metadata": {},
   "outputs": [
    {
     "name": "stdout",
     "output_type": "stream",
     "text": [
      "Set parameter Username\n",
      "Academic license - for non-commercial use only - expires 2023-08-19\n",
      "Set parameter Username\n",
      "Academic license - for non-commercial use only - expires 2023-08-19\n",
      "Set parameter Username\n",
      "Academic license - for non-commercial use only - expires 2023-08-19\n",
      "Set parameter Username\n",
      "Academic license - for non-commercial use only - expires 2023-08-19\n",
      "Set parameter Username\n",
      "Academic license - for non-commercial use only - expires 2023-08-19\n",
      "Set parameter Username\n",
      "Academic license - for non-commercial use only - expires 2023-08-19\n",
      "Set parameter Username\n",
      "Academic license - for non-commercial use only - expires 2023-08-19\n",
      "Set parameter Username\n",
      "Academic license - for non-commercial use only - expires 2023-08-19\n",
      "Set parameter Username\n",
      "Academic license - for non-commercial use only - expires 2023-08-19\n",
      "Set parameter Username\n",
      "Academic license - for non-commercial use only - expires 2023-08-19\n",
      "Set parameter Username\n",
      "Academic license - for non-commercial use only - expires 2023-08-19\n",
      "Set parameter Username\n",
      "Academic license - for non-commercial use only - expires 2023-08-19\n",
      "Set parameter Username\n",
      "Academic license - for non-commercial use only - expires 2023-08-19\n",
      "Set parameter Username\n",
      "Academic license - for non-commercial use only - expires 2023-08-19\n",
      "Set parameter Username\n",
      "Academic license - for non-commercial use only - expires 2023-08-19\n",
      "Set parameter Username\n",
      "Academic license - for non-commercial use only - expires 2023-08-19\n",
      "Set parameter Username\n",
      "Academic license - for non-commercial use only - expires 2023-08-19\n",
      "Set parameter Username\n",
      "Academic license - for non-commercial use only - expires 2023-08-19\n",
      "Set parameter Username\n",
      "Academic license - for non-commercial use only - expires 2023-08-19\n",
      "Set parameter Username\n",
      "Academic license - for non-commercial use only - expires 2023-08-19\n",
      "Set parameter Username\n",
      "Academic license - for non-commercial use only - expires 2023-08-19\n",
      "Set parameter Username\n",
      "Academic license - for non-commercial use only - expires 2023-08-19\n",
      "Set parameter Username\n",
      "Academic license - for non-commercial use only - expires 2023-08-19\n",
      "Set parameter Username\n",
      "Academic license - for non-commercial use only - expires 2023-08-19\n",
      "Set parameter Username\n",
      "Academic license - for non-commercial use only - expires 2023-08-19\n",
      "Set parameter Username\n",
      "Academic license - for non-commercial use only - expires 2023-08-19\n",
      "Set parameter Username\n",
      "Academic license - for non-commercial use only - expires 2023-08-19\n",
      "Set parameter Username\n",
      "Academic license - for non-commercial use only - expires 2023-08-19\n",
      "Set parameter Username\n",
      "Academic license - for non-commercial use only - expires 2023-08-19\n",
      "Set parameter Username\n",
      "Academic license - for non-commercial use only - expires 2023-08-19\n",
      "Set parameter Username\n",
      "Academic license - for non-commercial use only - expires 2023-08-19\n",
      "Set parameter Username\n",
      "Academic license - for non-commercial use only - expires 2023-08-19\n",
      "Set parameter Username\n",
      "Academic license - for non-commercial use only - expires 2023-08-19\n",
      "Set parameter Username\n",
      "Academic license - for non-commercial use only - expires 2023-08-19\n",
      "Set parameter Username\n",
      "Academic license - for non-commercial use only - expires 2023-08-19\n",
      "Set parameter Username\n",
      "Academic license - for non-commercial use only - expires 2023-08-19\n",
      "Set parameter Username\n",
      "Academic license - for non-commercial use only - expires 2023-08-19\n",
      "Set parameter Username\n",
      "Academic license - for non-commercial use only - expires 2023-08-19\n",
      "Set parameter Username\n",
      "Academic license - for non-commercial use only - expires 2023-08-19\n",
      "Set parameter Username\n",
      "Academic license - for non-commercial use only - expires 2023-08-19\n",
      "Set parameter Username\n",
      "Academic license - for non-commercial use only - expires 2023-08-19\n",
      "Set parameter Username\n",
      "Academic license - for non-commercial use only - expires 2023-08-19\n",
      "Set parameter Username\n",
      "Academic license - for non-commercial use only - expires 2023-08-19\n",
      "Set parameter Username\n",
      "Academic license - for non-commercial use only - expires 2023-08-19\n",
      "Set parameter Username\n",
      "Academic license - for non-commercial use only - expires 2023-08-19\n",
      "Set parameter Username\n",
      "Academic license - for non-commercial use only - expires 2023-08-19\n",
      "Set parameter Username\n",
      "Academic license - for non-commercial use only - expires 2023-08-19\n",
      "Set parameter Username\n",
      "Academic license - for non-commercial use only - expires 2023-08-19\n",
      "Set parameter Username\n",
      "Academic license - for non-commercial use only - expires 2023-08-19\n",
      "Set parameter Username\n",
      "Academic license - for non-commercial use only - expires 2023-08-19\n",
      "Set parameter Username\n",
      "Academic license - for non-commercial use only - expires 2023-08-19\n",
      "Set parameter Username\n",
      "Academic license - for non-commercial use only - expires 2023-08-19\n",
      "Set parameter Username\n",
      "Academic license - for non-commercial use only - expires 2023-08-19\n",
      "Set parameter Username\n",
      "Academic license - for non-commercial use only - expires 2023-08-19\n",
      "Set parameter Username\n",
      "Academic license - for non-commercial use only - expires 2023-08-19\n",
      "Set parameter Username\n",
      "Academic license - for non-commercial use only - expires 2023-08-19\n",
      "Set parameter Username\n",
      "Academic license - for non-commercial use only - expires 2023-08-19\n",
      "Set parameter Username\n",
      "Academic license - for non-commercial use only - expires 2023-08-19\n",
      "Set parameter Username\n",
      "Academic license - for non-commercial use only - expires 2023-08-19\n",
      "Set parameter Username\n",
      "Academic license - for non-commercial use only - expires 2023-08-19\n",
      "Set parameter Username\n",
      "Academic license - for non-commercial use only - expires 2023-08-19\n",
      "Set parameter Username\n",
      "Academic license - for non-commercial use only - expires 2023-08-19\n",
      "Set parameter Username\n",
      "Academic license - for non-commercial use only - expires 2023-08-19\n",
      "Set parameter Username\n",
      "Academic license - for non-commercial use only - expires 2023-08-19\n",
      "Set parameter Username\n",
      "Academic license - for non-commercial use only - expires 2023-08-19\n",
      "Set parameter Username\n",
      "Academic license - for non-commercial use only - expires 2023-08-19\n",
      "Set parameter Username\n",
      "Academic license - for non-commercial use only - expires 2023-08-19\n",
      "Set parameter Username\n",
      "Academic license - for non-commercial use only - expires 2023-08-19\n",
      "Set parameter Username\n",
      "Academic license - for non-commercial use only - expires 2023-08-19\n",
      "Set parameter Username\n",
      "Academic license - for non-commercial use only - expires 2023-08-19\n",
      "Set parameter Username\n",
      "Academic license - for non-commercial use only - expires 2023-08-19\n",
      "Set parameter Username\n",
      "Academic license - for non-commercial use only - expires 2023-08-19\n",
      "Set parameter Username\n",
      "Academic license - for non-commercial use only - expires 2023-08-19\n",
      "Set parameter Username\n",
      "Academic license - for non-commercial use only - expires 2023-08-19\n",
      "Set parameter Username\n",
      "Academic license - for non-commercial use only - expires 2023-08-19\n",
      "Set parameter Username\n",
      "Academic license - for non-commercial use only - expires 2023-08-19\n",
      "Set parameter Username\n",
      "Academic license - for non-commercial use only - expires 2023-08-19\n",
      "Set parameter Username\n",
      "Academic license - for non-commercial use only - expires 2023-08-19\n",
      "Set parameter Username\n",
      "Academic license - for non-commercial use only - expires 2023-08-19\n",
      "Set parameter Username\n",
      "Academic license - for non-commercial use only - expires 2023-08-19\n",
      "Set parameter Username\n",
      "Academic license - for non-commercial use only - expires 2023-08-19\n",
      "Set parameter Username\n",
      "Academic license - for non-commercial use only - expires 2023-08-19\n",
      "Set parameter Username\n",
      "Academic license - for non-commercial use only - expires 2023-08-19\n",
      "Set parameter Username\n",
      "Academic license - for non-commercial use only - expires 2023-08-19\n",
      "Set parameter Username\n",
      "Academic license - for non-commercial use only - expires 2023-08-19\n",
      "Set parameter Username\n",
      "Academic license - for non-commercial use only - expires 2023-08-19\n",
      "Set parameter Username\n",
      "Academic license - for non-commercial use only - expires 2023-08-19\n",
      "Set parameter Username\n",
      "Academic license - for non-commercial use only - expires 2023-08-19\n",
      "Set parameter Username\n",
      "Academic license - for non-commercial use only - expires 2023-08-19\n",
      "Set parameter Username\n",
      "Academic license - for non-commercial use only - expires 2023-08-19\n",
      "Set parameter Username\n",
      "Academic license - for non-commercial use only - expires 2023-08-19\n",
      "Set parameter Username\n",
      "Academic license - for non-commercial use only - expires 2023-08-19\n",
      "Set parameter Username\n",
      "Academic license - for non-commercial use only - expires 2023-08-19\n",
      "Set parameter Username\n",
      "Academic license - for non-commercial use only - expires 2023-08-19\n",
      "Set parameter Username\n",
      "Academic license - for non-commercial use only - expires 2023-08-19\n",
      "Set parameter Username\n",
      "Academic license - for non-commercial use only - expires 2023-08-19\n",
      "Set parameter Username\n",
      "Academic license - for non-commercial use only - expires 2023-08-19\n",
      "Set parameter Username\n",
      "Academic license - for non-commercial use only - expires 2023-08-19\n",
      "Set parameter Username\n",
      "Academic license - for non-commercial use only - expires 2023-08-19\n",
      "Set parameter Username\n",
      "Academic license - for non-commercial use only - expires 2023-08-19\n"
     ]
    }
   ],
   "source": [
    "# create a list of perc values 0.01 to 1 in steps of 0.01\n",
    "perc_list = [0.01:0.01:1;]\n",
    "\n",
    "# initlaise an empty matrix to store the expected profit for each perc value\n",
    "exp_prof_each_perc = zeros(length(perc_list),4)\n",
    "\n",
    "for p = 1:length(perc_list)\n",
    "\n",
    "    exp_prof, x_opt, z_opt = FIFA2022_GS_Bettings_LOOP(new_xgb_probs, returns_matrix, 5000, 5, perc_list[p]);\n",
    "\n",
    "    # which matches to bet on\n",
    "    betting_matches = findall(x -> x >= 1, z_opt)\n",
    "\n",
    "    # make betting matches into list of first (which matches u bet on) and second (which outcome u bet on) index of tuples\n",
    "    betting_matches_list = [x[1] for x in betting_matches]\n",
    "    betting_matches_outcomes = [x[2] for x in betting_matches]\n",
    "\n",
    "    # create new dataframe called outcomes\n",
    "    outcomes = new_xgb_preds[betting_matches_list,:]\n",
    "\n",
    "    # save betting amount\n",
    "    outcomes[:,\"bet_amount\"] = [x_opt[i] for i in betting_matches];\n",
    "\n",
    "    # take real match outcomes from the real_outcomes dataframe by taking the corresponding indices from betting_matches_list\n",
    "    outcomes[:,\"actual_outcome\"] = [real_outcomes[i,4] for i in betting_matches_list];\n",
    "    outcomes[:,\"bet_outcome\"] = [x[2] for x in betting_matches];\n",
    "\n",
    "    # is actual_outcome = bet_outcome?\n",
    "    outcomes[:,\"correct\"] = outcomes[:,\"actual_outcome\"] .== outcomes[:,\"bet_outcome\"];\n",
    "    \n",
    "    # add betting_matches_list as a column called :betting_indices so we can map to the correct row and columns in 'returns' dataframe\n",
    "    outcomes[:,\"betting_matches_indices\"] = betting_matches_list;\n",
    "\n",
    "    # # DETERMINISTIC IF BETS CORRECT PROFIT\n",
    "    # create a new column called \"if_bets_correct_profit\" that calculates the profit if the bets are correct\n",
    "    # initialise new if bets correct profit list\n",
    "    if_bets_correct_profit = zeros(size(outcomes,1))\n",
    "\n",
    "    # for each row in outcomes, calculate the profit if the bets are correct\n",
    "    for i in 1:size(outcomes,1)\n",
    "        if_bets_correct_profit[i] = outcomes[i,\"bet_amount\"] * returns[outcomes[i,\"betting_matches_indices\"],outcomes[i,\"bet_outcome\"]+2] - outcomes[i,\"bet_amount\"]\n",
    "    end\n",
    "\n",
    "    # add if_bets_correct_profit to outcomes dataframe\n",
    "    outcomes[:,\"if_bets_correct_profit\"] = if_bets_correct_profit;\n",
    "   \n",
    "    # # ACTUAL PROFIT\n",
    "    # for each row i in outcomes:\n",
    "    # if correct == true, then actual_profit = if_bets_correct_profit, \n",
    "    # if correct == false, then actual_profit = -bet_amount\n",
    "\n",
    "    # initialise new actual profit list\n",
    "    actual_profit = zeros(size(outcomes,1))\n",
    "\n",
    "    # for each row in outcomes, calculate the actual profit and store in actual_profit list\n",
    "    for i in 1:size(outcomes,1)\n",
    "        if outcomes[i,\"correct\"] == true\n",
    "            actual_profit[i] = outcomes[i,\"if_bets_correct_profit\"]\n",
    "        else\n",
    "            actual_profit[i] = -outcomes[i,\"bet_amount\"]\n",
    "        end\n",
    "    end\n",
    "\n",
    "    # add actual_profit to outcomes dataframe\n",
    "    outcomes[:,\"actual_profit\"] = actual_profit;\n",
    "\n",
    "    # print(perc) and sum outcomes[:,\"actual_profit\"]\n",
    "    # save perc_list[p] into exp_prof_each_perc[p,1] and sum(outcomes[:,\"actual_profit\"]) into exp_prof_each_perc[p,2]\n",
    "    exp_prof_each_perc[p,1] = perc_list[p]\n",
    "    exp_prof_each_perc[p,2] = sum(outcomes[:,\"actual_profit\"])\n",
    "    exp_prof_each_perc[p,3] = sum(outcomes[:,\"if_bets_correct_profit\"])\n",
    "    exp_prof_each_perc[p,4] = exp_prof\n",
    "end\n",
    "\n",
    "    "
   ]
  },
  {
   "cell_type": "code",
   "execution_count": null,
   "metadata": {},
   "outputs": [
    {
     "data": {
      "text/html": [
       "<div><div style = \"float: left;\"><span>100×4 DataFrame</span></div><div style = \"float: right;\"><span style = \"font-style: italic;\">75 rows omitted</span></div><div style = \"clear: both;\"></div></div><div class = \"data-frame\" style = \"overflow-x: scroll;\"><table class = \"data-frame\" style = \"margin-bottom: 6px;\"><thead><tr class = \"header\"><th class = \"rowNumber\" style = \"font-weight: bold; text-align: right;\">Row</th><th style = \"text-align: left;\">%_of_budget_perMatch</th><th style = \"text-align: left;\">total_actual_profit</th><th style = \"text-align: left;\">total_if_bets_correct_profit</th><th style = \"text-align: left;\">expected_model_profit</th></tr><tr class = \"subheader headerLastRow\"><th class = \"rowNumber\" style = \"font-weight: bold; text-align: right;\"></th><th title = \"Float64\" style = \"text-align: left;\">Float64</th><th title = \"Float64\" style = \"text-align: left;\">Float64</th><th title = \"Float64\" style = \"text-align: left;\">Float64</th><th title = \"Float64\" style = \"text-align: left;\">Float64</th></tr></thead><tbody><tr><td class = \"rowNumber\" style = \"font-weight: bold; text-align: right;\">1</td><td style = \"text-align: right;\">0.01</td><td style = \"text-align: right;\">-356.0</td><td style = \"text-align: right;\">3113.5</td><td style = \"text-align: right;\">1044.17</td></tr><tr><td class = \"rowNumber\" style = \"font-weight: bold; text-align: right;\">2</td><td style = \"text-align: right;\">0.02</td><td style = \"text-align: right;\">-712.0</td><td style = \"text-align: right;\">6227.0</td><td style = \"text-align: right;\">2088.33</td></tr><tr><td class = \"rowNumber\" style = \"font-weight: bold; text-align: right;\">3</td><td style = \"text-align: right;\">0.03</td><td style = \"text-align: right;\">-1068.0</td><td style = \"text-align: right;\">9340.5</td><td style = \"text-align: right;\">3132.5</td></tr><tr><td class = \"rowNumber\" style = \"font-weight: bold; text-align: right;\">4</td><td style = \"text-align: right;\">0.04</td><td style = \"text-align: right;\">-1424.0</td><td style = \"text-align: right;\">12454.0</td><td style = \"text-align: right;\">4176.66</td></tr><tr><td class = \"rowNumber\" style = \"font-weight: bold; text-align: right;\">5</td><td style = \"text-align: right;\">0.05</td><td style = \"text-align: right;\">-1780.0</td><td style = \"text-align: right;\">15567.5</td><td style = \"text-align: right;\">5220.83</td></tr><tr><td class = \"rowNumber\" style = \"font-weight: bold; text-align: right;\">6</td><td style = \"text-align: right;\">0.06</td><td style = \"text-align: right;\">-1736.0</td><td style = \"text-align: right;\">18091.0</td><td style = \"text-align: right;\">6244.07</td></tr><tr><td class = \"rowNumber\" style = \"font-weight: bold; text-align: right;\">7</td><td style = \"text-align: right;\">0.07</td><td style = \"text-align: right;\">-1192.0</td><td style = \"text-align: right;\">19714.0</td><td style = \"text-align: right;\">7180.45</td></tr><tr><td class = \"rowNumber\" style = \"font-weight: bold; text-align: right;\">8</td><td style = \"text-align: right;\">0.08</td><td style = \"text-align: right;\">-648.0</td><td style = \"text-align: right;\">21034.0</td><td style = \"text-align: right;\">8058.53</td></tr><tr><td class = \"rowNumber\" style = \"font-weight: bold; text-align: right;\">9</td><td style = \"text-align: right;\">0.09</td><td style = \"text-align: right;\">-1072.0</td><td style = \"text-align: right;\">22175.0</td><td style = \"text-align: right;\">8878.69</td></tr><tr><td class = \"rowNumber\" style = \"font-weight: bold; text-align: right;\">10</td><td style = \"text-align: right;\">0.1</td><td style = \"text-align: right;\">-770.0</td><td style = \"text-align: right;\">23275.0</td><td style = \"text-align: right;\">9636.48</td></tr><tr><td class = \"rowNumber\" style = \"font-weight: bold; text-align: right;\">11</td><td style = \"text-align: right;\">0.11</td><td style = \"text-align: right;\">-347.0</td><td style = \"text-align: right;\">24992.5</td><td style = \"text-align: right;\">10378.2</td></tr><tr><td class = \"rowNumber\" style = \"font-weight: bold; text-align: right;\">12</td><td style = \"text-align: right;\">0.12</td><td style = \"text-align: right;\">76.0</td><td style = \"text-align: right;\">26558.0</td><td style = \"text-align: right;\">11103.9</td></tr><tr><td class = \"rowNumber\" style = \"font-weight: bold; text-align: right;\">13</td><td style = \"text-align: right;\">0.13</td><td style = \"text-align: right;\">83.0</td><td style = \"text-align: right;\">28208.5</td><td style = \"text-align: right;\">11827.5</td></tr><tr><td style = \"text-align: right;\">&vellip;</td><td style = \"text-align: right;\">&vellip;</td><td style = \"text-align: right;\">&vellip;</td><td style = \"text-align: right;\">&vellip;</td><td style = \"text-align: right;\">&vellip;</td></tr><tr><td class = \"rowNumber\" style = \"font-weight: bold; text-align: right;\">89</td><td style = \"text-align: right;\">0.89</td><td style = \"text-align: right;\">-5000.0</td><td style = \"text-align: right;\">57803.6</td><td style = \"text-align: right;\">49217.9</td></tr><tr><td class = \"rowNumber\" style = \"font-weight: bold; text-align: right;\">90</td><td style = \"text-align: right;\">0.9</td><td style = \"text-align: right;\">-5000.0</td><td style = \"text-align: right;\">57938.1</td><td style = \"text-align: right;\">49573.5</td></tr><tr><td class = \"rowNumber\" style = \"font-weight: bold; text-align: right;\">91</td><td style = \"text-align: right;\">0.91</td><td style = \"text-align: right;\">-5000.0</td><td style = \"text-align: right;\">58072.6</td><td style = \"text-align: right;\">49929.0</td></tr><tr><td class = \"rowNumber\" style = \"font-weight: bold; text-align: right;\">92</td><td style = \"text-align: right;\">0.92</td><td style = \"text-align: right;\">-5000.0</td><td style = \"text-align: right;\">58207.1</td><td style = \"text-align: right;\">50284.6</td></tr><tr><td class = \"rowNumber\" style = \"font-weight: bold; text-align: right;\">93</td><td style = \"text-align: right;\">0.93</td><td style = \"text-align: right;\">-5000.0</td><td style = \"text-align: right;\">58341.6</td><td style = \"text-align: right;\">50640.2</td></tr><tr><td class = \"rowNumber\" style = \"font-weight: bold; text-align: right;\">94</td><td style = \"text-align: right;\">0.94</td><td style = \"text-align: right;\">-5000.0</td><td style = \"text-align: right;\">58476.1</td><td style = \"text-align: right;\">50995.7</td></tr><tr><td class = \"rowNumber\" style = \"font-weight: bold; text-align: right;\">95</td><td style = \"text-align: right;\">0.95</td><td style = \"text-align: right;\">-5000.0</td><td style = \"text-align: right;\">58610.6</td><td style = \"text-align: right;\">51351.3</td></tr><tr><td class = \"rowNumber\" style = \"font-weight: bold; text-align: right;\">96</td><td style = \"text-align: right;\">0.96</td><td style = \"text-align: right;\">-5000.0</td><td style = \"text-align: right;\">58745.1</td><td style = \"text-align: right;\">51706.9</td></tr><tr><td class = \"rowNumber\" style = \"font-weight: bold; text-align: right;\">97</td><td style = \"text-align: right;\">0.97</td><td style = \"text-align: right;\">-5000.0</td><td style = \"text-align: right;\">58879.6</td><td style = \"text-align: right;\">52062.5</td></tr><tr><td class = \"rowNumber\" style = \"font-weight: bold; text-align: right;\">98</td><td style = \"text-align: right;\">0.98</td><td style = \"text-align: right;\">-5000.0</td><td style = \"text-align: right;\">59014.1</td><td style = \"text-align: right;\">52418.0</td></tr><tr><td class = \"rowNumber\" style = \"font-weight: bold; text-align: right;\">99</td><td style = \"text-align: right;\">0.99</td><td style = \"text-align: right;\">-5000.0</td><td style = \"text-align: right;\">59148.6</td><td style = \"text-align: right;\">52773.6</td></tr><tr><td class = \"rowNumber\" style = \"font-weight: bold; text-align: right;\">100</td><td style = \"text-align: right;\">1.0</td><td style = \"text-align: right;\">-5000.0</td><td style = \"text-align: right;\">59272.4</td><td style = \"text-align: right;\">53100.7</td></tr></tbody></table></div>"
      ],
      "text/latex": [
       "\\begin{tabular}{r|cccc}\n",
       "\t& \\%\\_of\\_budget\\_perMatch & total\\_actual\\_profit & total\\_if\\_bets\\_correct\\_profit & expected\\_model\\_profit\\\\\n",
       "\t\\hline\n",
       "\t& Float64 & Float64 & Float64 & Float64\\\\\n",
       "\t\\hline\n",
       "\t1 & 0.01 & -356.0 & 3113.5 & 1044.17 \\\\\n",
       "\t2 & 0.02 & -712.0 & 6227.0 & 2088.33 \\\\\n",
       "\t3 & 0.03 & -1068.0 & 9340.5 & 3132.5 \\\\\n",
       "\t4 & 0.04 & -1424.0 & 12454.0 & 4176.66 \\\\\n",
       "\t5 & 0.05 & -1780.0 & 15567.5 & 5220.83 \\\\\n",
       "\t6 & 0.06 & -1736.0 & 18091.0 & 6244.07 \\\\\n",
       "\t7 & 0.07 & -1192.0 & 19714.0 & 7180.45 \\\\\n",
       "\t8 & 0.08 & -648.0 & 21034.0 & 8058.53 \\\\\n",
       "\t9 & 0.09 & -1072.0 & 22175.0 & 8878.69 \\\\\n",
       "\t10 & 0.1 & -770.0 & 23275.0 & 9636.48 \\\\\n",
       "\t11 & 0.11 & -347.0 & 24992.5 & 10378.2 \\\\\n",
       "\t12 & 0.12 & 76.0 & 26558.0 & 11103.9 \\\\\n",
       "\t13 & 0.13 & 83.0 & 28208.5 & 11827.5 \\\\\n",
       "\t14 & 0.14 & -326.0 & 29963.0 & 12550.9 \\\\\n",
       "\t15 & 0.15 & -215.0 & 30587.5 & 13269.8 \\\\\n",
       "\t16 & 0.16 & 104.0 & 30760.0 & 13986.7 \\\\\n",
       "\t17 & 0.17 & -215.0 & 30954.5 & 14702.0 \\\\\n",
       "\t18 & 0.18 & -1810.0 & 31193.0 & 15413.9 \\\\\n",
       "\t19 & 0.19 & -3405.0 & 31431.5 & 16125.8 \\\\\n",
       "\t20 & 0.2 & -5000.0 & 31670.0 & 16837.7 \\\\\n",
       "\t21 & 0.21 & -5000.0 & 31973.5 & 17521.3 \\\\\n",
       "\t22 & 0.22 & -5000.0 & 32277.0 & 18205.0 \\\\\n",
       "\t23 & 0.23 & -5000.0 & 32580.5 & 18888.6 \\\\\n",
       "\t24 & 0.24 & -5000.0 & 32884.0 & 19572.3 \\\\\n",
       "\t25 & 0.25 & -5000.0 & 33190.4 & 20255.9 \\\\\n",
       "\t26 & 0.26 & -5000.0 & 34081.9 & 20938.2 \\\\\n",
       "\t27 & 0.27 & -5000.0 & 34973.4 & 21620.5 \\\\\n",
       "\t28 & 0.28 & -5000.0 & 35864.9 & 22302.7 \\\\\n",
       "\t29 & 0.29 & -5000.0 & 36756.4 & 22985.0 \\\\\n",
       "\t30 & 0.3 & -5000.0 & 37647.9 & 23667.2 \\\\\n",
       "\t$\\dots$ & $\\dots$ & $\\dots$ & $\\dots$ & $\\dots$ \\\\\n",
       "\\end{tabular}\n"
      ],
      "text/plain": [
       "\u001b[1m100×4 DataFrame\n",
       "\u001b[1m Row │\u001b[1m %_of_budget_perMatch \u001b[1m total_actual_profit \u001b[1m total_if_bets_correct_profit ⋯\n",
       "     │\u001b[90m Float64              \u001b[90m Float64             \u001b[90m Float64                      ⋯\n",
       "─────┼──────────────────────────────────────────────────────────────────────────\n",
       "   1 │                 0.01               -356.0                        3113.5 ⋯\n",
       "   2 │                 0.02               -712.0                        6227.0\n",
       "   3 │                 0.03              -1068.0                        9340.5\n",
       "   4 │                 0.04              -1424.0                       12454.0\n",
       "   5 │                 0.05              -1780.0                       15567.5 ⋯\n",
       "   6 │                 0.06              -1736.0                       18091.0\n",
       "   7 │                 0.07              -1192.0                       19714.0\n",
       "   8 │                 0.08               -648.0                       21034.0\n",
       "   9 │                 0.09              -1072.0                       22175.0 ⋯\n",
       "  10 │                 0.1                -770.0                       23275.0\n",
       "  11 │                 0.11               -347.0                       24992.5\n",
       "  ⋮  │          ⋮                     ⋮                        ⋮               ⋱\n",
       "  91 │                 0.91              -5000.0                       58072.6\n",
       "  92 │                 0.92              -5000.0                       58207.1 ⋯\n",
       "  93 │                 0.93              -5000.0                       58341.6\n",
       "  94 │                 0.94              -5000.0                       58476.1\n",
       "  95 │                 0.95              -5000.0                       58610.6\n",
       "  96 │                 0.96              -5000.0                       58745.1 ⋯\n",
       "  97 │                 0.97              -5000.0                       58879.6\n",
       "  98 │                 0.98              -5000.0                       59014.1\n",
       "  99 │                 0.99              -5000.0                       59148.6\n",
       " 100 │                 1.0               -5000.0                       59272.4 ⋯\n",
       "\u001b[36m                                                    1 column and 79 rows omitted"
      ]
     },
     "metadata": {},
     "output_type": "display_data"
    }
   ],
   "source": [
    "# convert exp_prof_each_perc to dataframe\n",
    "exp_prof_each_perc_df = DataFrame(exp_prof_each_perc, :auto)\n",
    "\n",
    "# rename 1st column as %_of_budget_perMatch and 2nd column as actual_profit\n",
    "rename!(exp_prof_each_perc_df, Dict(1 => \"%_of_budget_perMatch\", \n",
    "                                    2 => \"total_actual_profit\", \n",
    "                                    3 => \"total_if_bets_correct_profit\", \n",
    "                                    4 => \"expected_model_profit\"))"
   ]
  },
  {
   "cell_type": "code",
   "execution_count": null,
   "metadata": {},
   "outputs": [
    {
     "data": {
      "text/html": [
       "<div><div style = \"float: left;\"><span>1×4 DataFrame</span></div><div style = \"clear: both;\"></div></div><div class = \"data-frame\" style = \"overflow-x: scroll;\"><table class = \"data-frame\" style = \"margin-bottom: 6px;\"><thead><tr class = \"header\"><th class = \"rowNumber\" style = \"font-weight: bold; text-align: right;\">Row</th><th style = \"text-align: left;\">%_of_budget_perMatch</th><th style = \"text-align: left;\">total_actual_profit</th><th style = \"text-align: left;\">total_if_bets_correct_profit</th><th style = \"text-align: left;\">expected_model_profit</th></tr><tr class = \"subheader headerLastRow\"><th class = \"rowNumber\" style = \"font-weight: bold; text-align: right;\"></th><th title = \"Float64\" style = \"text-align: left;\">Float64</th><th title = \"Float64\" style = \"text-align: left;\">Float64</th><th title = \"Float64\" style = \"text-align: left;\">Float64</th><th title = \"Float64\" style = \"text-align: left;\">Float64</th></tr></thead><tbody><tr><td class = \"rowNumber\" style = \"font-weight: bold; text-align: right;\">1</td><td style = \"text-align: right;\">1.0</td><td style = \"text-align: right;\">-5000.0</td><td style = \"text-align: right;\">59272.4</td><td style = \"text-align: right;\">53100.7</td></tr></tbody></table></div>"
      ],
      "text/latex": [
       "\\begin{tabular}{r|cccc}\n",
       "\t& \\%\\_of\\_budget\\_perMatch & total\\_actual\\_profit & total\\_if\\_bets\\_correct\\_profit & expected\\_model\\_profit\\\\\n",
       "\t\\hline\n",
       "\t& Float64 & Float64 & Float64 & Float64\\\\\n",
       "\t\\hline\n",
       "\t1 & 1.0 & -5000.0 & 59272.4 & 53100.7 \\\\\n",
       "\\end{tabular}\n"
      ],
      "text/plain": [
       "\u001b[1m1×4 DataFrame\n",
       "\u001b[1m Row │\u001b[1m %_of_budget_perMatch \u001b[1m total_actual_profit \u001b[1m total_if_bets_correct_profit ⋯\n",
       "     │\u001b[90m Float64              \u001b[90m Float64             \u001b[90m Float64                      ⋯\n",
       "─────┼──────────────────────────────────────────────────────────────────────────\n",
       "   1 │                  1.0              -5000.0                       59272.4 ⋯\n",
       "\u001b[36m                                                                1 column omitted"
      ]
     },
     "metadata": {},
     "output_type": "display_data"
    }
   ],
   "source": [
    "# print row where % of budget per match is 0.083\n",
    "exp_prof_each_perc_df[exp_prof_each_perc_df[!,1] .== 0.083,:]\n",
    "\n",
    "# print row where actual_profit is max\n",
    "exp_prof_each_perc_df[exp_prof_each_perc_df[!,3] .== maximum(exp_prof_each_perc_df[!,3]),:]"
   ]
  },
  {
   "cell_type": "code",
   "execution_count": null,
   "metadata": {},
   "outputs": [
    {
     "data": {
      "text/plain": [
       "6.024096385542168"
      ]
     },
     "metadata": {},
     "output_type": "display_data"
    }
   ],
   "source": [
    "1/0.166"
   ]
  },
  {
   "cell_type": "code",
   "execution_count": null,
   "metadata": {},
   "outputs": [
    {
     "data": {
      "text/html": [
       "<div><div style = \"float: left;\"><span>5×12 DataFrame</span></div><div style = \"clear: both;\"></div></div><div class = \"data-frame\" style = \"overflow-x: scroll;\"><table class = \"data-frame\" style = \"margin-bottom: 6px;\"><thead><tr class = \"header\"><th class = \"rowNumber\" style = \"font-weight: bold; text-align: right;\">Row</th><th style = \"text-align: left;\">home_team</th><th style = \"text-align: left;\">away_team</th><th style = \"text-align: left;\">home_win</th><th style = \"text-align: left;\">draw</th><th style = \"text-align: left;\">home_loss</th><th style = \"text-align: left;\">bet_amount</th><th style = \"text-align: left;\">actual_outcome</th><th style = \"text-align: left;\">bet_outcome</th><th style = \"text-align: left;\">correct</th><th style = \"text-align: left;\">betting_matches_indices</th><th style = \"text-align: left;\">if_bets_correct_profit</th><th style = \"text-align: left;\">actual_profit</th></tr><tr class = \"subheader headerLastRow\"><th class = \"rowNumber\" style = \"font-weight: bold; text-align: right;\"></th><th title = \"String15\" style = \"text-align: left;\">String15</th><th title = \"String15\" style = \"text-align: left;\">String15</th><th title = \"Float64\" style = \"text-align: left;\">Float64</th><th title = \"Float64\" style = \"text-align: left;\">Float64</th><th title = \"Float64\" style = \"text-align: left;\">Float64</th><th title = \"Float64\" style = \"text-align: left;\">Float64</th><th title = \"Int64\" style = \"text-align: left;\">Int64</th><th title = \"Int64\" style = \"text-align: left;\">Int64</th><th title = \"Bool\" style = \"text-align: left;\">Bool</th><th title = \"Int64\" style = \"text-align: left;\">Int64</th><th title = \"Float64\" style = \"text-align: left;\">Float64</th><th title = \"Float64\" style = \"text-align: left;\">Float64</th></tr></thead><tbody><tr><td class = \"rowNumber\" style = \"font-weight: bold; text-align: right;\">1</td><td style = \"text-align: left;\">Iran</td><td style = \"text-align: left;\">USA</td><td style = \"text-align: right;\">0.515694</td><td style = \"text-align: right;\">0.270426</td><td style = \"text-align: right;\">0.21388</td><td style = \"text-align: right;\">1.0</td><td style = \"text-align: right;\">3</td><td style = \"text-align: right;\">1</td><td style = \"text-align: right;\">false</td><td style = \"text-align: right;\">22</td><td style = \"text-align: right;\">2.18</td><td style = \"text-align: right;\">-1.0</td></tr><tr><td class = \"rowNumber\" style = \"font-weight: bold; text-align: right;\">2</td><td style = \"text-align: left;\">Saudi Arabia</td><td style = \"text-align: left;\">Mexico</td><td style = \"text-align: right;\">0.557936</td><td style = \"text-align: right;\">0.14692</td><td style = \"text-align: right;\">0.295144</td><td style = \"text-align: right;\">1.0</td><td style = \"text-align: right;\">3</td><td style = \"text-align: right;\">1</td><td style = \"text-align: right;\">false</td><td style = \"text-align: right;\">37</td><td style = \"text-align: right;\">3.34</td><td style = \"text-align: right;\">-1.0</td></tr><tr><td class = \"rowNumber\" style = \"font-weight: bold; text-align: right;\">3</td><td style = \"text-align: left;\">Costa Rica</td><td style = \"text-align: left;\">Germany</td><td style = \"text-align: right;\">0.0131862</td><td style = \"text-align: right;\">0.444052</td><td style = \"text-align: right;\">0.542761</td><td style = \"text-align: right;\">1.0</td><td style = \"text-align: right;\">3</td><td style = \"text-align: right;\">2</td><td style = \"text-align: right;\">false</td><td style = \"text-align: right;\">11</td><td style = \"text-align: right;\">9.17</td><td style = \"text-align: right;\">-1.0</td></tr><tr><td class = \"rowNumber\" style = \"font-weight: bold; text-align: right;\">4</td><td style = \"text-align: left;\">Argentina</td><td style = \"text-align: left;\">Mexico</td><td style = \"text-align: right;\">0.691677</td><td style = \"text-align: right;\">0.0415087</td><td style = \"text-align: right;\">0.266814</td><td style = \"text-align: right;\">1.0</td><td style = \"text-align: right;\">1</td><td style = \"text-align: right;\">3</td><td style = \"text-align: right;\">false</td><td style = \"text-align: right;\">1</td><td style = \"text-align: right;\">5.12</td><td style = \"text-align: right;\">-1.0</td></tr><tr><td class = \"rowNumber\" style = \"font-weight: bold; text-align: right;\">5</td><td style = \"text-align: left;\">France</td><td style = \"text-align: left;\">Denmark</td><td style = \"text-align: right;\">0.0639191</td><td style = \"text-align: right;\">0.0319283</td><td style = \"text-align: right;\">0.904153</td><td style = \"text-align: right;\">4996.0</td><td style = \"text-align: right;\">1</td><td style = \"text-align: right;\">3</td><td style = \"text-align: right;\">false</td><td style = \"text-align: right;\">19</td><td style = \"text-align: right;\">59252.6</td><td style = \"text-align: right;\">-4996.0</td></tr></tbody></table></div>"
      ],
      "text/latex": [
       "\\begin{tabular}{r|cccccccc}\n",
       "\t& home\\_team & away\\_team & home\\_win & draw & home\\_loss & bet\\_amount & actual\\_outcome & \\\\\n",
       "\t\\hline\n",
       "\t& String15 & String15 & Float64 & Float64 & Float64 & Float64 & Int64 & \\\\\n",
       "\t\\hline\n",
       "\t1 & Iran & USA & 0.515694 & 0.270426 & 0.21388 & 1.0 & 3 & $\\dots$ \\\\\n",
       "\t2 & Saudi Arabia & Mexico & 0.557936 & 0.14692 & 0.295144 & 1.0 & 3 & $\\dots$ \\\\\n",
       "\t3 & Costa Rica & Germany & 0.0131862 & 0.444052 & 0.542761 & 1.0 & 3 & $\\dots$ \\\\\n",
       "\t4 & Argentina & Mexico & 0.691677 & 0.0415087 & 0.266814 & 1.0 & 1 & $\\dots$ \\\\\n",
       "\t5 & France & Denmark & 0.0639191 & 0.0319283 & 0.904153 & 4996.0 & 1 & $\\dots$ \\\\\n",
       "\\end{tabular}\n"
      ],
      "text/plain": [
       "\u001b[1m5×12 DataFrame\n",
       "\u001b[1m Row │\u001b[1m home_team    \u001b[1m away_team \u001b[1m home_win  \u001b[1m draw      \u001b[1m home_loss \u001b[1m bet_amount \u001b[1m a ⋯\n",
       "     │\u001b[90m String15     \u001b[90m String15  \u001b[90m Float64   \u001b[90m Float64   \u001b[90m Float64   \u001b[90m Float64    \u001b[90m I ⋯\n",
       "─────┼──────────────────────────────────────────────────────────────────────────\n",
       "   1 │ Iran          USA        0.515694   0.270426    0.21388          1.0    ⋯\n",
       "   2 │ Saudi Arabia  Mexico     0.557936   0.14692     0.295144         1.0\n",
       "   3 │ Costa Rica    Germany    0.0131862  0.444052    0.542761         1.0\n",
       "   4 │ Argentina     Mexico     0.691677   0.0415087   0.266814         1.0\n",
       "   5 │ France        Denmark    0.0639191  0.0319283   0.904153      4996.0    ⋯\n",
       "\u001b[36m                                                               6 columns omitted"
      ]
     },
     "metadata": {},
     "output_type": "display_data"
    }
   ],
   "source": [
    "outcomes"
   ]
  },
  {
   "cell_type": "code",
   "execution_count": null,
   "metadata": {},
   "outputs": [],
   "source": []
  }
 ],
 "metadata": {
  "kernelspec": {
   "display_name": "Julia 1.8.1",
   "language": "julia",
   "name": "julia-1.8"
  },
  "language_info": {
   "name": "julia",
   "version": "3.9.0"
  },
  "orig_nbformat": 4,
  "vscode": {
   "interpreter": {
    "hash": "aee8b7b246df8f9039afb4144a1f6fd8d2ca17a180786b69acc140d282b71a49"
   }
  }
 },
 "nbformat": 4,
 "nbformat_minor": 2
}

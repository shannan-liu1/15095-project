{
 "cells": [
  {
   "cell_type": "code",
   "execution_count": 1,
   "metadata": {},
   "outputs": [],
   "source": [
    "using DataFrames, CSV, JuMP, Gurobi, LinearAlgebra, Random, Printf, StatsBase, CategoricalArrays, Plots, StatsPlots, Distributions"
   ]
  },
  {
   "cell_type": "code",
   "execution_count": 13,
   "metadata": {},
   "outputs": [
    {
     "data": {
      "text/html": [
       "<div><div style = \"float: left;\"><span>48×8 DataFrame</span></div><div style = \"float: right;\"><span style = \"font-style: italic;\">23 rows omitted</span></div><div style = \"clear: both;\"></div></div><div class = \"data-frame\" style = \"overflow-x: scroll;\"><table class = \"data-frame\" style = \"margin-bottom: 6px;\"><thead><tr class = \"header\"><th class = \"rowNumber\" style = \"font-weight: bold; text-align: right;\">Row</th><th style = \"text-align: left;\">home_team</th><th style = \"text-align: left;\">away_team</th><th style = \"text-align: left;\">home_win_earnings_per_dollar</th><th style = \"text-align: left;\">draw_earnings_per_dollar</th><th style = \"text-align: left;\">away_win_earnings_per_dollar</th><th style = \"text-align: left;\">implied_probability_of_home_win</th><th style = \"text-align: left;\">implied_probability_of_draw</th><th style = \"text-align: left;\">implied_probability_of_away_win</th></tr><tr class = \"subheader headerLastRow\"><th class = \"rowNumber\" style = \"font-weight: bold; text-align: right;\"></th><th title = \"String15\" style = \"text-align: left;\">String15</th><th title = \"String15\" style = \"text-align: left;\">String15</th><th title = \"Float64\" style = \"text-align: left;\">Float64</th><th title = \"Float64\" style = \"text-align: left;\">Float64</th><th title = \"Float64\" style = \"text-align: left;\">Float64</th><th title = \"Float64\" style = \"text-align: left;\">Float64</th><th title = \"Float64\" style = \"text-align: left;\">Float64</th><th title = \"Float64\" style = \"text-align: left;\">Float64</th></tr></thead><tbody><tr><td class = \"rowNumber\" style = \"font-weight: bold; text-align: right;\">1</td><td style = \"text-align: left;\">Argentina</td><td style = \"text-align: left;\">Mexico</td><td style = \"text-align: right;\">0.549451</td><td style = \"text-align: right;\">2.95</td><td style = \"text-align: right;\">6.12</td><td style = \"text-align: right;\">0.64539</td><td style = \"text-align: right;\">0.253165</td><td style = \"text-align: right;\">0.140449</td></tr><tr><td class = \"rowNumber\" style = \"font-weight: bold; text-align: right;\">2</td><td style = \"text-align: left;\">Argentina</td><td style = \"text-align: left;\">Saudi Arabia</td><td style = \"text-align: right;\">0.120048</td><td style = \"text-align: right;\">8.21</td><td style = \"text-align: right;\">24.52</td><td style = \"text-align: right;\">0.892819</td><td style = \"text-align: right;\">0.108578</td><td style = \"text-align: right;\">0.039185</td></tr><tr><td class = \"rowNumber\" style = \"font-weight: bold; text-align: right;\">3</td><td style = \"text-align: left;\">Australia</td><td style = \"text-align: left;\">Denmark</td><td style = \"text-align: right;\">6.38</td><td style = \"text-align: right;\">3.88</td><td style = \"text-align: right;\">0.429185</td><td style = \"text-align: right;\">0.135501</td><td style = \"text-align: right;\">0.204918</td><td style = \"text-align: right;\">0.6997</td></tr><tr><td class = \"rowNumber\" style = \"font-weight: bold; text-align: right;\">4</td><td style = \"text-align: left;\">Belgium</td><td style = \"text-align: left;\">Canada</td><td style = \"text-align: right;\">0.900901</td><td style = \"text-align: right;\">2.45</td><td style = \"text-align: right;\">3.51</td><td style = \"text-align: right;\">0.526066</td><td style = \"text-align: right;\">0.289855</td><td style = \"text-align: right;\">0.221729</td></tr><tr><td class = \"rowNumber\" style = \"font-weight: bold; text-align: right;\">5</td><td style = \"text-align: left;\">Belgium</td><td style = \"text-align: left;\">Morocco</td><td style = \"text-align: right;\">0.581395</td><td style = \"text-align: right;\">3.21</td><td style = \"text-align: right;\">4.92</td><td style = \"text-align: right;\">0.632353</td><td style = \"text-align: right;\">0.23753</td><td style = \"text-align: right;\">0.168919</td></tr><tr><td class = \"rowNumber\" style = \"font-weight: bold; text-align: right;\">6</td><td style = \"text-align: left;\">Brazil</td><td style = \"text-align: left;\">Serbia</td><td style = \"text-align: right;\">0.5</td><td style = \"text-align: right;\">3.28</td><td style = \"text-align: right;\">6.6</td><td style = \"text-align: right;\">0.666667</td><td style = \"text-align: right;\">0.233645</td><td style = \"text-align: right;\">0.131579</td></tr><tr><td class = \"rowNumber\" style = \"font-weight: bold; text-align: right;\">7</td><td style = \"text-align: left;\">Brazil</td><td style = \"text-align: left;\">Switzerland</td><td style = \"text-align: right;\">0.469484</td><td style = \"text-align: right;\">3.57</td><td style = \"text-align: right;\">6.23</td><td style = \"text-align: right;\">0.680511</td><td style = \"text-align: right;\">0.218818</td><td style = \"text-align: right;\">0.138313</td></tr><tr><td class = \"rowNumber\" style = \"font-weight: bold; text-align: right;\">8</td><td style = \"text-align: left;\">Cameroon</td><td style = \"text-align: left;\">Brazil</td><td style = \"text-align: right;\">7.93</td><td style = \"text-align: right;\">4.32</td><td style = \"text-align: right;\">0.359712</td><td style = \"text-align: right;\">0.111982</td><td style = \"text-align: right;\">0.18797</td><td style = \"text-align: right;\">0.73545</td></tr><tr><td class = \"rowNumber\" style = \"font-weight: bold; text-align: right;\">9</td><td style = \"text-align: left;\">Cameroon</td><td style = \"text-align: left;\">Serbia</td><td style = \"text-align: right;\">4.3</td><td style = \"text-align: right;\">2.77</td><td style = \"text-align: right;\">0.70922</td><td style = \"text-align: right;\">0.188679</td><td style = \"text-align: right;\">0.265252</td><td style = \"text-align: right;\">0.585062</td></tr><tr><td class = \"rowNumber\" style = \"font-weight: bold; text-align: right;\">10</td><td style = \"text-align: left;\">Canada</td><td style = \"text-align: left;\">Morocco</td><td style = \"text-align: right;\">3.78</td><td style = \"text-align: right;\">2.49</td><td style = \"text-align: right;\">0.840336</td><td style = \"text-align: right;\">0.209205</td><td style = \"text-align: right;\">0.286533</td><td style = \"text-align: right;\">0.543379</td></tr><tr><td class = \"rowNumber\" style = \"font-weight: bold; text-align: right;\">11</td><td style = \"text-align: left;\">Costa Rica</td><td style = \"text-align: left;\">Germany</td><td style = \"text-align: right;\">22.79</td><td style = \"text-align: right;\">10.17</td><td style = \"text-align: right;\">0.1</td><td style = \"text-align: right;\">0.0420345</td><td style = \"text-align: right;\">0.0895255</td><td style = \"text-align: right;\">0.909091</td></tr><tr><td class = \"rowNumber\" style = \"font-weight: bold; text-align: right;\">12</td><td style = \"text-align: left;\">Croatia</td><td style = \"text-align: left;\">Belgium</td><td style = \"text-align: right;\">2.02</td><td style = \"text-align: right;\">2.41</td><td style = \"text-align: right;\">1.44</td><td style = \"text-align: right;\">0.331126</td><td style = \"text-align: right;\">0.293255</td><td style = \"text-align: right;\">0.409836</td></tr><tr><td class = \"rowNumber\" style = \"font-weight: bold; text-align: right;\">13</td><td style = \"text-align: left;\">Croatia</td><td style = \"text-align: left;\">Canada</td><td style = \"text-align: right;\">1.23</td><td style = \"text-align: right;\">2.27</td><td style = \"text-align: right;\">2.54</td><td style = \"text-align: right;\">0.44843</td><td style = \"text-align: right;\">0.30581</td><td style = \"text-align: right;\">0.282486</td></tr><tr><td style = \"text-align: right;\">&vellip;</td><td style = \"text-align: right;\">&vellip;</td><td style = \"text-align: right;\">&vellip;</td><td style = \"text-align: right;\">&vellip;</td><td style = \"text-align: right;\">&vellip;</td><td style = \"text-align: right;\">&vellip;</td><td style = \"text-align: right;\">&vellip;</td><td style = \"text-align: right;\">&vellip;</td><td style = \"text-align: right;\">&vellip;</td></tr><tr><td class = \"rowNumber\" style = \"font-weight: bold; text-align: right;\">37</td><td style = \"text-align: left;\">Saudi Arabia</td><td style = \"text-align: left;\">Mexico</td><td style = \"text-align: right;\">4.34</td><td style = \"text-align: right;\">3.28</td><td style = \"text-align: right;\">0.621118</td><td style = \"text-align: right;\">0.187266</td><td style = \"text-align: right;\">0.233645</td><td style = \"text-align: right;\">0.616858</td></tr><tr><td class = \"rowNumber\" style = \"font-weight: bold; text-align: right;\">38</td><td style = \"text-align: left;\">Senegal</td><td style = \"text-align: left;\">Netherlands</td><td style = \"text-align: right;\">5.09</td><td style = \"text-align: right;\">2.67</td><td style = \"text-align: right;\">0.657895</td><td style = \"text-align: right;\">0.164204</td><td style = \"text-align: right;\">0.27248</td><td style = \"text-align: right;\">0.603175</td></tr><tr><td class = \"rowNumber\" style = \"font-weight: bold; text-align: right;\">39</td><td style = \"text-align: left;\">Serbia</td><td style = \"text-align: left;\">Switzerland</td><td style = \"text-align: right;\">1.58</td><td style = \"text-align: right;\">2.36</td><td style = \"text-align: right;\">1.85</td><td style = \"text-align: right;\">0.387597</td><td style = \"text-align: right;\">0.297619</td><td style = \"text-align: right;\">0.350877</td></tr><tr><td class = \"rowNumber\" style = \"font-weight: bold; text-align: right;\">40</td><td style = \"text-align: left;\">Spain</td><td style = \"text-align: left;\">Costa Rica</td><td style = \"text-align: right;\">0.16</td><td style = \"text-align: right;\">7.42</td><td style = \"text-align: right;\">16.43</td><td style = \"text-align: right;\">0.862069</td><td style = \"text-align: right;\">0.118765</td><td style = \"text-align: right;\">0.0573723</td></tr><tr><td class = \"rowNumber\" style = \"font-weight: bold; text-align: right;\">41</td><td style = \"text-align: left;\">Spain</td><td style = \"text-align: left;\">Germany</td><td style = \"text-align: right;\">1.54</td><td style = \"text-align: right;\">2.42</td><td style = \"text-align: right;\">1.84</td><td style = \"text-align: right;\">0.393701</td><td style = \"text-align: right;\">0.292398</td><td style = \"text-align: right;\">0.352113</td></tr><tr><td class = \"rowNumber\" style = \"font-weight: bold; text-align: right;\">42</td><td style = \"text-align: left;\">Switzerland</td><td style = \"text-align: left;\">Cameroon</td><td style = \"text-align: right;\">0.813008</td><td style = \"text-align: right;\">2.45</td><td style = \"text-align: right;\">4.01</td><td style = \"text-align: right;\">0.55157</td><td style = \"text-align: right;\">0.289855</td><td style = \"text-align: right;\">0.199601</td></tr><tr><td class = \"rowNumber\" style = \"font-weight: bold; text-align: right;\">43</td><td style = \"text-align: left;\">Tunisia</td><td style = \"text-align: left;\">Australia</td><td style = \"text-align: right;\">1.21</td><td style = \"text-align: right;\">2.31</td><td style = \"text-align: right;\">2.52</td><td style = \"text-align: right;\">0.452489</td><td style = \"text-align: right;\">0.302115</td><td style = \"text-align: right;\">0.284091</td></tr><tr><td class = \"rowNumber\" style = \"font-weight: bold; text-align: right;\">44</td><td style = \"text-align: left;\">Tunisia</td><td style = \"text-align: left;\">France</td><td style = \"text-align: right;\">5.01</td><td style = \"text-align: right;\">2.92</td><td style = \"text-align: right;\">0.621118</td><td style = \"text-align: right;\">0.166389</td><td style = \"text-align: right;\">0.255102</td><td style = \"text-align: right;\">0.616858</td></tr><tr><td class = \"rowNumber\" style = \"font-weight: bold; text-align: right;\">45</td><td style = \"text-align: left;\">USA</td><td style = \"text-align: left;\">Wales</td><td style = \"text-align: right;\">1.47</td><td style = \"text-align: right;\">2.09</td><td style = \"text-align: right;\">2.22</td><td style = \"text-align: right;\">0.404858</td><td style = \"text-align: right;\">0.323625</td><td style = \"text-align: right;\">0.310559</td></tr><tr><td class = \"rowNumber\" style = \"font-weight: bold; text-align: right;\">46</td><td style = \"text-align: left;\">Uruguay</td><td style = \"text-align: left;\">Korea Republic</td><td style = \"text-align: right;\">0.78125</td><td style = \"text-align: right;\">2.54</td><td style = \"text-align: right;\">4.09</td><td style = \"text-align: right;\">0.561404</td><td style = \"text-align: right;\">0.282486</td><td style = \"text-align: right;\">0.196464</td></tr><tr><td class = \"rowNumber\" style = \"font-weight: bold; text-align: right;\">47</td><td style = \"text-align: left;\">Wales</td><td style = \"text-align: left;\">England</td><td style = \"text-align: right;\">7.81</td><td style = \"text-align: right;\">3.45</td><td style = \"text-align: right;\">0.429185</td><td style = \"text-align: right;\">0.113507</td><td style = \"text-align: right;\">0.224719</td><td style = \"text-align: right;\">0.6997</td></tr><tr><td class = \"rowNumber\" style = \"font-weight: bold; text-align: right;\">48</td><td style = \"text-align: left;\">Wales</td><td style = \"text-align: left;\">Iran</td><td style = \"text-align: right;\">1.14</td><td style = \"text-align: right;\">2.18</td><td style = \"text-align: right;\">2.87</td><td style = \"text-align: right;\">0.46729</td><td style = \"text-align: right;\">0.314465</td><td style = \"text-align: right;\">0.258398</td></tr></tbody></table></div>"
      ],
      "text/latex": [
       "\\begin{tabular}{r|ccccc}\n",
       "\t& home\\_team & away\\_team & home\\_win\\_earnings\\_per\\_dollar & draw\\_earnings\\_per\\_dollar & \\\\\n",
       "\t\\hline\n",
       "\t& String15 & String15 & Float64 & Float64 & \\\\\n",
       "\t\\hline\n",
       "\t1 & Argentina & Mexico & 0.549451 & 2.95 & $\\dots$ \\\\\n",
       "\t2 & Argentina & Saudi Arabia & 0.120048 & 8.21 & $\\dots$ \\\\\n",
       "\t3 & Australia & Denmark & 6.38 & 3.88 & $\\dots$ \\\\\n",
       "\t4 & Belgium & Canada & 0.900901 & 2.45 & $\\dots$ \\\\\n",
       "\t5 & Belgium & Morocco & 0.581395 & 3.21 & $\\dots$ \\\\\n",
       "\t6 & Brazil & Serbia & 0.5 & 3.28 & $\\dots$ \\\\\n",
       "\t7 & Brazil & Switzerland & 0.469484 & 3.57 & $\\dots$ \\\\\n",
       "\t8 & Cameroon & Brazil & 7.93 & 4.32 & $\\dots$ \\\\\n",
       "\t9 & Cameroon & Serbia & 4.3 & 2.77 & $\\dots$ \\\\\n",
       "\t10 & Canada & Morocco & 3.78 & 2.49 & $\\dots$ \\\\\n",
       "\t11 & Costa Rica & Germany & 22.79 & 10.17 & $\\dots$ \\\\\n",
       "\t12 & Croatia & Belgium & 2.02 & 2.41 & $\\dots$ \\\\\n",
       "\t13 & Croatia & Canada & 1.23 & 2.27 & $\\dots$ \\\\\n",
       "\t14 & Denmark & Tunisia & 0.581395 & 2.92 & $\\dots$ \\\\\n",
       "\t15 & Ecuador & Senegal & 1.48 & 2.23 & $\\dots$ \\\\\n",
       "\t16 & England & Iran & 0.480769 & 3.26 & $\\dots$ \\\\\n",
       "\t17 & England & USA & 0.380228 & 3.65 & $\\dots$ \\\\\n",
       "\t18 & France & Australia & 0.819672 & 2.6 & $\\dots$ \\\\\n",
       "\t19 & France & Denmark & 0.21978 & 5.8 & $\\dots$ \\\\\n",
       "\t20 & Germany & Japan & 0.45045 & 3.84 & $\\dots$ \\\\\n",
       "\t21 & Ghana & Uruguay & 3.49 & 2.82 & $\\dots$ \\\\\n",
       "\t22 & Iran & USA & 3.18 & 2.49 & $\\dots$ \\\\\n",
       "\t23 & Japan & Costa Rica & 0.490196 & 3.32 & $\\dots$ \\\\\n",
       "\t24 & Japan & Spain & 6.04 & 3.49 & $\\dots$ \\\\\n",
       "\t$\\dots$ & $\\dots$ & $\\dots$ & $\\dots$ & $\\dots$ &  \\\\\n",
       "\\end{tabular}\n"
      ],
      "text/plain": [
       "\u001b[1m48×8 DataFrame\u001b[0m\n",
       "\u001b[1m Row \u001b[0m│\u001b[1m home_team   \u001b[0m\u001b[1m away_team      \u001b[0m\u001b[1m home_win_earnings_per_dollar \u001b[0m\u001b[1m draw_earning\u001b[0m ⋯\n",
       "     │\u001b[90m String15    \u001b[0m\u001b[90m String15       \u001b[0m\u001b[90m Float64                      \u001b[0m\u001b[90m Float64     \u001b[0m ⋯\n",
       "─────┼──────────────────────────────────────────────────────────────────────────\n",
       "   1 │ Argentina    Mexico                              0.549451               ⋯\n",
       "   2 │ Argentina    Saudi Arabia                        0.120048\n",
       "   3 │ Australia    Denmark                             6.38\n",
       "   4 │ Belgium      Canada                              0.900901\n",
       "   5 │ Belgium      Morocco                             0.581395               ⋯\n",
       "   6 │ Brazil       Serbia                              0.5\n",
       "   7 │ Brazil       Switzerland                         0.469484\n",
       "   8 │ Cameroon     Brazil                              7.93\n",
       "  ⋮  │      ⋮             ⋮                      ⋮                           ⋮ ⋱\n",
       "  42 │ Switzerland  Cameroon                            0.813008               ⋯\n",
       "  43 │ Tunisia      Australia                           1.21\n",
       "  44 │ Tunisia      France                              5.01\n",
       "  45 │ USA          Wales                               1.47\n",
       "  46 │ Uruguay      Korea Republic                      0.78125                ⋯\n",
       "  47 │ Wales        England                             7.81\n",
       "  48 │ Wales        Iran                                1.14\n",
       "\u001b[36m                                                   5 columns and 33 rows omitted\u001b[0m"
      ]
     },
     "metadata": {},
     "output_type": "display_data"
    }
   ],
   "source": [
    "# # add actual data here\n",
    "# xgb_preds = CSV.read(\"C:\\\\Users\\\\shann\\\\Documents\\\\GitHub\\\\15095-project\\\\notebooks\\\\xgb_cv_pred.csv\",DataFrame)\n",
    "# rf_preds = CSV.read(\"C:\\\\Users\\\\shann\\\\Documents\\\\GitHub\\\\15095-project\\\\notebooks\\\\rf_pred.csv\",DataFrame)\n",
    "# lgbm_preds = CSV.read(\"C:\\\\Users\\\\shann\\\\Documents\\\\GitHub\\\\15095-project\\\\notebooks\\\\lgbm_cv_pred.csv\",DataFrame);\n",
    "# logreg_preds = CSV.read(\"C:\\\\Users\\\\shann\\\\Documents\\\\GitHub\\\\15095-project\\\\notebooks\\\\logreg_pred.csv\",DataFrame);\n",
    "new_xgb_preds = CSV.read(\"C:\\\\Users\\\\shann\\\\Documents\\\\GitHub\\\\15095-project\\\\notebooks\\\\new_xgb_pred.csv\",DataFrame);\n",
    "returns = CSV.read(\"C:\\\\Users\\\\shann\\\\Documents\\\\GitHub\\\\15095-project\\\\data\\\\group_stage_betting_odds_final_cleaned.csv\",DataFrame);\n",
    "\n",
    "# # add actual data here\n",
    "#new_xgb_preds = CSV.read(\"/Users/yenhann/Documents/MIT/15.095 Machine Learning/15095-project/notebooks/new_xgb_pred.csv\",DataFrame);\n",
    "#returns = CSV.read(\"/Users/yenhann/Documents/MIT/15.095 Machine Learning/15095-project/data/group_stage_betting_odds_final_cleaned.csv\",DataFrame);"
   ]
  },
  {
   "cell_type": "code",
   "execution_count": 14,
   "metadata": {},
   "outputs": [
    {
     "data": {
      "text/html": [
       "<div><div style = \"float: left;\"><span>5×3 DataFrame</span></div><div style = \"clear: both;\"></div></div><div class = \"data-frame\" style = \"overflow-x: scroll;\"><table class = \"data-frame\" style = \"margin-bottom: 6px;\"><thead><tr class = \"header\"><th class = \"rowNumber\" style = \"font-weight: bold; text-align: right;\">Row</th><th style = \"text-align: left;\">implied_probability_of_home_win</th><th style = \"text-align: left;\">implied_probability_of_draw</th><th style = \"text-align: left;\">implied_probability_of_away_win</th></tr><tr class = \"subheader headerLastRow\"><th class = \"rowNumber\" style = \"font-weight: bold; text-align: right;\"></th><th title = \"Float64\" style = \"text-align: left;\">Float64</th><th title = \"Float64\" style = \"text-align: left;\">Float64</th><th title = \"Float64\" style = \"text-align: left;\">Float64</th></tr></thead><tbody><tr><td class = \"rowNumber\" style = \"font-weight: bold; text-align: right;\">1</td><td style = \"text-align: right;\">0.64539</td><td style = \"text-align: right;\">0.253165</td><td style = \"text-align: right;\">0.140449</td></tr><tr><td class = \"rowNumber\" style = \"font-weight: bold; text-align: right;\">2</td><td style = \"text-align: right;\">0.892819</td><td style = \"text-align: right;\">0.108578</td><td style = \"text-align: right;\">0.039185</td></tr><tr><td class = \"rowNumber\" style = \"font-weight: bold; text-align: right;\">3</td><td style = \"text-align: right;\">0.135501</td><td style = \"text-align: right;\">0.204918</td><td style = \"text-align: right;\">0.6997</td></tr><tr><td class = \"rowNumber\" style = \"font-weight: bold; text-align: right;\">4</td><td style = \"text-align: right;\">0.526066</td><td style = \"text-align: right;\">0.289855</td><td style = \"text-align: right;\">0.221729</td></tr><tr><td class = \"rowNumber\" style = \"font-weight: bold; text-align: right;\">5</td><td style = \"text-align: right;\">0.632353</td><td style = \"text-align: right;\">0.23753</td><td style = \"text-align: right;\">0.168919</td></tr></tbody></table></div>"
      ],
      "text/latex": [
       "\\begin{tabular}{r|ccc}\n",
       "\t& implied\\_probability\\_of\\_home\\_win & implied\\_probability\\_of\\_draw & implied\\_probability\\_of\\_away\\_win\\\\\n",
       "\t\\hline\n",
       "\t& Float64 & Float64 & Float64\\\\\n",
       "\t\\hline\n",
       "\t1 & 0.64539 & 0.253165 & 0.140449 \\\\\n",
       "\t2 & 0.892819 & 0.108578 & 0.039185 \\\\\n",
       "\t3 & 0.135501 & 0.204918 & 0.6997 \\\\\n",
       "\t4 & 0.526066 & 0.289855 & 0.221729 \\\\\n",
       "\t5 & 0.632353 & 0.23753 & 0.168919 \\\\\n",
       "\\end{tabular}\n"
      ],
      "text/plain": [
       "\u001b[1m5×3 DataFrame\u001b[0m\n",
       "\u001b[1m Row \u001b[0m│\u001b[1m implied_probability_of_home_win \u001b[0m\u001b[1m implied_probability_of_draw \u001b[0m\u001b[1m implied_p\u001b[0m ⋯\n",
       "     │\u001b[90m Float64                         \u001b[0m\u001b[90m Float64                     \u001b[0m\u001b[90m Float64  \u001b[0m ⋯\n",
       "─────┼──────────────────────────────────────────────────────────────────────────\n",
       "   1 │                        0.64539                      0.253165            ⋯\n",
       "   2 │                        0.892819                     0.108578\n",
       "   3 │                        0.135501                     0.204918\n",
       "   4 │                        0.526066                     0.289855\n",
       "   5 │                        0.632353                     0.23753             ⋯\n",
       "\u001b[36m                                                                1 column omitted\u001b[0m"
      ]
     },
     "metadata": {},
     "output_type": "display_data"
    }
   ],
   "source": [
    "returns[1:5,6:8]"
   ]
  },
  {
   "cell_type": "code",
   "execution_count": 15,
   "metadata": {},
   "outputs": [],
   "source": [
    "returns_matrix = Matrix(returns[:,3:5]);\n",
    "# # matrix of probabilities for model's predictions\n",
    "# xgb_probs = Matrix(xgb_preds[:,3:5]);\n",
    "# rf_probs = Matrix(rf_preds[:,3:5]);\n",
    "# lgbm_probs = Matrix(lgbm_preds[:,3:5]);\n",
    "# logreg_probs = Matrix(logreg_preds[:,3:5]);\n",
    "new_xgb_probs = Matrix(new_xgb_preds[:,3:5]);\n",
    "implied_probs = Matrix(returns[:,6:8]);"
   ]
  },
  {
   "cell_type": "code",
   "execution_count": 7,
   "metadata": {},
   "outputs": [],
   "source": [
    "# check if each row of new_xgb_preds and returns are the same\n",
    "for i in 1:size(new_xgb_preds,1)\n",
    "    if new_xgb_preds[i,1] != returns[i,1] || new_xgb_preds[i,2] != returns[i,2]\n",
    "        println(\"not the same\")\n",
    "    end\n",
    "end\n"
   ]
  },
  {
   "cell_type": "code",
   "execution_count": 20,
   "metadata": {},
   "outputs": [
    {
     "data": {
      "text/plain": [
       "FIFA2022_GS_Bettings (generic function with 1 method)"
      ]
     },
     "metadata": {},
     "output_type": "display_data"
    }
   ],
   "source": [
    "function FIFA2022_GS_Bettings(P, R, B, K)\n",
    "    \n",
    "    # define model\n",
    "    model = Model(Gurobi.Optimizer)\n",
    "\n",
    "    # define parameters and decision variables\n",
    "    m = size(P, 1)              # 48 group stage matches\n",
    "    n = size(P, 2)              # 3 outcomes\n",
    "\n",
    "    @variable(model, x[i=1:m, j=1:n] >= 0) # x[i,j] is the amount of money bet on outcome j of match i\n",
    "    @variable(model, z[i=1:m, j=1:n], Bin) # z[i,j] is whether you bet on outcome j of match i\n",
    "\n",
    "    # define objective: maximising expected total returns across all matches\n",
    "    @objective(model, Max, sum(P[i,1]*R[i,1]*x[i,1] + \n",
    "                               P[i,2]*R[i,2]*x[i,2] + \n",
    "                               P[i,3]*R[i,3]*x[i,3] - \n",
    "                               sum(x[i,j] for j=1:n) for i=1:m))\n",
    "\n",
    "    # # constraints\n",
    "    # 1) You can only bet on one outcome for each match\n",
    "    @constraint(model, [i=1:m], sum(z[i,j] for j=1:n) <= 1)\n",
    "\n",
    "    # 2) x[i,j] <= B*z[i,j] for all i and j\n",
    "    @constraint(model, [i=1:m, j=1:n], x[i,j] <= B*z[i,j])\n",
    "    @constraint(model, [i=1:m, j=1:n], x[i,j] >= B/12*z[i,j])\n",
    "\n",
    "    # 3) Budget constraints\n",
    "    @constraint(model, sum(x[i,j] for j=1:n, i=1:m) <= B)\n",
    "\n",
    "    # 4) You must spread your risk across at least K matches\n",
    "    @constraint(model, sum(z[i,j] for j=1:n, i=1:m) >= K)\n",
    "\n",
    "    # 5) if z = 1, then x > 0\n",
    "    @constraint(model, [i=1:m, j=1:n], x[i,j] >= 1*z[i,j])\n",
    "\n",
    "    # solve model\n",
    "    optimize!(model)\n",
    "\n",
    "    # get optimal bet amounts (x) and how you bet (z)\n",
    "    opt_val = objective_value(model)\n",
    "    x_opt = value.(x)\n",
    "    z_opt = value.(z)\n",
    "\n",
    "    return opt_val, x_opt, z_opt\n",
    "end"
   ]
  },
  {
   "cell_type": "code",
   "execution_count": 21,
   "metadata": {},
   "outputs": [
    {
     "name": "stdout",
     "output_type": "stream",
     "text": [
      "Set parameter Username\r\n",
      "Academic license - for non-commercial use only - expires 2023-08-16\r\n",
      "Gurobi Optimizer version 9.5.2 build v9.5.2rc0 (win64)\r\n",
      "Thread count: 14 physical cores, 20 logical processors, using up to 20 threads\r\n",
      "Optimize a model with 482 rows, 288 columns and 1296 nonzeros\r\n",
      "Model fingerprint: 0xe11096c9\r\n",
      "Variable types: 144 continuous, 144 integer (144 binary)\r\n",
      "Coefficient statistics:\r\n",
      "  Matrix range     [1e+00, 5e+03]\r\n",
      "  Objective range  [4e-02, 9e-01]\r\n",
      "  Bounds range     [0e+00, 0e+00]\r\n",
      "  RHS range        [1e+00, 5e+03]\r\n",
      "Presolve removed 480 rows and 241 columns\r\n",
      "Presolve time: 0.00s\r\n",
      "Presolved: 2 rows, 47 columns, 94 nonzeros\r\n",
      "Variable types: 0 continuous, 47 integer (46 binary)\r\n",
      "Found heuristic solution: objective -134.4683006\r\n",
      "\r\n",
      "Root relaxation: objective -1.165249e+02, 1 iterations, 0.00 seconds (0.00 work units)\r\n",
      "\r\n",
      "    Nodes    |    Current Node    |     Objective Bounds      |     Work\r\n",
      " Expl Unexpl |  Obj  Depth IntInf | Incumbent    BestBd   Gap | It/Node Time\r\n",
      "\r\n",
      "*    0     0               0    -116.5249257 -116.52493  0.00%     -    0s\r\n",
      "\r\n",
      "Explored 1 nodes (1 simplex iterations) in 0.02 seconds (0.00 work units)\r\n",
      "Thread count was 20 (of 20 available processors)\r\n",
      "\r\n",
      "Solution count 2: -116.525 -134.468 \r\n",
      "No other solutions better than -116.525\r\n",
      "\r\n",
      "Optimal solution found (tolerance 1.00e-04)\r\n",
      "Best objective -1.165249257125e+02, best bound -1.165249257125e+02, gap 0.0000%\r\n",
      "\r\n",
      "User-callback calls 359, time in user-callback 0.00 sec\r\n"
     ]
    }
   ],
   "source": [
    "exp_prof, x_opt, z_opt = FIFA2022_GS_Bettings(implied_probs, returns_matrix, 5000, 5);"
   ]
  },
  {
   "cell_type": "code",
   "execution_count": 22,
   "metadata": {},
   "outputs": [
    {
     "data": {
      "text/plain": [
       "5-element Vector{CartesianIndex{2}}:\n",
       " CartesianIndex(11, 1)\n",
       " CartesianIndex(2, 3)\n",
       " CartesianIndex(19, 3)\n",
       " CartesianIndex(30, 3)\n",
       " CartesianIndex(40, 3)"
      ]
     },
     "metadata": {},
     "output_type": "display_data"
    }
   ],
   "source": [
    "# which matches to bet on\n",
    "betting_matches = findall(x -> x >= 1, z_opt)"
   ]
  },
  {
   "cell_type": "code",
   "execution_count": 23,
   "metadata": {},
   "outputs": [
    {
     "name": "stdout",
     "output_type": "stream",
     "text": [
      "Expected profit: -116.52492571250006\n"
     ]
    }
   ],
   "source": [
    "# print objective value\n",
    "println(\"Expected profit: \", exp_prof)"
   ]
  }
 ],
 "metadata": {
  "kernelspec": {
   "display_name": "Julia 1.8.2",
   "language": "julia",
   "name": "julia-1.8"
  },
  "language_info": {
   "file_extension": ".jl",
   "mimetype": "application/julia",
   "name": "julia",
   "version": "1.8.2"
  },
  "orig_nbformat": 4,
  "vscode": {
   "interpreter": {
    "hash": "aee8b7b246df8f9039afb4144a1f6fd8d2ca17a180786b69acc140d282b71a49"
   }
  }
 },
 "nbformat": 4,
 "nbformat_minor": 2
}

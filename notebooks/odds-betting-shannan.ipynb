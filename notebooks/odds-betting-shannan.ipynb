{
 "cells": [
  {
   "cell_type": "code",
   "execution_count": 3,
   "metadata": {},
   "outputs": [
    {
     "data": {
      "text/html": [
       "<div>\n",
       "<style scoped>\n",
       "    .dataframe tbody tr th:only-of-type {\n",
       "        vertical-align: middle;\n",
       "    }\n",
       "\n",
       "    .dataframe tbody tr th {\n",
       "        vertical-align: top;\n",
       "    }\n",
       "\n",
       "    .dataframe thead th {\n",
       "        text-align: right;\n",
       "    }\n",
       "</style>\n",
       "<table border=\"1\" class=\"dataframe\">\n",
       "  <thead>\n",
       "    <tr style=\"text-align: right;\">\n",
       "      <th></th>\n",
       "      <th>home_team</th>\n",
       "      <th>away_team</th>\n",
       "      <th>x1</th>\n",
       "      <th>0</th>\n",
       "      <th>1</th>\n",
       "      <th>expected_home_earnings</th>\n",
       "    </tr>\n",
       "  </thead>\n",
       "  <tbody>\n",
       "    <tr>\n",
       "      <th>12</th>\n",
       "      <td>Argentina</td>\n",
       "      <td>Saudi Arabia</td>\n",
       "      <td>1</td>\n",
       "      <td>0.370954</td>\n",
       "      <td>0.629046</td>\n",
       "      <td>62.904649</td>\n",
       "    </tr>\n",
       "    <tr>\n",
       "      <th>15</th>\n",
       "      <td>Argentina</td>\n",
       "      <td>Mexico</td>\n",
       "      <td>1</td>\n",
       "      <td>0.479024</td>\n",
       "      <td>0.520976</td>\n",
       "      <td>573.073086</td>\n",
       "    </tr>\n",
       "    <tr>\n",
       "      <th>22</th>\n",
       "      <td>Australia</td>\n",
       "      <td>Denmark</td>\n",
       "      <td>0</td>\n",
       "      <td>0.608758</td>\n",
       "      <td>0.391242</td>\n",
       "      <td>978.103866</td>\n",
       "    </tr>\n",
       "    <tr>\n",
       "      <th>31</th>\n",
       "      <td>Belgium</td>\n",
       "      <td>Canada</td>\n",
       "      <td>1</td>\n",
       "      <td>0.429842</td>\n",
       "      <td>0.570158</td>\n",
       "      <td>228.063275</td>\n",
       "    </tr>\n",
       "    <tr>\n",
       "      <th>32</th>\n",
       "      <td>Belgium</td>\n",
       "      <td>Morocco</td>\n",
       "      <td>1</td>\n",
       "      <td>0.488866</td>\n",
       "      <td>0.511134</td>\n",
       "      <td>230.010175</td>\n",
       "    </tr>\n",
       "  </tbody>\n",
       "</table>\n",
       "</div>"
      ],
      "text/plain": [
       "    home_team     away_team  x1         0         1  expected_home_earnings\n",
       "12  Argentina  Saudi Arabia   1  0.370954  0.629046               62.904649\n",
       "15  Argentina        Mexico   1  0.479024  0.520976              573.073086\n",
       "22  Australia       Denmark   0  0.608758  0.391242              978.103866\n",
       "31    Belgium        Canada   1  0.429842  0.570158              228.063275\n",
       "32    Belgium       Morocco   1  0.488866  0.511134              230.010175"
      ]
     },
     "execution_count": 3,
     "metadata": {},
     "output_type": "execute_result"
    }
   ],
   "source": [
    "import pandas as pd\n",
    "import numpy as np\n",
    "\n",
    "home_away_results = pd.read_csv('home_away_results.csv')\n",
    "betting_odds = pd.read_excel('group_stage_betting_odds.xlsx')\n",
    "\n",
    "## Read in home-away-results, account for odds\n",
    "home_away_results.head()\n",
    "# sort home_away_results by home_team\n",
    "home_away_results = home_away_results.sort_values(by=['home_team'])\n",
    "\n",
    "# sort betting_odds by betting team\n",
    "betting_odds = betting_odds.sort_values(by=['betting team'])\n",
    "home_away_results.head(2)\n",
    "betting_odds.head(2)\n",
    "home_away_results['expected_home_earnings'] = home_away_results['1'] * betting_odds['earnings_on_100']\n",
    "home_away_results.head()"
   ]
  },
  {
   "cell_type": "code",
   "execution_count": null,
   "metadata": {},
   "outputs": [],
   "source": []
  }
 ],
 "metadata": {
  "kernelspec": {
   "display_name": "Python 3.9.12 ('base')",
   "language": "python",
   "name": "python3"
  },
  "language_info": {
   "codemirror_mode": {
    "name": "ipython",
    "version": 3
   },
   "file_extension": ".py",
   "mimetype": "text/x-python",
   "name": "python",
   "nbconvert_exporter": "python",
   "pygments_lexer": "ipython3",
   "version": "3.9.12"
  },
  "orig_nbformat": 4,
  "vscode": {
   "interpreter": {
    "hash": "c575168961fc2b43d0095fd36529aa365e385babdbea041111506e999cf4a810"
   }
  }
 },
 "nbformat": 4,
 "nbformat_minor": 2
}

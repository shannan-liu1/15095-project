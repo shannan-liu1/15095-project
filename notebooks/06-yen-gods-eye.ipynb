{
 "cells": [
  {
   "cell_type": "code",
   "execution_count": 1,
   "metadata": {},
   "outputs": [],
   "source": [
    "using DataFrames, CSV, JuMP, Gurobi, LinearAlgebra, Random, Printf, StatsBase, CategoricalArrays, Plots, StatsPlots, Distributions"
   ]
  },
  {
   "cell_type": "code",
   "execution_count": 4,
   "metadata": {},
   "outputs": [],
   "source": [
    "# # add actual data here\n",
    "# xgb_preds = CSV.read(\"C:\\\\Users\\\\shann\\\\Documents\\\\GitHub\\\\15095-project\\\\notebooks\\\\xgb_cv_pred.csv\",DataFrame)\n",
    "# rf_preds = CSV.read(\"C:\\\\Users\\\\shann\\\\Documents\\\\GitHub\\\\15095-project\\\\notebooks\\\\rf_pred.csv\",DataFrame)\n",
    "# lgbm_preds = CSV.read(\"C:\\\\Users\\\\shann\\\\Documents\\\\GitHub\\\\15095-project\\\\notebooks\\\\lgbm_cv_pred.csv\",DataFrame);\n",
    "# logreg_preds = CSV.read(\"C:\\\\Users\\\\shann\\\\Documents\\\\GitHub\\\\15095-project\\\\notebooks\\\\logreg_pred.csv\",DataFrame);\n",
    "# new_xgb_preds = CSV.read(\"C:\\\\Users\\\\shann\\\\Documents\\\\GitHub\\\\15095-project\\\\notebooks\\\\new_xgb_pred.csv\",DataFrame);\n",
    "# returns = CSV.read(\"C:\\\\Users\\\\shann\\\\Documents\\\\GitHub\\\\15095-project\\\\data\\\\group_stage_betting_odds_final_cleaned.csv\",DataFrame);\n",
    "\n",
    "# # add actual data here\n",
    "new_xgb_preds = CSV.read(\"/Users/yenhann/Documents/MIT/15.095 Machine Learning/15095-project/notebooks/new_xgb_pred.csv\",DataFrame);\n",
    "returns = CSV.read(\"/Users/yenhann/Documents/MIT/15.095 Machine Learning/15095-project/data/group_stage_betting_odds_final_cleaned.csv\",DataFrame);\n",
    "real_outcomes = CSV.read(\"/Users/yenhann/Documents/MIT/15.095 Machine Learning/15095-project/data/group_stage_mapped_outcomes.csv\",DataFrame);"
   ]
  },
  {
   "cell_type": "code",
   "execution_count": 3,
   "metadata": {},
   "outputs": [
    {
     "data": {
      "text/html": [
       "<div><div style = \"float: left;\"><span>48×8 DataFrame</span></div><div style = \"float: right;\"><span style = \"font-style: italic;\">23 rows omitted</span></div><div style = \"clear: both;\"></div></div><div class = \"data-frame\" style = \"overflow-x: scroll;\"><table class = \"data-frame\" style = \"margin-bottom: 6px;\"><thead><tr class = \"header\"><th class = \"rowNumber\" style = \"font-weight: bold; text-align: right;\">Row</th><th style = \"text-align: left;\">home_team</th><th style = \"text-align: left;\">away_team</th><th style = \"text-align: left;\">home_win_earnings_per_dollar</th><th style = \"text-align: left;\">draw_earnings_per_dollar</th><th style = \"text-align: left;\">away_win_earnings_per_dollar</th><th style = \"text-align: left;\">implied_probability_of_home_win</th><th style = \"text-align: left;\">implied_probability_of_draw</th><th style = \"text-align: left;\">implied_probability_of_away_win</th></tr><tr class = \"subheader headerLastRow\"><th class = \"rowNumber\" style = \"font-weight: bold; text-align: right;\"></th><th title = \"String15\" style = \"text-align: left;\">String15</th><th title = \"String15\" style = \"text-align: left;\">String15</th><th title = \"Float64\" style = \"text-align: left;\">Float64</th><th title = \"Float64\" style = \"text-align: left;\">Float64</th><th title = \"Float64\" style = \"text-align: left;\">Float64</th><th title = \"Float64\" style = \"text-align: left;\">Float64</th><th title = \"Float64\" style = \"text-align: left;\">Float64</th><th title = \"Float64\" style = \"text-align: left;\">Float64</th></tr></thead><tbody><tr><td class = \"rowNumber\" style = \"font-weight: bold; text-align: right;\">1</td><td style = \"text-align: left;\">Argentina</td><td style = \"text-align: left;\">Mexico</td><td style = \"text-align: right;\">0.549451</td><td style = \"text-align: right;\">2.95</td><td style = \"text-align: right;\">6.12</td><td style = \"text-align: right;\">0.64539</td><td style = \"text-align: right;\">0.338983</td><td style = \"text-align: right;\">0.163399</td></tr><tr><td class = \"rowNumber\" style = \"font-weight: bold; text-align: right;\">2</td><td style = \"text-align: left;\">Argentina</td><td style = \"text-align: left;\">Saudi Arabia</td><td style = \"text-align: right;\">0.120048</td><td style = \"text-align: right;\">8.21</td><td style = \"text-align: right;\">24.52</td><td style = \"text-align: right;\">0.892819</td><td style = \"text-align: right;\">0.121803</td><td style = \"text-align: right;\">0.040783</td></tr><tr><td class = \"rowNumber\" style = \"font-weight: bold; text-align: right;\">3</td><td style = \"text-align: left;\">Australia</td><td style = \"text-align: left;\">Denmark</td><td style = \"text-align: right;\">6.38</td><td style = \"text-align: right;\">3.88</td><td style = \"text-align: right;\">0.429185</td><td style = \"text-align: right;\">0.15674</td><td style = \"text-align: right;\">0.257732</td><td style = \"text-align: right;\">0.6997</td></tr><tr><td class = \"rowNumber\" style = \"font-weight: bold; text-align: right;\">4</td><td style = \"text-align: left;\">Belgium</td><td style = \"text-align: left;\">Canada</td><td style = \"text-align: right;\">0.900901</td><td style = \"text-align: right;\">2.45</td><td style = \"text-align: right;\">3.51</td><td style = \"text-align: right;\">0.526066</td><td style = \"text-align: right;\">0.408163</td><td style = \"text-align: right;\">0.2849</td></tr><tr><td class = \"rowNumber\" style = \"font-weight: bold; text-align: right;\">5</td><td style = \"text-align: left;\">Belgium</td><td style = \"text-align: left;\">Morocco</td><td style = \"text-align: right;\">0.581395</td><td style = \"text-align: right;\">3.21</td><td style = \"text-align: right;\">4.92</td><td style = \"text-align: right;\">0.632353</td><td style = \"text-align: right;\">0.311526</td><td style = \"text-align: right;\">0.203252</td></tr><tr><td class = \"rowNumber\" style = \"font-weight: bold; text-align: right;\">6</td><td style = \"text-align: left;\">Brazil</td><td style = \"text-align: left;\">Serbia</td><td style = \"text-align: right;\">0.5</td><td style = \"text-align: right;\">3.28</td><td style = \"text-align: right;\">6.6</td><td style = \"text-align: right;\">0.666667</td><td style = \"text-align: right;\">0.304878</td><td style = \"text-align: right;\">0.151515</td></tr><tr><td class = \"rowNumber\" style = \"font-weight: bold; text-align: right;\">7</td><td style = \"text-align: left;\">Brazil</td><td style = \"text-align: left;\">Switzerland</td><td style = \"text-align: right;\">0.469484</td><td style = \"text-align: right;\">3.57</td><td style = \"text-align: right;\">6.23</td><td style = \"text-align: right;\">0.680511</td><td style = \"text-align: right;\">0.280112</td><td style = \"text-align: right;\">0.160514</td></tr><tr><td class = \"rowNumber\" style = \"font-weight: bold; text-align: right;\">8</td><td style = \"text-align: left;\">Cameroon</td><td style = \"text-align: left;\">Brazil</td><td style = \"text-align: right;\">7.93</td><td style = \"text-align: right;\">4.32</td><td style = \"text-align: right;\">0.359712</td><td style = \"text-align: right;\">0.126103</td><td style = \"text-align: right;\">0.231481</td><td style = \"text-align: right;\">0.73545</td></tr><tr><td class = \"rowNumber\" style = \"font-weight: bold; text-align: right;\">9</td><td style = \"text-align: left;\">Cameroon</td><td style = \"text-align: left;\">Serbia</td><td style = \"text-align: right;\">4.3</td><td style = \"text-align: right;\">2.77</td><td style = \"text-align: right;\">0.70922</td><td style = \"text-align: right;\">0.232558</td><td style = \"text-align: right;\">0.361011</td><td style = \"text-align: right;\">0.585062</td></tr><tr><td class = \"rowNumber\" style = \"font-weight: bold; text-align: right;\">10</td><td style = \"text-align: left;\">Canada</td><td style = \"text-align: left;\">Morocco</td><td style = \"text-align: right;\">3.78</td><td style = \"text-align: right;\">2.49</td><td style = \"text-align: right;\">0.840336</td><td style = \"text-align: right;\">0.26455</td><td style = \"text-align: right;\">0.401606</td><td style = \"text-align: right;\">0.543379</td></tr><tr><td class = \"rowNumber\" style = \"font-weight: bold; text-align: right;\">11</td><td style = \"text-align: left;\">Costa Rica</td><td style = \"text-align: left;\">Germany</td><td style = \"text-align: right;\">22.79</td><td style = \"text-align: right;\">10.17</td><td style = \"text-align: right;\">0.1</td><td style = \"text-align: right;\">0.0438789</td><td style = \"text-align: right;\">0.0983284</td><td style = \"text-align: right;\">0.909091</td></tr><tr><td class = \"rowNumber\" style = \"font-weight: bold; text-align: right;\">12</td><td style = \"text-align: left;\">Croatia</td><td style = \"text-align: left;\">Belgium</td><td style = \"text-align: right;\">2.02</td><td style = \"text-align: right;\">2.41</td><td style = \"text-align: right;\">1.44</td><td style = \"text-align: right;\">0.49505</td><td style = \"text-align: right;\">0.414938</td><td style = \"text-align: right;\">0.694444</td></tr><tr><td class = \"rowNumber\" style = \"font-weight: bold; text-align: right;\">13</td><td style = \"text-align: left;\">Croatia</td><td style = \"text-align: left;\">Canada</td><td style = \"text-align: right;\">1.23</td><td style = \"text-align: right;\">2.27</td><td style = \"text-align: right;\">2.54</td><td style = \"text-align: right;\">0.813008</td><td style = \"text-align: right;\">0.440529</td><td style = \"text-align: right;\">0.393701</td></tr><tr><td style = \"text-align: right;\">&vellip;</td><td style = \"text-align: right;\">&vellip;</td><td style = \"text-align: right;\">&vellip;</td><td style = \"text-align: right;\">&vellip;</td><td style = \"text-align: right;\">&vellip;</td><td style = \"text-align: right;\">&vellip;</td><td style = \"text-align: right;\">&vellip;</td><td style = \"text-align: right;\">&vellip;</td><td style = \"text-align: right;\">&vellip;</td></tr><tr><td class = \"rowNumber\" style = \"font-weight: bold; text-align: right;\">37</td><td style = \"text-align: left;\">Saudi Arabia</td><td style = \"text-align: left;\">Mexico</td><td style = \"text-align: right;\">4.34</td><td style = \"text-align: right;\">3.28</td><td style = \"text-align: right;\">0.621118</td><td style = \"text-align: right;\">0.230415</td><td style = \"text-align: right;\">0.304878</td><td style = \"text-align: right;\">0.616858</td></tr><tr><td class = \"rowNumber\" style = \"font-weight: bold; text-align: right;\">38</td><td style = \"text-align: left;\">Senegal</td><td style = \"text-align: left;\">Netherlands</td><td style = \"text-align: right;\">5.09</td><td style = \"text-align: right;\">2.67</td><td style = \"text-align: right;\">0.657895</td><td style = \"text-align: right;\">0.196464</td><td style = \"text-align: right;\">0.374532</td><td style = \"text-align: right;\">0.603175</td></tr><tr><td class = \"rowNumber\" style = \"font-weight: bold; text-align: right;\">39</td><td style = \"text-align: left;\">Serbia</td><td style = \"text-align: left;\">Switzerland</td><td style = \"text-align: right;\">1.58</td><td style = \"text-align: right;\">2.36</td><td style = \"text-align: right;\">1.85</td><td style = \"text-align: right;\">0.632911</td><td style = \"text-align: right;\">0.423729</td><td style = \"text-align: right;\">0.540541</td></tr><tr><td class = \"rowNumber\" style = \"font-weight: bold; text-align: right;\">40</td><td style = \"text-align: left;\">Spain</td><td style = \"text-align: left;\">Costa Rica</td><td style = \"text-align: right;\">0.16</td><td style = \"text-align: right;\">7.42</td><td style = \"text-align: right;\">16.43</td><td style = \"text-align: right;\">0.862069</td><td style = \"text-align: right;\">0.134771</td><td style = \"text-align: right;\">0.0608643</td></tr><tr><td class = \"rowNumber\" style = \"font-weight: bold; text-align: right;\">41</td><td style = \"text-align: left;\">Spain</td><td style = \"text-align: left;\">Germany</td><td style = \"text-align: right;\">1.54</td><td style = \"text-align: right;\">2.42</td><td style = \"text-align: right;\">1.84</td><td style = \"text-align: right;\">0.649351</td><td style = \"text-align: right;\">0.413223</td><td style = \"text-align: right;\">0.543478</td></tr><tr><td class = \"rowNumber\" style = \"font-weight: bold; text-align: right;\">42</td><td style = \"text-align: left;\">Switzerland</td><td style = \"text-align: left;\">Cameroon</td><td style = \"text-align: right;\">0.813008</td><td style = \"text-align: right;\">2.45</td><td style = \"text-align: right;\">4.01</td><td style = \"text-align: right;\">0.55157</td><td style = \"text-align: right;\">0.408163</td><td style = \"text-align: right;\">0.249377</td></tr><tr><td class = \"rowNumber\" style = \"font-weight: bold; text-align: right;\">43</td><td style = \"text-align: left;\">Tunisia</td><td style = \"text-align: left;\">Australia</td><td style = \"text-align: right;\">1.21</td><td style = \"text-align: right;\">2.31</td><td style = \"text-align: right;\">2.52</td><td style = \"text-align: right;\">0.616858</td><td style = \"text-align: right;\">0.342466</td><td style = \"text-align: right;\">0.199601</td></tr><tr><td class = \"rowNumber\" style = \"font-weight: bold; text-align: right;\">44</td><td style = \"text-align: left;\">Tunisia</td><td style = \"text-align: left;\">France</td><td style = \"text-align: right;\">5.01</td><td style = \"text-align: right;\">2.92</td><td style = \"text-align: right;\">0.621118</td><td style = \"text-align: right;\">0.396825</td><td style = \"text-align: right;\">0.4329</td><td style = \"text-align: right;\">0.826446</td></tr><tr><td class = \"rowNumber\" style = \"font-weight: bold; text-align: right;\">45</td><td style = \"text-align: left;\">USA</td><td style = \"text-align: left;\">Wales</td><td style = \"text-align: right;\">1.47</td><td style = \"text-align: right;\">2.09</td><td style = \"text-align: right;\">2.22</td><td style = \"text-align: right;\">0.680272</td><td style = \"text-align: right;\">0.478469</td><td style = \"text-align: right;\">0.45045</td></tr><tr><td class = \"rowNumber\" style = \"font-weight: bold; text-align: right;\">46</td><td style = \"text-align: left;\">Uruguay</td><td style = \"text-align: left;\">Korea Republic</td><td style = \"text-align: right;\">0.78125</td><td style = \"text-align: right;\">2.54</td><td style = \"text-align: right;\">4.09</td><td style = \"text-align: right;\">0.561404</td><td style = \"text-align: right;\">0.393701</td><td style = \"text-align: right;\">0.244499</td></tr><tr><td class = \"rowNumber\" style = \"font-weight: bold; text-align: right;\">47</td><td style = \"text-align: left;\">Wales</td><td style = \"text-align: left;\">England</td><td style = \"text-align: right;\">7.81</td><td style = \"text-align: right;\">3.45</td><td style = \"text-align: right;\">0.429185</td><td style = \"text-align: right;\">0.128041</td><td style = \"text-align: right;\">0.289855</td><td style = \"text-align: right;\">0.6997</td></tr><tr><td class = \"rowNumber\" style = \"font-weight: bold; text-align: right;\">48</td><td style = \"text-align: left;\">Wales</td><td style = \"text-align: left;\">Iran</td><td style = \"text-align: right;\">1.14</td><td style = \"text-align: right;\">2.18</td><td style = \"text-align: right;\">2.87</td><td style = \"text-align: right;\">0.877193</td><td style = \"text-align: right;\">0.458716</td><td style = \"text-align: right;\">0.348432</td></tr></tbody></table></div>"
      ],
      "text/latex": [
       "\\begin{tabular}{r|ccccc}\n",
       "\t& home\\_team & away\\_team & home\\_win\\_earnings\\_per\\_dollar & draw\\_earnings\\_per\\_dollar & \\\\\n",
       "\t\\hline\n",
       "\t& String15 & String15 & Float64 & Float64 & \\\\\n",
       "\t\\hline\n",
       "\t1 & Argentina & Mexico & 0.549451 & 2.95 & $\\dots$ \\\\\n",
       "\t2 & Argentina & Saudi Arabia & 0.120048 & 8.21 & $\\dots$ \\\\\n",
       "\t3 & Australia & Denmark & 6.38 & 3.88 & $\\dots$ \\\\\n",
       "\t4 & Belgium & Canada & 0.900901 & 2.45 & $\\dots$ \\\\\n",
       "\t5 & Belgium & Morocco & 0.581395 & 3.21 & $\\dots$ \\\\\n",
       "\t6 & Brazil & Serbia & 0.5 & 3.28 & $\\dots$ \\\\\n",
       "\t7 & Brazil & Switzerland & 0.469484 & 3.57 & $\\dots$ \\\\\n",
       "\t8 & Cameroon & Brazil & 7.93 & 4.32 & $\\dots$ \\\\\n",
       "\t9 & Cameroon & Serbia & 4.3 & 2.77 & $\\dots$ \\\\\n",
       "\t10 & Canada & Morocco & 3.78 & 2.49 & $\\dots$ \\\\\n",
       "\t11 & Costa Rica & Germany & 22.79 & 10.17 & $\\dots$ \\\\\n",
       "\t12 & Croatia & Belgium & 2.02 & 2.41 & $\\dots$ \\\\\n",
       "\t13 & Croatia & Canada & 1.23 & 2.27 & $\\dots$ \\\\\n",
       "\t14 & Denmark & Tunisia & 0.581395 & 2.92 & $\\dots$ \\\\\n",
       "\t15 & Ecuador & Senegal & 1.48 & 2.23 & $\\dots$ \\\\\n",
       "\t16 & England & Iran & 0.480769 & 3.26 & $\\dots$ \\\\\n",
       "\t17 & England & USA & 0.380228 & 3.65 & $\\dots$ \\\\\n",
       "\t18 & France & Australia & 0.819672 & 2.6 & $\\dots$ \\\\\n",
       "\t19 & France & Denmark & 0.21978 & 5.8 & $\\dots$ \\\\\n",
       "\t20 & Germany & Japan & 0.45045 & 3.84 & $\\dots$ \\\\\n",
       "\t21 & Ghana & Uruguay & 3.49 & 2.82 & $\\dots$ \\\\\n",
       "\t22 & Iran & USA & 3.18 & 2.49 & $\\dots$ \\\\\n",
       "\t23 & Japan & Costa Rica & 0.490196 & 3.32 & $\\dots$ \\\\\n",
       "\t24 & Japan & Spain & 6.04 & 3.49 & $\\dots$ \\\\\n",
       "\t25 & Korea Republic & Ghana & 1.75 & 2.13 & $\\dots$ \\\\\n",
       "\t26 & Korea Republic & Portugal & 3.26 & 2.84 & $\\dots$ \\\\\n",
       "\t27 & Mexico & Poland & 1.5 & 2.13 & $\\dots$ \\\\\n",
       "\t28 & Morocco & Croatia & 2.57 & 2.27 & $\\dots$ \\\\\n",
       "\t29 & Netherlands & Ecuador & 0.833333 & 2.44 & $\\dots$ \\\\\n",
       "\t30 & Netherlands & Qatar & 0.210084 & 6.0 & $\\dots$ \\\\\n",
       "\t$\\dots$ & $\\dots$ & $\\dots$ & $\\dots$ & $\\dots$ &  \\\\\n",
       "\\end{tabular}\n"
      ],
      "text/plain": [
       "\u001b[1m48×8 DataFrame\n",
       "\u001b[1m Row │\u001b[1m home_team    \u001b[1m away_team      \u001b[1m home_win_earnings_per_dollar \u001b[1m draw_earnin ⋯\n",
       "     │\u001b[90m String15     \u001b[90m String15       \u001b[90m Float64                      \u001b[90m Float64     ⋯\n",
       "─────┼──────────────────────────────────────────────────────────────────────────\n",
       "   1 │ Argentina     Mexico                              0.549451              ⋯\n",
       "   2 │ Argentina     Saudi Arabia                        0.120048\n",
       "   3 │ Australia     Denmark                             6.38\n",
       "   4 │ Belgium       Canada                              0.900901\n",
       "   5 │ Belgium       Morocco                             0.581395              ⋯\n",
       "   6 │ Brazil        Serbia                              0.5\n",
       "   7 │ Brazil        Switzerland                         0.469484\n",
       "   8 │ Cameroon      Brazil                              7.93\n",
       "   9 │ Cameroon      Serbia                              4.3                   ⋯\n",
       "  10 │ Canada        Morocco                             3.78\n",
       "  11 │ Costa Rica    Germany                            22.79\n",
       "  ⋮  │      ⋮              ⋮                      ⋮                            ⋱\n",
       "  39 │ Serbia        Switzerland                         1.58\n",
       "  40 │ Spain         Costa Rica                          0.16                  ⋯\n",
       "  41 │ Spain         Germany                             1.54\n",
       "  42 │ Switzerland   Cameroon                            0.813008\n",
       "  43 │ Tunisia       Australia                           1.21\n",
       "  44 │ Tunisia       France                              5.01                  ⋯\n",
       "  45 │ USA           Wales                               1.47\n",
       "  46 │ Uruguay       Korea Republic                      0.78125\n",
       "  47 │ Wales         England                             7.81\n",
       "  48 │ Wales         Iran                                1.14                  ⋯\n",
       "\u001b[36m                                                   5 columns and 27 rows omitted"
      ]
     },
     "execution_count": 3,
     "metadata": {},
     "output_type": "execute_result"
    }
   ],
   "source": [
    "# returns\n",
    "returns"
   ]
  },
  {
   "cell_type": "code",
   "execution_count": 7,
   "metadata": {},
   "outputs": [],
   "source": [
    "# for each row in real_outcomes, if :Mapped_Outcomes = 1, then save value of home_win_earnings_per_dollar from returns\n",
    "# if :Mapped_Outcomes = 2, then save value of draw_earnings_per_dollar from returns\n",
    "# if :Mapped_Outcomes = 3, then save value of away_win_earnings_per_dollar from returns\n",
    "real_earnings_per_dollar = zeros(size(real_outcomes,1),2)\n",
    "\n",
    "for i in 1:size(real_outcomes,1)\n",
    "    if real_outcomes[i,:Mapped_Outcomes] == 1\n",
    "        real_earnings_per_dollar[i,1] = 1\n",
    "        real_earnings_per_dollar[i,2] = returns[i,:home_win_earnings_per_dollar]\n",
    "    elseif real_outcomes[i,:Mapped_Outcomes] == 2\n",
    "        real_earnings_per_dollar[i,1] = 2\n",
    "        real_earnings_per_dollar[i,2] = returns[i,:draw_earnings_per_dollar]\n",
    "    elseif real_outcomes[i,:Mapped_Outcomes] == 3\n",
    "        real_earnings_per_dollar[i,1] = 3\n",
    "        real_earnings_per_dollar[i,2] = returns[i,:away_win_earnings_per_dollar]\n",
    "    end\n",
    "end"
   ]
  },
  {
   "cell_type": "code",
   "execution_count": 24,
   "metadata": {},
   "outputs": [
    {
     "data": {
      "text/plain": [
       "FIFA2022_GS_Bettings_GodsEye (generic function with 1 method)"
      ]
     },
     "execution_count": 24,
     "metadata": {},
     "output_type": "execute_result"
    }
   ],
   "source": [
    "function FIFA2022_GS_Bettings_GodsEye(R, B, K)\n",
    "    \n",
    "    # define model\n",
    "    model = Model(Gurobi.Optimizer)\n",
    "\n",
    "    # define parameters and decision variables\n",
    "    m = 48             # 48 group stage matches\n",
    "\n",
    "    @variable(model, x[i=1:m] >= 0)     # x[i] is the amount of money bet on match knowing its outcome\n",
    "    @variable(model, z[i=1:m], Bin)     # z[i] is whether you choose to bet on match i or not\n",
    "\n",
    "    # define objective: maximising expected total returns across all matches\n",
    "    @objective(model, Max, sum(x[i]*R[i] for i=1:m))\n",
    "\n",
    "    # # constraints\n",
    "    # 1) x[i] <= B*z[i] for all i\n",
    "    @constraint(model, [i=1:m], x[i] <= (B/12)*z[i])\n",
    "\n",
    "    # 2) Budget constraints\n",
    "    @constraint(model, sum(x[i] for i=1:m) <= B)\n",
    "\n",
    "    # 3) Must bet on at least K matches\n",
    "    @constraint(model, sum(z[i] for i=1:m) >= K)\n",
    "\n",
    "    # 4) if z = 1, then x > 0\n",
    "    @constraint(model, [i=1:m], x[i] >= 1*z[i])\n",
    "\n",
    "    # solve model\n",
    "    optimize!(model)\n",
    "\n",
    "    # get optimal bet amounts (x) and how you bet (z)\n",
    "    opt_val = objective_value(model)\n",
    "    x_opt = value.(x)\n",
    "    z_opt = value.(z)\n",
    "\n",
    "    return opt_val, x_opt, z_opt\n",
    "end"
   ]
  },
  {
   "cell_type": "code",
   "execution_count": 25,
   "metadata": {},
   "outputs": [
    {
     "name": "stdout",
     "output_type": "stream",
     "text": [
      "Set parameter Username\n",
      "Academic license - for non-commercial use only - expires 2023-08-19\n",
      "Gurobi Optimizer version 9.5.2 build v9.5.2rc0 (mac64[x86])\n",
      "Thread count: 4 physical cores, 8 logical processors, using up to 8 threads\n",
      "Optimize a model with 98 rows, 96 columns and 288 nonzeros\n",
      "Model fingerprint: 0x47ce8bf8\n",
      "Variable types: 48 continuous, 48 integer (48 binary)\n",
      "Coefficient statistics:\n",
      "  Matrix range     [1e+00, 4e+02]\n",
      "  Objective range  [1e-01, 2e+01]\n",
      "  Bounds range     [0e+00, 0e+00]\n",
      "  RHS range        [5e+00, 5e+03]\n",
      "Found heuristic solution: objective 4391.6101058\n",
      "Presolve time: 0.00s\n",
      "Presolved: 98 rows, 96 columns, 288 nonzeros\n",
      "Variable types: 48 continuous, 48 integer (48 binary)\n",
      "\n",
      "Root relaxation: objective 3.343750e+04, 18 iterations, 0.00 seconds (0.00 work units)\n",
      "\n",
      "    Nodes    |    Current Node    |     Objective Bounds      |     Work\n",
      " Expl Unexpl |  Obj  Depth IntInf | Incumbent    BestBd   Gap | It/Node Time\n",
      "\n",
      "*    0     0               0    33437.500000 33437.5000  0.00%     -    0s\n",
      "\n",
      "Explored 1 nodes (18 simplex iterations) in 0.00 seconds (0.00 work units)\n",
      "Thread count was 8 (of 8 available processors)\n",
      "\n",
      "Solution count 2: 33437.5 4391.61 \n",
      "\n",
      "Optimal solution found (tolerance 1.00e-04)\n",
      "Best objective 3.343750000000e+04, best bound 3.343750000000e+04, gap 0.0000%\n",
      "\n",
      "User-callback calls 157, time in user-callback 0.00 sec\n"
     ]
    }
   ],
   "source": [
    "exp_rev, x_opt, z_opt = FIFA2022_GS_Bettings_GodsEye(real_earnings_per_dollar[:,2], 5000, 5);"
   ]
  },
  {
   "cell_type": "code",
   "execution_count": 26,
   "metadata": {},
   "outputs": [
    {
     "name": "stdout",
     "output_type": "stream",
     "text": [
      "Expected profit: 28437.5\n"
     ]
    }
   ],
   "source": [
    "# print the expected profit\n",
    "println(\"Expected profit: \", exp_rev-sum(x_opt))"
   ]
  },
  {
   "cell_type": "code",
   "execution_count": 34,
   "metadata": {},
   "outputs": [
    {
     "data": {
      "text/html": [
       "<div><div style = \"float: left;\"><span>12×6 DataFrame</span></div><div style = \"clear: both;\"></div></div><div class = \"data-frame\" style = \"overflow-x: scroll;\"><table class = \"data-frame\" style = \"margin-bottom: 6px;\"><thead><tr class = \"header\"><th class = \"rowNumber\" style = \"font-weight: bold; text-align: right;\">Row</th><th style = \"text-align: left;\">home_team</th><th style = \"text-align: left;\">away_team</th><th style = \"text-align: left;\">home_win_earnings_per_dollar</th><th style = \"text-align: left;\">draw_earnings_per_dollar</th><th style = \"text-align: left;\">away_win_earnings_per_dollar</th><th style = \"text-align: left;\">betting_earnings</th></tr><tr class = \"subheader headerLastRow\"><th class = \"rowNumber\" style = \"font-weight: bold; text-align: right;\"></th><th title = \"String15\" style = \"text-align: left;\">String15</th><th title = \"String15\" style = \"text-align: left;\">String15</th><th title = \"Float64\" style = \"text-align: left;\">Float64</th><th title = \"Float64\" style = \"text-align: left;\">Float64</th><th title = \"Float64\" style = \"text-align: left;\">Float64</th><th title = \"Float64\" style = \"text-align: left;\">Float64</th></tr></thead><tbody><tr><td class = \"rowNumber\" style = \"font-weight: bold; text-align: right;\">1</td><td style = \"text-align: left;\">Argentina</td><td style = \"text-align: left;\">Saudi Arabia</td><td style = \"text-align: right;\">0.120048</td><td style = \"text-align: right;\">8.21</td><td style = \"text-align: right;\">24.52</td><td style = \"text-align: right;\">10216.7</td></tr><tr><td class = \"rowNumber\" style = \"font-weight: bold; text-align: right;\">2</td><td style = \"text-align: left;\">Australia</td><td style = \"text-align: left;\">Denmark</td><td style = \"text-align: right;\">6.38</td><td style = \"text-align: right;\">3.88</td><td style = \"text-align: right;\">0.429185</td><td style = \"text-align: right;\">2658.33</td></tr><tr><td class = \"rowNumber\" style = \"font-weight: bold; text-align: right;\">3</td><td style = \"text-align: left;\">Belgium</td><td style = \"text-align: left;\">Morocco</td><td style = \"text-align: right;\">0.581395</td><td style = \"text-align: right;\">3.21</td><td style = \"text-align: right;\">4.92</td><td style = \"text-align: right;\">2050.0</td></tr><tr><td class = \"rowNumber\" style = \"font-weight: bold; text-align: right;\">4</td><td style = \"text-align: left;\">Cameroon</td><td style = \"text-align: left;\">Brazil</td><td style = \"text-align: right;\">7.93</td><td style = \"text-align: right;\">4.32</td><td style = \"text-align: right;\">0.359712</td><td style = \"text-align: right;\">3304.17</td></tr><tr><td class = \"rowNumber\" style = \"font-weight: bold; text-align: right;\">5</td><td style = \"text-align: left;\">Denmark</td><td style = \"text-align: left;\">Tunisia</td><td style = \"text-align: right;\">0.581395</td><td style = \"text-align: right;\">2.92</td><td style = \"text-align: right;\">5.57</td><td style = \"text-align: right;\">1216.67</td></tr><tr><td class = \"rowNumber\" style = \"font-weight: bold; text-align: right;\">6</td><td style = \"text-align: left;\">England</td><td style = \"text-align: left;\">USA</td><td style = \"text-align: right;\">0.380228</td><td style = \"text-align: right;\">3.65</td><td style = \"text-align: right;\">9.19</td><td style = \"text-align: right;\">1520.83</td></tr><tr><td class = \"rowNumber\" style = \"font-weight: bold; text-align: right;\">7</td><td style = \"text-align: left;\">Germany</td><td style = \"text-align: left;\">Japan</td><td style = \"text-align: right;\">0.45045</td><td style = \"text-align: right;\">3.84</td><td style = \"text-align: right;\">6.28</td><td style = \"text-align: right;\">2616.67</td></tr><tr><td class = \"rowNumber\" style = \"font-weight: bold; text-align: right;\">8</td><td style = \"text-align: left;\">Japan</td><td style = \"text-align: left;\">Costa Rica</td><td style = \"text-align: right;\">0.490196</td><td style = \"text-align: right;\">3.32</td><td style = \"text-align: right;\">6.47</td><td style = \"text-align: right;\">2695.83</td></tr><tr><td class = \"rowNumber\" style = \"font-weight: bold; text-align: right;\">9</td><td style = \"text-align: left;\">Japan</td><td style = \"text-align: left;\">Spain</td><td style = \"text-align: right;\">6.04</td><td style = \"text-align: right;\">3.49</td><td style = \"text-align: right;\">0.490196</td><td style = \"text-align: right;\">2516.67</td></tr><tr><td class = \"rowNumber\" style = \"font-weight: bold; text-align: right;\">10</td><td style = \"text-align: left;\">Korea Republic</td><td style = \"text-align: left;\">Portugal</td><td style = \"text-align: right;\">3.26</td><td style = \"text-align: right;\">2.84</td><td style = \"text-align: right;\">0.847458</td><td style = \"text-align: right;\">1358.33</td></tr><tr><td class = \"rowNumber\" style = \"font-weight: bold; text-align: right;\">11</td><td style = \"text-align: left;\">Tunisia</td><td style = \"text-align: left;\">France</td><td style = \"text-align: right;\">5.01</td><td style = \"text-align: right;\">2.92</td><td style = \"text-align: right;\">0.621118</td><td style = \"text-align: right;\">2087.5</td></tr><tr><td class = \"rowNumber\" style = \"font-weight: bold; text-align: right;\">12</td><td style = \"text-align: left;\">Wales</td><td style = \"text-align: left;\">Iran</td><td style = \"text-align: right;\">1.14</td><td style = \"text-align: right;\">2.18</td><td style = \"text-align: right;\">2.87</td><td style = \"text-align: right;\">1195.83</td></tr></tbody></table></div>"
      ],
      "text/latex": [
       "\\begin{tabular}{r|ccccc}\n",
       "\t& home\\_team & away\\_team & home\\_win\\_earnings\\_per\\_dollar & draw\\_earnings\\_per\\_dollar & \\\\\n",
       "\t\\hline\n",
       "\t& String15 & String15 & Float64 & Float64 & \\\\\n",
       "\t\\hline\n",
       "\t1 & Argentina & Saudi Arabia & 0.120048 & 8.21 & $\\dots$ \\\\\n",
       "\t2 & Australia & Denmark & 6.38 & 3.88 & $\\dots$ \\\\\n",
       "\t3 & Belgium & Morocco & 0.581395 & 3.21 & $\\dots$ \\\\\n",
       "\t4 & Cameroon & Brazil & 7.93 & 4.32 & $\\dots$ \\\\\n",
       "\t5 & Denmark & Tunisia & 0.581395 & 2.92 & $\\dots$ \\\\\n",
       "\t6 & England & USA & 0.380228 & 3.65 & $\\dots$ \\\\\n",
       "\t7 & Germany & Japan & 0.45045 & 3.84 & $\\dots$ \\\\\n",
       "\t8 & Japan & Costa Rica & 0.490196 & 3.32 & $\\dots$ \\\\\n",
       "\t9 & Japan & Spain & 6.04 & 3.49 & $\\dots$ \\\\\n",
       "\t10 & Korea Republic & Portugal & 3.26 & 2.84 & $\\dots$ \\\\\n",
       "\t11 & Tunisia & France & 5.01 & 2.92 & $\\dots$ \\\\\n",
       "\t12 & Wales & Iran & 1.14 & 2.18 & $\\dots$ \\\\\n",
       "\\end{tabular}\n"
      ],
      "text/plain": [
       "\u001b[1m12×6 DataFrame\n",
       "\u001b[1m Row │\u001b[1m home_team      \u001b[1m away_team    \u001b[1m home_win_earnings_per_dollar \u001b[1m draw_earnin ⋯\n",
       "     │\u001b[90m String15       \u001b[90m String15     \u001b[90m Float64                      \u001b[90m Float64     ⋯\n",
       "─────┼──────────────────────────────────────────────────────────────────────────\n",
       "   1 │ Argentina       Saudi Arabia                      0.120048              ⋯\n",
       "   2 │ Australia       Denmark                           6.38\n",
       "   3 │ Belgium         Morocco                           0.581395\n",
       "   4 │ Cameroon        Brazil                            7.93\n",
       "   5 │ Denmark         Tunisia                           0.581395              ⋯\n",
       "   6 │ England         USA                               0.380228\n",
       "   7 │ Germany         Japan                             0.45045\n",
       "   8 │ Japan           Costa Rica                        0.490196\n",
       "   9 │ Japan           Spain                             6.04                  ⋯\n",
       "  10 │ Korea Republic  Portugal                          3.26\n",
       "  11 │ Tunisia         France                            5.01\n",
       "  12 │ Wales           Iran                              1.14\n",
       "\u001b[36m                                                               3 columns omitted"
      ]
     },
     "execution_count": 34,
     "metadata": {},
     "output_type": "execute_result"
    }
   ],
   "source": [
    "# get indices where z_opt = 1\n",
    "betting_indices = findall(x -> x == 1, z_opt)\n",
    "\n",
    "# output rows of returns corresponding to betting_indices\n",
    "betting_returns = returns[betting_indices,:]\n",
    "\n",
    "# per match earnings\n",
    "per_match_earnings = zeros(length(x_opt))\n",
    "\n",
    "for i = 1:length(x_opt)\n",
    "    per_match_earnings[i] = x_opt[i]*real_earnings_per_dollar[i,2]\n",
    "end\n",
    "\n",
    "# take the betting indices and get the corresponding per_match_earnings\n",
    "betting_earnings = per_match_earnings[betting_indices]\n",
    "\n",
    "# append betting_earnings to betting_returns\n",
    "betting_returns[!,:betting_earnings] = betting_earnings\n",
    "\n",
    "# THE ARGENTINA V. SAUDI ARABIA CASH COW\n",
    "betting_returns[!,[1,2,3,4,5,9]]"
   ]
  },
  {
   "cell_type": "code",
   "execution_count": null,
   "metadata": {},
   "outputs": [],
   "source": []
  }
 ],
 "metadata": {
  "kernelspec": {
   "display_name": "Julia 1.8.1",
   "language": "julia",
   "name": "julia-1.8"
  },
  "language_info": {
   "file_extension": ".jl",
   "mimetype": "application/julia",
   "name": "julia",
   "version": "1.8.1"
  },
  "orig_nbformat": 4
 },
 "nbformat": 4,
 "nbformat_minor": 2
}

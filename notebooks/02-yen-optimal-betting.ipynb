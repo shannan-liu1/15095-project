{
 "cells": [
  {
   "cell_type": "code",
   "execution_count": 4,
   "metadata": {},
   "outputs": [],
   "source": [
    "using DataFrames, CSV, JuMP, Gurobi, LinearAlgebra, Random, Printf, StatsBase, CategoricalArrays, Plots, StatsPlots, Distributions, CSV"
   ]
  },
  {
   "cell_type": "markdown",
   "metadata": {},
   "source": [
    "## ____________________________________________________________________"
   ]
  },
  {
   "cell_type": "markdown",
   "metadata": {},
   "source": [
    "## Import Datasets (Outputted Probabilities and Returns on $100 Bets)"
   ]
  },
  {
   "cell_type": "code",
   "execution_count": 30,
   "metadata": {},
   "outputs": [
    {
     "data": {
      "text/html": [
       "<div><div style = \"float: left;\"><span>48×14 DataFrame</span></div><div style = \"float: right;\"><span style = \"font-style: italic;\">23 rows omitted</span></div><div style = \"clear: both;\"></div></div><div class = \"data-frame\" style = \"overflow-x: scroll;\"><table class = \"data-frame\" style = \"margin-bottom: 6px;\"><thead><tr class = \"header\"><th class = \"rowNumber\" style = \"font-weight: bold; text-align: right;\">Row</th><th style = \"text-align: left;\">home_team</th><th style = \"text-align: left;\">away_team</th><th style = \"text-align: left;\">home_win_odds</th><th style = \"text-align: left;\">draw_odds</th><th style = \"text-align: left;\">away_win_odds</th><th style = \"text-align: left;\">decimal_odds_home_win</th><th style = \"text-align: left;\">decimal_odds_draw</th><th style = \"text-align: left;\">decimal_odds_away_win</th><th style = \"text-align: left;\">home_win_earnings_per_dollar</th><th style = \"text-align: left;\">draw_earnings_per_dollar</th><th style = \"text-align: left;\">away_win_earnings_per_dollar</th><th style = \"text-align: left;\">implied_probability_of_home_win</th><th style = \"text-align: left;\">implied_probability_of_draw</th><th style = \"text-align: left;\">implied_probability_of_away_win</th></tr><tr class = \"subheader headerLastRow\"><th class = \"rowNumber\" style = \"font-weight: bold; text-align: right;\"></th><th title = \"String15\" style = \"text-align: left;\">String15</th><th title = \"String15\" style = \"text-align: left;\">String15</th><th title = \"Int64\" style = \"text-align: left;\">Int64</th><th title = \"Int64\" style = \"text-align: left;\">Int64</th><th title = \"Int64\" style = \"text-align: left;\">Int64</th><th title = \"Float64\" style = \"text-align: left;\">Float64</th><th title = \"Float64\" style = \"text-align: left;\">Float64</th><th title = \"Float64\" style = \"text-align: left;\">Float64</th><th title = \"Float64\" style = \"text-align: left;\">Float64</th><th title = \"Float64\" style = \"text-align: left;\">Float64</th><th title = \"Float64\" style = \"text-align: left;\">Float64</th><th title = \"Float64\" style = \"text-align: left;\">Float64</th><th title = \"Float64\" style = \"text-align: left;\">Float64</th><th title = \"Float64\" style = \"text-align: left;\">Float64</th></tr></thead><tbody><tr><td class = \"rowNumber\" style = \"font-weight: bold; text-align: right;\">1</td><td style = \"text-align: left;\">Argentina</td><td style = \"text-align: left;\">Poland</td><td style = \"text-align: right;\">-227</td><td style = \"text-align: right;\">357</td><td style = \"text-align: right;\">719</td><td style = \"text-align: right;\">1.44053</td><td style = \"text-align: right;\">3.57</td><td style = \"text-align: right;\">7.19</td><td style = \"text-align: right;\">0.440529</td><td style = \"text-align: right;\">3.57</td><td style = \"text-align: right;\">719.0</td><td style = \"text-align: right;\">0.69419</td><td style = \"text-align: right;\">0.280112</td><td style = \"text-align: right;\">0.139082</td></tr><tr><td class = \"rowNumber\" style = \"font-weight: bold; text-align: right;\">2</td><td style = \"text-align: left;\">Argentina</td><td style = \"text-align: left;\">Mexico</td><td style = \"text-align: right;\">-182</td><td style = \"text-align: right;\">295</td><td style = \"text-align: right;\">612</td><td style = \"text-align: right;\">1.54945</td><td style = \"text-align: right;\">2.95</td><td style = \"text-align: right;\">6.12</td><td style = \"text-align: right;\">0.549451</td><td style = \"text-align: right;\">2.95</td><td style = \"text-align: right;\">612.0</td><td style = \"text-align: right;\">0.64539</td><td style = \"text-align: right;\">0.338983</td><td style = \"text-align: right;\">0.163399</td></tr><tr><td class = \"rowNumber\" style = \"font-weight: bold; text-align: right;\">3</td><td style = \"text-align: left;\">Argentina</td><td style = \"text-align: left;\">Saudi Arabia</td><td style = \"text-align: right;\">-833</td><td style = \"text-align: right;\">821</td><td style = \"text-align: right;\">2452</td><td style = \"text-align: right;\">1.12005</td><td style = \"text-align: right;\">8.21</td><td style = \"text-align: right;\">24.52</td><td style = \"text-align: right;\">0.120048</td><td style = \"text-align: right;\">8.21</td><td style = \"text-align: right;\">2452.0</td><td style = \"text-align: right;\">0.892819</td><td style = \"text-align: right;\">0.121803</td><td style = \"text-align: right;\">0.040783</td></tr><tr><td class = \"rowNumber\" style = \"font-weight: bold; text-align: right;\">4</td><td style = \"text-align: left;\">Belgium</td><td style = \"text-align: left;\">Croatia</td><td style = \"text-align: right;\">144</td><td style = \"text-align: right;\">241</td><td style = \"text-align: right;\">202</td><td style = \"text-align: right;\">1.44</td><td style = \"text-align: right;\">2.41</td><td style = \"text-align: right;\">2.02</td><td style = \"text-align: right;\">1.44</td><td style = \"text-align: right;\">2.41</td><td style = \"text-align: right;\">202.0</td><td style = \"text-align: right;\">0.694444</td><td style = \"text-align: right;\">0.414938</td><td style = \"text-align: right;\">0.49505</td></tr><tr><td class = \"rowNumber\" style = \"font-weight: bold; text-align: right;\">5</td><td style = \"text-align: left;\">Belgium</td><td style = \"text-align: left;\">Morocco</td><td style = \"text-align: right;\">-111</td><td style = \"text-align: right;\">245</td><td style = \"text-align: right;\">351</td><td style = \"text-align: right;\">1.9009</td><td style = \"text-align: right;\">2.45</td><td style = \"text-align: right;\">3.51</td><td style = \"text-align: right;\">0.900901</td><td style = \"text-align: right;\">2.45</td><td style = \"text-align: right;\">351.0</td><td style = \"text-align: right;\">0.526066</td><td style = \"text-align: right;\">0.408163</td><td style = \"text-align: right;\">0.2849</td></tr><tr><td class = \"rowNumber\" style = \"font-weight: bold; text-align: right;\">6</td><td style = \"text-align: left;\">Belgium</td><td style = \"text-align: left;\">Canada</td><td style = \"text-align: right;\">-172</td><td style = \"text-align: right;\">321</td><td style = \"text-align: right;\">492</td><td style = \"text-align: right;\">1.5814</td><td style = \"text-align: right;\">3.21</td><td style = \"text-align: right;\">4.92</td><td style = \"text-align: right;\">0.581395</td><td style = \"text-align: right;\">3.21</td><td style = \"text-align: right;\">492.0</td><td style = \"text-align: right;\">0.632353</td><td style = \"text-align: right;\">0.311526</td><td style = \"text-align: right;\">0.203252</td></tr><tr><td class = \"rowNumber\" style = \"font-weight: bold; text-align: right;\">7</td><td style = \"text-align: left;\">Brazil</td><td style = \"text-align: left;\">Switzerland</td><td style = \"text-align: right;\">-200</td><td style = \"text-align: right;\">328</td><td style = \"text-align: right;\">660</td><td style = \"text-align: right;\">1.5</td><td style = \"text-align: right;\">3.28</td><td style = \"text-align: right;\">6.6</td><td style = \"text-align: right;\">0.5</td><td style = \"text-align: right;\">3.28</td><td style = \"text-align: right;\">660.0</td><td style = \"text-align: right;\">0.666667</td><td style = \"text-align: right;\">0.304878</td><td style = \"text-align: right;\">0.151515</td></tr><tr><td class = \"rowNumber\" style = \"font-weight: bold; text-align: right;\">8</td><td style = \"text-align: left;\">Brazil</td><td style = \"text-align: left;\">Serbia</td><td style = \"text-align: right;\">-213</td><td style = \"text-align: right;\">357</td><td style = \"text-align: right;\">623</td><td style = \"text-align: right;\">1.46948</td><td style = \"text-align: right;\">3.57</td><td style = \"text-align: right;\">6.23</td><td style = \"text-align: right;\">0.469484</td><td style = \"text-align: right;\">3.57</td><td style = \"text-align: right;\">623.0</td><td style = \"text-align: right;\">0.680511</td><td style = \"text-align: right;\">0.280112</td><td style = \"text-align: right;\">0.160514</td></tr><tr><td class = \"rowNumber\" style = \"font-weight: bold; text-align: right;\">9</td><td style = \"text-align: left;\">Brazil</td><td style = \"text-align: left;\">Cameroon</td><td style = \"text-align: right;\">-278</td><td style = \"text-align: right;\">432</td><td style = \"text-align: right;\">793</td><td style = \"text-align: right;\">1.35971</td><td style = \"text-align: right;\">4.32</td><td style = \"text-align: right;\">7.93</td><td style = \"text-align: right;\">0.359712</td><td style = \"text-align: right;\">4.32</td><td style = \"text-align: right;\">793.0</td><td style = \"text-align: right;\">0.73545</td><td style = \"text-align: right;\">0.231481</td><td style = \"text-align: right;\">0.126103</td></tr><tr><td class = \"rowNumber\" style = \"font-weight: bold; text-align: right;\">10</td><td style = \"text-align: left;\">Canada</td><td style = \"text-align: left;\">Croatia</td><td style = \"text-align: right;\">254</td><td style = \"text-align: right;\">227</td><td style = \"text-align: right;\">123</td><td style = \"text-align: right;\">2.54</td><td style = \"text-align: right;\">2.27</td><td style = \"text-align: right;\">1.23</td><td style = \"text-align: right;\">2.54</td><td style = \"text-align: right;\">2.27</td><td style = \"text-align: right;\">123.0</td><td style = \"text-align: right;\">0.393701</td><td style = \"text-align: right;\">0.440529</td><td style = \"text-align: right;\">0.813008</td></tr><tr><td class = \"rowNumber\" style = \"font-weight: bold; text-align: right;\">11</td><td style = \"text-align: left;\">Canada</td><td style = \"text-align: left;\">Morocco</td><td style = \"text-align: right;\">378</td><td style = \"text-align: right;\">249</td><td style = \"text-align: right;\">-119</td><td style = \"text-align: right;\">3.78</td><td style = \"text-align: right;\">2.49</td><td style = \"text-align: right;\">1.84034</td><td style = \"text-align: right;\">3.78</td><td style = \"text-align: right;\">2.49</td><td style = \"text-align: right;\">0.840336</td><td style = \"text-align: right;\">0.26455</td><td style = \"text-align: right;\">0.401606</td><td style = \"text-align: right;\">0.543379</td></tr><tr><td class = \"rowNumber\" style = \"font-weight: bold; text-align: right;\">12</td><td style = \"text-align: left;\">Denmark</td><td style = \"text-align: left;\">Australia</td><td style = \"text-align: right;\">-233</td><td style = \"text-align: right;\">388</td><td style = \"text-align: right;\">638</td><td style = \"text-align: right;\">1.42918</td><td style = \"text-align: right;\">3.88</td><td style = \"text-align: right;\">6.38</td><td style = \"text-align: right;\">0.429185</td><td style = \"text-align: right;\">3.88</td><td style = \"text-align: right;\">638.0</td><td style = \"text-align: right;\">0.6997</td><td style = \"text-align: right;\">0.257732</td><td style = \"text-align: right;\">0.15674</td></tr><tr><td class = \"rowNumber\" style = \"font-weight: bold; text-align: right;\">13</td><td style = \"text-align: left;\">Denmark</td><td style = \"text-align: left;\">Tunisia</td><td style = \"text-align: right;\">-172</td><td style = \"text-align: right;\">292</td><td style = \"text-align: right;\">557</td><td style = \"text-align: right;\">1.5814</td><td style = \"text-align: right;\">2.92</td><td style = \"text-align: right;\">5.57</td><td style = \"text-align: right;\">0.581395</td><td style = \"text-align: right;\">2.92</td><td style = \"text-align: right;\">557.0</td><td style = \"text-align: right;\">0.632353</td><td style = \"text-align: right;\">0.342466</td><td style = \"text-align: right;\">0.179533</td></tr><tr><td style = \"text-align: right;\">&vellip;</td><td style = \"text-align: right;\">&vellip;</td><td style = \"text-align: right;\">&vellip;</td><td style = \"text-align: right;\">&vellip;</td><td style = \"text-align: right;\">&vellip;</td><td style = \"text-align: right;\">&vellip;</td><td style = \"text-align: right;\">&vellip;</td><td style = \"text-align: right;\">&vellip;</td><td style = \"text-align: right;\">&vellip;</td><td style = \"text-align: right;\">&vellip;</td><td style = \"text-align: right;\">&vellip;</td><td style = \"text-align: right;\">&vellip;</td><td style = \"text-align: right;\">&vellip;</td><td style = \"text-align: right;\">&vellip;</td><td style = \"text-align: right;\">&vellip;</td></tr><tr><td class = \"rowNumber\" style = \"font-weight: bold; text-align: right;\">37</td><td style = \"text-align: left;\">Saudi Arabia</td><td style = \"text-align: left;\">Poland</td><td style = \"text-align: right;\">443</td><td style = \"text-align: right;\">264</td><td style = \"text-align: right;\">-137</td><td style = \"text-align: right;\">4.43</td><td style = \"text-align: right;\">2.64</td><td style = \"text-align: right;\">1.72993</td><td style = \"text-align: right;\">4.43</td><td style = \"text-align: right;\">2.64</td><td style = \"text-align: right;\">0.729927</td><td style = \"text-align: right;\">0.225734</td><td style = \"text-align: right;\">0.378788</td><td style = \"text-align: right;\">0.578059</td></tr><tr><td class = \"rowNumber\" style = \"font-weight: bold; text-align: right;\">38</td><td style = \"text-align: left;\">Saudi Arabia</td><td style = \"text-align: left;\">Mexico</td><td style = \"text-align: right;\">434</td><td style = \"text-align: right;\">328</td><td style = \"text-align: right;\">-161</td><td style = \"text-align: right;\">4.34</td><td style = \"text-align: right;\">3.28</td><td style = \"text-align: right;\">1.62112</td><td style = \"text-align: right;\">4.34</td><td style = \"text-align: right;\">3.28</td><td style = \"text-align: right;\">0.621118</td><td style = \"text-align: right;\">0.230415</td><td style = \"text-align: right;\">0.304878</td><td style = \"text-align: right;\">0.616858</td></tr><tr><td class = \"rowNumber\" style = \"font-weight: bold; text-align: right;\">39</td><td style = \"text-align: left;\">Senegal</td><td style = \"text-align: left;\">Netherlands</td><td style = \"text-align: right;\">509</td><td style = \"text-align: right;\">267</td><td style = \"text-align: right;\">-152</td><td style = \"text-align: right;\">5.09</td><td style = \"text-align: right;\">2.67</td><td style = \"text-align: right;\">1.65789</td><td style = \"text-align: right;\">5.09</td><td style = \"text-align: right;\">2.67</td><td style = \"text-align: right;\">0.657895</td><td style = \"text-align: right;\">0.196464</td><td style = \"text-align: right;\">0.374532</td><td style = \"text-align: right;\">0.603175</td></tr><tr><td class = \"rowNumber\" style = \"font-weight: bold; text-align: right;\">40</td><td style = \"text-align: left;\">Serbia</td><td style = \"text-align: left;\">Switzerland</td><td style = \"text-align: right;\">158</td><td style = \"text-align: right;\">236</td><td style = \"text-align: right;\">185</td><td style = \"text-align: right;\">1.58</td><td style = \"text-align: right;\">2.36</td><td style = \"text-align: right;\">1.85</td><td style = \"text-align: right;\">1.58</td><td style = \"text-align: right;\">2.36</td><td style = \"text-align: right;\">185.0</td><td style = \"text-align: right;\">0.632911</td><td style = \"text-align: right;\">0.423729</td><td style = \"text-align: right;\">0.540541</td></tr><tr><td class = \"rowNumber\" style = \"font-weight: bold; text-align: right;\">41</td><td style = \"text-align: left;\">Serbia</td><td style = \"text-align: left;\">Cameroon</td><td style = \"text-align: right;\">-141</td><td style = \"text-align: right;\">277</td><td style = \"text-align: right;\">430</td><td style = \"text-align: right;\">1.70922</td><td style = \"text-align: right;\">2.77</td><td style = \"text-align: right;\">4.3</td><td style = \"text-align: right;\">0.70922</td><td style = \"text-align: right;\">2.77</td><td style = \"text-align: right;\">430.0</td><td style = \"text-align: right;\">0.585062</td><td style = \"text-align: right;\">0.361011</td><td style = \"text-align: right;\">0.232558</td></tr><tr><td class = \"rowNumber\" style = \"font-weight: bold; text-align: right;\">42</td><td style = \"text-align: left;\">Spain</td><td style = \"text-align: left;\">Germany</td><td style = \"text-align: right;\">154</td><td style = \"text-align: right;\">242</td><td style = \"text-align: right;\">184</td><td style = \"text-align: right;\">1.54</td><td style = \"text-align: right;\">2.42</td><td style = \"text-align: right;\">1.84</td><td style = \"text-align: right;\">1.54</td><td style = \"text-align: right;\">2.42</td><td style = \"text-align: right;\">184.0</td><td style = \"text-align: right;\">0.649351</td><td style = \"text-align: right;\">0.413223</td><td style = \"text-align: right;\">0.543478</td></tr><tr><td class = \"rowNumber\" style = \"font-weight: bold; text-align: right;\">43</td><td style = \"text-align: left;\">Spain</td><td style = \"text-align: left;\">Japan</td><td style = \"text-align: right;\">-204</td><td style = \"text-align: right;\">349</td><td style = \"text-align: right;\">604</td><td style = \"text-align: right;\">1.4902</td><td style = \"text-align: right;\">3.49</td><td style = \"text-align: right;\">6.04</td><td style = \"text-align: right;\">0.490196</td><td style = \"text-align: right;\">3.49</td><td style = \"text-align: right;\">604.0</td><td style = \"text-align: right;\">0.671053</td><td style = \"text-align: right;\">0.286533</td><td style = \"text-align: right;\">0.165563</td></tr><tr><td class = \"rowNumber\" style = \"font-weight: bold; text-align: right;\">44</td><td style = \"text-align: left;\">Spain</td><td style = \"text-align: left;\">Costa Rica</td><td style = \"text-align: right;\">-625</td><td style = \"text-align: right;\">742</td><td style = \"text-align: right;\">1643</td><td style = \"text-align: right;\">1.16</td><td style = \"text-align: right;\">7.42</td><td style = \"text-align: right;\">16.43</td><td style = \"text-align: right;\">0.16</td><td style = \"text-align: right;\">7.42</td><td style = \"text-align: right;\">1643.0</td><td style = \"text-align: right;\">0.862069</td><td style = \"text-align: right;\">0.134771</td><td style = \"text-align: right;\">0.0608643</td></tr><tr><td class = \"rowNumber\" style = \"font-weight: bold; text-align: right;\">45</td><td style = \"text-align: left;\">Switzerland</td><td style = \"text-align: left;\">Cameroon</td><td style = \"text-align: right;\">-123</td><td style = \"text-align: right;\">245</td><td style = \"text-align: right;\">401</td><td style = \"text-align: right;\">1.81301</td><td style = \"text-align: right;\">2.45</td><td style = \"text-align: right;\">4.01</td><td style = \"text-align: right;\">0.813008</td><td style = \"text-align: right;\">2.45</td><td style = \"text-align: right;\">401.0</td><td style = \"text-align: right;\">0.55157</td><td style = \"text-align: right;\">0.408163</td><td style = \"text-align: right;\">0.249377</td></tr><tr><td class = \"rowNumber\" style = \"font-weight: bold; text-align: right;\">46</td><td style = \"text-align: left;\">Tunisia</td><td style = \"text-align: left;\">Australia</td><td style = \"text-align: right;\">121</td><td style = \"text-align: right;\">231</td><td style = \"text-align: right;\">252</td><td style = \"text-align: right;\">1.21</td><td style = \"text-align: right;\">2.31</td><td style = \"text-align: right;\">2.52</td><td style = \"text-align: right;\">1.21</td><td style = \"text-align: right;\">2.31</td><td style = \"text-align: right;\">252.0</td><td style = \"text-align: right;\">0.826446</td><td style = \"text-align: right;\">0.4329</td><td style = \"text-align: right;\">0.396825</td></tr><tr><td class = \"rowNumber\" style = \"font-weight: bold; text-align: right;\">47</td><td style = \"text-align: left;\">Uruguay</td><td style = \"text-align: left;\">South Korea</td><td style = \"text-align: right;\">-128</td><td style = \"text-align: right;\">254</td><td style = \"text-align: right;\">409</td><td style = \"text-align: right;\">1.78125</td><td style = \"text-align: right;\">2.54</td><td style = \"text-align: right;\">4.09</td><td style = \"text-align: right;\">0.78125</td><td style = \"text-align: right;\">2.54</td><td style = \"text-align: right;\">409.0</td><td style = \"text-align: right;\">0.561404</td><td style = \"text-align: right;\">0.393701</td><td style = \"text-align: right;\">0.244499</td></tr><tr><td class = \"rowNumber\" style = \"font-weight: bold; text-align: right;\">48</td><td style = \"text-align: left;\">USA</td><td style = \"text-align: left;\">Wales</td><td style = \"text-align: right;\">147</td><td style = \"text-align: right;\">209</td><td style = \"text-align: right;\">222</td><td style = \"text-align: right;\">1.47</td><td style = \"text-align: right;\">2.09</td><td style = \"text-align: right;\">2.22</td><td style = \"text-align: right;\">1.47</td><td style = \"text-align: right;\">2.09</td><td style = \"text-align: right;\">222.0</td><td style = \"text-align: right;\">0.680272</td><td style = \"text-align: right;\">0.478469</td><td style = \"text-align: right;\">0.45045</td></tr></tbody></table></div>"
      ],
      "text/latex": [
       "\\begin{tabular}{r|ccccccc}\n",
       "\t& home\\_team & away\\_team & home\\_win\\_odds & draw\\_odds & away\\_win\\_odds & decimal\\_odds\\_home\\_win & \\\\\n",
       "\t\\hline\n",
       "\t& String15 & String15 & Int64 & Int64 & Int64 & Float64 & \\\\\n",
       "\t\\hline\n",
       "\t1 & Argentina & Poland & -227 & 357 & 719 & 1.44053 & $\\dots$ \\\\\n",
       "\t2 & Argentina & Mexico & -182 & 295 & 612 & 1.54945 & $\\dots$ \\\\\n",
       "\t3 & Argentina & Saudi Arabia & -833 & 821 & 2452 & 1.12005 & $\\dots$ \\\\\n",
       "\t4 & Belgium & Croatia & 144 & 241 & 202 & 1.44 & $\\dots$ \\\\\n",
       "\t5 & Belgium & Morocco & -111 & 245 & 351 & 1.9009 & $\\dots$ \\\\\n",
       "\t6 & Belgium & Canada & -172 & 321 & 492 & 1.5814 & $\\dots$ \\\\\n",
       "\t7 & Brazil & Switzerland & -200 & 328 & 660 & 1.5 & $\\dots$ \\\\\n",
       "\t8 & Brazil & Serbia & -213 & 357 & 623 & 1.46948 & $\\dots$ \\\\\n",
       "\t9 & Brazil & Cameroon & -278 & 432 & 793 & 1.35971 & $\\dots$ \\\\\n",
       "\t10 & Canada & Croatia & 254 & 227 & 123 & 2.54 & $\\dots$ \\\\\n",
       "\t11 & Canada & Morocco & 378 & 249 & -119 & 3.78 & $\\dots$ \\\\\n",
       "\t12 & Denmark & Australia & -233 & 388 & 638 & 1.42918 & $\\dots$ \\\\\n",
       "\t13 & Denmark & Tunisia & -172 & 292 & 557 & 1.5814 & $\\dots$ \\\\\n",
       "\t14 & Ecuador & Netherlands & 399 & 244 & -120 & 3.99 & $\\dots$ \\\\\n",
       "\t15 & Ecuador & Senegal & 148 & 223 & 208 & 1.48 & $\\dots$ \\\\\n",
       "\t16 & England & USA & -208 & 326 & 696 & 1.48077 & $\\dots$ \\\\\n",
       "\t17 & England & Wales & -233 & 345 & 781 & 1.42918 & $\\dots$ \\\\\n",
       "\t18 & England & Iran & -263 & 365 & 919 & 1.38023 & $\\dots$ \\\\\n",
       "\t19 & France & Denmark & -122 & 260 & 384 & 1.81967 & $\\dots$ \\\\\n",
       "\t20 & France & Australia & -455 & 580 & 1286 & 1.21978 & $\\dots$ \\\\\n",
       "\t21 & France & Tunisia & -161 & 292 & 501 & 1.62112 & $\\dots$ \\\\\n",
       "\t22 & Germany & Japan & -222 & 384 & 628 & 1.45045 & $\\dots$ \\\\\n",
       "\t23 & Germany & Costa Rica & -1000 & 1017 & 2279 & 1.1 & $\\dots$ \\\\\n",
       "\t24 & Ghana & Uruguay & 349 & 282 & -127 & 3.49 & $\\dots$ \\\\\n",
       "\t25 & Ghana & South Korea & 179 & 213 & 175 & 1.79 & $\\dots$ \\\\\n",
       "\t26 & Iran & USA & 318 & 249 & -105 & 3.18 & $\\dots$ \\\\\n",
       "\t27 & Iran & Wales & 287 & 218 & 114 & 2.87 & $\\dots$ \\\\\n",
       "\t28 & Japan & Costa Rica & -204 & 332 & 647 & 1.4902 & $\\dots$ \\\\\n",
       "\t29 & Mexcio & Poland & 150 & 213 & 214 & 1.5 & $\\dots$ \\\\\n",
       "\t30 & Morocco & Croatia & 257 & 227 & 121 & 2.57 & $\\dots$ \\\\\n",
       "\t$\\dots$ & $\\dots$ & $\\dots$ & $\\dots$ & $\\dots$ & $\\dots$ & $\\dots$ &  \\\\\n",
       "\\end{tabular}\n"
      ],
      "text/plain": [
       "\u001b[1m48×14 DataFrame\n",
       "\u001b[1m Row │\u001b[1m home_team    \u001b[1m away_team    \u001b[1m home_win_odds \u001b[1m draw_odds \u001b[1m away_win_odds \u001b[1m de ⋯\n",
       "     │\u001b[90m String15     \u001b[90m String15     \u001b[90m Int64         \u001b[90m Int64     \u001b[90m Int64         \u001b[90m Fl ⋯\n",
       "─────┼──────────────────────────────────────────────────────────────────────────\n",
       "   1 │ Argentina     Poland                 -227        357            719     ⋯\n",
       "   2 │ Argentina     Mexico                 -182        295            612\n",
       "   3 │ Argentina     Saudi Arabia           -833        821           2452\n",
       "   4 │ Belgium       Croatia                 144        241            202\n",
       "   5 │ Belgium       Morocco                -111        245            351     ⋯\n",
       "   6 │ Belgium       Canada                 -172        321            492\n",
       "   7 │ Brazil        Switzerland            -200        328            660\n",
       "   8 │ Brazil        Serbia                 -213        357            623\n",
       "   9 │ Brazil        Cameroon               -278        432            793     ⋯\n",
       "  10 │ Canada        Croatia                 254        227            123\n",
       "  11 │ Canada        Morocco                 378        249           -119\n",
       "  ⋮  │      ⋮             ⋮              ⋮            ⋮            ⋮           ⋱\n",
       "  39 │ Senegal       Netherlands             509        267           -152\n",
       "  40 │ Serbia        Switzerland             158        236            185     ⋯\n",
       "  41 │ Serbia        Cameroon               -141        277            430\n",
       "  42 │ Spain         Germany                 154        242            184\n",
       "  43 │ Spain         Japan                  -204        349            604\n",
       "  44 │ Spain         Costa Rica             -625        742           1643     ⋯\n",
       "  45 │ Switzerland   Cameroon               -123        245            401\n",
       "  46 │ Tunisia       Australia               121        231            252\n",
       "  47 │ Uruguay       South Korea            -128        254            409\n",
       "  48 │ USA           Wales                   147        209            222     ⋯\n",
       "\u001b[36m                                                   9 columns and 27 rows omitted"
      ]
     },
     "execution_count": 30,
     "metadata": {},
     "output_type": "execute_result"
    }
   ],
   "source": []
  },
  {
   "cell_type": "markdown",
   "metadata": {},
   "source": [
    "## ____________________________________________________________________"
   ]
  },
  {
   "cell_type": "code",
   "execution_count": 31,
   "metadata": {},
   "outputs": [
    {
     "data": {
      "text/plain": [
       "FIFA2022_GS_Bettings (generic function with 1 method)"
      ]
     },
     "execution_count": 31,
     "metadata": {},
     "output_type": "execute_result"
    }
   ],
   "source": [
    "function FIFA2022_GS_Bettings(P, R, B, K)\n",
    "    \n",
    "    # define model\n",
    "    model = Model(Gurobi.Optimizer)\n",
    "\n",
    "    # define parameters and decision variables\n",
    "    m = size(P, 1)              # 48 group stage matches\n",
    "    n = size(P, 2)              # 3 outcomes\n",
    "\n",
    "    @variable(model, x[i=1:m, j=1:n] >= 0) # x[i,j] is the amount of money bet on outcome j of match i\n",
    "    @variable(model, z[i=1:m, j=1:n], Bin) # z[i,j] is whether you bet on outcome j of match i\n",
    "\n",
    "    # define objective: maximising expected total returns across all matches\n",
    "    @objective(model, Max, sum(P[i,1]*(1/100)*R[i,1]*x[i,1] + \n",
    "                               P[i,2]*(1/100)*R[i,2]*x[i,2] + \n",
    "                               P[i,3]*(1/100)*R[i,3]*x[i,3] - \n",
    "                               sum(x[i,j] for j=1:n) for i=1:m))\n",
    "\n",
    "    # # constraints\n",
    "    # 1) You can only bet on one outcome for each match\n",
    "    @constraint(model, [i=1:m], sum(z[i,j] for j=1:n) <= 1)\n",
    "\n",
    "    # 2) x[i,j] <= B*z[i,j] for all i and j\n",
    "    @constraint(model, [i=1:m, j=1:n], x[i,j] <= B*z[i,j])\n",
    "\n",
    "    # 3) Budget constraints\n",
    "    @constraint(model, sum(x[i,j] for j=1:n, i=1:m) <= B)\n",
    "\n",
    "    # 4) You must spread your risk across at least K matches\n",
    "    @constraint(model, sum(z[i,j] for j=1:n, i=1:m) >= K)\n",
    "\n",
    "    # solve model\n",
    "    optimize!(model)\n",
    "\n",
    "    # get optimal bet amounts (x) and how you bet (z)\n",
    "    opt_val = objective_value(model)\n",
    "    x_opt = value.(x)\n",
    "    z_opt = value.(z)\n",
    "\n",
    "    return opt_val, x_opt, z_opt\n",
    "end"
   ]
  },
  {
   "cell_type": "code",
   "execution_count": 32,
   "metadata": {},
   "outputs": [
    {
     "name": "stdout",
     "output_type": "stream",
     "text": [
      "Set parameter Username\n",
      "Academic license - for non-commercial use only - expires 2023-08-19\n",
      "Gurobi Optimizer version 9.5.2 build v9.5.2rc0 (mac64[x86])\n",
      "Thread count: 4 physical cores, 8 logical processors, using up to 8 threads\n",
      "Optimize a model with 194 rows, 288 columns and 720 nonzeros\n",
      "Model fingerprint: 0x1d77f1af\n",
      "Variable types: 144 continuous, 144 integer (144 binary)\n",
      "Coefficient statistics:\n",
      "  Matrix range     [1e+00, 1e+05]\n",
      "  Objective range  [1e+00, 1e+00]\n",
      "  Bounds range     [0e+00, 0e+00]\n",
      "  RHS range        [1e+00, 1e+05]\n",
      "Found heuristic solution: objective -0.0000000\n",
      "\n",
      "Explored 0 nodes (0 simplex iterations) in 0.00 seconds (0.00 work units)\n",
      "Thread count was 1 (of 8 available processors)\n",
      "\n",
      "Solution count 1: -0 \n",
      "No other solutions better than -0\n",
      "\n",
      "Optimal solution found (tolerance 1.00e-04)\n",
      "Best objective -0.000000000000e+00, best bound -0.000000000000e+00, gap 0.0000%\n",
      "\n",
      "User-callback calls 22, time in user-callback 0.00 sec\n"
     ]
    }
   ],
   "source": [
    "exp_prof, x_opt, z_opt = FIFA2022_GS_Bettings(probabilities, returns_on_100, 100000, 5);"
   ]
  },
  {
   "cell_type": "code",
   "execution_count": null,
   "metadata": {},
   "outputs": [],
   "source": []
  }
 ],
 "metadata": {
  "kernelspec": {
   "display_name": "Julia 1.8.1",
   "language": "julia",
   "name": "julia-1.8"
  },
  "language_info": {
   "file_extension": ".jl",
   "mimetype": "application/julia",
   "name": "julia",
   "version": "1.8.1"
  },
  "orig_nbformat": 4
 },
 "nbformat": 4,
 "nbformat_minor": 2
}

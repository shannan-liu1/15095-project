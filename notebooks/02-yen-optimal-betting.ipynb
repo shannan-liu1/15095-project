{
 "cells": [
  {
   "cell_type": "code",
   "execution_count": 12,
   "metadata": {},
   "outputs": [],
   "source": [
    "using DataFrames, CSV, JuMP, Gurobi, LinearAlgebra, Random, Printf, StatsBase, CategoricalArrays, Plots, StatsPlots, Distributions"
   ]
  },
  {
   "cell_type": "markdown",
   "metadata": {},
   "source": [
    "## ____________________________________________________________________"
   ]
  },
  {
   "cell_type": "markdown",
   "metadata": {},
   "source": [
    "## Import Datasets (Outputted Probabilities and Returns on $100 Bets)"
   ]
  },
  {
   "cell_type": "code",
   "execution_count": 13,
   "metadata": {},
   "outputs": [
    {
     "data": {
      "text/html": [
       "<div><div style = \"float: left;\"><span>48×8 DataFrame</span></div><div style = \"float: right;\"><span style = \"font-style: italic;\">23 rows omitted</span></div><div style = \"clear: both;\"></div></div><div class = \"data-frame\" style = \"overflow-x: scroll;\"><table class = \"data-frame\" style = \"margin-bottom: 6px;\"><thead><tr class = \"header\"><th class = \"rowNumber\" style = \"font-weight: bold; text-align: right;\">Row</th><th style = \"text-align: left;\">home_team</th><th style = \"text-align: left;\">away_team</th><th style = \"text-align: left;\">home_win_earnings_per_dollar</th><th style = \"text-align: left;\">draw_earnings_per_dollar</th><th style = \"text-align: left;\">away_win_earnings_per_dollar</th><th style = \"text-align: left;\">implied_probability_of_home_win</th><th style = \"text-align: left;\">implied_probability_of_draw</th><th style = \"text-align: left;\">implied_probability_of_away_win</th></tr><tr class = \"subheader headerLastRow\"><th class = \"rowNumber\" style = \"font-weight: bold; text-align: right;\"></th><th title = \"String15\" style = \"text-align: left;\">String15</th><th title = \"String15\" style = \"text-align: left;\">String15</th><th title = \"Float64\" style = \"text-align: left;\">Float64</th><th title = \"Float64\" style = \"text-align: left;\">Float64</th><th title = \"Float64\" style = \"text-align: left;\">Float64</th><th title = \"Float64\" style = \"text-align: left;\">Float64</th><th title = \"Float64\" style = \"text-align: left;\">Float64</th><th title = \"Float64\" style = \"text-align: left;\">Float64</th></tr></thead><tbody><tr><td class = \"rowNumber\" style = \"font-weight: bold; text-align: right;\">1</td><td style = \"text-align: left;\">Argentina</td><td style = \"text-align: left;\">Mexico</td><td style = \"text-align: right;\">0.549451</td><td style = \"text-align: right;\">2.95</td><td style = \"text-align: right;\">6.12</td><td style = \"text-align: right;\">0.64539</td><td style = \"text-align: right;\">0.253165</td><td style = \"text-align: right;\">0.140449</td></tr><tr><td class = \"rowNumber\" style = \"font-weight: bold; text-align: right;\">2</td><td style = \"text-align: left;\">Argentina</td><td style = \"text-align: left;\">Saudi Arabia</td><td style = \"text-align: right;\">0.120048</td><td style = \"text-align: right;\">8.21</td><td style = \"text-align: right;\">24.52</td><td style = \"text-align: right;\">0.892819</td><td style = \"text-align: right;\">0.108578</td><td style = \"text-align: right;\">0.039185</td></tr><tr><td class = \"rowNumber\" style = \"font-weight: bold; text-align: right;\">3</td><td style = \"text-align: left;\">Australia</td><td style = \"text-align: left;\">Denmark</td><td style = \"text-align: right;\">6.38</td><td style = \"text-align: right;\">3.88</td><td style = \"text-align: right;\">0.429185</td><td style = \"text-align: right;\">0.135501</td><td style = \"text-align: right;\">0.204918</td><td style = \"text-align: right;\">0.6997</td></tr><tr><td class = \"rowNumber\" style = \"font-weight: bold; text-align: right;\">4</td><td style = \"text-align: left;\">Belgium</td><td style = \"text-align: left;\">Canada</td><td style = \"text-align: right;\">0.900901</td><td style = \"text-align: right;\">2.45</td><td style = \"text-align: right;\">3.51</td><td style = \"text-align: right;\">0.526066</td><td style = \"text-align: right;\">0.289855</td><td style = \"text-align: right;\">0.221729</td></tr><tr><td class = \"rowNumber\" style = \"font-weight: bold; text-align: right;\">5</td><td style = \"text-align: left;\">Belgium</td><td style = \"text-align: left;\">Morocco</td><td style = \"text-align: right;\">0.581395</td><td style = \"text-align: right;\">3.21</td><td style = \"text-align: right;\">4.92</td><td style = \"text-align: right;\">0.632353</td><td style = \"text-align: right;\">0.23753</td><td style = \"text-align: right;\">0.168919</td></tr><tr><td class = \"rowNumber\" style = \"font-weight: bold; text-align: right;\">6</td><td style = \"text-align: left;\">Brazil</td><td style = \"text-align: left;\">Serbia</td><td style = \"text-align: right;\">0.5</td><td style = \"text-align: right;\">3.28</td><td style = \"text-align: right;\">6.6</td><td style = \"text-align: right;\">0.666667</td><td style = \"text-align: right;\">0.233645</td><td style = \"text-align: right;\">0.131579</td></tr><tr><td class = \"rowNumber\" style = \"font-weight: bold; text-align: right;\">7</td><td style = \"text-align: left;\">Brazil</td><td style = \"text-align: left;\">Switzerland</td><td style = \"text-align: right;\">0.469484</td><td style = \"text-align: right;\">3.57</td><td style = \"text-align: right;\">6.23</td><td style = \"text-align: right;\">0.680511</td><td style = \"text-align: right;\">0.218818</td><td style = \"text-align: right;\">0.138313</td></tr><tr><td class = \"rowNumber\" style = \"font-weight: bold; text-align: right;\">8</td><td style = \"text-align: left;\">Cameroon</td><td style = \"text-align: left;\">Brazil</td><td style = \"text-align: right;\">7.93</td><td style = \"text-align: right;\">4.32</td><td style = \"text-align: right;\">0.359712</td><td style = \"text-align: right;\">0.111982</td><td style = \"text-align: right;\">0.18797</td><td style = \"text-align: right;\">0.73545</td></tr><tr><td class = \"rowNumber\" style = \"font-weight: bold; text-align: right;\">9</td><td style = \"text-align: left;\">Cameroon</td><td style = \"text-align: left;\">Serbia</td><td style = \"text-align: right;\">4.3</td><td style = \"text-align: right;\">2.77</td><td style = \"text-align: right;\">0.70922</td><td style = \"text-align: right;\">0.188679</td><td style = \"text-align: right;\">0.265252</td><td style = \"text-align: right;\">0.585062</td></tr><tr><td class = \"rowNumber\" style = \"font-weight: bold; text-align: right;\">10</td><td style = \"text-align: left;\">Canada</td><td style = \"text-align: left;\">Morocco</td><td style = \"text-align: right;\">3.78</td><td style = \"text-align: right;\">2.49</td><td style = \"text-align: right;\">0.840336</td><td style = \"text-align: right;\">0.209205</td><td style = \"text-align: right;\">0.286533</td><td style = \"text-align: right;\">0.543379</td></tr><tr><td class = \"rowNumber\" style = \"font-weight: bold; text-align: right;\">11</td><td style = \"text-align: left;\">Costa Rica</td><td style = \"text-align: left;\">Germany</td><td style = \"text-align: right;\">22.79</td><td style = \"text-align: right;\">10.17</td><td style = \"text-align: right;\">0.1</td><td style = \"text-align: right;\">0.0420345</td><td style = \"text-align: right;\">0.0895255</td><td style = \"text-align: right;\">0.909091</td></tr><tr><td class = \"rowNumber\" style = \"font-weight: bold; text-align: right;\">12</td><td style = \"text-align: left;\">Croatia</td><td style = \"text-align: left;\">Belgium</td><td style = \"text-align: right;\">2.02</td><td style = \"text-align: right;\">2.41</td><td style = \"text-align: right;\">1.44</td><td style = \"text-align: right;\">0.331126</td><td style = \"text-align: right;\">0.293255</td><td style = \"text-align: right;\">0.409836</td></tr><tr><td class = \"rowNumber\" style = \"font-weight: bold; text-align: right;\">13</td><td style = \"text-align: left;\">Croatia</td><td style = \"text-align: left;\">Canada</td><td style = \"text-align: right;\">1.23</td><td style = \"text-align: right;\">2.27</td><td style = \"text-align: right;\">2.54</td><td style = \"text-align: right;\">0.44843</td><td style = \"text-align: right;\">0.30581</td><td style = \"text-align: right;\">0.282486</td></tr><tr><td style = \"text-align: right;\">&vellip;</td><td style = \"text-align: right;\">&vellip;</td><td style = \"text-align: right;\">&vellip;</td><td style = \"text-align: right;\">&vellip;</td><td style = \"text-align: right;\">&vellip;</td><td style = \"text-align: right;\">&vellip;</td><td style = \"text-align: right;\">&vellip;</td><td style = \"text-align: right;\">&vellip;</td><td style = \"text-align: right;\">&vellip;</td></tr><tr><td class = \"rowNumber\" style = \"font-weight: bold; text-align: right;\">37</td><td style = \"text-align: left;\">Saudi Arabia</td><td style = \"text-align: left;\">Mexico</td><td style = \"text-align: right;\">4.34</td><td style = \"text-align: right;\">3.28</td><td style = \"text-align: right;\">0.621118</td><td style = \"text-align: right;\">0.187266</td><td style = \"text-align: right;\">0.233645</td><td style = \"text-align: right;\">0.616858</td></tr><tr><td class = \"rowNumber\" style = \"font-weight: bold; text-align: right;\">38</td><td style = \"text-align: left;\">Senegal</td><td style = \"text-align: left;\">Netherlands</td><td style = \"text-align: right;\">5.09</td><td style = \"text-align: right;\">2.67</td><td style = \"text-align: right;\">0.657895</td><td style = \"text-align: right;\">0.164204</td><td style = \"text-align: right;\">0.27248</td><td style = \"text-align: right;\">0.603175</td></tr><tr><td class = \"rowNumber\" style = \"font-weight: bold; text-align: right;\">39</td><td style = \"text-align: left;\">Serbia</td><td style = \"text-align: left;\">Switzerland</td><td style = \"text-align: right;\">1.58</td><td style = \"text-align: right;\">2.36</td><td style = \"text-align: right;\">1.85</td><td style = \"text-align: right;\">0.387597</td><td style = \"text-align: right;\">0.297619</td><td style = \"text-align: right;\">0.350877</td></tr><tr><td class = \"rowNumber\" style = \"font-weight: bold; text-align: right;\">40</td><td style = \"text-align: left;\">Spain</td><td style = \"text-align: left;\">Costa Rica</td><td style = \"text-align: right;\">0.16</td><td style = \"text-align: right;\">7.42</td><td style = \"text-align: right;\">16.43</td><td style = \"text-align: right;\">0.862069</td><td style = \"text-align: right;\">0.118765</td><td style = \"text-align: right;\">0.0573723</td></tr><tr><td class = \"rowNumber\" style = \"font-weight: bold; text-align: right;\">41</td><td style = \"text-align: left;\">Spain</td><td style = \"text-align: left;\">Germany</td><td style = \"text-align: right;\">1.54</td><td style = \"text-align: right;\">2.42</td><td style = \"text-align: right;\">1.84</td><td style = \"text-align: right;\">0.393701</td><td style = \"text-align: right;\">0.292398</td><td style = \"text-align: right;\">0.352113</td></tr><tr><td class = \"rowNumber\" style = \"font-weight: bold; text-align: right;\">42</td><td style = \"text-align: left;\">Switzerland</td><td style = \"text-align: left;\">Cameroon</td><td style = \"text-align: right;\">0.813008</td><td style = \"text-align: right;\">2.45</td><td style = \"text-align: right;\">4.01</td><td style = \"text-align: right;\">0.55157</td><td style = \"text-align: right;\">0.289855</td><td style = \"text-align: right;\">0.199601</td></tr><tr><td class = \"rowNumber\" style = \"font-weight: bold; text-align: right;\">43</td><td style = \"text-align: left;\">Tunisia</td><td style = \"text-align: left;\">Australia</td><td style = \"text-align: right;\">1.21</td><td style = \"text-align: right;\">2.31</td><td style = \"text-align: right;\">2.52</td><td style = \"text-align: right;\">0.452489</td><td style = \"text-align: right;\">0.302115</td><td style = \"text-align: right;\">0.284091</td></tr><tr><td class = \"rowNumber\" style = \"font-weight: bold; text-align: right;\">44</td><td style = \"text-align: left;\">Tunisia</td><td style = \"text-align: left;\">France</td><td style = \"text-align: right;\">5.01</td><td style = \"text-align: right;\">2.92</td><td style = \"text-align: right;\">0.621118</td><td style = \"text-align: right;\">0.166389</td><td style = \"text-align: right;\">0.255102</td><td style = \"text-align: right;\">0.616858</td></tr><tr><td class = \"rowNumber\" style = \"font-weight: bold; text-align: right;\">45</td><td style = \"text-align: left;\">USA</td><td style = \"text-align: left;\">Wales</td><td style = \"text-align: right;\">1.47</td><td style = \"text-align: right;\">2.09</td><td style = \"text-align: right;\">2.22</td><td style = \"text-align: right;\">0.404858</td><td style = \"text-align: right;\">0.323625</td><td style = \"text-align: right;\">0.310559</td></tr><tr><td class = \"rowNumber\" style = \"font-weight: bold; text-align: right;\">46</td><td style = \"text-align: left;\">Uruguay</td><td style = \"text-align: left;\">Korea Republic</td><td style = \"text-align: right;\">0.78125</td><td style = \"text-align: right;\">2.54</td><td style = \"text-align: right;\">4.09</td><td style = \"text-align: right;\">0.561404</td><td style = \"text-align: right;\">0.282486</td><td style = \"text-align: right;\">0.196464</td></tr><tr><td class = \"rowNumber\" style = \"font-weight: bold; text-align: right;\">47</td><td style = \"text-align: left;\">Wales</td><td style = \"text-align: left;\">England</td><td style = \"text-align: right;\">7.81</td><td style = \"text-align: right;\">3.45</td><td style = \"text-align: right;\">0.429185</td><td style = \"text-align: right;\">0.113507</td><td style = \"text-align: right;\">0.224719</td><td style = \"text-align: right;\">0.6997</td></tr><tr><td class = \"rowNumber\" style = \"font-weight: bold; text-align: right;\">48</td><td style = \"text-align: left;\">Wales</td><td style = \"text-align: left;\">Iran</td><td style = \"text-align: right;\">1.14</td><td style = \"text-align: right;\">2.18</td><td style = \"text-align: right;\">2.87</td><td style = \"text-align: right;\">0.46729</td><td style = \"text-align: right;\">0.314465</td><td style = \"text-align: right;\">0.258398</td></tr></tbody></table></div>"
      ],
      "text/latex": [
       "\\begin{tabular}{r|ccccc}\n",
       "\t& home\\_team & away\\_team & home\\_win\\_earnings\\_per\\_dollar & draw\\_earnings\\_per\\_dollar & \\\\\n",
       "\t\\hline\n",
       "\t& String15 & String15 & Float64 & Float64 & \\\\\n",
       "\t\\hline\n",
       "\t1 & Argentina & Mexico & 0.549451 & 2.95 & $\\dots$ \\\\\n",
       "\t2 & Argentina & Saudi Arabia & 0.120048 & 8.21 & $\\dots$ \\\\\n",
       "\t3 & Australia & Denmark & 6.38 & 3.88 & $\\dots$ \\\\\n",
       "\t4 & Belgium & Canada & 0.900901 & 2.45 & $\\dots$ \\\\\n",
       "\t5 & Belgium & Morocco & 0.581395 & 3.21 & $\\dots$ \\\\\n",
       "\t6 & Brazil & Serbia & 0.5 & 3.28 & $\\dots$ \\\\\n",
       "\t7 & Brazil & Switzerland & 0.469484 & 3.57 & $\\dots$ \\\\\n",
       "\t8 & Cameroon & Brazil & 7.93 & 4.32 & $\\dots$ \\\\\n",
       "\t9 & Cameroon & Serbia & 4.3 & 2.77 & $\\dots$ \\\\\n",
       "\t10 & Canada & Morocco & 3.78 & 2.49 & $\\dots$ \\\\\n",
       "\t11 & Costa Rica & Germany & 22.79 & 10.17 & $\\dots$ \\\\\n",
       "\t12 & Croatia & Belgium & 2.02 & 2.41 & $\\dots$ \\\\\n",
       "\t13 & Croatia & Canada & 1.23 & 2.27 & $\\dots$ \\\\\n",
       "\t14 & Denmark & Tunisia & 0.581395 & 2.92 & $\\dots$ \\\\\n",
       "\t15 & Ecuador & Senegal & 1.48 & 2.23 & $\\dots$ \\\\\n",
       "\t16 & England & Iran & 0.480769 & 3.26 & $\\dots$ \\\\\n",
       "\t17 & England & USA & 0.380228 & 3.65 & $\\dots$ \\\\\n",
       "\t18 & France & Australia & 0.819672 & 2.6 & $\\dots$ \\\\\n",
       "\t19 & France & Denmark & 0.21978 & 5.8 & $\\dots$ \\\\\n",
       "\t20 & Germany & Japan & 0.45045 & 3.84 & $\\dots$ \\\\\n",
       "\t21 & Ghana & Uruguay & 3.49 & 2.82 & $\\dots$ \\\\\n",
       "\t22 & Iran & USA & 3.18 & 2.49 & $\\dots$ \\\\\n",
       "\t23 & Japan & Costa Rica & 0.490196 & 3.32 & $\\dots$ \\\\\n",
       "\t24 & Japan & Spain & 6.04 & 3.49 & $\\dots$ \\\\\n",
       "\t$\\dots$ & $\\dots$ & $\\dots$ & $\\dots$ & $\\dots$ &  \\\\\n",
       "\\end{tabular}\n"
      ],
      "text/plain": [
       "\u001b[1m48×8 DataFrame\u001b[0m\n",
       "\u001b[1m Row \u001b[0m│\u001b[1m home_team   \u001b[0m\u001b[1m away_team      \u001b[0m\u001b[1m home_win_earnings_per_dollar \u001b[0m\u001b[1m draw_earning\u001b[0m ⋯\n",
       "     │\u001b[90m String15    \u001b[0m\u001b[90m String15       \u001b[0m\u001b[90m Float64                      \u001b[0m\u001b[90m Float64     \u001b[0m ⋯\n",
       "─────┼──────────────────────────────────────────────────────────────────────────\n",
       "   1 │ Argentina    Mexico                              0.549451               ⋯\n",
       "   2 │ Argentina    Saudi Arabia                        0.120048\n",
       "   3 │ Australia    Denmark                             6.38\n",
       "   4 │ Belgium      Canada                              0.900901\n",
       "   5 │ Belgium      Morocco                             0.581395               ⋯\n",
       "   6 │ Brazil       Serbia                              0.5\n",
       "   7 │ Brazil       Switzerland                         0.469484\n",
       "   8 │ Cameroon     Brazil                              7.93\n",
       "  ⋮  │      ⋮             ⋮                      ⋮                           ⋮ ⋱\n",
       "  42 │ Switzerland  Cameroon                            0.813008               ⋯\n",
       "  43 │ Tunisia      Australia                           1.21\n",
       "  44 │ Tunisia      France                              5.01\n",
       "  45 │ USA          Wales                               1.47\n",
       "  46 │ Uruguay      Korea Republic                      0.78125                ⋯\n",
       "  47 │ Wales        England                             7.81\n",
       "  48 │ Wales        Iran                                1.14\n",
       "\u001b[36m                                                   5 columns and 33 rows omitted\u001b[0m"
      ]
     },
     "metadata": {},
     "output_type": "display_data"
    }
   ],
   "source": [
    "# # add actual data here\n",
    "# xgb_preds = CSV.read(\"C:\\\\Users\\\\shann\\\\Documents\\\\GitHub\\\\15095-project\\\\notebooks\\\\xgb_cv_pred.csv\",DataFrame)\n",
    "# rf_preds = CSV.read(\"C:\\\\Users\\\\shann\\\\Documents\\\\GitHub\\\\15095-project\\\\notebooks\\\\rf_pred.csv\",DataFrame)\n",
    "# lgbm_preds = CSV.read(\"C:\\\\Users\\\\shann\\\\Documents\\\\GitHub\\\\15095-project\\\\notebooks\\\\lgbm_cv_pred.csv\",DataFrame);\n",
    "# logreg_preds = CSV.read(\"C:\\\\Users\\\\shann\\\\Documents\\\\GitHub\\\\15095-project\\\\notebooks\\\\logreg_pred.csv\",DataFrame);\n",
    " new_xgb_preds = CSV.read(\"C:\\\\Users\\\\shann\\\\Documents\\\\GitHub\\\\15095-project\\\\notebooks\\\\new_xgb_pred.csv\",DataFrame);\n",
    "# rf_preds = CSV.read(\"C:\\\\Users\\\\shann\\\\Documents\\\\GitHub\\\\15095-project\\\\notebooks\\\\rf_pred.csv\",DataFrame);\n",
    " returns = CSV.read(\"C:\\\\Users\\\\shann\\\\Documents\\\\GitHub\\\\15095-project\\\\data\\\\group_stage_betting_odds_final_cleaned.csv\",DataFrame);\n",
    "\n",
    "# # add actual data here\n",
    "#new_xgb_preds = CSV.read(\"/Users/yenhann/Documents/MIT/15.095 Machine Learning/15095-project/notebooks/new_xgb_pred.csv\",DataFrame);\n",
    "#rf_preds = CSV.read(\"/Users/yenhann/Documents/MIT/15.095 Machine Learning/15095-project/notebooks/rf_pred.csv\",DataFrame);\n",
    "#returns = CSV.read(\"/Users/yenhann/Documents/MIT/15.095 Machine Learning/15095-project/data/group_stage_betting_odds_final_cleaned.csv\",DataFrame);"
   ]
  },
  {
   "cell_type": "code",
   "execution_count": 14,
   "metadata": {},
   "outputs": [
    {
     "data": {
      "text/html": [
       "<div><div style = \"float: left;\"><span>48×5 DataFrame</span></div><div style = \"float: right;\"><span style = \"font-style: italic;\">23 rows omitted</span></div><div style = \"clear: both;\"></div></div><div class = \"data-frame\" style = \"overflow-x: scroll;\"><table class = \"data-frame\" style = \"margin-bottom: 6px;\"><thead><tr class = \"header\"><th class = \"rowNumber\" style = \"font-weight: bold; text-align: right;\">Row</th><th style = \"text-align: left;\">home_team</th><th style = \"text-align: left;\">away_team</th><th style = \"text-align: left;\">home_win</th><th style = \"text-align: left;\">draw</th><th style = \"text-align: left;\">home_loss</th></tr><tr class = \"subheader headerLastRow\"><th class = \"rowNumber\" style = \"font-weight: bold; text-align: right;\"></th><th title = \"String15\" style = \"text-align: left;\">String15</th><th title = \"String15\" style = \"text-align: left;\">String15</th><th title = \"Float64\" style = \"text-align: left;\">Float64</th><th title = \"Float64\" style = \"text-align: left;\">Float64</th><th title = \"Float64\" style = \"text-align: left;\">Float64</th></tr></thead><tbody><tr><td class = \"rowNumber\" style = \"font-weight: bold; text-align: right;\">1</td><td style = \"text-align: left;\">Argentina</td><td style = \"text-align: left;\">Mexico</td><td style = \"text-align: right;\">0.877574</td><td style = \"text-align: right;\">0.092279</td><td style = \"text-align: right;\">0.0301469</td></tr><tr><td class = \"rowNumber\" style = \"font-weight: bold; text-align: right;\">2</td><td style = \"text-align: left;\">Argentina</td><td style = \"text-align: left;\">Saudi Arabia</td><td style = \"text-align: right;\">0.62033</td><td style = \"text-align: right;\">0.321542</td><td style = \"text-align: right;\">0.0581277</td></tr><tr><td class = \"rowNumber\" style = \"font-weight: bold; text-align: right;\">3</td><td style = \"text-align: left;\">Australia</td><td style = \"text-align: left;\">Denmark</td><td style = \"text-align: right;\">0.777283</td><td style = \"text-align: right;\">0.157289</td><td style = \"text-align: right;\">0.0654282</td></tr><tr><td class = \"rowNumber\" style = \"font-weight: bold; text-align: right;\">4</td><td style = \"text-align: left;\">Belgium</td><td style = \"text-align: left;\">Canada</td><td style = \"text-align: right;\">0.875244</td><td style = \"text-align: right;\">0.10078</td><td style = \"text-align: right;\">0.023976</td></tr><tr><td class = \"rowNumber\" style = \"font-weight: bold; text-align: right;\">5</td><td style = \"text-align: left;\">Belgium</td><td style = \"text-align: left;\">Morocco</td><td style = \"text-align: right;\">0.833057</td><td style = \"text-align: right;\">0.153163</td><td style = \"text-align: right;\">0.0137804</td></tr><tr><td class = \"rowNumber\" style = \"font-weight: bold; text-align: right;\">6</td><td style = \"text-align: left;\">Brazil</td><td style = \"text-align: left;\">Serbia</td><td style = \"text-align: right;\">0.278353</td><td style = \"text-align: right;\">0.386434</td><td style = \"text-align: right;\">0.335213</td></tr><tr><td class = \"rowNumber\" style = \"font-weight: bold; text-align: right;\">7</td><td style = \"text-align: left;\">Brazil</td><td style = \"text-align: left;\">Switzerland</td><td style = \"text-align: right;\">0.93205</td><td style = \"text-align: right;\">0.0626434</td><td style = \"text-align: right;\">0.00530673</td></tr><tr><td class = \"rowNumber\" style = \"font-weight: bold; text-align: right;\">8</td><td style = \"text-align: left;\">Cameroon</td><td style = \"text-align: left;\">Brazil</td><td style = \"text-align: right;\">0.698354</td><td style = \"text-align: right;\">0.122271</td><td style = \"text-align: right;\">0.179375</td></tr><tr><td class = \"rowNumber\" style = \"font-weight: bold; text-align: right;\">9</td><td style = \"text-align: left;\">Cameroon</td><td style = \"text-align: left;\">Serbia</td><td style = \"text-align: right;\">0.402259</td><td style = \"text-align: right;\">0.408037</td><td style = \"text-align: right;\">0.189704</td></tr><tr><td class = \"rowNumber\" style = \"font-weight: bold; text-align: right;\">10</td><td style = \"text-align: left;\">Canada</td><td style = \"text-align: left;\">Morocco</td><td style = \"text-align: right;\">0.377169</td><td style = \"text-align: right;\">0.050218</td><td style = \"text-align: right;\">0.572613</td></tr><tr><td class = \"rowNumber\" style = \"font-weight: bold; text-align: right;\">11</td><td style = \"text-align: left;\">Costa Rica</td><td style = \"text-align: left;\">Germany</td><td style = \"text-align: right;\">0.877079</td><td style = \"text-align: right;\">0.0983449</td><td style = \"text-align: right;\">0.0245763</td></tr><tr><td class = \"rowNumber\" style = \"font-weight: bold; text-align: right;\">12</td><td style = \"text-align: left;\">Croatia</td><td style = \"text-align: left;\">Belgium</td><td style = \"text-align: right;\">0.368328</td><td style = \"text-align: right;\">0.535055</td><td style = \"text-align: right;\">0.0966177</td></tr><tr><td class = \"rowNumber\" style = \"font-weight: bold; text-align: right;\">13</td><td style = \"text-align: left;\">Croatia</td><td style = \"text-align: left;\">Canada</td><td style = \"text-align: right;\">0.916788</td><td style = \"text-align: right;\">0.0554763</td><td style = \"text-align: right;\">0.0277361</td></tr><tr><td style = \"text-align: right;\">&vellip;</td><td style = \"text-align: right;\">&vellip;</td><td style = \"text-align: right;\">&vellip;</td><td style = \"text-align: right;\">&vellip;</td><td style = \"text-align: right;\">&vellip;</td><td style = \"text-align: right;\">&vellip;</td></tr><tr><td class = \"rowNumber\" style = \"font-weight: bold; text-align: right;\">37</td><td style = \"text-align: left;\">Saudi Arabia</td><td style = \"text-align: left;\">Mexico</td><td style = \"text-align: right;\">0.950151</td><td style = \"text-align: right;\">0.0264967</td><td style = \"text-align: right;\">0.023352</td></tr><tr><td class = \"rowNumber\" style = \"font-weight: bold; text-align: right;\">38</td><td style = \"text-align: left;\">Senegal</td><td style = \"text-align: left;\">Netherlands</td><td style = \"text-align: right;\">0.974058</td><td style = \"text-align: right;\">0.0214784</td><td style = \"text-align: right;\">0.00446393</td></tr><tr><td class = \"rowNumber\" style = \"font-weight: bold; text-align: right;\">39</td><td style = \"text-align: left;\">Serbia</td><td style = \"text-align: left;\">Switzerland</td><td style = \"text-align: right;\">0.258312</td><td style = \"text-align: right;\">0.526006</td><td style = \"text-align: right;\">0.215683</td></tr><tr><td class = \"rowNumber\" style = \"font-weight: bold; text-align: right;\">40</td><td style = \"text-align: left;\">Spain</td><td style = \"text-align: left;\">Costa Rica</td><td style = \"text-align: right;\">0.0613555</td><td style = \"text-align: right;\">0.264049</td><td style = \"text-align: right;\">0.674595</td></tr><tr><td class = \"rowNumber\" style = \"font-weight: bold; text-align: right;\">41</td><td style = \"text-align: left;\">Spain</td><td style = \"text-align: left;\">Germany</td><td style = \"text-align: right;\">0.481364</td><td style = \"text-align: right;\">0.42196</td><td style = \"text-align: right;\">0.0966758</td></tr><tr><td class = \"rowNumber\" style = \"font-weight: bold; text-align: right;\">42</td><td style = \"text-align: left;\">Switzerland</td><td style = \"text-align: left;\">Cameroon</td><td style = \"text-align: right;\">0.598392</td><td style = \"text-align: right;\">0.133475</td><td style = \"text-align: right;\">0.268134</td></tr><tr><td class = \"rowNumber\" style = \"font-weight: bold; text-align: right;\">43</td><td style = \"text-align: left;\">Tunisia</td><td style = \"text-align: left;\">Australia</td><td style = \"text-align: right;\">0.104731</td><td style = \"text-align: right;\">0.38685</td><td style = \"text-align: right;\">0.508419</td></tr><tr><td class = \"rowNumber\" style = \"font-weight: bold; text-align: right;\">44</td><td style = \"text-align: left;\">Tunisia</td><td style = \"text-align: left;\">France</td><td style = \"text-align: right;\">0.0165316</td><td style = \"text-align: right;\">0.17114</td><td style = \"text-align: right;\">0.812329</td></tr><tr><td class = \"rowNumber\" style = \"font-weight: bold; text-align: right;\">45</td><td style = \"text-align: left;\">USA</td><td style = \"text-align: left;\">Wales</td><td style = \"text-align: right;\">0.00551243</td><td style = \"text-align: right;\">0.175424</td><td style = \"text-align: right;\">0.819063</td></tr><tr><td class = \"rowNumber\" style = \"font-weight: bold; text-align: right;\">46</td><td style = \"text-align: left;\">Uruguay</td><td style = \"text-align: left;\">Korea Republic</td><td style = \"text-align: right;\">0.668099</td><td style = \"text-align: right;\">0.166873</td><td style = \"text-align: right;\">0.165029</td></tr><tr><td class = \"rowNumber\" style = \"font-weight: bold; text-align: right;\">47</td><td style = \"text-align: left;\">Wales</td><td style = \"text-align: left;\">England</td><td style = \"text-align: right;\">0.01553</td><td style = \"text-align: right;\">0.442998</td><td style = \"text-align: right;\">0.541472</td></tr><tr><td class = \"rowNumber\" style = \"font-weight: bold; text-align: right;\">48</td><td style = \"text-align: left;\">Wales</td><td style = \"text-align: left;\">Iran</td><td style = \"text-align: right;\">0.18003</td><td style = \"text-align: right;\">0.15405</td><td style = \"text-align: right;\">0.66592</td></tr></tbody></table></div>"
      ],
      "text/latex": [
       "\\begin{tabular}{r|ccccc}\n",
       "\t& home\\_team & away\\_team & home\\_win & draw & home\\_loss\\\\\n",
       "\t\\hline\n",
       "\t& String15 & String15 & Float64 & Float64 & Float64\\\\\n",
       "\t\\hline\n",
       "\t1 & Argentina & Mexico & 0.877574 & 0.092279 & 0.0301469 \\\\\n",
       "\t2 & Argentina & Saudi Arabia & 0.62033 & 0.321542 & 0.0581277 \\\\\n",
       "\t3 & Australia & Denmark & 0.777283 & 0.157289 & 0.0654282 \\\\\n",
       "\t4 & Belgium & Canada & 0.875244 & 0.10078 & 0.023976 \\\\\n",
       "\t5 & Belgium & Morocco & 0.833057 & 0.153163 & 0.0137804 \\\\\n",
       "\t6 & Brazil & Serbia & 0.278353 & 0.386434 & 0.335213 \\\\\n",
       "\t7 & Brazil & Switzerland & 0.93205 & 0.0626434 & 0.00530673 \\\\\n",
       "\t8 & Cameroon & Brazil & 0.698354 & 0.122271 & 0.179375 \\\\\n",
       "\t9 & Cameroon & Serbia & 0.402259 & 0.408037 & 0.189704 \\\\\n",
       "\t10 & Canada & Morocco & 0.377169 & 0.050218 & 0.572613 \\\\\n",
       "\t11 & Costa Rica & Germany & 0.877079 & 0.0983449 & 0.0245763 \\\\\n",
       "\t12 & Croatia & Belgium & 0.368328 & 0.535055 & 0.0966177 \\\\\n",
       "\t13 & Croatia & Canada & 0.916788 & 0.0554763 & 0.0277361 \\\\\n",
       "\t14 & Denmark & Tunisia & 0.0745988 & 0.031564 & 0.893837 \\\\\n",
       "\t15 & Ecuador & Senegal & 0.886547 & 0.0207929 & 0.0926601 \\\\\n",
       "\t16 & England & Iran & 0.930392 & 0.00691494 & 0.0626929 \\\\\n",
       "\t17 & England & USA & 0.299183 & 0.280633 & 0.420184 \\\\\n",
       "\t18 & France & Australia & 0.821553 & 0.157126 & 0.0213217 \\\\\n",
       "\t19 & France & Denmark & 0.561884 & 0.244635 & 0.193481 \\\\\n",
       "\t20 & Germany & Japan & 0.262867 & 0.211744 & 0.525389 \\\\\n",
       "\t21 & Ghana & Uruguay & 0.073655 & 0.317599 & 0.608746 \\\\\n",
       "\t22 & Iran & USA & 0.162428 & 0.051736 & 0.785836 \\\\\n",
       "\t23 & Japan & Costa Rica & 0.498198 & 0.133346 & 0.368456 \\\\\n",
       "\t24 & Japan & Spain & 0.859135 & 0.0972361 & 0.0436293 \\\\\n",
       "\t$\\dots$ & $\\dots$ & $\\dots$ & $\\dots$ & $\\dots$ & $\\dots$ \\\\\n",
       "\\end{tabular}\n"
      ],
      "text/plain": [
       "\u001b[1m48×5 DataFrame\u001b[0m\n",
       "\u001b[1m Row \u001b[0m│\u001b[1m home_team   \u001b[0m\u001b[1m away_team      \u001b[0m\u001b[1m home_win   \u001b[0m\u001b[1m draw      \u001b[0m\u001b[1m home_loss  \u001b[0m\n",
       "     │\u001b[90m String15    \u001b[0m\u001b[90m String15       \u001b[0m\u001b[90m Float64    \u001b[0m\u001b[90m Float64   \u001b[0m\u001b[90m Float64    \u001b[0m\n",
       "─────┼────────────────────────────────────────────────────────────────\n",
       "   1 │ Argentina    Mexico          0.877574    0.092279   0.0301469\n",
       "   2 │ Argentina    Saudi Arabia    0.62033     0.321542   0.0581277\n",
       "   3 │ Australia    Denmark         0.777283    0.157289   0.0654282\n",
       "   4 │ Belgium      Canada          0.875244    0.10078    0.023976\n",
       "   5 │ Belgium      Morocco         0.833057    0.153163   0.0137804\n",
       "   6 │ Brazil       Serbia          0.278353    0.386434   0.335213\n",
       "   7 │ Brazil       Switzerland     0.93205     0.0626434  0.00530673\n",
       "   8 │ Cameroon     Brazil          0.698354    0.122271   0.179375\n",
       "  ⋮  │      ⋮             ⋮             ⋮           ⋮          ⋮\n",
       "  42 │ Switzerland  Cameroon        0.598392    0.133475   0.268134\n",
       "  43 │ Tunisia      Australia       0.104731    0.38685    0.508419\n",
       "  44 │ Tunisia      France          0.0165316   0.17114    0.812329\n",
       "  45 │ USA          Wales           0.00551243  0.175424   0.819063\n",
       "  46 │ Uruguay      Korea Republic  0.668099    0.166873   0.165029\n",
       "  47 │ Wales        England         0.01553     0.442998   0.541472\n",
       "  48 │ Wales        Iran            0.18003     0.15405    0.66592\n",
       "\u001b[36m                                                       33 rows omitted\u001b[0m"
      ]
     },
     "metadata": {},
     "output_type": "display_data"
    }
   ],
   "source": [
    "new_xgb_preds"
   ]
  },
  {
   "cell_type": "code",
   "execution_count": 16,
   "metadata": {},
   "outputs": [],
   "source": [
    "returns_matrix = Matrix(returns[:,3:5]);\n",
    "# # matrix of probabilities for model's predictions\n",
    "# xgb_probs = Matrix(xgb_preds[:,3:5]);\n",
    "#rf_probs = Matrix(rf_preds[:,3:5]);\n",
    "# lgbm_probs = Matrix(lgbm_preds[:,3:5]);\n",
    "# logreg_probs = Matrix(logreg_preds[:,3:5]);\n",
    "new_xgb_probs = Matrix(new_xgb_preds[:,3:5]);"
   ]
  },
  {
   "cell_type": "code",
   "execution_count": 17,
   "metadata": {},
   "outputs": [
    {
     "data": {
      "text/html": [
       "<div><div style = \"float: left;\"><span>5×5 DataFrame</span></div><div style = \"clear: both;\"></div></div><div class = \"data-frame\" style = \"overflow-x: scroll;\"><table class = \"data-frame\" style = \"margin-bottom: 6px;\"><thead><tr class = \"header\"><th class = \"rowNumber\" style = \"font-weight: bold; text-align: right;\">Row</th><th style = \"text-align: left;\">home_team</th><th style = \"text-align: left;\">away_team</th><th style = \"text-align: left;\">home_win</th><th style = \"text-align: left;\">draw</th><th style = \"text-align: left;\">home_loss</th></tr><tr class = \"subheader headerLastRow\"><th class = \"rowNumber\" style = \"font-weight: bold; text-align: right;\"></th><th title = \"String15\" style = \"text-align: left;\">String15</th><th title = \"String15\" style = \"text-align: left;\">String15</th><th title = \"Float64\" style = \"text-align: left;\">Float64</th><th title = \"Float64\" style = \"text-align: left;\">Float64</th><th title = \"Float64\" style = \"text-align: left;\">Float64</th></tr></thead><tbody><tr><td class = \"rowNumber\" style = \"font-weight: bold; text-align: right;\">1</td><td style = \"text-align: left;\">Argentina</td><td style = \"text-align: left;\">Mexico</td><td style = \"text-align: right;\">0.877574</td><td style = \"text-align: right;\">0.092279</td><td style = \"text-align: right;\">0.0301469</td></tr><tr><td class = \"rowNumber\" style = \"font-weight: bold; text-align: right;\">2</td><td style = \"text-align: left;\">Argentina</td><td style = \"text-align: left;\">Saudi Arabia</td><td style = \"text-align: right;\">0.62033</td><td style = \"text-align: right;\">0.321542</td><td style = \"text-align: right;\">0.0581277</td></tr><tr><td class = \"rowNumber\" style = \"font-weight: bold; text-align: right;\">3</td><td style = \"text-align: left;\">Australia</td><td style = \"text-align: left;\">Denmark</td><td style = \"text-align: right;\">0.777283</td><td style = \"text-align: right;\">0.157289</td><td style = \"text-align: right;\">0.0654282</td></tr><tr><td class = \"rowNumber\" style = \"font-weight: bold; text-align: right;\">4</td><td style = \"text-align: left;\">Belgium</td><td style = \"text-align: left;\">Canada</td><td style = \"text-align: right;\">0.875244</td><td style = \"text-align: right;\">0.10078</td><td style = \"text-align: right;\">0.023976</td></tr><tr><td class = \"rowNumber\" style = \"font-weight: bold; text-align: right;\">5</td><td style = \"text-align: left;\">Belgium</td><td style = \"text-align: left;\">Morocco</td><td style = \"text-align: right;\">0.833057</td><td style = \"text-align: right;\">0.153163</td><td style = \"text-align: right;\">0.0137804</td></tr></tbody></table></div>"
      ],
      "text/latex": [
       "\\begin{tabular}{r|ccccc}\n",
       "\t& home\\_team & away\\_team & home\\_win & draw & home\\_loss\\\\\n",
       "\t\\hline\n",
       "\t& String15 & String15 & Float64 & Float64 & Float64\\\\\n",
       "\t\\hline\n",
       "\t1 & Argentina & Mexico & 0.877574 & 0.092279 & 0.0301469 \\\\\n",
       "\t2 & Argentina & Saudi Arabia & 0.62033 & 0.321542 & 0.0581277 \\\\\n",
       "\t3 & Australia & Denmark & 0.777283 & 0.157289 & 0.0654282 \\\\\n",
       "\t4 & Belgium & Canada & 0.875244 & 0.10078 & 0.023976 \\\\\n",
       "\t5 & Belgium & Morocco & 0.833057 & 0.153163 & 0.0137804 \\\\\n",
       "\\end{tabular}\n"
      ],
      "text/plain": [
       "\u001b[1m5×5 DataFrame\u001b[0m\n",
       "\u001b[1m Row \u001b[0m│\u001b[1m home_team \u001b[0m\u001b[1m away_team    \u001b[0m\u001b[1m home_win \u001b[0m\u001b[1m draw     \u001b[0m\u001b[1m home_loss \u001b[0m\n",
       "     │\u001b[90m String15  \u001b[0m\u001b[90m String15     \u001b[0m\u001b[90m Float64  \u001b[0m\u001b[90m Float64  \u001b[0m\u001b[90m Float64   \u001b[0m\n",
       "─────┼────────────────────────────────────────────────────────\n",
       "   1 │ Argentina  Mexico        0.877574  0.092279  0.0301469\n",
       "   2 │ Argentina  Saudi Arabia  0.62033   0.321542  0.0581277\n",
       "   3 │ Australia  Denmark       0.777283  0.157289  0.0654282\n",
       "   4 │ Belgium    Canada        0.875244  0.10078   0.023976\n",
       "   5 │ Belgium    Morocco       0.833057  0.153163  0.0137804"
      ]
     },
     "metadata": {},
     "output_type": "display_data"
    }
   ],
   "source": [
    "new_xgb_preds[1:5,:]"
   ]
  },
  {
   "cell_type": "code",
   "execution_count": 18,
   "metadata": {},
   "outputs": [
    {
     "data": {
      "text/html": [
       "<div><div style = \"float: left;\"><span>5×8 DataFrame</span></div><div style = \"clear: both;\"></div></div><div class = \"data-frame\" style = \"overflow-x: scroll;\"><table class = \"data-frame\" style = \"margin-bottom: 6px;\"><thead><tr class = \"header\"><th class = \"rowNumber\" style = \"font-weight: bold; text-align: right;\">Row</th><th style = \"text-align: left;\">home_team</th><th style = \"text-align: left;\">away_team</th><th style = \"text-align: left;\">home_win_earnings_per_dollar</th><th style = \"text-align: left;\">draw_earnings_per_dollar</th><th style = \"text-align: left;\">away_win_earnings_per_dollar</th><th style = \"text-align: left;\">implied_probability_of_home_win</th><th style = \"text-align: left;\">implied_probability_of_draw</th><th style = \"text-align: left;\">implied_probability_of_away_win</th></tr><tr class = \"subheader headerLastRow\"><th class = \"rowNumber\" style = \"font-weight: bold; text-align: right;\"></th><th title = \"String15\" style = \"text-align: left;\">String15</th><th title = \"String15\" style = \"text-align: left;\">String15</th><th title = \"Float64\" style = \"text-align: left;\">Float64</th><th title = \"Float64\" style = \"text-align: left;\">Float64</th><th title = \"Float64\" style = \"text-align: left;\">Float64</th><th title = \"Float64\" style = \"text-align: left;\">Float64</th><th title = \"Float64\" style = \"text-align: left;\">Float64</th><th title = \"Float64\" style = \"text-align: left;\">Float64</th></tr></thead><tbody><tr><td class = \"rowNumber\" style = \"font-weight: bold; text-align: right;\">1</td><td style = \"text-align: left;\">Argentina</td><td style = \"text-align: left;\">Mexico</td><td style = \"text-align: right;\">0.549451</td><td style = \"text-align: right;\">2.95</td><td style = \"text-align: right;\">6.12</td><td style = \"text-align: right;\">0.64539</td><td style = \"text-align: right;\">0.253165</td><td style = \"text-align: right;\">0.140449</td></tr><tr><td class = \"rowNumber\" style = \"font-weight: bold; text-align: right;\">2</td><td style = \"text-align: left;\">Argentina</td><td style = \"text-align: left;\">Saudi Arabia</td><td style = \"text-align: right;\">0.120048</td><td style = \"text-align: right;\">8.21</td><td style = \"text-align: right;\">24.52</td><td style = \"text-align: right;\">0.892819</td><td style = \"text-align: right;\">0.108578</td><td style = \"text-align: right;\">0.039185</td></tr><tr><td class = \"rowNumber\" style = \"font-weight: bold; text-align: right;\">3</td><td style = \"text-align: left;\">Australia</td><td style = \"text-align: left;\">Denmark</td><td style = \"text-align: right;\">6.38</td><td style = \"text-align: right;\">3.88</td><td style = \"text-align: right;\">0.429185</td><td style = \"text-align: right;\">0.135501</td><td style = \"text-align: right;\">0.204918</td><td style = \"text-align: right;\">0.6997</td></tr><tr><td class = \"rowNumber\" style = \"font-weight: bold; text-align: right;\">4</td><td style = \"text-align: left;\">Belgium</td><td style = \"text-align: left;\">Canada</td><td style = \"text-align: right;\">0.900901</td><td style = \"text-align: right;\">2.45</td><td style = \"text-align: right;\">3.51</td><td style = \"text-align: right;\">0.526066</td><td style = \"text-align: right;\">0.289855</td><td style = \"text-align: right;\">0.221729</td></tr><tr><td class = \"rowNumber\" style = \"font-weight: bold; text-align: right;\">5</td><td style = \"text-align: left;\">Belgium</td><td style = \"text-align: left;\">Morocco</td><td style = \"text-align: right;\">0.581395</td><td style = \"text-align: right;\">3.21</td><td style = \"text-align: right;\">4.92</td><td style = \"text-align: right;\">0.632353</td><td style = \"text-align: right;\">0.23753</td><td style = \"text-align: right;\">0.168919</td></tr></tbody></table></div>"
      ],
      "text/latex": [
       "\\begin{tabular}{r|ccccc}\n",
       "\t& home\\_team & away\\_team & home\\_win\\_earnings\\_per\\_dollar & draw\\_earnings\\_per\\_dollar & \\\\\n",
       "\t\\hline\n",
       "\t& String15 & String15 & Float64 & Float64 & \\\\\n",
       "\t\\hline\n",
       "\t1 & Argentina & Mexico & 0.549451 & 2.95 & $\\dots$ \\\\\n",
       "\t2 & Argentina & Saudi Arabia & 0.120048 & 8.21 & $\\dots$ \\\\\n",
       "\t3 & Australia & Denmark & 6.38 & 3.88 & $\\dots$ \\\\\n",
       "\t4 & Belgium & Canada & 0.900901 & 2.45 & $\\dots$ \\\\\n",
       "\t5 & Belgium & Morocco & 0.581395 & 3.21 & $\\dots$ \\\\\n",
       "\\end{tabular}\n"
      ],
      "text/plain": [
       "\u001b[1m5×8 DataFrame\u001b[0m\n",
       "\u001b[1m Row \u001b[0m│\u001b[1m home_team \u001b[0m\u001b[1m away_team    \u001b[0m\u001b[1m home_win_earnings_per_dollar \u001b[0m\u001b[1m draw_earnings_pe\u001b[0m ⋯\n",
       "     │\u001b[90m String15  \u001b[0m\u001b[90m String15     \u001b[0m\u001b[90m Float64                      \u001b[0m\u001b[90m Float64         \u001b[0m ⋯\n",
       "─────┼──────────────────────────────────────────────────────────────────────────\n",
       "   1 │ Argentina  Mexico                            0.549451                   ⋯\n",
       "   2 │ Argentina  Saudi Arabia                      0.120048\n",
       "   3 │ Australia  Denmark                           6.38\n",
       "   4 │ Belgium    Canada                            0.900901\n",
       "   5 │ Belgium    Morocco                           0.581395                   ⋯\n",
       "\u001b[36m                                                               5 columns omitted\u001b[0m"
      ]
     },
     "metadata": {},
     "output_type": "display_data"
    }
   ],
   "source": [
    "returns[1:5,:]"
   ]
  },
  {
   "cell_type": "code",
   "execution_count": 19,
   "metadata": {},
   "outputs": [],
   "source": [
    "# check if each row of new_xgb_preds and returns are the same\n",
    "for i in 1:size(new_xgb_preds,1)\n",
    "    if new_xgb_preds[i,1] != returns[i,1] || new_xgb_preds[i,2] != returns[i,2]\n",
    "        println(\"not the same\")\n",
    "    end\n",
    "end\n"
   ]
  },
  {
   "cell_type": "code",
   "execution_count": 20,
   "metadata": {},
   "outputs": [
    {
     "data": {
      "text/plain": [
       "5×3 Matrix{Float64}:\n",
       " 0.877574  0.092279  0.0301469\n",
       " 0.62033   0.321542  0.0581277\n",
       " 0.777283  0.157289  0.0654282\n",
       " 0.875244  0.10078   0.023976\n",
       " 0.833057  0.153163  0.0137804"
      ]
     },
     "metadata": {},
     "output_type": "display_data"
    }
   ],
   "source": [
    "new_xgb_probs[1:5,:]"
   ]
  },
  {
   "cell_type": "markdown",
   "metadata": {},
   "source": [
    "## ____________________________________________________________________"
   ]
  },
  {
   "cell_type": "code",
   "execution_count": 21,
   "metadata": {},
   "outputs": [
    {
     "data": {
      "text/plain": [
       "FIFA2022_GS_Bettings (generic function with 1 method)"
      ]
     },
     "metadata": {},
     "output_type": "display_data"
    }
   ],
   "source": [
    "function FIFA2022_GS_Bettings(P, R, B, K)\n",
    "    \n",
    "    # define model\n",
    "    model = Model(Gurobi.Optimizer)\n",
    "\n",
    "    # define parameters and decision variables\n",
    "    m = size(P, 1)              # 48 group stage matches\n",
    "    n = size(P, 2)              # 3 outcomes\n",
    "\n",
    "    @variable(model, x[i=1:m, j=1:n] >= 0) # x[i,j] is the amount of money bet on outcome j of match i\n",
    "    @variable(model, z[i=1:m, j=1:n], Bin) # z[i,j] is whether you bet on outcome j of match i\n",
    "\n",
    "    # define objective: maximising expected total returns across all matches\n",
    "    @objective(model, Max, sum(P[i,1]*R[i,1]*x[i,1] + \n",
    "                               P[i,2]*R[i,2]*x[i,2] + \n",
    "                               P[i,3]*R[i,3]*x[i,3] - \n",
    "                               sum(x[i,j] for j=1:n) for i=1:m))\n",
    "\n",
    "    # # constraints\n",
    "    # 1) You can only bet on one outcome for each match\n",
    "    @constraint(model, [i=1:m], sum(z[i,j] for j=1:n) <= 1)\n",
    "\n",
    "    # 2) x[i,j] <= B/12*z[i,j] for all i and j\n",
    "    # you can't bet more than half of your budget on a single match\n",
    "    @constraint(model, [i=1:m, j=1:n], x[i,j] <= B/2*z[i,j])\n",
    "\n",
    "    # 3) Budget constraints\n",
    "    @constraint(model, sum(x[i,j] for j=1:n, i=1:m) <= B)\n",
    "\n",
    "    # 4) You must spread your risk across at least K matches\n",
    "    @constraint(model, sum(z[i,j] for j=1:n, i=1:m) >= K)\n",
    "\n",
    "    # 5) if z = 1, then x > 0\n",
    "    @constraint(model, [i=1:m, j=1:n], x[i,j] >= 1*z[i,j])\n",
    "\n",
    "    # solve model\n",
    "    optimize!(model)\n",
    "\n",
    "    # get optimal bet amounts (x) and how you bet (z)\n",
    "    opt_val = objective_value(model)\n",
    "    x_opt = value.(x)\n",
    "    z_opt = value.(z)\n",
    "\n",
    "    return opt_val, x_opt, z_opt\n",
    "end"
   ]
  },
  {
   "cell_type": "code",
   "execution_count": 23,
   "metadata": {},
   "outputs": [
    {
     "name": "stdout",
     "output_type": "stream",
     "text": [
      "Set parameter Username\r\n",
      "Academic license - for non-commercial use only - expires 2023-08-16\r\n",
      "Gurobi Optimizer version 9.5.2 build v9.5.2rc0 (win64)\r\n",
      "Thread count: 14 physical cores, 20 logical processors, using up to 20 threads\r\n",
      "Optimize a model with 338 rows, 288 columns and 1008 nonzeros\r\n",
      "Model fingerprint: 0x88467870\r\n",
      "Variable types: 144 continuous, 144 integer (144 binary)\r\n",
      "Coefficient statistics:\r\n",
      "  Matrix range     [1e+00, 3e+03]\r\n",
      "  Objective range  [2e-04, 2e+01]\r\n",
      "  Bounds range     [0e+00, 0e+00]\r\n",
      "  RHS range        [1e+00, 5e+03]\r\n",
      "Found heuristic solution: objective 12283.348132\r\n",
      "Presolve removed 217 rows and 156 columns\r\n",
      "Presolve time: 0.01s\r\n",
      "Presolved: 121 rows, 132 columns, 425 nonzeros\r\n",
      "Variable types: 0 continuous, 132 integer (90 binary)\r\n",
      "Found heuristic solution: objective 12337.909060\r\n",
      "\r\n",
      "Root relaxation: objective 7.266451e+04, 71 iterations, 0.00 seconds (0.00 work units)\r\n",
      "\r\n",
      "    Nodes    |    Current Node    |     Objective Bounds      |     Work\r\n",
      " Expl Unexpl |  Obj  Depth IntInf | Incumbent    BestBd   Gap | It/Node Time\r\n",
      "\r\n",
      "*    0     0               0    72664.511483 72664.5115  0.00%     -    0s\r\n",
      "\r\n",
      "Explored 1 nodes (71 simplex iterations) in 0.02 seconds (0.00 work units)\r\n",
      "Thread count was 20 (of 20 available processors)\r\n",
      "\r\n",
      "Solution count 3: 72664.5 12337.9 12283.3 \r\n",
      "\r\n",
      "Optimal solution found (tolerance 1.00e-04)\r\n",
      "Best objective 7.266451148280e+04, best bound 7.266451148280e+04, gap 0.0000%\r\n",
      "\r\n",
      "User-callback calls 314, time in user-callback 0.00 sec\r\n"
     ]
    }
   ],
   "source": [
    "exp_prof, x_opt, z_opt = FIFA2022_GS_Bettings(new_xgb_probs, returns_matrix, 5000, 5);"
   ]
  },
  {
   "cell_type": "code",
   "execution_count": 24,
   "metadata": {},
   "outputs": [
    {
     "data": {
      "text/plain": [
       "5-element Vector{CartesianIndex{2}}:\n",
       " CartesianIndex(8, 1)\n",
       " CartesianIndex(11, 1)\n",
       " CartesianIndex(24, 1)\n",
       " CartesianIndex(31, 1)\n",
       " CartesianIndex(40, 3)"
      ]
     },
     "metadata": {},
     "output_type": "display_data"
    }
   ],
   "source": [
    "# which matches to bet on\n",
    "betting_matches = findall(x -> x >= 1, z_opt)"
   ]
  },
  {
   "cell_type": "code",
   "execution_count": 25,
   "metadata": {},
   "outputs": [
    {
     "data": {
      "text/plain": [
       "5-element Vector{Int64}:\n",
       "  8\n",
       " 11\n",
       " 24\n",
       " 31\n",
       " 40"
      ]
     },
     "metadata": {},
     "output_type": "display_data"
    }
   ],
   "source": [
    "# make betting matches into list of first index of tuples\n",
    "betting_matches_list = [x[1] for x in betting_matches]\n",
    "betting_matches_outcomes = [x[2] for x in betting_matches]\n",
    "\n",
    "betting_matches_list"
   ]
  },
  {
   "cell_type": "code",
   "execution_count": 27,
   "metadata": {},
   "outputs": [
    {
     "data": {
      "text/plain": [
       "3-element Vector{Float64}:\n",
       " 2500.0\n",
       "    0.0\n",
       "    0.0"
      ]
     },
     "metadata": {},
     "output_type": "display_data"
    }
   ],
   "source": [
    "x_opt[11,:]"
   ]
  },
  {
   "cell_type": "code",
   "execution_count": 28,
   "metadata": {},
   "outputs": [
    {
     "data": {
      "text/html": [
       "<div><div style = \"float: left;\"><span>DataFrameRow (8 columns)</span></div><div style = \"clear: both;\"></div></div><div class = \"data-frame\" style = \"overflow-x: scroll;\"><table class = \"data-frame\" style = \"margin-bottom: 6px;\"><thead><tr class = \"header\"><th class = \"rowLabel\" style = \"font-weight: bold; text-align: right;\">Row</th><th style = \"text-align: left;\">home_team</th><th style = \"text-align: left;\">away_team</th><th style = \"text-align: left;\">home_win_earnings_per_dollar</th><th style = \"text-align: left;\">draw_earnings_per_dollar</th><th style = \"text-align: left;\">away_win_earnings_per_dollar</th><th style = \"text-align: left;\">implied_probability_of_home_win</th><th style = \"text-align: left;\">implied_probability_of_draw</th><th style = \"text-align: left;\">implied_probability_of_away_win</th></tr><tr class = \"subheader headerLastRow\"><th class = \"rowLabel\" style = \"font-weight: bold; text-align: right;\"></th><th title = \"String15\" style = \"text-align: left;\">String15</th><th title = \"String15\" style = \"text-align: left;\">String15</th><th title = \"Float64\" style = \"text-align: left;\">Float64</th><th title = \"Float64\" style = \"text-align: left;\">Float64</th><th title = \"Float64\" style = \"text-align: left;\">Float64</th><th title = \"Float64\" style = \"text-align: left;\">Float64</th><th title = \"Float64\" style = \"text-align: left;\">Float64</th><th title = \"Float64\" style = \"text-align: left;\">Float64</th></tr></thead><tbody><tr><td class = \"rowLabel\" style = \"font-weight: bold; text-align: right;\">11</td><td style = \"text-align: left;\">Costa Rica</td><td style = \"text-align: left;\">Germany</td><td style = \"text-align: right;\">22.79</td><td style = \"text-align: right;\">10.17</td><td style = \"text-align: right;\">0.1</td><td style = \"text-align: right;\">0.0420345</td><td style = \"text-align: right;\">0.0895255</td><td style = \"text-align: right;\">0.909091</td></tr></tbody></table></div>"
      ],
      "text/latex": [
       "\\begin{tabular}{r|cccccc}\n",
       "\t& home\\_team & away\\_team & home\\_win\\_earnings\\_per\\_dollar & draw\\_earnings\\_per\\_dollar & away\\_win\\_earnings\\_per\\_dollar & \\\\\n",
       "\t\\hline\n",
       "\t& String15 & String15 & Float64 & Float64 & Float64 & \\\\\n",
       "\t\\hline\n",
       "\t11 & Costa Rica & Germany & 22.79 & 10.17 & 0.1 & $\\dots$ \\\\\n",
       "\\end{tabular}\n"
      ],
      "text/plain": [
       "\u001b[1mDataFrameRow\u001b[0m\n",
       "\u001b[1m Row \u001b[0m│\u001b[1m home_team  \u001b[0m\u001b[1m away_team \u001b[0m\u001b[1m home_win_earnings_per_dollar \u001b[0m\u001b[1m draw_earnings_per_\u001b[0m ⋯\n",
       "     │\u001b[90m String15   \u001b[0m\u001b[90m String15  \u001b[0m\u001b[90m Float64                      \u001b[0m\u001b[90m Float64           \u001b[0m ⋯\n",
       "─────┼──────────────────────────────────────────────────────────────────────────\n",
       "  11 │ Costa Rica  Germany                           22.79                     ⋯\n",
       "\u001b[36m                                                               5 columns omitted\u001b[0m"
      ]
     },
     "metadata": {},
     "output_type": "display_data"
    }
   ],
   "source": [
    "returns[11,:]"
   ]
  },
  {
   "cell_type": "code",
   "execution_count": 30,
   "metadata": {},
   "outputs": [
    {
     "data": {
      "text/html": [
       "<div><div style = \"float: left;\"><span>5×5 DataFrame</span></div><div style = \"clear: both;\"></div></div><div class = \"data-frame\" style = \"overflow-x: scroll;\"><table class = \"data-frame\" style = \"margin-bottom: 6px;\"><thead><tr class = \"header\"><th class = \"rowNumber\" style = \"font-weight: bold; text-align: right;\">Row</th><th style = \"text-align: left;\">home_team</th><th style = \"text-align: left;\">away_team</th><th style = \"text-align: left;\">home_win</th><th style = \"text-align: left;\">draw</th><th style = \"text-align: left;\">home_loss</th></tr><tr class = \"subheader headerLastRow\"><th class = \"rowNumber\" style = \"font-weight: bold; text-align: right;\"></th><th title = \"String15\" style = \"text-align: left;\">String15</th><th title = \"String15\" style = \"text-align: left;\">String15</th><th title = \"Float64\" style = \"text-align: left;\">Float64</th><th title = \"Float64\" style = \"text-align: left;\">Float64</th><th title = \"Float64\" style = \"text-align: left;\">Float64</th></tr></thead><tbody><tr><td class = \"rowNumber\" style = \"font-weight: bold; text-align: right;\">1</td><td style = \"text-align: left;\">Cameroon</td><td style = \"text-align: left;\">Brazil</td><td style = \"text-align: right;\">0.698354</td><td style = \"text-align: right;\">0.122271</td><td style = \"text-align: right;\">0.179375</td></tr><tr><td class = \"rowNumber\" style = \"font-weight: bold; text-align: right;\">2</td><td style = \"text-align: left;\">Costa Rica</td><td style = \"text-align: left;\">Germany</td><td style = \"text-align: right;\">0.877079</td><td style = \"text-align: right;\">0.0983449</td><td style = \"text-align: right;\">0.0245763</td></tr><tr><td class = \"rowNumber\" style = \"font-weight: bold; text-align: right;\">3</td><td style = \"text-align: left;\">Japan</td><td style = \"text-align: left;\">Spain</td><td style = \"text-align: right;\">0.859135</td><td style = \"text-align: right;\">0.0972361</td><td style = \"text-align: right;\">0.0436293</td></tr><tr><td class = \"rowNumber\" style = \"font-weight: bold; text-align: right;\">4</td><td style = \"text-align: left;\">Poland</td><td style = \"text-align: left;\">Argentina</td><td style = \"text-align: right;\">0.901598</td><td style = \"text-align: right;\">0.0948992</td><td style = \"text-align: right;\">0.00350266</td></tr><tr><td class = \"rowNumber\" style = \"font-weight: bold; text-align: right;\">5</td><td style = \"text-align: left;\">Spain</td><td style = \"text-align: left;\">Costa Rica</td><td style = \"text-align: right;\">0.0613555</td><td style = \"text-align: right;\">0.264049</td><td style = \"text-align: right;\">0.674595</td></tr></tbody></table></div>"
      ],
      "text/latex": [
       "\\begin{tabular}{r|ccccc}\n",
       "\t& home\\_team & away\\_team & home\\_win & draw & home\\_loss\\\\\n",
       "\t\\hline\n",
       "\t& String15 & String15 & Float64 & Float64 & Float64\\\\\n",
       "\t\\hline\n",
       "\t1 & Cameroon & Brazil & 0.698354 & 0.122271 & 0.179375 \\\\\n",
       "\t2 & Costa Rica & Germany & 0.877079 & 0.0983449 & 0.0245763 \\\\\n",
       "\t3 & Japan & Spain & 0.859135 & 0.0972361 & 0.0436293 \\\\\n",
       "\t4 & Poland & Argentina & 0.901598 & 0.0948992 & 0.00350266 \\\\\n",
       "\t5 & Spain & Costa Rica & 0.0613555 & 0.264049 & 0.674595 \\\\\n",
       "\\end{tabular}\n"
      ],
      "text/plain": [
       "\u001b[1m5×5 DataFrame\u001b[0m\n",
       "\u001b[1m Row \u001b[0m│\u001b[1m home_team  \u001b[0m\u001b[1m away_team  \u001b[0m\u001b[1m home_win  \u001b[0m\u001b[1m draw      \u001b[0m\u001b[1m home_loss  \u001b[0m\n",
       "     │\u001b[90m String15   \u001b[0m\u001b[90m String15   \u001b[0m\u001b[90m Float64   \u001b[0m\u001b[90m Float64   \u001b[0m\u001b[90m Float64    \u001b[0m\n",
       "─────┼──────────────────────────────────────────────────────────\n",
       "   1 │ Cameroon    Brazil      0.698354   0.122271   0.179375\n",
       "   2 │ Costa Rica  Germany     0.877079   0.0983449  0.0245763\n",
       "   3 │ Japan       Spain       0.859135   0.0972361  0.0436293\n",
       "   4 │ Poland      Argentina   0.901598   0.0948992  0.00350266\n",
       "   5 │ Spain       Costa Rica  0.0613555  0.264049   0.674595"
      ]
     },
     "metadata": {},
     "output_type": "display_data"
    }
   ],
   "source": [
    "outcomes = new_xgb_preds[betting_matches_list,:]"
   ]
  },
  {
   "cell_type": "code",
   "execution_count": 31,
   "metadata": {},
   "outputs": [],
   "source": [
    "outcomes[:,\"bet_amount\"] = [x_opt[i] for i in betting_matches];"
   ]
  },
  {
   "cell_type": "code",
   "execution_count": 32,
   "metadata": {},
   "outputs": [
    {
     "data": {
      "text/plain": [
       "5-element Vector{Int64}:\n",
       " 1\n",
       " 3\n",
       " 3\n",
       " 2\n",
       " 1"
      ]
     },
     "metadata": {},
     "output_type": "display_data"
    }
   ],
   "source": [
    "# rf_pred_outcomes\n",
    "outcomes[:,\"actual_outcome\"] = [1,3,3,2,1];\n",
    "\n",
    "# # new_xgb_pred_outcomes (fill out)\n",
    "# outcomes[:,\"actual_outcome\"]=[]"
   ]
  },
  {
   "cell_type": "code",
   "execution_count": 33,
   "metadata": {},
   "outputs": [],
   "source": [
    "outcomes[:,\"bet_outcome\"] = [x[2] for x in betting_matches];"
   ]
  },
  {
   "cell_type": "code",
   "execution_count": 34,
   "metadata": {},
   "outputs": [],
   "source": [
    "# is actual_outcome = bet_outcome?\n",
    "outcomes[:,\"correct\"] = outcomes[:,\"actual_outcome\"] .== outcomes[:,\"bet_outcome\"];"
   ]
  },
  {
   "cell_type": "code",
   "execution_count": 35,
   "metadata": {},
   "outputs": [
    {
     "data": {
      "text/plain": [
       "67665.5114827969"
      ]
     },
     "metadata": {},
     "output_type": "display_data"
    }
   ],
   "source": [
    "# bet result: if correct == false, then bet_result = -bet_amount, if correct == true, then bet_result = bet_amount*\n",
    "bet_result = exp_prof - sum(outcomes[:,\"bet_amount\"].* (outcomes[:,\"correct\"].==false))"
   ]
  },
  {
   "cell_type": "code",
   "execution_count": 40,
   "metadata": {},
   "outputs": [
    {
     "data": {
      "text/plain": [
       "-4999.0"
      ]
     },
     "metadata": {},
     "output_type": "display_data"
    }
   ],
   "source": [
    "-sum(outcomes[:,\"bet_amount\"].*(outcomes[:,\"correct\"].==false))"
   ]
  },
  {
   "cell_type": "code",
   "execution_count": 39,
   "metadata": {},
   "outputs": [
    {
     "data": {
      "text/html": [
       "<div><div style = \"float: left;\"><span>5×9 DataFrame</span></div><div style = \"clear: both;\"></div></div><div class = \"data-frame\" style = \"overflow-x: scroll;\"><table class = \"data-frame\" style = \"margin-bottom: 6px;\"><thead><tr class = \"header\"><th class = \"rowNumber\" style = \"font-weight: bold; text-align: right;\">Row</th><th style = \"text-align: left;\">home_team</th><th style = \"text-align: left;\">away_team</th><th style = \"text-align: left;\">home_win</th><th style = \"text-align: left;\">draw</th><th style = \"text-align: left;\">home_loss</th><th style = \"text-align: left;\">bet_amount</th><th style = \"text-align: left;\">actual_outcome</th><th style = \"text-align: left;\">bet_outcome</th><th style = \"text-align: left;\">correct</th></tr><tr class = \"subheader headerLastRow\"><th class = \"rowNumber\" style = \"font-weight: bold; text-align: right;\"></th><th title = \"String15\" style = \"text-align: left;\">String15</th><th title = \"String15\" style = \"text-align: left;\">String15</th><th title = \"Float64\" style = \"text-align: left;\">Float64</th><th title = \"Float64\" style = \"text-align: left;\">Float64</th><th title = \"Float64\" style = \"text-align: left;\">Float64</th><th title = \"Float64\" style = \"text-align: left;\">Float64</th><th title = \"Int64\" style = \"text-align: left;\">Int64</th><th title = \"Int64\" style = \"text-align: left;\">Int64</th><th title = \"Bool\" style = \"text-align: left;\">Bool</th></tr></thead><tbody><tr><td class = \"rowNumber\" style = \"font-weight: bold; text-align: right;\">1</td><td style = \"text-align: left;\">Cameroon</td><td style = \"text-align: left;\">Brazil</td><td style = \"text-align: right;\">0.698354</td><td style = \"text-align: right;\">0.122271</td><td style = \"text-align: right;\">0.179375</td><td style = \"text-align: right;\">1.0</td><td style = \"text-align: right;\">1</td><td style = \"text-align: right;\">1</td><td style = \"text-align: right;\">true</td></tr><tr><td class = \"rowNumber\" style = \"font-weight: bold; text-align: right;\">2</td><td style = \"text-align: left;\">Costa Rica</td><td style = \"text-align: left;\">Germany</td><td style = \"text-align: right;\">0.877079</td><td style = \"text-align: right;\">0.0983449</td><td style = \"text-align: right;\">0.0245763</td><td style = \"text-align: right;\">2500.0</td><td style = \"text-align: right;\">3</td><td style = \"text-align: right;\">1</td><td style = \"text-align: right;\">false</td></tr><tr><td class = \"rowNumber\" style = \"font-weight: bold; text-align: right;\">3</td><td style = \"text-align: left;\">Japan</td><td style = \"text-align: left;\">Spain</td><td style = \"text-align: right;\">0.859135</td><td style = \"text-align: right;\">0.0972361</td><td style = \"text-align: right;\">0.0436293</td><td style = \"text-align: right;\">1.0</td><td style = \"text-align: right;\">3</td><td style = \"text-align: right;\">1</td><td style = \"text-align: right;\">false</td></tr><tr><td class = \"rowNumber\" style = \"font-weight: bold; text-align: right;\">4</td><td style = \"text-align: left;\">Poland</td><td style = \"text-align: left;\">Argentina</td><td style = \"text-align: right;\">0.901598</td><td style = \"text-align: right;\">0.0948992</td><td style = \"text-align: right;\">0.00350266</td><td style = \"text-align: right;\">1.0</td><td style = \"text-align: right;\">2</td><td style = \"text-align: right;\">1</td><td style = \"text-align: right;\">false</td></tr><tr><td class = \"rowNumber\" style = \"font-weight: bold; text-align: right;\">5</td><td style = \"text-align: left;\">Spain</td><td style = \"text-align: left;\">Costa Rica</td><td style = \"text-align: right;\">0.0613555</td><td style = \"text-align: right;\">0.264049</td><td style = \"text-align: right;\">0.674595</td><td style = \"text-align: right;\">2497.0</td><td style = \"text-align: right;\">1</td><td style = \"text-align: right;\">3</td><td style = \"text-align: right;\">false</td></tr></tbody></table></div>"
      ],
      "text/latex": [
       "\\begin{tabular}{r|cccccccc}\n",
       "\t& home\\_team & away\\_team & home\\_win & draw & home\\_loss & bet\\_amount & actual\\_outcome & \\\\\n",
       "\t\\hline\n",
       "\t& String15 & String15 & Float64 & Float64 & Float64 & Float64 & Int64 & \\\\\n",
       "\t\\hline\n",
       "\t1 & Cameroon & Brazil & 0.698354 & 0.122271 & 0.179375 & 1.0 & 1 & $\\dots$ \\\\\n",
       "\t2 & Costa Rica & Germany & 0.877079 & 0.0983449 & 0.0245763 & 2500.0 & 3 & $\\dots$ \\\\\n",
       "\t3 & Japan & Spain & 0.859135 & 0.0972361 & 0.0436293 & 1.0 & 3 & $\\dots$ \\\\\n",
       "\t4 & Poland & Argentina & 0.901598 & 0.0948992 & 0.00350266 & 1.0 & 2 & $\\dots$ \\\\\n",
       "\t5 & Spain & Costa Rica & 0.0613555 & 0.264049 & 0.674595 & 2497.0 & 1 & $\\dots$ \\\\\n",
       "\\end{tabular}\n"
      ],
      "text/plain": [
       "\u001b[1m5×9 DataFrame\u001b[0m\n",
       "\u001b[1m Row \u001b[0m│\u001b[1m home_team  \u001b[0m\u001b[1m away_team  \u001b[0m\u001b[1m home_win  \u001b[0m\u001b[1m draw      \u001b[0m\u001b[1m home_loss  \u001b[0m\u001b[1m bet_amount \u001b[0m\u001b[1m a\u001b[0m ⋯\n",
       "     │\u001b[90m String15   \u001b[0m\u001b[90m String15   \u001b[0m\u001b[90m Float64   \u001b[0m\u001b[90m Float64   \u001b[0m\u001b[90m Float64    \u001b[0m\u001b[90m Float64    \u001b[0m\u001b[90m I\u001b[0m ⋯\n",
       "─────┼──────────────────────────────────────────────────────────────────────────\n",
       "   1 │ Cameroon    Brazil      0.698354   0.122271   0.179375           1.0    ⋯\n",
       "   2 │ Costa Rica  Germany     0.877079   0.0983449  0.0245763       2500.0\n",
       "   3 │ Japan       Spain       0.859135   0.0972361  0.0436293          1.0\n",
       "   4 │ Poland      Argentina   0.901598   0.0948992  0.00350266         1.0\n",
       "   5 │ Spain       Costa Rica  0.0613555  0.264049   0.674595        2497.0    ⋯\n",
       "\u001b[36m                                                               3 columns omitted\u001b[0m"
      ]
     },
     "metadata": {},
     "output_type": "display_data"
    }
   ],
   "source": [
    "outcomes"
   ]
  },
  {
   "cell_type": "code",
   "execution_count": 26,
   "metadata": {},
   "outputs": [
    {
     "data": {
      "text/plain": [
       "5-element Vector{CartesianIndex{2}}:\n",
       " CartesianIndex(8, 1)\n",
       " CartesianIndex(11, 1)\n",
       " CartesianIndex(31, 1)\n",
       " CartesianIndex(14, 3)\n",
       " CartesianIndex(40, 3)"
      ]
     },
     "execution_count": 26,
     "metadata": {},
     "output_type": "execute_result"
    }
   ],
   "source": [
    "betting_matches"
   ]
  },
  {
   "cell_type": "markdown",
   "metadata": {},
   "source": [
    "## money actually earned"
   ]
  },
  {
   "cell_type": "code",
   "execution_count": 41,
   "metadata": {},
   "outputs": [
    {
     "data": {
      "text/html": [
       "<div><div style = \"float: left;\"><span>5×11 DataFrame</span></div><div style = \"clear: both;\"></div></div><div class = \"data-frame\" style = \"overflow-x: scroll;\"><table class = \"data-frame\" style = \"margin-bottom: 6px;\"><thead><tr class = \"header\"><th class = \"rowNumber\" style = \"font-weight: bold; text-align: right;\">Row</th><th style = \"text-align: left;\">home_team</th><th style = \"text-align: left;\">away_team</th><th style = \"text-align: left;\">home_win</th><th style = \"text-align: left;\">draw</th><th style = \"text-align: left;\">home_loss</th><th style = \"text-align: left;\">bet_amount</th><th style = \"text-align: left;\">actual_outcome</th><th style = \"text-align: left;\">bet_outcome</th><th style = \"text-align: left;\">correct</th><th style = \"text-align: left;\">betting_matches_indices</th><th style = \"text-align: left;\">betting_matches_outcomes</th></tr><tr class = \"subheader headerLastRow\"><th class = \"rowNumber\" style = \"font-weight: bold; text-align: right;\"></th><th title = \"String15\" style = \"text-align: left;\">String15</th><th title = \"String15\" style = \"text-align: left;\">String15</th><th title = \"Float64\" style = \"text-align: left;\">Float64</th><th title = \"Float64\" style = \"text-align: left;\">Float64</th><th title = \"Float64\" style = \"text-align: left;\">Float64</th><th title = \"Float64\" style = \"text-align: left;\">Float64</th><th title = \"Int64\" style = \"text-align: left;\">Int64</th><th title = \"Int64\" style = \"text-align: left;\">Int64</th><th title = \"Bool\" style = \"text-align: left;\">Bool</th><th title = \"Int64\" style = \"text-align: left;\">Int64</th><th title = \"Int64\" style = \"text-align: left;\">Int64</th></tr></thead><tbody><tr><td class = \"rowNumber\" style = \"font-weight: bold; text-align: right;\">1</td><td style = \"text-align: left;\">Cameroon</td><td style = \"text-align: left;\">Brazil</td><td style = \"text-align: right;\">0.698354</td><td style = \"text-align: right;\">0.122271</td><td style = \"text-align: right;\">0.179375</td><td style = \"text-align: right;\">1.0</td><td style = \"text-align: right;\">1</td><td style = \"text-align: right;\">1</td><td style = \"text-align: right;\">true</td><td style = \"text-align: right;\">8</td><td style = \"text-align: right;\">1</td></tr><tr><td class = \"rowNumber\" style = \"font-weight: bold; text-align: right;\">2</td><td style = \"text-align: left;\">Costa Rica</td><td style = \"text-align: left;\">Germany</td><td style = \"text-align: right;\">0.877079</td><td style = \"text-align: right;\">0.0983449</td><td style = \"text-align: right;\">0.0245763</td><td style = \"text-align: right;\">2500.0</td><td style = \"text-align: right;\">3</td><td style = \"text-align: right;\">1</td><td style = \"text-align: right;\">false</td><td style = \"text-align: right;\">11</td><td style = \"text-align: right;\">1</td></tr><tr><td class = \"rowNumber\" style = \"font-weight: bold; text-align: right;\">3</td><td style = \"text-align: left;\">Japan</td><td style = \"text-align: left;\">Spain</td><td style = \"text-align: right;\">0.859135</td><td style = \"text-align: right;\">0.0972361</td><td style = \"text-align: right;\">0.0436293</td><td style = \"text-align: right;\">1.0</td><td style = \"text-align: right;\">3</td><td style = \"text-align: right;\">1</td><td style = \"text-align: right;\">false</td><td style = \"text-align: right;\">24</td><td style = \"text-align: right;\">1</td></tr><tr><td class = \"rowNumber\" style = \"font-weight: bold; text-align: right;\">4</td><td style = \"text-align: left;\">Poland</td><td style = \"text-align: left;\">Argentina</td><td style = \"text-align: right;\">0.901598</td><td style = \"text-align: right;\">0.0948992</td><td style = \"text-align: right;\">0.00350266</td><td style = \"text-align: right;\">1.0</td><td style = \"text-align: right;\">2</td><td style = \"text-align: right;\">1</td><td style = \"text-align: right;\">false</td><td style = \"text-align: right;\">31</td><td style = \"text-align: right;\">1</td></tr><tr><td class = \"rowNumber\" style = \"font-weight: bold; text-align: right;\">5</td><td style = \"text-align: left;\">Spain</td><td style = \"text-align: left;\">Costa Rica</td><td style = \"text-align: right;\">0.0613555</td><td style = \"text-align: right;\">0.264049</td><td style = \"text-align: right;\">0.674595</td><td style = \"text-align: right;\">2497.0</td><td style = \"text-align: right;\">1</td><td style = \"text-align: right;\">3</td><td style = \"text-align: right;\">false</td><td style = \"text-align: right;\">40</td><td style = \"text-align: right;\">3</td></tr></tbody></table></div>"
      ],
      "text/latex": [
       "\\begin{tabular}{r|cccccccc}\n",
       "\t& home\\_team & away\\_team & home\\_win & draw & home\\_loss & bet\\_amount & actual\\_outcome & \\\\\n",
       "\t\\hline\n",
       "\t& String15 & String15 & Float64 & Float64 & Float64 & Float64 & Int64 & \\\\\n",
       "\t\\hline\n",
       "\t1 & Cameroon & Brazil & 0.698354 & 0.122271 & 0.179375 & 1.0 & 1 & $\\dots$ \\\\\n",
       "\t2 & Costa Rica & Germany & 0.877079 & 0.0983449 & 0.0245763 & 2500.0 & 3 & $\\dots$ \\\\\n",
       "\t3 & Japan & Spain & 0.859135 & 0.0972361 & 0.0436293 & 1.0 & 3 & $\\dots$ \\\\\n",
       "\t4 & Poland & Argentina & 0.901598 & 0.0948992 & 0.00350266 & 1.0 & 2 & $\\dots$ \\\\\n",
       "\t5 & Spain & Costa Rica & 0.0613555 & 0.264049 & 0.674595 & 2497.0 & 1 & $\\dots$ \\\\\n",
       "\\end{tabular}\n"
      ],
      "text/plain": [
       "\u001b[1m5×11 DataFrame\u001b[0m\n",
       "\u001b[1m Row \u001b[0m│\u001b[1m home_team  \u001b[0m\u001b[1m away_team  \u001b[0m\u001b[1m home_win  \u001b[0m\u001b[1m draw      \u001b[0m\u001b[1m home_loss  \u001b[0m\u001b[1m bet_amount \u001b[0m\u001b[1m a\u001b[0m ⋯\n",
       "     │\u001b[90m String15   \u001b[0m\u001b[90m String15   \u001b[0m\u001b[90m Float64   \u001b[0m\u001b[90m Float64   \u001b[0m\u001b[90m Float64    \u001b[0m\u001b[90m Float64    \u001b[0m\u001b[90m I\u001b[0m ⋯\n",
       "─────┼──────────────────────────────────────────────────────────────────────────\n",
       "   1 │ Cameroon    Brazil      0.698354   0.122271   0.179375           1.0    ⋯\n",
       "   2 │ Costa Rica  Germany     0.877079   0.0983449  0.0245763       2500.0\n",
       "   3 │ Japan       Spain       0.859135   0.0972361  0.0436293          1.0\n",
       "   4 │ Poland      Argentina   0.901598   0.0948992  0.00350266         1.0\n",
       "   5 │ Spain       Costa Rica  0.0613555  0.264049   0.674595        2497.0    ⋯\n",
       "\u001b[36m                                                               5 columns omitted\u001b[0m"
      ]
     },
     "metadata": {},
     "output_type": "display_data"
    }
   ],
   "source": [
    "outcomes\n",
    "\n",
    "# add betting_matches_list as a column called :betting_indices so we can map to the correct row and columns in 'returns' dataframe\n",
    "outcomes[:,\"betting_matches_indices\"] = betting_matches_list;\n",
    "outcomes[:,\"betting_matches_outcomes\"] = betting_matches_outcomes;\n",
    "outcomes"
   ]
  },
  {
   "cell_type": "code",
   "execution_count": 42,
   "metadata": {},
   "outputs": [
    {
     "data": {
      "text/html": [
       "<div><div style = \"float: left;\"><span>5×12 DataFrame</span></div><div style = \"clear: both;\"></div></div><div class = \"data-frame\" style = \"overflow-x: scroll;\"><table class = \"data-frame\" style = \"margin-bottom: 6px;\"><thead><tr class = \"header\"><th class = \"rowNumber\" style = \"font-weight: bold; text-align: right;\">Row</th><th style = \"text-align: left;\">home_team</th><th style = \"text-align: left;\">away_team</th><th style = \"text-align: left;\">home_win</th><th style = \"text-align: left;\">draw</th><th style = \"text-align: left;\">home_loss</th><th style = \"text-align: left;\">bet_amount</th><th style = \"text-align: left;\">actual_outcome</th><th style = \"text-align: left;\">bet_outcome</th><th style = \"text-align: left;\">correct</th><th style = \"text-align: left;\">betting_matches_indices</th><th style = \"text-align: left;\">betting_matches_outcomes</th><th style = \"text-align: left;\">if_bets_correct_profit</th></tr><tr class = \"subheader headerLastRow\"><th class = \"rowNumber\" style = \"font-weight: bold; text-align: right;\"></th><th title = \"String15\" style = \"text-align: left;\">String15</th><th title = \"String15\" style = \"text-align: left;\">String15</th><th title = \"Float64\" style = \"text-align: left;\">Float64</th><th title = \"Float64\" style = \"text-align: left;\">Float64</th><th title = \"Float64\" style = \"text-align: left;\">Float64</th><th title = \"Float64\" style = \"text-align: left;\">Float64</th><th title = \"Int64\" style = \"text-align: left;\">Int64</th><th title = \"Int64\" style = \"text-align: left;\">Int64</th><th title = \"Bool\" style = \"text-align: left;\">Bool</th><th title = \"Int64\" style = \"text-align: left;\">Int64</th><th title = \"Int64\" style = \"text-align: left;\">Int64</th><th title = \"Float64\" style = \"text-align: left;\">Float64</th></tr></thead><tbody><tr><td class = \"rowNumber\" style = \"font-weight: bold; text-align: right;\">1</td><td style = \"text-align: left;\">Cameroon</td><td style = \"text-align: left;\">Brazil</td><td style = \"text-align: right;\">0.698354</td><td style = \"text-align: right;\">0.122271</td><td style = \"text-align: right;\">0.179375</td><td style = \"text-align: right;\">1.0</td><td style = \"text-align: right;\">1</td><td style = \"text-align: right;\">1</td><td style = \"text-align: right;\">true</td><td style = \"text-align: right;\">8</td><td style = \"text-align: right;\">1</td><td style = \"text-align: right;\">6.93</td></tr><tr><td class = \"rowNumber\" style = \"font-weight: bold; text-align: right;\">2</td><td style = \"text-align: left;\">Costa Rica</td><td style = \"text-align: left;\">Germany</td><td style = \"text-align: right;\">0.877079</td><td style = \"text-align: right;\">0.0983449</td><td style = \"text-align: right;\">0.0245763</td><td style = \"text-align: right;\">2500.0</td><td style = \"text-align: right;\">3</td><td style = \"text-align: right;\">1</td><td style = \"text-align: right;\">false</td><td style = \"text-align: right;\">11</td><td style = \"text-align: right;\">1</td><td style = \"text-align: right;\">54475.0</td></tr><tr><td class = \"rowNumber\" style = \"font-weight: bold; text-align: right;\">3</td><td style = \"text-align: left;\">Japan</td><td style = \"text-align: left;\">Spain</td><td style = \"text-align: right;\">0.859135</td><td style = \"text-align: right;\">0.0972361</td><td style = \"text-align: right;\">0.0436293</td><td style = \"text-align: right;\">1.0</td><td style = \"text-align: right;\">3</td><td style = \"text-align: right;\">1</td><td style = \"text-align: right;\">false</td><td style = \"text-align: right;\">24</td><td style = \"text-align: right;\">1</td><td style = \"text-align: right;\">5.04</td></tr><tr><td class = \"rowNumber\" style = \"font-weight: bold; text-align: right;\">4</td><td style = \"text-align: left;\">Poland</td><td style = \"text-align: left;\">Argentina</td><td style = \"text-align: right;\">0.901598</td><td style = \"text-align: right;\">0.0948992</td><td style = \"text-align: right;\">0.00350266</td><td style = \"text-align: right;\">1.0</td><td style = \"text-align: right;\">2</td><td style = \"text-align: right;\">1</td><td style = \"text-align: right;\">false</td><td style = \"text-align: right;\">31</td><td style = \"text-align: right;\">1</td><td style = \"text-align: right;\">6.19</td></tr><tr><td class = \"rowNumber\" style = \"font-weight: bold; text-align: right;\">5</td><td style = \"text-align: left;\">Spain</td><td style = \"text-align: left;\">Costa Rica</td><td style = \"text-align: right;\">0.0613555</td><td style = \"text-align: right;\">0.264049</td><td style = \"text-align: right;\">0.674595</td><td style = \"text-align: right;\">2497.0</td><td style = \"text-align: right;\">1</td><td style = \"text-align: right;\">3</td><td style = \"text-align: right;\">false</td><td style = \"text-align: right;\">40</td><td style = \"text-align: right;\">3</td><td style = \"text-align: right;\">38528.7</td></tr></tbody></table></div>"
      ],
      "text/latex": [
       "\\begin{tabular}{r|cccccccc}\n",
       "\t& home\\_team & away\\_team & home\\_win & draw & home\\_loss & bet\\_amount & actual\\_outcome & \\\\\n",
       "\t\\hline\n",
       "\t& String15 & String15 & Float64 & Float64 & Float64 & Float64 & Int64 & \\\\\n",
       "\t\\hline\n",
       "\t1 & Cameroon & Brazil & 0.698354 & 0.122271 & 0.179375 & 1.0 & 1 & $\\dots$ \\\\\n",
       "\t2 & Costa Rica & Germany & 0.877079 & 0.0983449 & 0.0245763 & 2500.0 & 3 & $\\dots$ \\\\\n",
       "\t3 & Japan & Spain & 0.859135 & 0.0972361 & 0.0436293 & 1.0 & 3 & $\\dots$ \\\\\n",
       "\t4 & Poland & Argentina & 0.901598 & 0.0948992 & 0.00350266 & 1.0 & 2 & $\\dots$ \\\\\n",
       "\t5 & Spain & Costa Rica & 0.0613555 & 0.264049 & 0.674595 & 2497.0 & 1 & $\\dots$ \\\\\n",
       "\\end{tabular}\n"
      ],
      "text/plain": [
       "\u001b[1m5×12 DataFrame\u001b[0m\n",
       "\u001b[1m Row \u001b[0m│\u001b[1m home_team  \u001b[0m\u001b[1m away_team  \u001b[0m\u001b[1m home_win  \u001b[0m\u001b[1m draw      \u001b[0m\u001b[1m home_loss  \u001b[0m\u001b[1m bet_amount \u001b[0m\u001b[1m a\u001b[0m ⋯\n",
       "     │\u001b[90m String15   \u001b[0m\u001b[90m String15   \u001b[0m\u001b[90m Float64   \u001b[0m\u001b[90m Float64   \u001b[0m\u001b[90m Float64    \u001b[0m\u001b[90m Float64    \u001b[0m\u001b[90m I\u001b[0m ⋯\n",
       "─────┼──────────────────────────────────────────────────────────────────────────\n",
       "   1 │ Cameroon    Brazil      0.698354   0.122271   0.179375           1.0    ⋯\n",
       "   2 │ Costa Rica  Germany     0.877079   0.0983449  0.0245763       2500.0\n",
       "   3 │ Japan       Spain       0.859135   0.0972361  0.0436293          1.0\n",
       "   4 │ Poland      Argentina   0.901598   0.0948992  0.00350266         1.0\n",
       "   5 │ Spain       Costa Rica  0.0613555  0.264049   0.674595        2497.0    ⋯\n",
       "\u001b[36m                                                               6 columns omitted\u001b[0m"
      ]
     },
     "metadata": {},
     "output_type": "display_data"
    }
   ],
   "source": [
    "# # EXPECTED PROFIT\n",
    "# create a new column called \"if_bets_correct_profit\" that calculates the profit if the bets are correct\n",
    "# initialise new if bets correct profit list\n",
    "if_bets_correct_profit = zeros(size(outcomes,1))\n",
    "\n",
    "# for each row in outcomes, calculate the profit if the bets are correct\n",
    "for i in 1:size(outcomes,1)\n",
    "    if_bets_correct_profit[i] = outcomes[i,\"bet_amount\"] * returns[outcomes[i,\"betting_matches_indices\"],outcomes[i,\"betting_matches_outcomes\"]+2] - outcomes[i,\"bet_amount\"]\n",
    "end\n",
    "\n",
    "# add if_bets_correct_profit to outcomes dataframe\n",
    "outcomes[:,\"if_bets_correct_profit\"] = if_bets_correct_profit;\n",
    "outcomes\n"
   ]
  },
  {
   "cell_type": "code",
   "execution_count": 43,
   "metadata": {},
   "outputs": [
    {
     "data": {
      "text/html": [
       "<div><div style = \"float: left;\"><span>5×13 DataFrame</span></div><div style = \"clear: both;\"></div></div><div class = \"data-frame\" style = \"overflow-x: scroll;\"><table class = \"data-frame\" style = \"margin-bottom: 6px;\"><thead><tr class = \"header\"><th class = \"rowNumber\" style = \"font-weight: bold; text-align: right;\">Row</th><th style = \"text-align: left;\">home_team</th><th style = \"text-align: left;\">away_team</th><th style = \"text-align: left;\">home_win</th><th style = \"text-align: left;\">draw</th><th style = \"text-align: left;\">home_loss</th><th style = \"text-align: left;\">bet_amount</th><th style = \"text-align: left;\">actual_outcome</th><th style = \"text-align: left;\">bet_outcome</th><th style = \"text-align: left;\">correct</th><th style = \"text-align: left;\">betting_matches_indices</th><th style = \"text-align: left;\">betting_matches_outcomes</th><th style = \"text-align: left;\">if_bets_correct_profit</th><th style = \"text-align: left;\">actual_profit</th></tr><tr class = \"subheader headerLastRow\"><th class = \"rowNumber\" style = \"font-weight: bold; text-align: right;\"></th><th title = \"String15\" style = \"text-align: left;\">String15</th><th title = \"String15\" style = \"text-align: left;\">String15</th><th title = \"Float64\" style = \"text-align: left;\">Float64</th><th title = \"Float64\" style = \"text-align: left;\">Float64</th><th title = \"Float64\" style = \"text-align: left;\">Float64</th><th title = \"Float64\" style = \"text-align: left;\">Float64</th><th title = \"Int64\" style = \"text-align: left;\">Int64</th><th title = \"Int64\" style = \"text-align: left;\">Int64</th><th title = \"Bool\" style = \"text-align: left;\">Bool</th><th title = \"Int64\" style = \"text-align: left;\">Int64</th><th title = \"Int64\" style = \"text-align: left;\">Int64</th><th title = \"Float64\" style = \"text-align: left;\">Float64</th><th title = \"Float64\" style = \"text-align: left;\">Float64</th></tr></thead><tbody><tr><td class = \"rowNumber\" style = \"font-weight: bold; text-align: right;\">1</td><td style = \"text-align: left;\">Cameroon</td><td style = \"text-align: left;\">Brazil</td><td style = \"text-align: right;\">0.698354</td><td style = \"text-align: right;\">0.122271</td><td style = \"text-align: right;\">0.179375</td><td style = \"text-align: right;\">1.0</td><td style = \"text-align: right;\">1</td><td style = \"text-align: right;\">1</td><td style = \"text-align: right;\">true</td><td style = \"text-align: right;\">8</td><td style = \"text-align: right;\">1</td><td style = \"text-align: right;\">6.93</td><td style = \"text-align: right;\">6.93</td></tr><tr><td class = \"rowNumber\" style = \"font-weight: bold; text-align: right;\">2</td><td style = \"text-align: left;\">Costa Rica</td><td style = \"text-align: left;\">Germany</td><td style = \"text-align: right;\">0.877079</td><td style = \"text-align: right;\">0.0983449</td><td style = \"text-align: right;\">0.0245763</td><td style = \"text-align: right;\">2500.0</td><td style = \"text-align: right;\">3</td><td style = \"text-align: right;\">1</td><td style = \"text-align: right;\">false</td><td style = \"text-align: right;\">11</td><td style = \"text-align: right;\">1</td><td style = \"text-align: right;\">54475.0</td><td style = \"text-align: right;\">-2500.0</td></tr><tr><td class = \"rowNumber\" style = \"font-weight: bold; text-align: right;\">3</td><td style = \"text-align: left;\">Japan</td><td style = \"text-align: left;\">Spain</td><td style = \"text-align: right;\">0.859135</td><td style = \"text-align: right;\">0.0972361</td><td style = \"text-align: right;\">0.0436293</td><td style = \"text-align: right;\">1.0</td><td style = \"text-align: right;\">3</td><td style = \"text-align: right;\">1</td><td style = \"text-align: right;\">false</td><td style = \"text-align: right;\">24</td><td style = \"text-align: right;\">1</td><td style = \"text-align: right;\">5.04</td><td style = \"text-align: right;\">-1.0</td></tr><tr><td class = \"rowNumber\" style = \"font-weight: bold; text-align: right;\">4</td><td style = \"text-align: left;\">Poland</td><td style = \"text-align: left;\">Argentina</td><td style = \"text-align: right;\">0.901598</td><td style = \"text-align: right;\">0.0948992</td><td style = \"text-align: right;\">0.00350266</td><td style = \"text-align: right;\">1.0</td><td style = \"text-align: right;\">2</td><td style = \"text-align: right;\">1</td><td style = \"text-align: right;\">false</td><td style = \"text-align: right;\">31</td><td style = \"text-align: right;\">1</td><td style = \"text-align: right;\">6.19</td><td style = \"text-align: right;\">-1.0</td></tr><tr><td class = \"rowNumber\" style = \"font-weight: bold; text-align: right;\">5</td><td style = \"text-align: left;\">Spain</td><td style = \"text-align: left;\">Costa Rica</td><td style = \"text-align: right;\">0.0613555</td><td style = \"text-align: right;\">0.264049</td><td style = \"text-align: right;\">0.674595</td><td style = \"text-align: right;\">2497.0</td><td style = \"text-align: right;\">1</td><td style = \"text-align: right;\">3</td><td style = \"text-align: right;\">false</td><td style = \"text-align: right;\">40</td><td style = \"text-align: right;\">3</td><td style = \"text-align: right;\">38528.7</td><td style = \"text-align: right;\">-2497.0</td></tr></tbody></table></div>"
      ],
      "text/latex": [
       "\\begin{tabular}{r|cccccccc}\n",
       "\t& home\\_team & away\\_team & home\\_win & draw & home\\_loss & bet\\_amount & actual\\_outcome & \\\\\n",
       "\t\\hline\n",
       "\t& String15 & String15 & Float64 & Float64 & Float64 & Float64 & Int64 & \\\\\n",
       "\t\\hline\n",
       "\t1 & Cameroon & Brazil & 0.698354 & 0.122271 & 0.179375 & 1.0 & 1 & $\\dots$ \\\\\n",
       "\t2 & Costa Rica & Germany & 0.877079 & 0.0983449 & 0.0245763 & 2500.0 & 3 & $\\dots$ \\\\\n",
       "\t3 & Japan & Spain & 0.859135 & 0.0972361 & 0.0436293 & 1.0 & 3 & $\\dots$ \\\\\n",
       "\t4 & Poland & Argentina & 0.901598 & 0.0948992 & 0.00350266 & 1.0 & 2 & $\\dots$ \\\\\n",
       "\t5 & Spain & Costa Rica & 0.0613555 & 0.264049 & 0.674595 & 2497.0 & 1 & $\\dots$ \\\\\n",
       "\\end{tabular}\n"
      ],
      "text/plain": [
       "\u001b[1m5×13 DataFrame\u001b[0m\n",
       "\u001b[1m Row \u001b[0m│\u001b[1m home_team  \u001b[0m\u001b[1m away_team  \u001b[0m\u001b[1m home_win  \u001b[0m\u001b[1m draw      \u001b[0m\u001b[1m home_loss  \u001b[0m\u001b[1m bet_amount \u001b[0m\u001b[1m a\u001b[0m ⋯\n",
       "     │\u001b[90m String15   \u001b[0m\u001b[90m String15   \u001b[0m\u001b[90m Float64   \u001b[0m\u001b[90m Float64   \u001b[0m\u001b[90m Float64    \u001b[0m\u001b[90m Float64    \u001b[0m\u001b[90m I\u001b[0m ⋯\n",
       "─────┼──────────────────────────────────────────────────────────────────────────\n",
       "   1 │ Cameroon    Brazil      0.698354   0.122271   0.179375           1.0    ⋯\n",
       "   2 │ Costa Rica  Germany     0.877079   0.0983449  0.0245763       2500.0\n",
       "   3 │ Japan       Spain       0.859135   0.0972361  0.0436293          1.0\n",
       "   4 │ Poland      Argentina   0.901598   0.0948992  0.00350266         1.0\n",
       "   5 │ Spain       Costa Rica  0.0613555  0.264049   0.674595        2497.0    ⋯\n",
       "\u001b[36m                                                               7 columns omitted\u001b[0m"
      ]
     },
     "metadata": {},
     "output_type": "display_data"
    }
   ],
   "source": [
    "# # ACTUAL PROFIT\n",
    "# for each row i in outcomes:\n",
    "# if correct == true, then actual_profit = if_bets_correct_profit, \n",
    "# if correct == false, then actual_profit = -bet_amount\n",
    "\n",
    "# initialise new actual profit list\n",
    "actual_profit = zeros(size(outcomes,1))\n",
    "\n",
    "# for each row in outcomes, calculate the actual profit and store in actual_profit list\n",
    "for i in 1:size(outcomes,1)\n",
    "    if outcomes[i,\"correct\"] == true\n",
    "        actual_profit[i] = outcomes[i,\"if_bets_correct_profit\"]\n",
    "    else\n",
    "        actual_profit[i] = -outcomes[i,\"bet_amount\"]\n",
    "    end\n",
    "end\n",
    "\n",
    "# add actual_profit to outcomes dataframe\n",
    "outcomes[:,\"actual_profit\"] = actual_profit;\n",
    "outcomes"
   ]
  },
  {
   "cell_type": "code",
   "execution_count": 44,
   "metadata": {},
   "outputs": [
    {
     "data": {
      "text/plain": [
       "-4992.07"
      ]
     },
     "metadata": {},
     "output_type": "display_data"
    }
   ],
   "source": [
    "# sum outcomes[:,\"actual_earnings\"]\n",
    "sum(outcomes[:,\"actual_profit\"])"
   ]
  },
  {
   "cell_type": "code",
   "execution_count": null,
   "metadata": {},
   "outputs": [],
   "source": []
  }
 ],
 "metadata": {
  "kernelspec": {
   "display_name": "Julia 1.8.2",
   "language": "julia",
   "name": "julia-1.8"
  },
  "language_info": {
   "file_extension": ".jl",
   "mimetype": "application/julia",
   "name": "julia",
   "version": "1.8.2"
  },
  "orig_nbformat": 4
 },
 "nbformat": 4,
 "nbformat_minor": 2
}

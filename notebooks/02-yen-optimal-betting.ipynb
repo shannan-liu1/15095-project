{
 "cells": [
  {
   "cell_type": "code",
   "execution_count": 1,
   "metadata": {},
   "outputs": [],
   "source": [
    "using DataFrames, CSV, JuMP, Gurobi, LinearAlgebra, Random, Printf, StatsBase, CategoricalArrays, Plots, StatsPlots, Distributions"
   ]
  },
  {
   "cell_type": "markdown",
   "metadata": {},
   "source": [
    "## ____________________________________________________________________"
   ]
  },
  {
   "cell_type": "markdown",
   "metadata": {},
   "source": [
    "## Import Datasets (Outputted Probabilities and Returns on $100 Bets)"
   ]
  },
  {
   "cell_type": "code",
   "execution_count": 4,
   "metadata": {},
   "outputs": [],
   "source": [
    "# # add actual data here\n",
    "# xgb_preds = CSV.read(\"C:\\\\Users\\\\shann\\\\Documents\\\\GitHub\\\\15095-project\\\\notebooks\\\\xgb_cv_pred.csv\",DataFrame)\n",
    "# rf_preds = CSV.read(\"C:\\\\Users\\\\shann\\\\Documents\\\\GitHub\\\\15095-project\\\\notebooks\\\\rf_pred.csv\",DataFrame)\n",
    "# lgbm_preds = CSV.read(\"C:\\\\Users\\\\shann\\\\Documents\\\\GitHub\\\\15095-project\\\\notebooks\\\\lgbm_cv_pred.csv\",DataFrame);\n",
    "# logreg_preds = CSV.read(\"C:\\\\Users\\\\shann\\\\Documents\\\\GitHub\\\\15095-project\\\\notebooks\\\\logreg_pred.csv\",DataFrame);\n",
    "# new_xgb_preds = CSV.read(\"C:\\\\Users\\\\shann\\\\Documents\\\\GitHub\\\\15095-project\\\\notebooks\\\\new_xgb_pred.csv\",DataFrame);\n",
    "# rf_preds = CSV.read(\"C:\\\\Users\\\\shann\\\\Documents\\\\GitHub\\\\15095-project\\\\notebooks\\\\rf_pred.csv\",DataFrame);\n",
    "# returns = CSV.read(\"C:\\\\Users\\\\shann\\\\Documents\\\\GitHub\\\\15095-project\\\\data\\\\group_stage_betting_odds_final_cleaned.csv\",DataFrame);\n",
    "\n",
    "# # add actual data here\n",
    "#new_xgb_preds = CSV.read(\"/Users/yenhann/Documents/MIT/15.095 Machine Learning/15095-project/notebooks/new_xgb_pred.csv\",DataFrame);\n",
    "rf_preds = CSV.read(\"/Users/yenhann/Documents/MIT/15.095 Machine Learning/15095-project/notebooks/rf_pred.csv\",DataFrame);\n",
    "returns = CSV.read(\"/Users/yenhann/Documents/MIT/15.095 Machine Learning/15095-project/data/group_stage_betting_odds_final_cleaned.csv\",DataFrame);"
   ]
  },
  {
   "cell_type": "code",
   "execution_count": 5,
   "metadata": {},
   "outputs": [],
   "source": [
    "returns_matrix = Matrix(returns[:,3:5]);\n",
    "# # matrix of probabilities for model's predictions\n",
    "# xgb_probs = Matrix(xgb_preds[:,3:5]);\n",
    "rf_probs = Matrix(rf_preds[:,3:5]);\n",
    "# lgbm_probs = Matrix(lgbm_preds[:,3:5]);\n",
    "# logreg_probs = Matrix(logreg_preds[:,3:5]);\n",
    "# new_xgb_probs = Matrix(new_xgb_preds[:,3:5]);"
   ]
  },
  {
   "cell_type": "code",
   "execution_count": 6,
   "metadata": {},
   "outputs": [
    {
     "data": {
      "text/html": [
       "<div><div style = \"float: left;\"><span>8×5 DataFrame</span></div><div style = \"clear: both;\"></div></div><div class = \"data-frame\" style = \"overflow-x: scroll;\"><table class = \"data-frame\" style = \"margin-bottom: 6px;\"><thead><tr class = \"header\"><th class = \"rowNumber\" style = \"font-weight: bold; text-align: right;\">Row</th><th style = \"text-align: left;\">home_team</th><th style = \"text-align: left;\">away_team</th><th style = \"text-align: left;\">home_win</th><th style = \"text-align: left;\">draw</th><th style = \"text-align: left;\">home_loss</th></tr><tr class = \"subheader headerLastRow\"><th class = \"rowNumber\" style = \"font-weight: bold; text-align: right;\"></th><th title = \"String15\" style = \"text-align: left;\">String15</th><th title = \"String15\" style = \"text-align: left;\">String15</th><th title = \"Float64\" style = \"text-align: left;\">Float64</th><th title = \"Float64\" style = \"text-align: left;\">Float64</th><th title = \"Float64\" style = \"text-align: left;\">Float64</th></tr></thead><tbody><tr><td class = \"rowNumber\" style = \"font-weight: bold; text-align: right;\">1</td><td style = \"text-align: left;\">Argentina</td><td style = \"text-align: left;\">Mexico</td><td style = \"text-align: right;\">0.78</td><td style = \"text-align: right;\">0.16</td><td style = \"text-align: right;\">0.06</td></tr><tr><td class = \"rowNumber\" style = \"font-weight: bold; text-align: right;\">2</td><td style = \"text-align: left;\">Argentina</td><td style = \"text-align: left;\">Saudi Arabia</td><td style = \"text-align: right;\">0.68</td><td style = \"text-align: right;\">0.25</td><td style = \"text-align: right;\">0.07</td></tr><tr><td class = \"rowNumber\" style = \"font-weight: bold; text-align: right;\">3</td><td style = \"text-align: left;\">Australia</td><td style = \"text-align: left;\">Denmark</td><td style = \"text-align: right;\">0.51</td><td style = \"text-align: right;\">0.28</td><td style = \"text-align: right;\">0.21</td></tr><tr><td class = \"rowNumber\" style = \"font-weight: bold; text-align: right;\">4</td><td style = \"text-align: left;\">Belgium</td><td style = \"text-align: left;\">Canada</td><td style = \"text-align: right;\">0.76</td><td style = \"text-align: right;\">0.16</td><td style = \"text-align: right;\">0.08</td></tr><tr><td class = \"rowNumber\" style = \"font-weight: bold; text-align: right;\">5</td><td style = \"text-align: left;\">Belgium</td><td style = \"text-align: left;\">Morocco</td><td style = \"text-align: right;\">0.71</td><td style = \"text-align: right;\">0.23</td><td style = \"text-align: right;\">0.06</td></tr><tr><td class = \"rowNumber\" style = \"font-weight: bold; text-align: right;\">6</td><td style = \"text-align: left;\">Brazil</td><td style = \"text-align: left;\">Serbia</td><td style = \"text-align: right;\">0.25</td><td style = \"text-align: right;\">0.23</td><td style = \"text-align: right;\">0.52</td></tr><tr><td class = \"rowNumber\" style = \"font-weight: bold; text-align: right;\">7</td><td style = \"text-align: left;\">Brazil</td><td style = \"text-align: left;\">Switzerland</td><td style = \"text-align: right;\">0.71</td><td style = \"text-align: right;\">0.2</td><td style = \"text-align: right;\">0.09</td></tr><tr><td class = \"rowNumber\" style = \"font-weight: bold; text-align: right;\">8</td><td style = \"text-align: left;\">Cameroon</td><td style = \"text-align: left;\">Brazil</td><td style = \"text-align: right;\">0.69</td><td style = \"text-align: right;\">0.13</td><td style = \"text-align: right;\">0.18</td></tr></tbody></table></div>"
      ],
      "text/latex": [
       "\\begin{tabular}{r|ccccc}\n",
       "\t& home\\_team & away\\_team & home\\_win & draw & home\\_loss\\\\\n",
       "\t\\hline\n",
       "\t& String15 & String15 & Float64 & Float64 & Float64\\\\\n",
       "\t\\hline\n",
       "\t1 & Argentina & Mexico & 0.78 & 0.16 & 0.06 \\\\\n",
       "\t2 & Argentina & Saudi Arabia & 0.68 & 0.25 & 0.07 \\\\\n",
       "\t3 & Australia & Denmark & 0.51 & 0.28 & 0.21 \\\\\n",
       "\t4 & Belgium & Canada & 0.76 & 0.16 & 0.08 \\\\\n",
       "\t5 & Belgium & Morocco & 0.71 & 0.23 & 0.06 \\\\\n",
       "\t6 & Brazil & Serbia & 0.25 & 0.23 & 0.52 \\\\\n",
       "\t7 & Brazil & Switzerland & 0.71 & 0.2 & 0.09 \\\\\n",
       "\t8 & Cameroon & Brazil & 0.69 & 0.13 & 0.18 \\\\\n",
       "\\end{tabular}\n"
      ],
      "text/plain": [
       "\u001b[1m8×5 DataFrame\n",
       "\u001b[1m Row │\u001b[1m home_team \u001b[1m away_team    \u001b[1m home_win \u001b[1m draw    \u001b[1m home_loss\n",
       "     │\u001b[90m String15  \u001b[90m String15     \u001b[90m Float64  \u001b[90m Float64 \u001b[90m Float64\n",
       "─────┼───────────────────────────────────────────────────────\n",
       "   1 │ Argentina  Mexico            0.78     0.16       0.06\n",
       "   2 │ Argentina  Saudi Arabia      0.68     0.25       0.07\n",
       "   3 │ Australia  Denmark           0.51     0.28       0.21\n",
       "   4 │ Belgium    Canada            0.76     0.16       0.08\n",
       "   5 │ Belgium    Morocco           0.71     0.23       0.06\n",
       "   6 │ Brazil     Serbia            0.25     0.23       0.52\n",
       "   7 │ Brazil     Switzerland       0.71     0.2        0.09\n",
       "   8 │ Cameroon   Brazil            0.69     0.13       0.18"
      ]
     },
     "execution_count": 6,
     "metadata": {},
     "output_type": "execute_result"
    }
   ],
   "source": [
    "rf_preds[1:8,:]"
   ]
  },
  {
   "cell_type": "code",
   "execution_count": 7,
   "metadata": {},
   "outputs": [
    {
     "data": {
      "text/html": [
       "<div><div style = \"float: left;\"><span>5×8 DataFrame</span></div><div style = \"clear: both;\"></div></div><div class = \"data-frame\" style = \"overflow-x: scroll;\"><table class = \"data-frame\" style = \"margin-bottom: 6px;\"><thead><tr class = \"header\"><th class = \"rowNumber\" style = \"font-weight: bold; text-align: right;\">Row</th><th style = \"text-align: left;\">home_team</th><th style = \"text-align: left;\">away_team</th><th style = \"text-align: left;\">home_win_earnings_per_dollar</th><th style = \"text-align: left;\">draw_earnings_per_dollar</th><th style = \"text-align: left;\">away_win_earnings_per_dollar</th><th style = \"text-align: left;\">implied_probability_of_home_win</th><th style = \"text-align: left;\">implied_probability_of_draw</th><th style = \"text-align: left;\">implied_probability_of_away_win</th></tr><tr class = \"subheader headerLastRow\"><th class = \"rowNumber\" style = \"font-weight: bold; text-align: right;\"></th><th title = \"String15\" style = \"text-align: left;\">String15</th><th title = \"String15\" style = \"text-align: left;\">String15</th><th title = \"Float64\" style = \"text-align: left;\">Float64</th><th title = \"Float64\" style = \"text-align: left;\">Float64</th><th title = \"Float64\" style = \"text-align: left;\">Float64</th><th title = \"Float64\" style = \"text-align: left;\">Float64</th><th title = \"Float64\" style = \"text-align: left;\">Float64</th><th title = \"Float64\" style = \"text-align: left;\">Float64</th></tr></thead><tbody><tr><td class = \"rowNumber\" style = \"font-weight: bold; text-align: right;\">1</td><td style = \"text-align: left;\">Argentina</td><td style = \"text-align: left;\">Mexico</td><td style = \"text-align: right;\">0.549451</td><td style = \"text-align: right;\">2.95</td><td style = \"text-align: right;\">6.12</td><td style = \"text-align: right;\">0.64539</td><td style = \"text-align: right;\">0.253165</td><td style = \"text-align: right;\">0.140449</td></tr><tr><td class = \"rowNumber\" style = \"font-weight: bold; text-align: right;\">2</td><td style = \"text-align: left;\">Argentina</td><td style = \"text-align: left;\">Saudi Arabia</td><td style = \"text-align: right;\">0.120048</td><td style = \"text-align: right;\">8.21</td><td style = \"text-align: right;\">24.52</td><td style = \"text-align: right;\">0.892819</td><td style = \"text-align: right;\">0.108578</td><td style = \"text-align: right;\">0.039185</td></tr><tr><td class = \"rowNumber\" style = \"font-weight: bold; text-align: right;\">3</td><td style = \"text-align: left;\">Australia</td><td style = \"text-align: left;\">Denmark</td><td style = \"text-align: right;\">6.38</td><td style = \"text-align: right;\">3.88</td><td style = \"text-align: right;\">0.429185</td><td style = \"text-align: right;\">0.135501</td><td style = \"text-align: right;\">0.204918</td><td style = \"text-align: right;\">0.6997</td></tr><tr><td class = \"rowNumber\" style = \"font-weight: bold; text-align: right;\">4</td><td style = \"text-align: left;\">Belgium</td><td style = \"text-align: left;\">Canada</td><td style = \"text-align: right;\">0.900901</td><td style = \"text-align: right;\">2.45</td><td style = \"text-align: right;\">3.51</td><td style = \"text-align: right;\">0.526066</td><td style = \"text-align: right;\">0.289855</td><td style = \"text-align: right;\">0.221729</td></tr><tr><td class = \"rowNumber\" style = \"font-weight: bold; text-align: right;\">5</td><td style = \"text-align: left;\">Belgium</td><td style = \"text-align: left;\">Morocco</td><td style = \"text-align: right;\">0.581395</td><td style = \"text-align: right;\">3.21</td><td style = \"text-align: right;\">4.92</td><td style = \"text-align: right;\">0.632353</td><td style = \"text-align: right;\">0.23753</td><td style = \"text-align: right;\">0.168919</td></tr></tbody></table></div>"
      ],
      "text/latex": [
       "\\begin{tabular}{r|ccccc}\n",
       "\t& home\\_team & away\\_team & home\\_win\\_earnings\\_per\\_dollar & draw\\_earnings\\_per\\_dollar & \\\\\n",
       "\t\\hline\n",
       "\t& String15 & String15 & Float64 & Float64 & \\\\\n",
       "\t\\hline\n",
       "\t1 & Argentina & Mexico & 0.549451 & 2.95 & $\\dots$ \\\\\n",
       "\t2 & Argentina & Saudi Arabia & 0.120048 & 8.21 & $\\dots$ \\\\\n",
       "\t3 & Australia & Denmark & 6.38 & 3.88 & $\\dots$ \\\\\n",
       "\t4 & Belgium & Canada & 0.900901 & 2.45 & $\\dots$ \\\\\n",
       "\t5 & Belgium & Morocco & 0.581395 & 3.21 & $\\dots$ \\\\\n",
       "\\end{tabular}\n"
      ],
      "text/plain": [
       "\u001b[1m5×8 DataFrame\n",
       "\u001b[1m Row │\u001b[1m home_team \u001b[1m away_team    \u001b[1m home_win_earnings_per_dollar \u001b[1m draw_earnings_pe ⋯\n",
       "     │\u001b[90m String15  \u001b[90m String15     \u001b[90m Float64                      \u001b[90m Float64          ⋯\n",
       "─────┼──────────────────────────────────────────────────────────────────────────\n",
       "   1 │ Argentina  Mexico                            0.549451                   ⋯\n",
       "   2 │ Argentina  Saudi Arabia                      0.120048\n",
       "   3 │ Australia  Denmark                           6.38\n",
       "   4 │ Belgium    Canada                            0.900901\n",
       "   5 │ Belgium    Morocco                           0.581395                   ⋯\n",
       "\u001b[36m                                                               5 columns omitted"
      ]
     },
     "execution_count": 7,
     "metadata": {},
     "output_type": "execute_result"
    }
   ],
   "source": [
    "returns[1:5,:]"
   ]
  },
  {
   "cell_type": "code",
   "execution_count": 8,
   "metadata": {},
   "outputs": [],
   "source": [
    "# check if each row of new_xgb_preds and returns are the same\n",
    "for i in 1:size(rf_preds,1)\n",
    "    if rf_preds[i,1] != returns[i,1] || rf_preds[i,2] != returns[i,2]\n",
    "        println(\"not the same\")\n",
    "    end\n",
    "end\n"
   ]
  },
  {
   "cell_type": "markdown",
   "metadata": {},
   "source": [
    "## ____________________________________________________________________"
   ]
  },
  {
   "cell_type": "code",
   "execution_count": 9,
   "metadata": {},
   "outputs": [
    {
     "data": {
      "text/plain": [
       "FIFA2022_GS_Bettings (generic function with 1 method)"
      ]
     },
     "execution_count": 9,
     "metadata": {},
     "output_type": "execute_result"
    }
   ],
   "source": [
    "function FIFA2022_GS_Bettings(P, R, B, K)\n",
    "    \n",
    "    # define model\n",
    "    model = Model(Gurobi.Optimizer)\n",
    "\n",
    "    # define parameters and decision variables\n",
    "    m = size(P, 1)              # 48 group stage matches\n",
    "    n = size(P, 2)              # 3 outcomes\n",
    "\n",
    "    @variable(model, x[i=1:m, j=1:n] >= 0) # x[i,j] is the amount of money bet on outcome j of match i\n",
    "    @variable(model, z[i=1:m, j=1:n], Bin) # z[i,j] is whether you bet on outcome j of match i\n",
    "\n",
    "    # define objective: maximising expected total returns across all matches\n",
    "    @objective(model, Max, sum(P[i,1]*R[i,1]*x[i,1] + \n",
    "                               P[i,2]*R[i,2]*x[i,2] + \n",
    "                               P[i,3]*R[i,3]*x[i,3] - \n",
    "                               sum(x[i,j] for j=1:n) for i=1:m))\n",
    "\n",
    "    # # constraints\n",
    "    # 1) You can only bet on one outcome for each match\n",
    "    @constraint(model, [i=1:m], sum(z[i,j] for j=1:n) <= 1)\n",
    "\n",
    "    # 2) x[i,j] <= B/12*z[i,j] for all i and j\n",
    "    # you can't bet more than half of your budget on a single match\n",
    "    @constraint(model, [i=1:m, j=1:n], x[i,j] <= B/2*z[i,j])\n",
    "\n",
    "    # 3) Budget constraints\n",
    "    @constraint(model, sum(x[i,j] for j=1:n, i=1:m) <= B)\n",
    "\n",
    "    # 4) You must spread your risk across at least K matches\n",
    "    @constraint(model, sum(z[i,j] for j=1:n, i=1:m) >= K)\n",
    "\n",
    "    # 5) if z = 1, then x > 0\n",
    "    @constraint(model, [i=1:m, j=1:n], x[i,j] >= 1*z[i,j])\n",
    "\n",
    "    # solve model\n",
    "    optimize!(model)\n",
    "\n",
    "    # get optimal bet amounts (x) and how you bet (z)\n",
    "    opt_val = objective_value(model)\n",
    "    x_opt = value.(x)\n",
    "    z_opt = value.(z)\n",
    "\n",
    "    return opt_val, x_opt, z_opt\n",
    "end"
   ]
  },
  {
   "cell_type": "code",
   "execution_count": 10,
   "metadata": {},
   "outputs": [
    {
     "name": "stdout",
     "output_type": "stream",
     "text": [
      "Set parameter Username\n",
      "Academic license - for non-commercial use only - expires 2023-08-19\n",
      "Gurobi Optimizer version 9.5.2 build v9.5.2rc0 (mac64[x86])\n",
      "Thread count: 4 physical cores, 8 logical processors, using up to 8 threads\n",
      "Optimize a model with 338 rows, 288 columns and 1008 nonzeros\n",
      "Model fingerprint: 0xf1626387\n",
      "Variable types: 144 continuous, 144 integer (144 binary)\n",
      "Coefficient statistics:\n",
      "  Matrix range     [1e+00, 2e+03]\n",
      "  Objective range  [4e-02, 2e+01]\n",
      "  Bounds range     [0e+00, 0e+00]\n",
      "  RHS range        [1e+00, 5e+03]\n",
      "Found heuristic solution: objective 9473.0225000\n",
      "Presolve removed 219 rows and 156 columns\n",
      "Presolve time: 0.00s\n",
      "Presolved: 119 rows, 132 columns, 423 nonzeros\n",
      "Variable types: 0 continuous, 132 integer (90 binary)\n",
      "Found heuristic solution: objective 9519.2570000\n",
      "\n",
      "Root relaxation: objective 5.686892e+04, 72 iterations, 0.00 seconds (0.00 work units)\n",
      "\n",
      "    Nodes    |    Current Node    |     Objective Bounds      |     Work\n",
      " Expl Unexpl |  Obj  Depth IntInf | Incumbent    BestBd   Gap | It/Node Time\n",
      "\n",
      "*    0     0               0    56868.922000 56868.9220  0.00%     -    0s\n",
      "\n",
      "Explored 1 nodes (72 simplex iterations) in 0.01 seconds (0.00 work units)\n",
      "Thread count was 8 (of 8 available processors)\n",
      "\n",
      "Solution count 3: 56868.9 9519.26 9473.02 \n",
      "\n",
      "Optimal solution found (tolerance 1.00e-04)\n",
      "Best objective 5.686892200000e+04, best bound 5.686892200000e+04, gap 0.0000%\n",
      "\n",
      "User-callback calls 311, time in user-callback 0.00 sec\n"
     ]
    }
   ],
   "source": [
    "exp_prof, x_opt, z_opt = FIFA2022_GS_Bettings(rf_probs, returns_matrix, 5000, 5);"
   ]
  },
  {
   "cell_type": "code",
   "execution_count": 11,
   "metadata": {},
   "outputs": [
    {
     "data": {
      "text/plain": [
       "5-element Vector{CartesianIndex{2}}:\n",
       " CartesianIndex(8, 1)\n",
       " CartesianIndex(11, 1)\n",
       " CartesianIndex(31, 1)\n",
       " CartesianIndex(14, 3)\n",
       " CartesianIndex(40, 3)"
      ]
     },
     "execution_count": 11,
     "metadata": {},
     "output_type": "execute_result"
    }
   ],
   "source": [
    "# which matches to bet on\n",
    "betting_matches = findall(x -> x >= 1, z_opt)"
   ]
  },
  {
   "cell_type": "code",
   "execution_count": 12,
   "metadata": {},
   "outputs": [
    {
     "data": {
      "text/plain": [
       "5-element Vector{Int64}:\n",
       "  8\n",
       " 11\n",
       " 31\n",
       " 14\n",
       " 40"
      ]
     },
     "execution_count": 12,
     "metadata": {},
     "output_type": "execute_result"
    }
   ],
   "source": [
    "# make betting matches into list of first index of tuples\n",
    "betting_matches_list = [x[1] for x in betting_matches]\n",
    "betting_matches_outcomes = [x[2] for x in betting_matches]\n",
    "\n",
    "betting_matches_list"
   ]
  },
  {
   "cell_type": "code",
   "execution_count": 13,
   "metadata": {},
   "outputs": [
    {
     "data": {
      "text/html": [
       "<div><div style = \"float: left;\"><span>DataFrameRow (5 columns)</span></div><div style = \"clear: both;\"></div></div><div class = \"data-frame\" style = \"overflow-x: scroll;\"><table class = \"data-frame\" style = \"margin-bottom: 6px;\"><thead><tr class = \"header\"><th class = \"rowLabel\" style = \"font-weight: bold; text-align: right;\">Row</th><th style = \"text-align: left;\">home_team</th><th style = \"text-align: left;\">away_team</th><th style = \"text-align: left;\">home_win</th><th style = \"text-align: left;\">draw</th><th style = \"text-align: left;\">home_loss</th></tr><tr class = \"subheader headerLastRow\"><th class = \"rowLabel\" style = \"font-weight: bold; text-align: right;\"></th><th title = \"String15\" style = \"text-align: left;\">String15</th><th title = \"String15\" style = \"text-align: left;\">String15</th><th title = \"Float64\" style = \"text-align: left;\">Float64</th><th title = \"Float64\" style = \"text-align: left;\">Float64</th><th title = \"Float64\" style = \"text-align: left;\">Float64</th></tr></thead><tbody><tr><td class = \"rowLabel\" style = \"font-weight: bold; text-align: right;\">11</td><td style = \"text-align: left;\">Costa Rica</td><td style = \"text-align: left;\">Germany</td><td style = \"text-align: right;\">0.74</td><td style = \"text-align: right;\">0.14</td><td style = \"text-align: right;\">0.12</td></tr></tbody></table></div>"
      ],
      "text/latex": [
       "\\begin{tabular}{r|ccccc}\n",
       "\t& home\\_team & away\\_team & home\\_win & draw & home\\_loss\\\\\n",
       "\t\\hline\n",
       "\t& String15 & String15 & Float64 & Float64 & Float64\\\\\n",
       "\t\\hline\n",
       "\t11 & Costa Rica & Germany & 0.74 & 0.14 & 0.12 \\\\\n",
       "\\end{tabular}\n"
      ],
      "text/plain": [
       "\u001b[1mDataFrameRow\n",
       "\u001b[1m Row │\u001b[1m home_team  \u001b[1m away_team \u001b[1m home_win \u001b[1m draw    \u001b[1m home_loss\n",
       "     │\u001b[90m String15   \u001b[90m String15  \u001b[90m Float64  \u001b[90m Float64 \u001b[90m Float64\n",
       "─────┼─────────────────────────────────────────────────────\n",
       "  11 │ Costa Rica  Germany        0.74     0.14       0.12"
      ]
     },
     "execution_count": 13,
     "metadata": {},
     "output_type": "execute_result"
    }
   ],
   "source": [
    "rf_preds[11,:]"
   ]
  },
  {
   "cell_type": "code",
   "execution_count": 14,
   "metadata": {},
   "outputs": [
    {
     "data": {
      "text/plain": [
       "3-element Vector{Float64}:\n",
       " 2500.0\n",
       "    0.0\n",
       "    0.0"
      ]
     },
     "execution_count": 14,
     "metadata": {},
     "output_type": "execute_result"
    }
   ],
   "source": [
    "x_opt[11,:]"
   ]
  },
  {
   "cell_type": "code",
   "execution_count": 15,
   "metadata": {},
   "outputs": [
    {
     "data": {
      "text/html": [
       "<div><div style = \"float: left;\"><span>DataFrameRow (8 columns)</span></div><div style = \"clear: both;\"></div></div><div class = \"data-frame\" style = \"overflow-x: scroll;\"><table class = \"data-frame\" style = \"margin-bottom: 6px;\"><thead><tr class = \"header\"><th class = \"rowLabel\" style = \"font-weight: bold; text-align: right;\">Row</th><th style = \"text-align: left;\">home_team</th><th style = \"text-align: left;\">away_team</th><th style = \"text-align: left;\">home_win_earnings_per_dollar</th><th style = \"text-align: left;\">draw_earnings_per_dollar</th><th style = \"text-align: left;\">away_win_earnings_per_dollar</th><th style = \"text-align: left;\">implied_probability_of_home_win</th><th style = \"text-align: left;\">implied_probability_of_draw</th><th style = \"text-align: left;\">implied_probability_of_away_win</th></tr><tr class = \"subheader headerLastRow\"><th class = \"rowLabel\" style = \"font-weight: bold; text-align: right;\"></th><th title = \"String15\" style = \"text-align: left;\">String15</th><th title = \"String15\" style = \"text-align: left;\">String15</th><th title = \"Float64\" style = \"text-align: left;\">Float64</th><th title = \"Float64\" style = \"text-align: left;\">Float64</th><th title = \"Float64\" style = \"text-align: left;\">Float64</th><th title = \"Float64\" style = \"text-align: left;\">Float64</th><th title = \"Float64\" style = \"text-align: left;\">Float64</th><th title = \"Float64\" style = \"text-align: left;\">Float64</th></tr></thead><tbody><tr><td class = \"rowLabel\" style = \"font-weight: bold; text-align: right;\">11</td><td style = \"text-align: left;\">Costa Rica</td><td style = \"text-align: left;\">Germany</td><td style = \"text-align: right;\">22.79</td><td style = \"text-align: right;\">10.17</td><td style = \"text-align: right;\">0.1</td><td style = \"text-align: right;\">0.0420345</td><td style = \"text-align: right;\">0.0895255</td><td style = \"text-align: right;\">0.909091</td></tr></tbody></table></div>"
      ],
      "text/latex": [
       "\\begin{tabular}{r|cccccc}\n",
       "\t& home\\_team & away\\_team & home\\_win\\_earnings\\_per\\_dollar & draw\\_earnings\\_per\\_dollar & away\\_win\\_earnings\\_per\\_dollar & \\\\\n",
       "\t\\hline\n",
       "\t& String15 & String15 & Float64 & Float64 & Float64 & \\\\\n",
       "\t\\hline\n",
       "\t11 & Costa Rica & Germany & 22.79 & 10.17 & 0.1 & $\\dots$ \\\\\n",
       "\\end{tabular}\n"
      ],
      "text/plain": [
       "\u001b[1mDataFrameRow\n",
       "\u001b[1m Row │\u001b[1m home_team  \u001b[1m away_team \u001b[1m home_win_earnings_per_dollar \u001b[1m draw_earnings_per_ ⋯\n",
       "     │\u001b[90m String15   \u001b[90m String15  \u001b[90m Float64                      \u001b[90m Float64            ⋯\n",
       "─────┼──────────────────────────────────────────────────────────────────────────\n",
       "  11 │ Costa Rica  Germany                           22.79                     ⋯\n",
       "\u001b[36m                                                               5 columns omitted"
      ]
     },
     "execution_count": 15,
     "metadata": {},
     "output_type": "execute_result"
    }
   ],
   "source": [
    "returns[11,:]"
   ]
  },
  {
   "cell_type": "code",
   "execution_count": 16,
   "metadata": {},
   "outputs": [
    {
     "data": {
      "text/html": [
       "<div><div style = \"float: left;\"><span>5×5 DataFrame</span></div><div style = \"clear: both;\"></div></div><div class = \"data-frame\" style = \"overflow-x: scroll;\"><table class = \"data-frame\" style = \"margin-bottom: 6px;\"><thead><tr class = \"header\"><th class = \"rowNumber\" style = \"font-weight: bold; text-align: right;\">Row</th><th style = \"text-align: left;\">home_team</th><th style = \"text-align: left;\">away_team</th><th style = \"text-align: left;\">home_win</th><th style = \"text-align: left;\">draw</th><th style = \"text-align: left;\">home_loss</th></tr><tr class = \"subheader headerLastRow\"><th class = \"rowNumber\" style = \"font-weight: bold; text-align: right;\"></th><th title = \"String15\" style = \"text-align: left;\">String15</th><th title = \"String15\" style = \"text-align: left;\">String15</th><th title = \"Float64\" style = \"text-align: left;\">Float64</th><th title = \"Float64\" style = \"text-align: left;\">Float64</th><th title = \"Float64\" style = \"text-align: left;\">Float64</th></tr></thead><tbody><tr><td class = \"rowNumber\" style = \"font-weight: bold; text-align: right;\">1</td><td style = \"text-align: left;\">Cameroon</td><td style = \"text-align: left;\">Brazil</td><td style = \"text-align: right;\">0.69</td><td style = \"text-align: right;\">0.13</td><td style = \"text-align: right;\">0.18</td></tr><tr><td class = \"rowNumber\" style = \"font-weight: bold; text-align: right;\">2</td><td style = \"text-align: left;\">Costa Rica</td><td style = \"text-align: left;\">Germany</td><td style = \"text-align: right;\">0.74</td><td style = \"text-align: right;\">0.14</td><td style = \"text-align: right;\">0.12</td></tr><tr><td class = \"rowNumber\" style = \"font-weight: bold; text-align: right;\">3</td><td style = \"text-align: left;\">Poland</td><td style = \"text-align: left;\">Argentina</td><td style = \"text-align: right;\">0.74</td><td style = \"text-align: right;\">0.16</td><td style = \"text-align: right;\">0.1</td></tr><tr><td class = \"rowNumber\" style = \"font-weight: bold; text-align: right;\">4</td><td style = \"text-align: left;\">Denmark</td><td style = \"text-align: left;\">Tunisia</td><td style = \"text-align: right;\">0.17</td><td style = \"text-align: right;\">0.06</td><td style = \"text-align: right;\">0.77</td></tr><tr><td class = \"rowNumber\" style = \"font-weight: bold; text-align: right;\">5</td><td style = \"text-align: left;\">Spain</td><td style = \"text-align: left;\">Costa Rica</td><td style = \"text-align: right;\">0.21</td><td style = \"text-align: right;\">0.31</td><td style = \"text-align: right;\">0.48</td></tr></tbody></table></div>"
      ],
      "text/latex": [
       "\\begin{tabular}{r|ccccc}\n",
       "\t& home\\_team & away\\_team & home\\_win & draw & home\\_loss\\\\\n",
       "\t\\hline\n",
       "\t& String15 & String15 & Float64 & Float64 & Float64\\\\\n",
       "\t\\hline\n",
       "\t1 & Cameroon & Brazil & 0.69 & 0.13 & 0.18 \\\\\n",
       "\t2 & Costa Rica & Germany & 0.74 & 0.14 & 0.12 \\\\\n",
       "\t3 & Poland & Argentina & 0.74 & 0.16 & 0.1 \\\\\n",
       "\t4 & Denmark & Tunisia & 0.17 & 0.06 & 0.77 \\\\\n",
       "\t5 & Spain & Costa Rica & 0.21 & 0.31 & 0.48 \\\\\n",
       "\\end{tabular}\n"
      ],
      "text/plain": [
       "\u001b[1m5×5 DataFrame\n",
       "\u001b[1m Row │\u001b[1m home_team  \u001b[1m away_team  \u001b[1m home_win \u001b[1m draw    \u001b[1m home_loss\n",
       "     │\u001b[90m String15   \u001b[90m String15   \u001b[90m Float64  \u001b[90m Float64 \u001b[90m Float64\n",
       "─────┼──────────────────────────────────────────────────────\n",
       "   1 │ Cameroon    Brazil          0.69     0.13       0.18\n",
       "   2 │ Costa Rica  Germany         0.74     0.14       0.12\n",
       "   3 │ Poland      Argentina       0.74     0.16       0.1\n",
       "   4 │ Denmark     Tunisia         0.17     0.06       0.77\n",
       "   5 │ Spain       Costa Rica      0.21     0.31       0.48"
      ]
     },
     "execution_count": 16,
     "metadata": {},
     "output_type": "execute_result"
    }
   ],
   "source": [
    "outcomes = rf_preds[betting_matches_list,:]"
   ]
  },
  {
   "cell_type": "code",
   "execution_count": 17,
   "metadata": {},
   "outputs": [],
   "source": [
    "outcomes[:,\"bet_amount\"] = [x_opt[i] for i in betting_matches];"
   ]
  },
  {
   "cell_type": "code",
   "execution_count": 20,
   "metadata": {},
   "outputs": [],
   "source": [
    "# rf_pred_outcomes\n",
    "outcomes[:,\"actual_outcome\"] = [1,3,3,2,1];\n",
    "\n",
    "# # new_xgb_pred_outcomes (fill out)\n",
    "# outcomes[:,\"actual_outcome\"]=[]"
   ]
  },
  {
   "cell_type": "code",
   "execution_count": 21,
   "metadata": {},
   "outputs": [],
   "source": [
    "outcomes[:,\"bet_outcome\"] = [x[2] for x in betting_matches];"
   ]
  },
  {
   "cell_type": "code",
   "execution_count": 22,
   "metadata": {},
   "outputs": [],
   "source": [
    "# is actual_outcome = bet_outcome?\n",
    "outcomes[:,\"correct\"] = outcomes[:,\"actual_outcome\"] .== outcomes[:,\"bet_outcome\"];"
   ]
  },
  {
   "cell_type": "code",
   "execution_count": 23,
   "metadata": {},
   "outputs": [
    {
     "data": {
      "text/plain": [
       "51869.922"
      ]
     },
     "execution_count": 23,
     "metadata": {},
     "output_type": "execute_result"
    }
   ],
   "source": [
    "# bet result: if correct == false, then bet_result = -bet_amount, if correct == true, then bet_result = bet_amount*\n",
    "bet_result = exp_prof - sum(outcomes[:,\"bet_amount\"].* (outcomes[:,\"correct\"].==false))"
   ]
  },
  {
   "cell_type": "code",
   "execution_count": 24,
   "metadata": {},
   "outputs": [
    {
     "data": {
      "text/plain": [
       "51869.922"
      ]
     },
     "execution_count": 24,
     "metadata": {},
     "output_type": "execute_result"
    }
   ],
   "source": [
    "exp_prof-sum(outcomes[:,\"bet_amount\"].*(outcomes[:,\"correct\"].==false))"
   ]
  },
  {
   "cell_type": "code",
   "execution_count": 25,
   "metadata": {},
   "outputs": [
    {
     "data": {
      "text/html": [
       "<div><div style = \"float: left;\"><span>5×9 DataFrame</span></div><div style = \"clear: both;\"></div></div><div class = \"data-frame\" style = \"overflow-x: scroll;\"><table class = \"data-frame\" style = \"margin-bottom: 6px;\"><thead><tr class = \"header\"><th class = \"rowNumber\" style = \"font-weight: bold; text-align: right;\">Row</th><th style = \"text-align: left;\">home_team</th><th style = \"text-align: left;\">away_team</th><th style = \"text-align: left;\">home_win</th><th style = \"text-align: left;\">draw</th><th style = \"text-align: left;\">home_loss</th><th style = \"text-align: left;\">bet_amount</th><th style = \"text-align: left;\">actual_outcome</th><th style = \"text-align: left;\">bet_outcome</th><th style = \"text-align: left;\">correct</th></tr><tr class = \"subheader headerLastRow\"><th class = \"rowNumber\" style = \"font-weight: bold; text-align: right;\"></th><th title = \"String15\" style = \"text-align: left;\">String15</th><th title = \"String15\" style = \"text-align: left;\">String15</th><th title = \"Float64\" style = \"text-align: left;\">Float64</th><th title = \"Float64\" style = \"text-align: left;\">Float64</th><th title = \"Float64\" style = \"text-align: left;\">Float64</th><th title = \"Float64\" style = \"text-align: left;\">Float64</th><th title = \"Int64\" style = \"text-align: left;\">Int64</th><th title = \"Int64\" style = \"text-align: left;\">Int64</th><th title = \"Bool\" style = \"text-align: left;\">Bool</th></tr></thead><tbody><tr><td class = \"rowNumber\" style = \"font-weight: bold; text-align: right;\">1</td><td style = \"text-align: left;\">Cameroon</td><td style = \"text-align: left;\">Brazil</td><td style = \"text-align: right;\">0.69</td><td style = \"text-align: right;\">0.13</td><td style = \"text-align: right;\">0.18</td><td style = \"text-align: right;\">1.0</td><td style = \"text-align: right;\">1</td><td style = \"text-align: right;\">1</td><td style = \"text-align: right;\">true</td></tr><tr><td class = \"rowNumber\" style = \"font-weight: bold; text-align: right;\">2</td><td style = \"text-align: left;\">Costa Rica</td><td style = \"text-align: left;\">Germany</td><td style = \"text-align: right;\">0.74</td><td style = \"text-align: right;\">0.14</td><td style = \"text-align: right;\">0.12</td><td style = \"text-align: right;\">2500.0</td><td style = \"text-align: right;\">3</td><td style = \"text-align: right;\">1</td><td style = \"text-align: right;\">false</td></tr><tr><td class = \"rowNumber\" style = \"font-weight: bold; text-align: right;\">3</td><td style = \"text-align: left;\">Poland</td><td style = \"text-align: left;\">Argentina</td><td style = \"text-align: right;\">0.74</td><td style = \"text-align: right;\">0.16</td><td style = \"text-align: right;\">0.1</td><td style = \"text-align: right;\">1.0</td><td style = \"text-align: right;\">3</td><td style = \"text-align: right;\">1</td><td style = \"text-align: right;\">false</td></tr><tr><td class = \"rowNumber\" style = \"font-weight: bold; text-align: right;\">4</td><td style = \"text-align: left;\">Denmark</td><td style = \"text-align: left;\">Tunisia</td><td style = \"text-align: right;\">0.17</td><td style = \"text-align: right;\">0.06</td><td style = \"text-align: right;\">0.77</td><td style = \"text-align: right;\">1.0</td><td style = \"text-align: right;\">2</td><td style = \"text-align: right;\">3</td><td style = \"text-align: right;\">false</td></tr><tr><td class = \"rowNumber\" style = \"font-weight: bold; text-align: right;\">5</td><td style = \"text-align: left;\">Spain</td><td style = \"text-align: left;\">Costa Rica</td><td style = \"text-align: right;\">0.21</td><td style = \"text-align: right;\">0.31</td><td style = \"text-align: right;\">0.48</td><td style = \"text-align: right;\">2497.0</td><td style = \"text-align: right;\">1</td><td style = \"text-align: right;\">3</td><td style = \"text-align: right;\">false</td></tr></tbody></table></div>"
      ],
      "text/latex": [
       "\\begin{tabular}{r|cccccccc}\n",
       "\t& home\\_team & away\\_team & home\\_win & draw & home\\_loss & bet\\_amount & actual\\_outcome & \\\\\n",
       "\t\\hline\n",
       "\t& String15 & String15 & Float64 & Float64 & Float64 & Float64 & Int64 & \\\\\n",
       "\t\\hline\n",
       "\t1 & Cameroon & Brazil & 0.69 & 0.13 & 0.18 & 1.0 & 1 & $\\dots$ \\\\\n",
       "\t2 & Costa Rica & Germany & 0.74 & 0.14 & 0.12 & 2500.0 & 3 & $\\dots$ \\\\\n",
       "\t3 & Poland & Argentina & 0.74 & 0.16 & 0.1 & 1.0 & 3 & $\\dots$ \\\\\n",
       "\t4 & Denmark & Tunisia & 0.17 & 0.06 & 0.77 & 1.0 & 2 & $\\dots$ \\\\\n",
       "\t5 & Spain & Costa Rica & 0.21 & 0.31 & 0.48 & 2497.0 & 1 & $\\dots$ \\\\\n",
       "\\end{tabular}\n"
      ],
      "text/plain": [
       "\u001b[1m5×9 DataFrame\n",
       "\u001b[1m Row │\u001b[1m home_team  \u001b[1m away_team  \u001b[1m home_win \u001b[1m draw    \u001b[1m home_loss \u001b[1m bet_amount \u001b[1m actua ⋯\n",
       "     │\u001b[90m String15   \u001b[90m String15   \u001b[90m Float64  \u001b[90m Float64 \u001b[90m Float64   \u001b[90m Float64    \u001b[90m Int64 ⋯\n",
       "─────┼──────────────────────────────────────────────────────────────────────────\n",
       "   1 │ Cameroon    Brazil          0.69     0.13       0.18         1.0        ⋯\n",
       "   2 │ Costa Rica  Germany         0.74     0.14       0.12      2500.0\n",
       "   3 │ Poland      Argentina       0.74     0.16       0.1          1.0\n",
       "   4 │ Denmark     Tunisia         0.17     0.06       0.77         1.0\n",
       "   5 │ Spain       Costa Rica      0.21     0.31       0.48      2497.0        ⋯\n",
       "\u001b[36m                                                               3 columns omitted"
      ]
     },
     "execution_count": 25,
     "metadata": {},
     "output_type": "execute_result"
    }
   ],
   "source": [
    "outcomes"
   ]
  },
  {
   "cell_type": "code",
   "execution_count": 26,
   "metadata": {},
   "outputs": [
    {
     "data": {
      "text/plain": [
       "5-element Vector{CartesianIndex{2}}:\n",
       " CartesianIndex(8, 1)\n",
       " CartesianIndex(11, 1)\n",
       " CartesianIndex(31, 1)\n",
       " CartesianIndex(14, 3)\n",
       " CartesianIndex(40, 3)"
      ]
     },
     "execution_count": 26,
     "metadata": {},
     "output_type": "execute_result"
    }
   ],
   "source": [
    "betting_matches"
   ]
  },
  {
   "cell_type": "markdown",
   "metadata": {},
   "source": [
    "## money actually earned"
   ]
  },
  {
   "cell_type": "code",
   "execution_count": 27,
   "metadata": {},
   "outputs": [
    {
     "data": {
      "text/html": [
       "<div><div style = \"float: left;\"><span>5×11 DataFrame</span></div><div style = \"clear: both;\"></div></div><div class = \"data-frame\" style = \"overflow-x: scroll;\"><table class = \"data-frame\" style = \"margin-bottom: 6px;\"><thead><tr class = \"header\"><th class = \"rowNumber\" style = \"font-weight: bold; text-align: right;\">Row</th><th style = \"text-align: left;\">home_team</th><th style = \"text-align: left;\">away_team</th><th style = \"text-align: left;\">home_win</th><th style = \"text-align: left;\">draw</th><th style = \"text-align: left;\">home_loss</th><th style = \"text-align: left;\">bet_amount</th><th style = \"text-align: left;\">actual_outcome</th><th style = \"text-align: left;\">bet_outcome</th><th style = \"text-align: left;\">correct</th><th style = \"text-align: left;\">betting_matches_indices</th><th style = \"text-align: left;\">betting_matches_outcomes</th></tr><tr class = \"subheader headerLastRow\"><th class = \"rowNumber\" style = \"font-weight: bold; text-align: right;\"></th><th title = \"String15\" style = \"text-align: left;\">String15</th><th title = \"String15\" style = \"text-align: left;\">String15</th><th title = \"Float64\" style = \"text-align: left;\">Float64</th><th title = \"Float64\" style = \"text-align: left;\">Float64</th><th title = \"Float64\" style = \"text-align: left;\">Float64</th><th title = \"Float64\" style = \"text-align: left;\">Float64</th><th title = \"Int64\" style = \"text-align: left;\">Int64</th><th title = \"Int64\" style = \"text-align: left;\">Int64</th><th title = \"Bool\" style = \"text-align: left;\">Bool</th><th title = \"Int64\" style = \"text-align: left;\">Int64</th><th title = \"Int64\" style = \"text-align: left;\">Int64</th></tr></thead><tbody><tr><td class = \"rowNumber\" style = \"font-weight: bold; text-align: right;\">1</td><td style = \"text-align: left;\">Cameroon</td><td style = \"text-align: left;\">Brazil</td><td style = \"text-align: right;\">0.69</td><td style = \"text-align: right;\">0.13</td><td style = \"text-align: right;\">0.18</td><td style = \"text-align: right;\">1.0</td><td style = \"text-align: right;\">1</td><td style = \"text-align: right;\">1</td><td style = \"text-align: right;\">true</td><td style = \"text-align: right;\">8</td><td style = \"text-align: right;\">1</td></tr><tr><td class = \"rowNumber\" style = \"font-weight: bold; text-align: right;\">2</td><td style = \"text-align: left;\">Costa Rica</td><td style = \"text-align: left;\">Germany</td><td style = \"text-align: right;\">0.74</td><td style = \"text-align: right;\">0.14</td><td style = \"text-align: right;\">0.12</td><td style = \"text-align: right;\">2500.0</td><td style = \"text-align: right;\">3</td><td style = \"text-align: right;\">1</td><td style = \"text-align: right;\">false</td><td style = \"text-align: right;\">11</td><td style = \"text-align: right;\">1</td></tr><tr><td class = \"rowNumber\" style = \"font-weight: bold; text-align: right;\">3</td><td style = \"text-align: left;\">Poland</td><td style = \"text-align: left;\">Argentina</td><td style = \"text-align: right;\">0.74</td><td style = \"text-align: right;\">0.16</td><td style = \"text-align: right;\">0.1</td><td style = \"text-align: right;\">1.0</td><td style = \"text-align: right;\">3</td><td style = \"text-align: right;\">1</td><td style = \"text-align: right;\">false</td><td style = \"text-align: right;\">31</td><td style = \"text-align: right;\">1</td></tr><tr><td class = \"rowNumber\" style = \"font-weight: bold; text-align: right;\">4</td><td style = \"text-align: left;\">Denmark</td><td style = \"text-align: left;\">Tunisia</td><td style = \"text-align: right;\">0.17</td><td style = \"text-align: right;\">0.06</td><td style = \"text-align: right;\">0.77</td><td style = \"text-align: right;\">1.0</td><td style = \"text-align: right;\">2</td><td style = \"text-align: right;\">3</td><td style = \"text-align: right;\">false</td><td style = \"text-align: right;\">14</td><td style = \"text-align: right;\">3</td></tr><tr><td class = \"rowNumber\" style = \"font-weight: bold; text-align: right;\">5</td><td style = \"text-align: left;\">Spain</td><td style = \"text-align: left;\">Costa Rica</td><td style = \"text-align: right;\">0.21</td><td style = \"text-align: right;\">0.31</td><td style = \"text-align: right;\">0.48</td><td style = \"text-align: right;\">2497.0</td><td style = \"text-align: right;\">1</td><td style = \"text-align: right;\">3</td><td style = \"text-align: right;\">false</td><td style = \"text-align: right;\">40</td><td style = \"text-align: right;\">3</td></tr></tbody></table></div>"
      ],
      "text/latex": [
       "\\begin{tabular}{r|cccccccc}\n",
       "\t& home\\_team & away\\_team & home\\_win & draw & home\\_loss & bet\\_amount & actual\\_outcome & \\\\\n",
       "\t\\hline\n",
       "\t& String15 & String15 & Float64 & Float64 & Float64 & Float64 & Int64 & \\\\\n",
       "\t\\hline\n",
       "\t1 & Cameroon & Brazil & 0.69 & 0.13 & 0.18 & 1.0 & 1 & $\\dots$ \\\\\n",
       "\t2 & Costa Rica & Germany & 0.74 & 0.14 & 0.12 & 2500.0 & 3 & $\\dots$ \\\\\n",
       "\t3 & Poland & Argentina & 0.74 & 0.16 & 0.1 & 1.0 & 3 & $\\dots$ \\\\\n",
       "\t4 & Denmark & Tunisia & 0.17 & 0.06 & 0.77 & 1.0 & 2 & $\\dots$ \\\\\n",
       "\t5 & Spain & Costa Rica & 0.21 & 0.31 & 0.48 & 2497.0 & 1 & $\\dots$ \\\\\n",
       "\\end{tabular}\n"
      ],
      "text/plain": [
       "\u001b[1m5×11 DataFrame\n",
       "\u001b[1m Row │\u001b[1m home_team  \u001b[1m away_team  \u001b[1m home_win \u001b[1m draw    \u001b[1m home_loss \u001b[1m bet_amount \u001b[1m actua ⋯\n",
       "     │\u001b[90m String15   \u001b[90m String15   \u001b[90m Float64  \u001b[90m Float64 \u001b[90m Float64   \u001b[90m Float64    \u001b[90m Int64 ⋯\n",
       "─────┼──────────────────────────────────────────────────────────────────────────\n",
       "   1 │ Cameroon    Brazil          0.69     0.13       0.18         1.0        ⋯\n",
       "   2 │ Costa Rica  Germany         0.74     0.14       0.12      2500.0\n",
       "   3 │ Poland      Argentina       0.74     0.16       0.1          1.0\n",
       "   4 │ Denmark     Tunisia         0.17     0.06       0.77         1.0\n",
       "   5 │ Spain       Costa Rica      0.21     0.31       0.48      2497.0        ⋯\n",
       "\u001b[36m                                                               5 columns omitted"
      ]
     },
     "execution_count": 27,
     "metadata": {},
     "output_type": "execute_result"
    }
   ],
   "source": [
    "outcomes\n",
    "\n",
    "# add betting_matches_list as a column called :betting_indices so we can map to the correct row and columns in 'returns' dataframe\n",
    "outcomes[:,\"betting_matches_indices\"] = betting_matches_list;\n",
    "outcomes[:,\"betting_matches_outcomes\"] = betting_matches_outcomes;\n",
    "outcomes"
   ]
  },
  {
   "cell_type": "code",
   "execution_count": 28,
   "metadata": {},
   "outputs": [
    {
     "data": {
      "text/html": [
       "<div><div style = \"float: left;\"><span>5×12 DataFrame</span></div><div style = \"clear: both;\"></div></div><div class = \"data-frame\" style = \"overflow-x: scroll;\"><table class = \"data-frame\" style = \"margin-bottom: 6px;\"><thead><tr class = \"header\"><th class = \"rowNumber\" style = \"font-weight: bold; text-align: right;\">Row</th><th style = \"text-align: left;\">home_team</th><th style = \"text-align: left;\">away_team</th><th style = \"text-align: left;\">home_win</th><th style = \"text-align: left;\">draw</th><th style = \"text-align: left;\">home_loss</th><th style = \"text-align: left;\">bet_amount</th><th style = \"text-align: left;\">actual_outcome</th><th style = \"text-align: left;\">bet_outcome</th><th style = \"text-align: left;\">correct</th><th style = \"text-align: left;\">betting_matches_indices</th><th style = \"text-align: left;\">betting_matches_outcomes</th><th style = \"text-align: left;\">if_bets_correct_profit</th></tr><tr class = \"subheader headerLastRow\"><th class = \"rowNumber\" style = \"font-weight: bold; text-align: right;\"></th><th title = \"String15\" style = \"text-align: left;\">String15</th><th title = \"String15\" style = \"text-align: left;\">String15</th><th title = \"Float64\" style = \"text-align: left;\">Float64</th><th title = \"Float64\" style = \"text-align: left;\">Float64</th><th title = \"Float64\" style = \"text-align: left;\">Float64</th><th title = \"Float64\" style = \"text-align: left;\">Float64</th><th title = \"Int64\" style = \"text-align: left;\">Int64</th><th title = \"Int64\" style = \"text-align: left;\">Int64</th><th title = \"Bool\" style = \"text-align: left;\">Bool</th><th title = \"Int64\" style = \"text-align: left;\">Int64</th><th title = \"Int64\" style = \"text-align: left;\">Int64</th><th title = \"Float64\" style = \"text-align: left;\">Float64</th></tr></thead><tbody><tr><td class = \"rowNumber\" style = \"font-weight: bold; text-align: right;\">1</td><td style = \"text-align: left;\">Cameroon</td><td style = \"text-align: left;\">Brazil</td><td style = \"text-align: right;\">0.69</td><td style = \"text-align: right;\">0.13</td><td style = \"text-align: right;\">0.18</td><td style = \"text-align: right;\">1.0</td><td style = \"text-align: right;\">1</td><td style = \"text-align: right;\">1</td><td style = \"text-align: right;\">true</td><td style = \"text-align: right;\">8</td><td style = \"text-align: right;\">1</td><td style = \"text-align: right;\">6.93</td></tr><tr><td class = \"rowNumber\" style = \"font-weight: bold; text-align: right;\">2</td><td style = \"text-align: left;\">Costa Rica</td><td style = \"text-align: left;\">Germany</td><td style = \"text-align: right;\">0.74</td><td style = \"text-align: right;\">0.14</td><td style = \"text-align: right;\">0.12</td><td style = \"text-align: right;\">2500.0</td><td style = \"text-align: right;\">3</td><td style = \"text-align: right;\">1</td><td style = \"text-align: right;\">false</td><td style = \"text-align: right;\">11</td><td style = \"text-align: right;\">1</td><td style = \"text-align: right;\">54475.0</td></tr><tr><td class = \"rowNumber\" style = \"font-weight: bold; text-align: right;\">3</td><td style = \"text-align: left;\">Poland</td><td style = \"text-align: left;\">Argentina</td><td style = \"text-align: right;\">0.74</td><td style = \"text-align: right;\">0.16</td><td style = \"text-align: right;\">0.1</td><td style = \"text-align: right;\">1.0</td><td style = \"text-align: right;\">3</td><td style = \"text-align: right;\">1</td><td style = \"text-align: right;\">false</td><td style = \"text-align: right;\">31</td><td style = \"text-align: right;\">1</td><td style = \"text-align: right;\">6.19</td></tr><tr><td class = \"rowNumber\" style = \"font-weight: bold; text-align: right;\">4</td><td style = \"text-align: left;\">Denmark</td><td style = \"text-align: left;\">Tunisia</td><td style = \"text-align: right;\">0.17</td><td style = \"text-align: right;\">0.06</td><td style = \"text-align: right;\">0.77</td><td style = \"text-align: right;\">1.0</td><td style = \"text-align: right;\">2</td><td style = \"text-align: right;\">3</td><td style = \"text-align: right;\">false</td><td style = \"text-align: right;\">14</td><td style = \"text-align: right;\">3</td><td style = \"text-align: right;\">4.57</td></tr><tr><td class = \"rowNumber\" style = \"font-weight: bold; text-align: right;\">5</td><td style = \"text-align: left;\">Spain</td><td style = \"text-align: left;\">Costa Rica</td><td style = \"text-align: right;\">0.21</td><td style = \"text-align: right;\">0.31</td><td style = \"text-align: right;\">0.48</td><td style = \"text-align: right;\">2497.0</td><td style = \"text-align: right;\">1</td><td style = \"text-align: right;\">3</td><td style = \"text-align: right;\">false</td><td style = \"text-align: right;\">40</td><td style = \"text-align: right;\">3</td><td style = \"text-align: right;\">38528.7</td></tr></tbody></table></div>"
      ],
      "text/latex": [
       "\\begin{tabular}{r|cccccccc}\n",
       "\t& home\\_team & away\\_team & home\\_win & draw & home\\_loss & bet\\_amount & actual\\_outcome & \\\\\n",
       "\t\\hline\n",
       "\t& String15 & String15 & Float64 & Float64 & Float64 & Float64 & Int64 & \\\\\n",
       "\t\\hline\n",
       "\t1 & Cameroon & Brazil & 0.69 & 0.13 & 0.18 & 1.0 & 1 & $\\dots$ \\\\\n",
       "\t2 & Costa Rica & Germany & 0.74 & 0.14 & 0.12 & 2500.0 & 3 & $\\dots$ \\\\\n",
       "\t3 & Poland & Argentina & 0.74 & 0.16 & 0.1 & 1.0 & 3 & $\\dots$ \\\\\n",
       "\t4 & Denmark & Tunisia & 0.17 & 0.06 & 0.77 & 1.0 & 2 & $\\dots$ \\\\\n",
       "\t5 & Spain & Costa Rica & 0.21 & 0.31 & 0.48 & 2497.0 & 1 & $\\dots$ \\\\\n",
       "\\end{tabular}\n"
      ],
      "text/plain": [
       "\u001b[1m5×12 DataFrame\n",
       "\u001b[1m Row │\u001b[1m home_team  \u001b[1m away_team  \u001b[1m home_win \u001b[1m draw    \u001b[1m home_loss \u001b[1m bet_amount \u001b[1m actua ⋯\n",
       "     │\u001b[90m String15   \u001b[90m String15   \u001b[90m Float64  \u001b[90m Float64 \u001b[90m Float64   \u001b[90m Float64    \u001b[90m Int64 ⋯\n",
       "─────┼──────────────────────────────────────────────────────────────────────────\n",
       "   1 │ Cameroon    Brazil          0.69     0.13       0.18         1.0        ⋯\n",
       "   2 │ Costa Rica  Germany         0.74     0.14       0.12      2500.0\n",
       "   3 │ Poland      Argentina       0.74     0.16       0.1          1.0\n",
       "   4 │ Denmark     Tunisia         0.17     0.06       0.77         1.0\n",
       "   5 │ Spain       Costa Rica      0.21     0.31       0.48      2497.0        ⋯\n",
       "\u001b[36m                                                               6 columns omitted"
      ]
     },
     "execution_count": 28,
     "metadata": {},
     "output_type": "execute_result"
    }
   ],
   "source": [
    "# # EXPECTED PROFIT\n",
    "# create a new column called \"if_bets_correct_profit\" that calculates the profit if the bets are correct\n",
    "# initialise new if bets correct profit list\n",
    "if_bets_correct_profit = zeros(size(outcomes,1))\n",
    "\n",
    "# for each row in outcomes, calculate the profit if the bets are correct\n",
    "for i in 1:size(outcomes,1)\n",
    "    if_bets_correct_profit[i] = outcomes[i,\"bet_amount\"] * returns[outcomes[i,\"betting_matches_indices\"],outcomes[i,\"betting_matches_outcomes\"]+2] - outcomes[i,\"bet_amount\"]\n",
    "end\n",
    "\n",
    "# add if_bets_correct_profit to outcomes dataframe\n",
    "outcomes[:,\"if_bets_correct_profit\"] = if_bets_correct_profit;\n",
    "outcomes\n"
   ]
  },
  {
   "cell_type": "code",
   "execution_count": 29,
   "metadata": {},
   "outputs": [
    {
     "data": {
      "text/html": [
       "<div><div style = \"float: left;\"><span>5×13 DataFrame</span></div><div style = \"clear: both;\"></div></div><div class = \"data-frame\" style = \"overflow-x: scroll;\"><table class = \"data-frame\" style = \"margin-bottom: 6px;\"><thead><tr class = \"header\"><th class = \"rowNumber\" style = \"font-weight: bold; text-align: right;\">Row</th><th style = \"text-align: left;\">home_team</th><th style = \"text-align: left;\">away_team</th><th style = \"text-align: left;\">home_win</th><th style = \"text-align: left;\">draw</th><th style = \"text-align: left;\">home_loss</th><th style = \"text-align: left;\">bet_amount</th><th style = \"text-align: left;\">actual_outcome</th><th style = \"text-align: left;\">bet_outcome</th><th style = \"text-align: left;\">correct</th><th style = \"text-align: left;\">betting_matches_indices</th><th style = \"text-align: left;\">betting_matches_outcomes</th><th style = \"text-align: left;\">if_bets_correct_profit</th><th style = \"text-align: left;\">actual_profit</th></tr><tr class = \"subheader headerLastRow\"><th class = \"rowNumber\" style = \"font-weight: bold; text-align: right;\"></th><th title = \"String15\" style = \"text-align: left;\">String15</th><th title = \"String15\" style = \"text-align: left;\">String15</th><th title = \"Float64\" style = \"text-align: left;\">Float64</th><th title = \"Float64\" style = \"text-align: left;\">Float64</th><th title = \"Float64\" style = \"text-align: left;\">Float64</th><th title = \"Float64\" style = \"text-align: left;\">Float64</th><th title = \"Int64\" style = \"text-align: left;\">Int64</th><th title = \"Int64\" style = \"text-align: left;\">Int64</th><th title = \"Bool\" style = \"text-align: left;\">Bool</th><th title = \"Int64\" style = \"text-align: left;\">Int64</th><th title = \"Int64\" style = \"text-align: left;\">Int64</th><th title = \"Float64\" style = \"text-align: left;\">Float64</th><th title = \"Float64\" style = \"text-align: left;\">Float64</th></tr></thead><tbody><tr><td class = \"rowNumber\" style = \"font-weight: bold; text-align: right;\">1</td><td style = \"text-align: left;\">Cameroon</td><td style = \"text-align: left;\">Brazil</td><td style = \"text-align: right;\">0.69</td><td style = \"text-align: right;\">0.13</td><td style = \"text-align: right;\">0.18</td><td style = \"text-align: right;\">1.0</td><td style = \"text-align: right;\">1</td><td style = \"text-align: right;\">1</td><td style = \"text-align: right;\">true</td><td style = \"text-align: right;\">8</td><td style = \"text-align: right;\">1</td><td style = \"text-align: right;\">6.93</td><td style = \"text-align: right;\">6.93</td></tr><tr><td class = \"rowNumber\" style = \"font-weight: bold; text-align: right;\">2</td><td style = \"text-align: left;\">Costa Rica</td><td style = \"text-align: left;\">Germany</td><td style = \"text-align: right;\">0.74</td><td style = \"text-align: right;\">0.14</td><td style = \"text-align: right;\">0.12</td><td style = \"text-align: right;\">2500.0</td><td style = \"text-align: right;\">3</td><td style = \"text-align: right;\">1</td><td style = \"text-align: right;\">false</td><td style = \"text-align: right;\">11</td><td style = \"text-align: right;\">1</td><td style = \"text-align: right;\">54475.0</td><td style = \"text-align: right;\">-2500.0</td></tr><tr><td class = \"rowNumber\" style = \"font-weight: bold; text-align: right;\">3</td><td style = \"text-align: left;\">Poland</td><td style = \"text-align: left;\">Argentina</td><td style = \"text-align: right;\">0.74</td><td style = \"text-align: right;\">0.16</td><td style = \"text-align: right;\">0.1</td><td style = \"text-align: right;\">1.0</td><td style = \"text-align: right;\">3</td><td style = \"text-align: right;\">1</td><td style = \"text-align: right;\">false</td><td style = \"text-align: right;\">31</td><td style = \"text-align: right;\">1</td><td style = \"text-align: right;\">6.19</td><td style = \"text-align: right;\">-1.0</td></tr><tr><td class = \"rowNumber\" style = \"font-weight: bold; text-align: right;\">4</td><td style = \"text-align: left;\">Denmark</td><td style = \"text-align: left;\">Tunisia</td><td style = \"text-align: right;\">0.17</td><td style = \"text-align: right;\">0.06</td><td style = \"text-align: right;\">0.77</td><td style = \"text-align: right;\">1.0</td><td style = \"text-align: right;\">2</td><td style = \"text-align: right;\">3</td><td style = \"text-align: right;\">false</td><td style = \"text-align: right;\">14</td><td style = \"text-align: right;\">3</td><td style = \"text-align: right;\">4.57</td><td style = \"text-align: right;\">-1.0</td></tr><tr><td class = \"rowNumber\" style = \"font-weight: bold; text-align: right;\">5</td><td style = \"text-align: left;\">Spain</td><td style = \"text-align: left;\">Costa Rica</td><td style = \"text-align: right;\">0.21</td><td style = \"text-align: right;\">0.31</td><td style = \"text-align: right;\">0.48</td><td style = \"text-align: right;\">2497.0</td><td style = \"text-align: right;\">1</td><td style = \"text-align: right;\">3</td><td style = \"text-align: right;\">false</td><td style = \"text-align: right;\">40</td><td style = \"text-align: right;\">3</td><td style = \"text-align: right;\">38528.7</td><td style = \"text-align: right;\">-2497.0</td></tr></tbody></table></div>"
      ],
      "text/latex": [
       "\\begin{tabular}{r|cccccccc}\n",
       "\t& home\\_team & away\\_team & home\\_win & draw & home\\_loss & bet\\_amount & actual\\_outcome & \\\\\n",
       "\t\\hline\n",
       "\t& String15 & String15 & Float64 & Float64 & Float64 & Float64 & Int64 & \\\\\n",
       "\t\\hline\n",
       "\t1 & Cameroon & Brazil & 0.69 & 0.13 & 0.18 & 1.0 & 1 & $\\dots$ \\\\\n",
       "\t2 & Costa Rica & Germany & 0.74 & 0.14 & 0.12 & 2500.0 & 3 & $\\dots$ \\\\\n",
       "\t3 & Poland & Argentina & 0.74 & 0.16 & 0.1 & 1.0 & 3 & $\\dots$ \\\\\n",
       "\t4 & Denmark & Tunisia & 0.17 & 0.06 & 0.77 & 1.0 & 2 & $\\dots$ \\\\\n",
       "\t5 & Spain & Costa Rica & 0.21 & 0.31 & 0.48 & 2497.0 & 1 & $\\dots$ \\\\\n",
       "\\end{tabular}\n"
      ],
      "text/plain": [
       "\u001b[1m5×13 DataFrame\n",
       "\u001b[1m Row │\u001b[1m home_team  \u001b[1m away_team  \u001b[1m home_win \u001b[1m draw    \u001b[1m home_loss \u001b[1m bet_amount \u001b[1m actua ⋯\n",
       "     │\u001b[90m String15   \u001b[90m String15   \u001b[90m Float64  \u001b[90m Float64 \u001b[90m Float64   \u001b[90m Float64    \u001b[90m Int64 ⋯\n",
       "─────┼──────────────────────────────────────────────────────────────────────────\n",
       "   1 │ Cameroon    Brazil          0.69     0.13       0.18         1.0        ⋯\n",
       "   2 │ Costa Rica  Germany         0.74     0.14       0.12      2500.0\n",
       "   3 │ Poland      Argentina       0.74     0.16       0.1          1.0\n",
       "   4 │ Denmark     Tunisia         0.17     0.06       0.77         1.0\n",
       "   5 │ Spain       Costa Rica      0.21     0.31       0.48      2497.0        ⋯\n",
       "\u001b[36m                                                               7 columns omitted"
      ]
     },
     "execution_count": 29,
     "metadata": {},
     "output_type": "execute_result"
    }
   ],
   "source": [
    "# # ACTUAL PROFIT\n",
    "# for each row i in outcomes:\n",
    "# if correct == true, then actual_profit = if_bets_correct_profit, \n",
    "# if correct == false, then actual_profit = -bet_amount\n",
    "\n",
    "# initialise new actual profit list\n",
    "actual_profit = zeros(size(outcomes,1))\n",
    "\n",
    "# for each row in outcomes, calculate the actual profit and store in actual_profit list\n",
    "for i in 1:size(outcomes,1)\n",
    "    if outcomes[i,\"correct\"] == true\n",
    "        actual_profit[i] = outcomes[i,\"if_bets_correct_profit\"]\n",
    "    else\n",
    "        actual_profit[i] = -outcomes[i,\"bet_amount\"]\n",
    "    end\n",
    "end\n",
    "\n",
    "# add actual_profit to outcomes dataframe\n",
    "outcomes[:,\"actual_profit\"] = actual_profit;\n",
    "outcomes"
   ]
  },
  {
   "cell_type": "code",
   "execution_count": 30,
   "metadata": {},
   "outputs": [
    {
     "data": {
      "text/plain": [
       "-4992.07"
      ]
     },
     "execution_count": 30,
     "metadata": {},
     "output_type": "execute_result"
    }
   ],
   "source": [
    "# sum outcomes[:,\"actual_earnings\"]\n",
    "sum(outcomes[:,\"actual_profit\"])"
   ]
  },
  {
   "cell_type": "code",
   "execution_count": null,
   "metadata": {},
   "outputs": [],
   "source": []
  }
 ],
 "metadata": {
  "kernelspec": {
   "display_name": "Julia 1.8.1",
   "language": "julia",
   "name": "julia-1.8"
  },
  "language_info": {
   "file_extension": ".jl",
   "mimetype": "application/julia",
   "name": "julia",
   "version": "1.8.1"
  },
  "orig_nbformat": 4
 },
 "nbformat": 4,
 "nbformat_minor": 2
}

{
 "cells": [
  {
   "cell_type": "code",
   "execution_count": 56,
   "metadata": {},
   "outputs": [],
   "source": [
    "using DataFrames, CSV, JuMP, Gurobi, LinearAlgebra, Random, Printf, StatsBase, CategoricalArrays, Plots, StatsPlots, Distributions"
   ]
  },
  {
   "cell_type": "markdown",
   "metadata": {},
   "source": [
    "## ____________________________________________________________________"
   ]
  },
  {
   "cell_type": "markdown",
   "metadata": {},
   "source": [
    "## Import Datasets (Outputted Probabilities and Returns on $100 Bets)"
   ]
  },
  {
   "cell_type": "code",
   "execution_count": 57,
   "metadata": {},
   "outputs": [],
   "source": [
    "# add actual data here\n",
    "xgb_preds = CSV.read(\"C:\\\\Users\\\\shann\\\\Documents\\\\GitHub\\\\15095-project\\\\notebooks\\\\xgb_cv_pred.csv\",DataFrame)\n",
    "rf_preds = CSV.read(\"C:\\\\Users\\\\shann\\\\Documents\\\\GitHub\\\\15095-project\\\\notebooks\\\\rf_pred.csv\",DataFrame)\n",
    "lgbm_preds = CSV.read(\"C:\\\\Users\\\\shann\\\\Documents\\\\GitHub\\\\15095-project\\\\notebooks\\\\lgbm_cv_pred.csv\",DataFrame);\n",
    "logreg_preds = CSV.read(\"C:\\\\Users\\\\shann\\\\Documents\\\\GitHub\\\\15095-project\\\\notebooks\\\\logreg_pred.csv\",DataFrame);\n",
    "returns = CSV.read(\"C:\\\\Users\\\\shann\\\\Documents\\\\GitHub\\\\15095-project\\\\data\\\\group_stage_betting_odds_final.csv\",DataFrame);"
   ]
  },
  {
   "cell_type": "code",
   "execution_count": 61,
   "metadata": {},
   "outputs": [
    {
     "data": {
      "text/html": [
       "<div><div style = \"float: left;\"><span>48×5 DataFrame</span></div><div style = \"float: right;\"><span style = \"font-style: italic;\">23 rows omitted</span></div><div style = \"clear: both;\"></div></div><div class = \"data-frame\" style = \"overflow-x: scroll;\"><table class = \"data-frame\" style = \"margin-bottom: 6px;\"><thead><tr class = \"header\"><th class = \"rowNumber\" style = \"font-weight: bold; text-align: right;\">Row</th><th style = \"text-align: left;\">draw</th><th style = \"text-align: left;\">home_loss</th><th style = \"text-align: left;\">home_win</th><th style = \"text-align: left;\">home_team</th><th style = \"text-align: left;\">away_team</th></tr><tr class = \"subheader headerLastRow\"><th class = \"rowNumber\" style = \"font-weight: bold; text-align: right;\"></th><th title = \"Float64\" style = \"text-align: left;\">Float64</th><th title = \"Float64\" style = \"text-align: left;\">Float64</th><th title = \"Float64\" style = \"text-align: left;\">Float64</th><th title = \"String15\" style = \"text-align: left;\">String15</th><th title = \"String15\" style = \"text-align: left;\">String15</th></tr></thead><tbody><tr><td class = \"rowNumber\" style = \"font-weight: bold; text-align: right;\">1</td><td style = \"text-align: right;\">0.260975</td><td style = \"text-align: right;\">0.00041369</td><td style = \"text-align: right;\">0.738611</td><td style = \"text-align: left;\">Argentina</td><td style = \"text-align: left;\">Saudi Arabia</td></tr><tr><td class = \"rowNumber\" style = \"font-weight: bold; text-align: right;\">2</td><td style = \"text-align: right;\">0.618407</td><td style = \"text-align: right;\">0.00605576</td><td style = \"text-align: right;\">0.375537</td><td style = \"text-align: left;\">Argentina</td><td style = \"text-align: left;\">Mexico</td></tr><tr><td class = \"rowNumber\" style = \"font-weight: bold; text-align: right;\">3</td><td style = \"text-align: right;\">0.875496</td><td style = \"text-align: right;\">0.0272269</td><td style = \"text-align: right;\">0.0972772</td><td style = \"text-align: left;\">Australia</td><td style = \"text-align: left;\">Denmark</td></tr><tr><td class = \"rowNumber\" style = \"font-weight: bold; text-align: right;\">4</td><td style = \"text-align: right;\">0.56212</td><td style = \"text-align: right;\">0.00196917</td><td style = \"text-align: right;\">0.435911</td><td style = \"text-align: left;\">Belgium</td><td style = \"text-align: left;\">Canada</td></tr><tr><td class = \"rowNumber\" style = \"font-weight: bold; text-align: right;\">5</td><td style = \"text-align: right;\">0.942321</td><td style = \"text-align: right;\">0.00225783</td><td style = \"text-align: right;\">0.0554213</td><td style = \"text-align: left;\">Belgium</td><td style = \"text-align: left;\">Morocco</td></tr><tr><td class = \"rowNumber\" style = \"font-weight: bold; text-align: right;\">6</td><td style = \"text-align: right;\">0.501719</td><td style = \"text-align: right;\">0.0107412</td><td style = \"text-align: right;\">0.48754</td><td style = \"text-align: left;\">Brazil</td><td style = \"text-align: left;\">Serbia</td></tr><tr><td class = \"rowNumber\" style = \"font-weight: bold; text-align: right;\">7</td><td style = \"text-align: right;\">0.477244</td><td style = \"text-align: right;\">0.00430241</td><td style = \"text-align: right;\">0.518453</td><td style = \"text-align: left;\">Brazil</td><td style = \"text-align: left;\">Switzerland</td></tr><tr><td class = \"rowNumber\" style = \"font-weight: bold; text-align: right;\">8</td><td style = \"text-align: right;\">0.913622</td><td style = \"text-align: right;\">0.0465703</td><td style = \"text-align: right;\">0.0398075</td><td style = \"text-align: left;\">Cameroon</td><td style = \"text-align: left;\">Serbia</td></tr><tr><td class = \"rowNumber\" style = \"font-weight: bold; text-align: right;\">9</td><td style = \"text-align: right;\">0.846894</td><td style = \"text-align: right;\">0.137365</td><td style = \"text-align: right;\">0.015741</td><td style = \"text-align: left;\">Cameroon</td><td style = \"text-align: left;\">Brazil</td></tr><tr><td class = \"rowNumber\" style = \"font-weight: bold; text-align: right;\">10</td><td style = \"text-align: right;\">0.919599</td><td style = \"text-align: right;\">0.0111622</td><td style = \"text-align: right;\">0.0692386</td><td style = \"text-align: left;\">Canada</td><td style = \"text-align: left;\">Morocco</td></tr><tr><td class = \"rowNumber\" style = \"font-weight: bold; text-align: right;\">11</td><td style = \"text-align: right;\">0.785005</td><td style = \"text-align: right;\">0.0800924</td><td style = \"text-align: right;\">0.134902</td><td style = \"text-align: left;\">Costa Rica</td><td style = \"text-align: left;\">Germany</td></tr><tr><td class = \"rowNumber\" style = \"font-weight: bold; text-align: right;\">12</td><td style = \"text-align: right;\">0.569913</td><td style = \"text-align: right;\">0.00280199</td><td style = \"text-align: right;\">0.427285</td><td style = \"text-align: left;\">Croatia</td><td style = \"text-align: left;\">Canada</td></tr><tr><td class = \"rowNumber\" style = \"font-weight: bold; text-align: right;\">13</td><td style = \"text-align: right;\">0.667036</td><td style = \"text-align: right;\">0.0477064</td><td style = \"text-align: right;\">0.285258</td><td style = \"text-align: left;\">Croatia</td><td style = \"text-align: left;\">Belgium</td></tr><tr><td style = \"text-align: right;\">&vellip;</td><td style = \"text-align: right;\">&vellip;</td><td style = \"text-align: right;\">&vellip;</td><td style = \"text-align: right;\">&vellip;</td><td style = \"text-align: right;\">&vellip;</td><td style = \"text-align: right;\">&vellip;</td></tr><tr><td class = \"rowNumber\" style = \"font-weight: bold; text-align: right;\">37</td><td style = \"text-align: right;\">0.880843</td><td style = \"text-align: right;\">0.0440561</td><td style = \"text-align: right;\">0.0751013</td><td style = \"text-align: left;\">Saudi Arabia</td><td style = \"text-align: left;\">Mexico</td></tr><tr><td class = \"rowNumber\" style = \"font-weight: bold; text-align: right;\">38</td><td style = \"text-align: right;\">0.72037</td><td style = \"text-align: right;\">0.112386</td><td style = \"text-align: right;\">0.167243</td><td style = \"text-align: left;\">Senegal</td><td style = \"text-align: left;\">Netherlands</td></tr><tr><td class = \"rowNumber\" style = \"font-weight: bold; text-align: right;\">39</td><td style = \"text-align: right;\">0.887054</td><td style = \"text-align: right;\">0.00942023</td><td style = \"text-align: right;\">0.103526</td><td style = \"text-align: left;\">Serbia</td><td style = \"text-align: left;\">Switzerland</td></tr><tr><td class = \"rowNumber\" style = \"font-weight: bold; text-align: right;\">40</td><td style = \"text-align: right;\">0.683796</td><td style = \"text-align: right;\">0.00321201</td><td style = \"text-align: right;\">0.312992</td><td style = \"text-align: left;\">Spain</td><td style = \"text-align: left;\">Costa Rica</td></tr><tr><td class = \"rowNumber\" style = \"font-weight: bold; text-align: right;\">41</td><td style = \"text-align: right;\">0.767256</td><td style = \"text-align: right;\">0.0186231</td><td style = \"text-align: right;\">0.214121</td><td style = \"text-align: left;\">Spain</td><td style = \"text-align: left;\">Germany</td></tr><tr><td class = \"rowNumber\" style = \"font-weight: bold; text-align: right;\">42</td><td style = \"text-align: right;\">0.714577</td><td style = \"text-align: right;\">0.00371781</td><td style = \"text-align: right;\">0.281705</td><td style = \"text-align: left;\">Switzerland</td><td style = \"text-align: left;\">Cameroon</td></tr><tr><td class = \"rowNumber\" style = \"font-weight: bold; text-align: right;\">43</td><td style = \"text-align: right;\">0.680658</td><td style = \"text-align: right;\">0.00849008</td><td style = \"text-align: right;\">0.310852</td><td style = \"text-align: left;\">Tunisia</td><td style = \"text-align: left;\">Australia</td></tr><tr><td class = \"rowNumber\" style = \"font-weight: bold; text-align: right;\">44</td><td style = \"text-align: right;\">0.745083</td><td style = \"text-align: right;\">0.125175</td><td style = \"text-align: right;\">0.129742</td><td style = \"text-align: left;\">Tunisia</td><td style = \"text-align: left;\">France</td></tr><tr><td class = \"rowNumber\" style = \"font-weight: bold; text-align: right;\">45</td><td style = \"text-align: right;\">0.563606</td><td style = \"text-align: right;\">0.0128888</td><td style = \"text-align: right;\">0.423506</td><td style = \"text-align: left;\">USA</td><td style = \"text-align: left;\">Wales</td></tr><tr><td class = \"rowNumber\" style = \"font-weight: bold; text-align: right;\">46</td><td style = \"text-align: right;\">0.490506</td><td style = \"text-align: right;\">0.00574934</td><td style = \"text-align: right;\">0.503745</td><td style = \"text-align: left;\">Uruguay</td><td style = \"text-align: left;\">Korea Republic</td></tr><tr><td class = \"rowNumber\" style = \"font-weight: bold; text-align: right;\">47</td><td style = \"text-align: right;\">0.824824</td><td style = \"text-align: right;\">0.133482</td><td style = \"text-align: right;\">0.0416938</td><td style = \"text-align: left;\">Wales</td><td style = \"text-align: left;\">England</td></tr><tr><td class = \"rowNumber\" style = \"font-weight: bold; text-align: right;\">48</td><td style = \"text-align: right;\">0.756982</td><td style = \"text-align: right;\">0.0424665</td><td style = \"text-align: right;\">0.200552</td><td style = \"text-align: left;\">Wales</td><td style = \"text-align: left;\">Iran</td></tr></tbody></table></div>"
      ],
      "text/latex": [
       "\\begin{tabular}{r|ccccc}\n",
       "\t& draw & home\\_loss & home\\_win & home\\_team & away\\_team\\\\\n",
       "\t\\hline\n",
       "\t& Float64 & Float64 & Float64 & String15 & String15\\\\\n",
       "\t\\hline\n",
       "\t1 & 0.260975 & 0.00041369 & 0.738611 & Argentina & Saudi Arabia \\\\\n",
       "\t2 & 0.618407 & 0.00605576 & 0.375537 & Argentina & Mexico \\\\\n",
       "\t3 & 0.875496 & 0.0272269 & 0.0972772 & Australia & Denmark \\\\\n",
       "\t4 & 0.56212 & 0.00196917 & 0.435911 & Belgium & Canada \\\\\n",
       "\t5 & 0.942321 & 0.00225783 & 0.0554213 & Belgium & Morocco \\\\\n",
       "\t6 & 0.501719 & 0.0107412 & 0.48754 & Brazil & Serbia \\\\\n",
       "\t7 & 0.477244 & 0.00430241 & 0.518453 & Brazil & Switzerland \\\\\n",
       "\t8 & 0.913622 & 0.0465703 & 0.0398075 & Cameroon & Serbia \\\\\n",
       "\t9 & 0.846894 & 0.137365 & 0.015741 & Cameroon & Brazil \\\\\n",
       "\t10 & 0.919599 & 0.0111622 & 0.0692386 & Canada & Morocco \\\\\n",
       "\t11 & 0.785005 & 0.0800924 & 0.134902 & Costa Rica & Germany \\\\\n",
       "\t12 & 0.569913 & 0.00280199 & 0.427285 & Croatia & Canada \\\\\n",
       "\t13 & 0.667036 & 0.0477064 & 0.285258 & Croatia & Belgium \\\\\n",
       "\t14 & 0.772266 & 0.00359546 & 0.224138 & Denmark & Tunisia \\\\\n",
       "\t15 & 0.883967 & 0.00746607 & 0.108566 & Ecuador & Senegal \\\\\n",
       "\t16 & 0.393782 & 0.0026394 & 0.603579 & England & USA \\\\\n",
       "\t17 & 0.437918 & 0.00297871 & 0.559104 & England & Iran \\\\\n",
       "\t18 & 0.743091 & 0.0117277 & 0.245182 & France & Denmark \\\\\n",
       "\t19 & 0.748683 & 0.00227961 & 0.249037 & France & Australia \\\\\n",
       "\t20 & 0.842995 & 0.0133391 & 0.143665 & Germany & Japan \\\\\n",
       "\t21 & 0.809163 & 0.0470147 & 0.143822 & Ghana & Uruguay \\\\\n",
       "\t22 & 0.820731 & 0.0135789 & 0.16569 & Iran & USA \\\\\n",
       "\t23 & 0.823788 & 0.0710156 & 0.105197 & Japan & Spain \\\\\n",
       "\t24 & 0.805929 & 0.0103396 & 0.183732 & Japan & Costa Rica \\\\\n",
       "\t$\\dots$ & $\\dots$ & $\\dots$ & $\\dots$ & $\\dots$ & $\\dots$ \\\\\n",
       "\\end{tabular}\n"
      ],
      "text/plain": [
       "\u001b[1m48×5 DataFrame\u001b[0m\n",
       "\u001b[1m Row \u001b[0m│\u001b[1m draw     \u001b[0m\u001b[1m home_loss  \u001b[0m\u001b[1m home_win  \u001b[0m\u001b[1m home_team   \u001b[0m\u001b[1m away_team      \u001b[0m\n",
       "     │\u001b[90m Float64  \u001b[0m\u001b[90m Float64    \u001b[0m\u001b[90m Float64   \u001b[0m\u001b[90m String15    \u001b[0m\u001b[90m String15       \u001b[0m\n",
       "─────┼──────────────────────────────────────────────────────────────\n",
       "   1 │ 0.260975  0.00041369  0.738611   Argentina    Saudi Arabia\n",
       "   2 │ 0.618407  0.00605576  0.375537   Argentina    Mexico\n",
       "   3 │ 0.875496  0.0272269   0.0972772  Australia    Denmark\n",
       "   4 │ 0.56212   0.00196917  0.435911   Belgium      Canada\n",
       "   5 │ 0.942321  0.00225783  0.0554213  Belgium      Morocco\n",
       "   6 │ 0.501719  0.0107412   0.48754    Brazil       Serbia\n",
       "   7 │ 0.477244  0.00430241  0.518453   Brazil       Switzerland\n",
       "   8 │ 0.913622  0.0465703   0.0398075  Cameroon     Serbia\n",
       "  ⋮  │    ⋮          ⋮           ⋮           ⋮             ⋮\n",
       "  42 │ 0.714577  0.00371781  0.281705   Switzerland  Cameroon\n",
       "  43 │ 0.680658  0.00849008  0.310852   Tunisia      Australia\n",
       "  44 │ 0.745083  0.125175    0.129742   Tunisia      France\n",
       "  45 │ 0.563606  0.0128888   0.423506   USA          Wales\n",
       "  46 │ 0.490506  0.00574934  0.503745   Uruguay      Korea Republic\n",
       "  47 │ 0.824824  0.133482    0.0416938  Wales        England\n",
       "  48 │ 0.756982  0.0424665   0.200552   Wales        Iran\n",
       "\u001b[36m                                                     33 rows omitted\u001b[0m"
      ]
     },
     "metadata": {},
     "output_type": "display_data"
    }
   ],
   "source": [
    "logreg_preds"
   ]
  },
  {
   "cell_type": "code",
   "execution_count": 53,
   "metadata": {},
   "outputs": [],
   "source": [
    "returns_matrix = Matrix(returns[:,3:5]);\n",
    "# matrix of probabilities for model's predictions\n",
    "xgb_probs = Matrix(xgb_preds[:,3:5]);\n",
    "rf_probs = Matrix(rf_preds[:,3:5]);\n",
    "lgbm_probs = Matrix(lgbm_preds[:,3:5]);\n",
    "logreg_probs = Matrix(logreg_preds[:,3:5]);"
   ]
  },
  {
   "cell_type": "code",
   "execution_count": 54,
   "metadata": {},
   "outputs": [
    {
     "data": {
      "text/plain": [
       "48×3 Matrix{Any}:\n",
       " 0.738611   \"Argentina\"    \"Saudi Arabia\"\n",
       " 0.375537   \"Argentina\"    \"Mexico\"\n",
       " 0.0972772  \"Australia\"    \"Denmark\"\n",
       " 0.435911   \"Belgium\"      \"Canada\"\n",
       " 0.0554213  \"Belgium\"      \"Morocco\"\n",
       " 0.48754    \"Brazil\"       \"Serbia\"\n",
       " 0.518453   \"Brazil\"       \"Switzerland\"\n",
       " 0.0398075  \"Cameroon\"     \"Serbia\"\n",
       " 0.015741   \"Cameroon\"     \"Brazil\"\n",
       " 0.0692386  \"Canada\"       \"Morocco\"\n",
       " ⋮                                   \n",
       " 0.312992   \"Spain\"        \"Costa Rica\"\n",
       " 0.214121   \"Spain\"        \"Germany\"\n",
       " 0.281705   \"Switzerland\"  \"Cameroon\"\n",
       " 0.310852   \"Tunisia\"      \"Australia\"\n",
       " 0.129742   \"Tunisia\"      \"France\"\n",
       " 0.423506   \"USA\"          \"Wales\"\n",
       " 0.503745   \"Uruguay\"      \"Korea Republic\"\n",
       " 0.0416938  \"Wales\"        \"England\"\n",
       " 0.200552   \"Wales\"        \"Iran\""
      ]
     },
     "metadata": {},
     "output_type": "display_data"
    }
   ],
   "source": [
    "logreg_probs"
   ]
  },
  {
   "cell_type": "markdown",
   "metadata": {},
   "source": [
    "## ____________________________________________________________________"
   ]
  },
  {
   "cell_type": "code",
   "execution_count": 46,
   "metadata": {},
   "outputs": [
    {
     "data": {
      "text/plain": [
       "FIFA2022_GS_Bettings (generic function with 1 method)"
      ]
     },
     "metadata": {},
     "output_type": "display_data"
    }
   ],
   "source": [
    "function FIFA2022_GS_Bettings(P, R, B, K)\n",
    "    \n",
    "    # define model\n",
    "    model = Model(Gurobi.Optimizer)\n",
    "\n",
    "    # define parameters and decision variables\n",
    "    m = size(P, 1)              # 48 group stage matches\n",
    "    n = size(P, 2)              # 3 outcomes\n",
    "\n",
    "    @variable(model, x[i=1:m, j=1:n] >= 0) # x[i,j] is the amount of money bet on outcome j of match i\n",
    "    @variable(model, z[i=1:m, j=1:n], Bin) # z[i,j] is whether you bet on outcome j of match i\n",
    "\n",
    "    # define objective: maximising expected total returns across all matches\n",
    "    @objective(model, Max, sum(P[i,1]*R[i,1]*x[i,1] + \n",
    "                               P[i,2]*R[i,2]*x[i,2] + \n",
    "                               P[i,3]*R[i,3]*x[i,3] - \n",
    "                               sum(x[i,j] for j=1:n) for i=1:m))\n",
    "\n",
    "    # # constraints\n",
    "    # 1) You can only bet on one outcome for each match\n",
    "    @constraint(model, [i=1:m], sum(z[i,j] for j=1:n) <= 1)\n",
    "\n",
    "    # 2) x[i,j] <= B*z[i,j] for all i and j\n",
    "    @constraint(model, [i=1:m, j=1:n], x[i,j] <= B*z[i,j])\n",
    "\n",
    "    # 3) Budget constraints\n",
    "    @constraint(model, sum(x[i,j] for j=1:n, i=1:m) <= B)\n",
    "\n",
    "    # 4) You must spread your risk across at least K matches\n",
    "    @constraint(model, sum(z[i,j] for j=1:n, i=1:m) >= K)\n",
    "\n",
    "    # 5) if z = 1, then x > 0\n",
    "    @constraint(model, [i=1:m, j=1:n], x[i,j] >= 1*z[i,j])\n",
    "\n",
    "    # solve model\n",
    "    optimize!(model)\n",
    "\n",
    "    # get optimal bet amounts (x) and how you bet (z)\n",
    "    opt_val = objective_value(model)\n",
    "    x_opt = value.(x)\n",
    "    z_opt = value.(z)\n",
    "\n",
    "    return opt_val, x_opt, z_opt\n",
    "end"
   ]
  },
  {
   "cell_type": "code",
   "execution_count": 47,
   "metadata": {},
   "outputs": [
    {
     "name": "stdout",
     "output_type": "stream",
     "text": [
      "Set parameter Username\r\n",
      "Academic license - for non-commercial use only - expires 2023-08-16\r\n"
     ]
    },
    {
     "ename": "MethodError",
     "evalue": "MethodError: no method matching zero(::Type{String15})\nClosest candidates are:\n  zero(!Matched::Union{Type{P}, P}) where P<:Dates.Period at C:\\Users\\shann\\AppData\\Local\\Programs\\Julia-1.8.2\\share\\julia\\stdlib\\v1.8\\Dates\\src\\periods.jl:53\n  zero(!Matched::SparseArrays.AbstractSparseArray) at C:\\Users\\shann\\AppData\\Local\\Programs\\Julia-1.8.2\\share\\julia\\stdlib\\v1.8\\SparseArrays\\src\\SparseArrays.jl:42\n  zero(!Matched::SA) where SA<:StaticArraysCore.StaticArray at C:\\Users\\iai\\builds\\InterpretableAI\\SystemImage\\SysImgBuilder\\.julia\\packages\\StaticArrays\\PUoe1\\src\\linalg.jl:95\n  ...",
     "output_type": "error",
     "traceback": [
      "MethodError: no method matching zero(::Type{String15})\n",
      "Closest candidates are:\n",
      "  zero(!Matched::Union{Type{P}, P}) where P<:Dates.Period at C:\\Users\\shann\\AppData\\Local\\Programs\\Julia-1.8.2\\share\\julia\\stdlib\\v1.8\\Dates\\src\\periods.jl:53\n",
      "  zero(!Matched::SparseArrays.AbstractSparseArray) at C:\\Users\\shann\\AppData\\Local\\Programs\\Julia-1.8.2\\share\\julia\\stdlib\\v1.8\\SparseArrays\\src\\SparseArrays.jl:42\n",
      "  zero(!Matched::SA) where SA<:StaticArraysCore.StaticArray at C:\\Users\\iai\\builds\\InterpretableAI\\SystemImage\\SysImgBuilder\\.julia\\packages\\StaticArrays\\PUoe1\\src\\linalg.jl:95\n",
      "  ...\n",
      "\n",
      "Stacktrace:\n",
      "  [1] _instantiate_zero(#unused#::Type{String15})\n",
      "    @ MutableArithmetics C:\\Users\\iai\\builds\\InterpretableAI\\SystemImage\\SysImgBuilder\\.julia\\packages\\MutableArithmetics\\maUDe\\src\\interface.jl:28\n",
      "  [2] promote_operation_fallback(op::typeof(*), #unused#::Type{String15}, #unused#::Type{Float64})\n",
      "    @ MutableArithmetics C:\\Users\\iai\\builds\\InterpretableAI\\SystemImage\\SysImgBuilder\\.julia\\packages\\MutableArithmetics\\maUDe\\src\\interface.jl:51\n",
      "  [3] promote_operation(::typeof(*), ::Type, ::Type)\n",
      "    @ MutableArithmetics C:\\Users\\iai\\builds\\InterpretableAI\\SystemImage\\SysImgBuilder\\.julia\\packages\\MutableArithmetics\\maUDe\\src\\interface.jl:113\n",
      "  [4] promote_operation_fallback(::typeof(*), ::Type{String15}, ::Type{Float64}, ::Type{VariableRef})\n",
      "    @ MutableArithmetics C:\\Users\\iai\\builds\\InterpretableAI\\SystemImage\\SysImgBuilder\\.julia\\packages\\MutableArithmetics\\maUDe\\src\\interface.jl:70\n",
      "  [5] promote_operation(::typeof(*), ::Type, ::Type, ::Type)\n",
      "    @ MutableArithmetics C:\\Users\\iai\\builds\\InterpretableAI\\SystemImage\\SysImgBuilder\\.julia\\packages\\MutableArithmetics\\maUDe\\src\\interface.jl:113\n",
      "  [6] promote_operation_fallback(::typeof(MutableArithmetics.add_mul), ::Type, ::Type, ::Type, ::Type)\n",
      "    @ MutableArithmetics C:\\Users\\iai\\builds\\InterpretableAI\\SystemImage\\SysImgBuilder\\.julia\\packages\\MutableArithmetics\\maUDe\\src\\interface.jl:99\n",
      "  [7] promote_operation(::typeof(MutableArithmetics.add_mul), ::Type, ::Type, ::Type, ::Type)\n",
      "    @ MutableArithmetics C:\\Users\\iai\\builds\\InterpretableAI\\SystemImage\\SysImgBuilder\\.julia\\packages\\MutableArithmetics\\maUDe\\src\\interface.jl:113\n",
      "  [8] mutability(::Type, ::Function, ::Type, ::Type, ::Type, ::Type)\n",
      "    @ MutableArithmetics C:\\Users\\iai\\builds\\InterpretableAI\\SystemImage\\SysImgBuilder\\.julia\\packages\\MutableArithmetics\\maUDe\\src\\interface.jl:251\n",
      "  [9] mutability(::AffExpr, ::Function, ::AffExpr, ::String15, ::Float64, ::VariableRef)\n",
      "    @ MutableArithmetics C:\\Users\\iai\\builds\\InterpretableAI\\SystemImage\\SysImgBuilder\\.julia\\packages\\MutableArithmetics\\maUDe\\src\\interface.jl:259\n",
      " [10] operate!!(::typeof(MutableArithmetics.add_mul), ::AffExpr, ::String15, ::Float64, ::VariableRef)\n",
      "    @ MutableArithmetics C:\\Users\\iai\\builds\\InterpretableAI\\SystemImage\\SysImgBuilder\\.julia\\packages\\MutableArithmetics\\maUDe\\src\\rewrite.jl:94\n",
      " [11] macro expansion\n",
      "    @ C:\\Users\\iai\\builds\\InterpretableAI\\SystemImage\\SysImgBuilder\\.julia\\packages\\MutableArithmetics\\maUDe\\src\\rewrite.jl:294 [inlined]\n",
      " [12] macro expansion\n",
      "    @ C:\\Users\\iai\\builds\\InterpretableAI\\SystemImage\\SysImgBuilder\\.julia\\packages\\JuMP\\gVq7V\\src\\macros.jl:1280 [inlined]\n",
      " [13] FIFA2022_GS_Bettings(P::Matrix{Any}, R::Matrix{Float64}, B::Int64, K::Int64)\n",
      "    @ Main c:\\Users\\shann\\Documents\\GitHub\\15095-project\\notebooks\\02-yen-optimal-betting.ipynb:14\n",
      " [14] top-level scope\n",
      "    @ c:\\Users\\shann\\Documents\\GitHub\\15095-project\\notebooks\\02-yen-optimal-betting.ipynb:1"
     ]
    }
   ],
   "source": [
    "exp_prof, x_opt, z_opt = FIFA2022_GS_Bettings(logreg_probs, returns_matrix, 5000, 5);"
   ]
  },
  {
   "cell_type": "code",
   "execution_count": 36,
   "metadata": {},
   "outputs": [
    {
     "data": {
      "text/plain": [
       "48×3 Matrix{Float64}:\n",
       "  0.0  -0.0   0.0\n",
       " -0.0   0.0   0.0\n",
       "  0.0   0.0  -0.0\n",
       "  0.0  -0.0   0.0\n",
       "  0.0  -0.0   0.0\n",
       "  0.0  -0.0   0.0\n",
       "  0.0  -0.0   0.0\n",
       "  1.0   0.0  -0.0\n",
       "  0.0   0.0  -0.0\n",
       "  0.0  -0.0   0.0\n",
       "  ⋮          \n",
       "  0.0  -0.0   0.0\n",
       " -0.0   0.0   0.0\n",
       "  0.0  -0.0   0.0\n",
       "  0.0   0.0  -0.0\n",
       "  0.0  -0.0   0.0\n",
       "  0.0  -0.0   0.0\n",
       " -0.0   0.0   0.0\n",
       "  1.0   0.0  -0.0\n",
       "  0.0  -0.0   0.0"
      ]
     },
     "metadata": {},
     "output_type": "display_data"
    }
   ],
   "source": [
    "z_opt"
   ]
  },
  {
   "cell_type": "code",
   "execution_count": 38,
   "metadata": {},
   "outputs": [
    {
     "data": {
      "text/plain": [
       "5-element Vector{CartesianIndex{2}}:\n",
       " CartesianIndex(8, 1)\n",
       " CartesianIndex(11, 1)\n",
       " CartesianIndex(28, 1)\n",
       " CartesianIndex(29, 1)\n",
       " CartesianIndex(47, 1)"
      ]
     },
     "metadata": {},
     "output_type": "display_data"
    }
   ],
   "source": [
    "# which matches to bet on\n",
    "betting_matches = findall(x -> x >= 1, z_opt)"
   ]
  },
  {
   "cell_type": "code",
   "execution_count": 39,
   "metadata": {},
   "outputs": [
    {
     "data": {
      "text/plain": [
       "52164.207097647"
      ]
     },
     "metadata": {},
     "output_type": "display_data"
    }
   ],
   "source": [
    "exp_prof"
   ]
  },
  {
   "cell_type": "code",
   "execution_count": 43,
   "metadata": {},
   "outputs": [
    {
     "data": {
      "text/html": [
       "<div><div style = \"float: left;\"><span>DataFrameRow (5 columns)</span></div><div style = \"clear: both;\"></div></div><div class = \"data-frame\" style = \"overflow-x: scroll;\"><table class = \"data-frame\" style = \"margin-bottom: 6px;\"><thead><tr class = \"header\"><th class = \"rowLabel\" style = \"font-weight: bold; text-align: right;\">Row</th><th style = \"text-align: left;\">home_team</th><th style = \"text-align: left;\">away_team</th><th style = \"text-align: left;\">home_win</th><th style = \"text-align: left;\">draw</th><th style = \"text-align: left;\">home_loss</th></tr><tr class = \"subheader headerLastRow\"><th class = \"rowLabel\" style = \"font-weight: bold; text-align: right;\"></th><th title = \"String15\" style = \"text-align: left;\">String15</th><th title = \"String15\" style = \"text-align: left;\">String15</th><th title = \"Float64\" style = \"text-align: left;\">Float64</th><th title = \"Float64\" style = \"text-align: left;\">Float64</th><th title = \"Float64\" style = \"text-align: left;\">Float64</th></tr></thead><tbody><tr><td class = \"rowLabel\" style = \"font-weight: bold; text-align: right;\">47</td><td style = \"text-align: left;\">Wales</td><td style = \"text-align: left;\">England</td><td style = \"text-align: right;\">0.501899</td><td style = \"text-align: right;\">0.403106</td><td style = \"text-align: right;\">0.0949948</td></tr></tbody></table></div>"
      ],
      "text/latex": [
       "\\begin{tabular}{r|ccccc}\n",
       "\t& home\\_team & away\\_team & home\\_win & draw & home\\_loss\\\\\n",
       "\t\\hline\n",
       "\t& String15 & String15 & Float64 & Float64 & Float64\\\\\n",
       "\t\\hline\n",
       "\t47 & Wales & England & 0.501899 & 0.403106 & 0.0949948 \\\\\n",
       "\\end{tabular}\n"
      ],
      "text/plain": [
       "\u001b[1mDataFrameRow\u001b[0m\n",
       "\u001b[1m Row \u001b[0m│\u001b[1m home_team \u001b[0m\u001b[1m away_team \u001b[0m\u001b[1m home_win \u001b[0m\u001b[1m draw     \u001b[0m\u001b[1m home_loss \u001b[0m\n",
       "     │\u001b[90m String15  \u001b[0m\u001b[90m String15  \u001b[0m\u001b[90m Float64  \u001b[0m\u001b[90m Float64  \u001b[0m\u001b[90m Float64   \u001b[0m\n",
       "─────┼─────────────────────────────────────────────────────\n",
       "  47 │ Wales      England    0.501899  0.403106  0.0949948"
      ]
     },
     "metadata": {},
     "output_type": "display_data"
    }
   ],
   "source": [
    "xgb_preds[47,:]"
   ]
  }
 ],
 "metadata": {
  "kernelspec": {
   "display_name": "Julia 1.8.2",
   "language": "julia",
   "name": "julia-1.8"
  },
  "language_info": {
   "file_extension": ".jl",
   "mimetype": "application/julia",
   "name": "julia",
   "version": "1.8.2"
  },
  "orig_nbformat": 4
 },
 "nbformat": 4,
 "nbformat_minor": 2
}

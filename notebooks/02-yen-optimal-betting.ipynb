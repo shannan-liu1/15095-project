{
 "cells": [
  {
   "cell_type": "code",
   "execution_count": 165,
   "metadata": {},
   "outputs": [],
   "source": [
    "using DataFrames, CSV, JuMP, Gurobi, LinearAlgebra, Random, Printf, StatsBase, CategoricalArrays, Plots, StatsPlots, Distributions"
   ]
  },
  {
   "cell_type": "markdown",
   "metadata": {},
   "source": [
    "## ____________________________________________________________________"
   ]
  },
  {
   "cell_type": "markdown",
   "metadata": {},
   "source": [
    "## Import Datasets (Outputted Probabilities and Returns on $100 Bets)"
   ]
  },
  {
   "cell_type": "code",
   "execution_count": 166,
   "metadata": {},
   "outputs": [],
   "source": [
    "# # add actual data here\n",
    "# xgb_preds = CSV.read(\"C:\\\\Users\\\\shann\\\\Documents\\\\GitHub\\\\15095-project\\\\notebooks\\\\xgb_cv_pred.csv\",DataFrame)\n",
    "# rf_preds = CSV.read(\"C:\\\\Users\\\\shann\\\\Documents\\\\GitHub\\\\15095-project\\\\notebooks\\\\rf_pred.csv\",DataFrame)\n",
    "# lgbm_preds = CSV.read(\"C:\\\\Users\\\\shann\\\\Documents\\\\GitHub\\\\15095-project\\\\notebooks\\\\lgbm_cv_pred.csv\",DataFrame);\n",
    "# logreg_preds = CSV.read(\"C:\\\\Users\\\\shann\\\\Documents\\\\GitHub\\\\15095-project\\\\notebooks\\\\logreg_pred.csv\",DataFrame);\n",
    "# new_xgb_preds = CSV.read(\"C:\\\\Users\\\\shann\\\\Documents\\\\GitHub\\\\15095-project\\\\notebooks\\\\new_xgb_pred.csv\",DataFrame);\n",
    "# returns = CSV.read(\"C:\\\\Users\\\\shann\\\\Documents\\\\GitHub\\\\15095-project\\\\data\\\\group_stage_betting_odds_final_cleaned.csv\",DataFrame);\n",
    "\n",
    "# # add actual data here\n",
    "new_xgb_preds = CSV.read(\"/Users/yenhann/Documents/MIT/15.095 Machine Learning/15095-project/notebooks/new_xgb_pred.csv\",DataFrame);\n",
    "returns = CSV.read(\"/Users/yenhann/Documents/MIT/15.095 Machine Learning/15095-project/data/group_stage_betting_odds_final_cleaned.csv\",DataFrame);"
   ]
  },
  {
   "cell_type": "code",
   "execution_count": 167,
   "metadata": {},
   "outputs": [],
   "source": [
    "returns_matrix = Matrix(returns[:,3:5]);\n",
    "# # matrix of probabilities for model's predictions\n",
    "# xgb_probs = Matrix(xgb_preds[:,3:5]);\n",
    "# rf_probs = Matrix(rf_preds[:,3:5]);\n",
    "# lgbm_probs = Matrix(lgbm_preds[:,3:5]);\n",
    "# logreg_probs = Matrix(logreg_preds[:,3:5]);\n",
    "new_xgb_probs = Matrix(new_xgb_preds[:,3:5]);"
   ]
  },
  {
   "cell_type": "code",
   "execution_count": 168,
   "metadata": {},
   "outputs": [
    {
     "data": {
      "text/html": [
       "<div><div style = \"float: left;\"><span>48×5 DataFrame</span></div><div style = \"float: right;\"><span style = \"font-style: italic;\">23 rows omitted</span></div><div style = \"clear: both;\"></div></div><div class = \"data-frame\" style = \"overflow-x: scroll;\"><table class = \"data-frame\" style = \"margin-bottom: 6px;\"><thead><tr class = \"header\"><th class = \"rowNumber\" style = \"font-weight: bold; text-align: right;\">Row</th><th style = \"text-align: left;\">home_team</th><th style = \"text-align: left;\">away_team</th><th style = \"text-align: left;\">home_win</th><th style = \"text-align: left;\">draw</th><th style = \"text-align: left;\">home_loss</th></tr><tr class = \"subheader headerLastRow\"><th class = \"rowNumber\" style = \"font-weight: bold; text-align: right;\"></th><th title = \"String15\" style = \"text-align: left;\">String15</th><th title = \"String15\" style = \"text-align: left;\">String15</th><th title = \"Float64\" style = \"text-align: left;\">Float64</th><th title = \"Float64\" style = \"text-align: left;\">Float64</th><th title = \"Float64\" style = \"text-align: left;\">Float64</th></tr></thead><tbody><tr><td class = \"rowNumber\" style = \"font-weight: bold; text-align: right;\">1</td><td style = \"text-align: left;\">Argentina</td><td style = \"text-align: left;\">Mexico</td><td style = \"text-align: right;\">0.691677</td><td style = \"text-align: right;\">0.0415087</td><td style = \"text-align: right;\">0.266814</td></tr><tr><td class = \"rowNumber\" style = \"font-weight: bold; text-align: right;\">2</td><td style = \"text-align: left;\">Argentina</td><td style = \"text-align: left;\">Saudi Arabia</td><td style = \"text-align: right;\">0.968919</td><td style = \"text-align: right;\">0.025733</td><td style = \"text-align: right;\">0.00534816</td></tr><tr><td class = \"rowNumber\" style = \"font-weight: bold; text-align: right;\">3</td><td style = \"text-align: left;\">Australia</td><td style = \"text-align: left;\">Denmark</td><td style = \"text-align: right;\">0.238239</td><td style = \"text-align: right;\">0.210197</td><td style = \"text-align: right;\">0.551563</td></tr><tr><td class = \"rowNumber\" style = \"font-weight: bold; text-align: right;\">4</td><td style = \"text-align: left;\">Belgium</td><td style = \"text-align: left;\">Canada</td><td style = \"text-align: right;\">0.964543</td><td style = \"text-align: right;\">0.0154218</td><td style = \"text-align: right;\">0.0200349</td></tr><tr><td class = \"rowNumber\" style = \"font-weight: bold; text-align: right;\">5</td><td style = \"text-align: left;\">Belgium</td><td style = \"text-align: left;\">Morocco</td><td style = \"text-align: right;\">0.86645</td><td style = \"text-align: right;\">0.0244761</td><td style = \"text-align: right;\">0.109074</td></tr><tr><td class = \"rowNumber\" style = \"font-weight: bold; text-align: right;\">6</td><td style = \"text-align: left;\">Brazil</td><td style = \"text-align: left;\">Serbia</td><td style = \"text-align: right;\">0.760576</td><td style = \"text-align: right;\">0.0116859</td><td style = \"text-align: right;\">0.227739</td></tr><tr><td class = \"rowNumber\" style = \"font-weight: bold; text-align: right;\">7</td><td style = \"text-align: left;\">Brazil</td><td style = \"text-align: left;\">Switzerland</td><td style = \"text-align: right;\">0.907287</td><td style = \"text-align: right;\">0.00921022</td><td style = \"text-align: right;\">0.0835025</td></tr><tr><td class = \"rowNumber\" style = \"font-weight: bold; text-align: right;\">8</td><td style = \"text-align: left;\">Cameroon</td><td style = \"text-align: left;\">Brazil</td><td style = \"text-align: right;\">0.00561122</td><td style = \"text-align: right;\">0.175407</td><td style = \"text-align: right;\">0.818982</td></tr><tr><td class = \"rowNumber\" style = \"font-weight: bold; text-align: right;\">9</td><td style = \"text-align: left;\">Cameroon</td><td style = \"text-align: left;\">Serbia</td><td style = \"text-align: right;\">0.184903</td><td style = \"text-align: right;\">0.153135</td><td style = \"text-align: right;\">0.661962</td></tr><tr><td class = \"rowNumber\" style = \"font-weight: bold; text-align: right;\">10</td><td style = \"text-align: left;\">Canada</td><td style = \"text-align: left;\">Morocco</td><td style = \"text-align: right;\">0.26169</td><td style = \"text-align: right;\">0.295646</td><td style = \"text-align: right;\">0.442664</td></tr><tr><td class = \"rowNumber\" style = \"font-weight: bold; text-align: right;\">11</td><td style = \"text-align: left;\">Costa Rica</td><td style = \"text-align: left;\">Germany</td><td style = \"text-align: right;\">0.0131862</td><td style = \"text-align: right;\">0.444052</td><td style = \"text-align: right;\">0.542761</td></tr><tr><td class = \"rowNumber\" style = \"font-weight: bold; text-align: right;\">12</td><td style = \"text-align: left;\">Croatia</td><td style = \"text-align: left;\">Belgium</td><td style = \"text-align: right;\">0.139307</td><td style = \"text-align: right;\">0.0531642</td><td style = \"text-align: right;\">0.807529</td></tr><tr><td class = \"rowNumber\" style = \"font-weight: bold; text-align: right;\">13</td><td style = \"text-align: left;\">Croatia</td><td style = \"text-align: left;\">Canada</td><td style = \"text-align: right;\">0.575649</td><td style = \"text-align: right;\">0.359383</td><td style = \"text-align: right;\">0.0649685</td></tr><tr><td style = \"text-align: right;\">&vellip;</td><td style = \"text-align: right;\">&vellip;</td><td style = \"text-align: right;\">&vellip;</td><td style = \"text-align: right;\">&vellip;</td><td style = \"text-align: right;\">&vellip;</td><td style = \"text-align: right;\">&vellip;</td></tr><tr><td class = \"rowNumber\" style = \"font-weight: bold; text-align: right;\">37</td><td style = \"text-align: left;\">Saudi Arabia</td><td style = \"text-align: left;\">Mexico</td><td style = \"text-align: right;\">0.557936</td><td style = \"text-align: right;\">0.14692</td><td style = \"text-align: right;\">0.295144</td></tr><tr><td class = \"rowNumber\" style = \"font-weight: bold; text-align: right;\">38</td><td style = \"text-align: left;\">Senegal</td><td style = \"text-align: left;\">Netherlands</td><td style = \"text-align: right;\">0.246266</td><td style = \"text-align: right;\">0.403616</td><td style = \"text-align: right;\">0.350118</td></tr><tr><td class = \"rowNumber\" style = \"font-weight: bold; text-align: right;\">39</td><td style = \"text-align: left;\">Serbia</td><td style = \"text-align: left;\">Switzerland</td><td style = \"text-align: right;\">0.358455</td><td style = \"text-align: right;\">0.437939</td><td style = \"text-align: right;\">0.203606</td></tr><tr><td class = \"rowNumber\" style = \"font-weight: bold; text-align: right;\">40</td><td style = \"text-align: left;\">Spain</td><td style = \"text-align: left;\">Costa Rica</td><td style = \"text-align: right;\">0.919279</td><td style = \"text-align: right;\">0.0744164</td><td style = \"text-align: right;\">0.00630406</td></tr><tr><td class = \"rowNumber\" style = \"font-weight: bold; text-align: right;\">41</td><td style = \"text-align: left;\">Spain</td><td style = \"text-align: left;\">Germany</td><td style = \"text-align: right;\">0.227806</td><td style = \"text-align: right;\">0.54764</td><td style = \"text-align: right;\">0.224554</td></tr><tr><td class = \"rowNumber\" style = \"font-weight: bold; text-align: right;\">42</td><td style = \"text-align: left;\">Switzerland</td><td style = \"text-align: left;\">Cameroon</td><td style = \"text-align: right;\">0.657789</td><td style = \"text-align: right;\">0.138714</td><td style = \"text-align: right;\">0.203497</td></tr><tr><td class = \"rowNumber\" style = \"font-weight: bold; text-align: right;\">43</td><td style = \"text-align: left;\">Tunisia</td><td style = \"text-align: left;\">Australia</td><td style = \"text-align: right;\">0.625646</td><td style = \"text-align: right;\">0.188217</td><td style = \"text-align: right;\">0.186137</td></tr><tr><td class = \"rowNumber\" style = \"font-weight: bold; text-align: right;\">44</td><td style = \"text-align: left;\">Tunisia</td><td style = \"text-align: left;\">France</td><td style = \"text-align: right;\">0.00355233</td><td style = \"text-align: right;\">0.0919213</td><td style = \"text-align: right;\">0.904526</td></tr><tr><td class = \"rowNumber\" style = \"font-weight: bold; text-align: right;\">45</td><td style = \"text-align: left;\">USA</td><td style = \"text-align: left;\">Wales</td><td style = \"text-align: right;\">0.313079</td><td style = \"text-align: right;\">0.03656</td><td style = \"text-align: right;\">0.650361</td></tr><tr><td class = \"rowNumber\" style = \"font-weight: bold; text-align: right;\">46</td><td style = \"text-align: left;\">Uruguay</td><td style = \"text-align: left;\">Korea Republic</td><td style = \"text-align: right;\">0.69912</td><td style = \"text-align: right;\">0.157679</td><td style = \"text-align: right;\">0.143201</td></tr><tr><td class = \"rowNumber\" style = \"font-weight: bold; text-align: right;\">47</td><td style = \"text-align: left;\">Wales</td><td style = \"text-align: left;\">England</td><td style = \"text-align: right;\">0.0622313</td><td style = \"text-align: right;\">0.321516</td><td style = \"text-align: right;\">0.616253</td></tr><tr><td class = \"rowNumber\" style = \"font-weight: bold; text-align: right;\">48</td><td style = \"text-align: left;\">Wales</td><td style = \"text-align: left;\">Iran</td><td style = \"text-align: right;\">0.749038</td><td style = \"text-align: right;\">0.0478216</td><td style = \"text-align: right;\">0.20314</td></tr></tbody></table></div>"
      ],
      "text/latex": [
       "\\begin{tabular}{r|ccccc}\n",
       "\t& home\\_team & away\\_team & home\\_win & draw & home\\_loss\\\\\n",
       "\t\\hline\n",
       "\t& String15 & String15 & Float64 & Float64 & Float64\\\\\n",
       "\t\\hline\n",
       "\t1 & Argentina & Mexico & 0.691677 & 0.0415087 & 0.266814 \\\\\n",
       "\t2 & Argentina & Saudi Arabia & 0.968919 & 0.025733 & 0.00534816 \\\\\n",
       "\t3 & Australia & Denmark & 0.238239 & 0.210197 & 0.551563 \\\\\n",
       "\t4 & Belgium & Canada & 0.964543 & 0.0154218 & 0.0200349 \\\\\n",
       "\t5 & Belgium & Morocco & 0.86645 & 0.0244761 & 0.109074 \\\\\n",
       "\t6 & Brazil & Serbia & 0.760576 & 0.0116859 & 0.227739 \\\\\n",
       "\t7 & Brazil & Switzerland & 0.907287 & 0.00921022 & 0.0835025 \\\\\n",
       "\t8 & Cameroon & Brazil & 0.00561122 & 0.175407 & 0.818982 \\\\\n",
       "\t9 & Cameroon & Serbia & 0.184903 & 0.153135 & 0.661962 \\\\\n",
       "\t10 & Canada & Morocco & 0.26169 & 0.295646 & 0.442664 \\\\\n",
       "\t11 & Costa Rica & Germany & 0.0131862 & 0.444052 & 0.542761 \\\\\n",
       "\t12 & Croatia & Belgium & 0.139307 & 0.0531642 & 0.807529 \\\\\n",
       "\t13 & Croatia & Canada & 0.575649 & 0.359383 & 0.0649685 \\\\\n",
       "\t14 & Denmark & Tunisia & 0.867071 & 0.0604135 & 0.0725153 \\\\\n",
       "\t15 & Ecuador & Senegal & 0.105359 & 0.180916 & 0.713725 \\\\\n",
       "\t16 & England & Iran & 0.856146 & 0.108431 & 0.0354235 \\\\\n",
       "\t17 & England & USA & 0.883818 & 0.112046 & 0.00413555 \\\\\n",
       "\t18 & France & Australia & 0.940566 & 0.0315917 & 0.0278423 \\\\\n",
       "\t19 & France & Denmark & 0.0639191 & 0.0319283 & 0.904153 \\\\\n",
       "\t20 & Germany & Japan & 0.792636 & 0.182587 & 0.0247768 \\\\\n",
       "\t21 & Ghana & Uruguay & 0.090158 & 0.393147 & 0.516695 \\\\\n",
       "\t22 & Iran & USA & 0.515694 & 0.270426 & 0.21388 \\\\\n",
       "\t23 & Japan & Costa Rica & 0.743433 & 0.181195 & 0.0753725 \\\\\n",
       "\t24 & Japan & Spain & 0.0140388 & 0.171573 & 0.814388 \\\\\n",
       "\t25 & Korea Republic & Ghana & 0.228441 & 0.221633 & 0.549926 \\\\\n",
       "\t26 & Korea Republic & Portugal & 0.0524643 & 0.266551 & 0.680985 \\\\\n",
       "\t27 & Mexico & Poland & 0.451844 & 0.145664 & 0.402492 \\\\\n",
       "\t28 & Morocco & Croatia & 0.465358 & 0.434983 & 0.0996595 \\\\\n",
       "\t29 & Netherlands & Ecuador & 0.835085 & 0.113837 & 0.051078 \\\\\n",
       "\t30 & Netherlands & Qatar & 0.855578 & 0.115547 & 0.028875 \\\\\n",
       "\t$\\dots$ & $\\dots$ & $\\dots$ & $\\dots$ & $\\dots$ & $\\dots$ \\\\\n",
       "\\end{tabular}\n"
      ],
      "text/plain": [
       "\u001b[1m48×5 DataFrame\n",
       "\u001b[1m Row │\u001b[1m home_team    \u001b[1m away_team      \u001b[1m home_win   \u001b[1m draw       \u001b[1m home_loss\n",
       "     │\u001b[90m String15     \u001b[90m String15       \u001b[90m Float64    \u001b[90m Float64    \u001b[90m Float64\n",
       "─────┼──────────────────────────────────────────────────────────────────\n",
       "   1 │ Argentina     Mexico          0.691677    0.0415087   0.266814\n",
       "   2 │ Argentina     Saudi Arabia    0.968919    0.025733    0.00534816\n",
       "   3 │ Australia     Denmark         0.238239    0.210197    0.551563\n",
       "   4 │ Belgium       Canada          0.964543    0.0154218   0.0200349\n",
       "   5 │ Belgium       Morocco         0.86645     0.0244761   0.109074\n",
       "   6 │ Brazil        Serbia          0.760576    0.0116859   0.227739\n",
       "   7 │ Brazil        Switzerland     0.907287    0.00921022  0.0835025\n",
       "   8 │ Cameroon      Brazil          0.00561122  0.175407    0.818982\n",
       "   9 │ Cameroon      Serbia          0.184903    0.153135    0.661962\n",
       "  10 │ Canada        Morocco         0.26169     0.295646    0.442664\n",
       "  11 │ Costa Rica    Germany         0.0131862   0.444052    0.542761\n",
       "  ⋮  │      ⋮              ⋮             ⋮           ⋮           ⋮\n",
       "  39 │ Serbia        Switzerland     0.358455    0.437939    0.203606\n",
       "  40 │ Spain         Costa Rica      0.919279    0.0744164   0.00630406\n",
       "  41 │ Spain         Germany         0.227806    0.54764     0.224554\n",
       "  42 │ Switzerland   Cameroon        0.657789    0.138714    0.203497\n",
       "  43 │ Tunisia       Australia       0.625646    0.188217    0.186137\n",
       "  44 │ Tunisia       France          0.00355233  0.0919213   0.904526\n",
       "  45 │ USA           Wales           0.313079    0.03656     0.650361\n",
       "  46 │ Uruguay       Korea Republic  0.69912     0.157679    0.143201\n",
       "  47 │ Wales         England         0.0622313   0.321516    0.616253\n",
       "  48 │ Wales         Iran            0.749038    0.0478216   0.20314\n",
       "\u001b[36m                                                         27 rows omitted"
      ]
     },
     "execution_count": 168,
     "metadata": {},
     "output_type": "execute_result"
    }
   ],
   "source": [
    "new_xgb_preds"
   ]
  },
  {
   "cell_type": "code",
   "execution_count": 169,
   "metadata": {},
   "outputs": [
    {
     "data": {
      "text/html": [
       "<div><div style = \"float: left;\"><span>48×8 DataFrame</span></div><div style = \"float: right;\"><span style = \"font-style: italic;\">23 rows omitted</span></div><div style = \"clear: both;\"></div></div><div class = \"data-frame\" style = \"overflow-x: scroll;\"><table class = \"data-frame\" style = \"margin-bottom: 6px;\"><thead><tr class = \"header\"><th class = \"rowNumber\" style = \"font-weight: bold; text-align: right;\">Row</th><th style = \"text-align: left;\">home_team</th><th style = \"text-align: left;\">away_team</th><th style = \"text-align: left;\">home_win_earnings_per_dollar</th><th style = \"text-align: left;\">draw_earnings_per_dollar</th><th style = \"text-align: left;\">away_win_earnings_per_dollar</th><th style = \"text-align: left;\">implied_probability_of_home_win</th><th style = \"text-align: left;\">implied_probability_of_draw</th><th style = \"text-align: left;\">implied_probability_of_away_win</th></tr><tr class = \"subheader headerLastRow\"><th class = \"rowNumber\" style = \"font-weight: bold; text-align: right;\"></th><th title = \"String15\" style = \"text-align: left;\">String15</th><th title = \"String15\" style = \"text-align: left;\">String15</th><th title = \"Float64\" style = \"text-align: left;\">Float64</th><th title = \"Float64\" style = \"text-align: left;\">Float64</th><th title = \"Float64\" style = \"text-align: left;\">Float64</th><th title = \"Float64\" style = \"text-align: left;\">Float64</th><th title = \"Float64\" style = \"text-align: left;\">Float64</th><th title = \"Float64\" style = \"text-align: left;\">Float64</th></tr></thead><tbody><tr><td class = \"rowNumber\" style = \"font-weight: bold; text-align: right;\">1</td><td style = \"text-align: left;\">Argentina</td><td style = \"text-align: left;\">Mexico</td><td style = \"text-align: right;\">0.549451</td><td style = \"text-align: right;\">2.95</td><td style = \"text-align: right;\">6.12</td><td style = \"text-align: right;\">0.64539</td><td style = \"text-align: right;\">0.338983</td><td style = \"text-align: right;\">0.163399</td></tr><tr><td class = \"rowNumber\" style = \"font-weight: bold; text-align: right;\">2</td><td style = \"text-align: left;\">Argentina</td><td style = \"text-align: left;\">Saudi Arabia</td><td style = \"text-align: right;\">0.120048</td><td style = \"text-align: right;\">8.21</td><td style = \"text-align: right;\">24.52</td><td style = \"text-align: right;\">0.892819</td><td style = \"text-align: right;\">0.121803</td><td style = \"text-align: right;\">0.040783</td></tr><tr><td class = \"rowNumber\" style = \"font-weight: bold; text-align: right;\">3</td><td style = \"text-align: left;\">Australia</td><td style = \"text-align: left;\">Denmark</td><td style = \"text-align: right;\">6.38</td><td style = \"text-align: right;\">3.88</td><td style = \"text-align: right;\">0.429185</td><td style = \"text-align: right;\">0.15674</td><td style = \"text-align: right;\">0.257732</td><td style = \"text-align: right;\">0.6997</td></tr><tr><td class = \"rowNumber\" style = \"font-weight: bold; text-align: right;\">4</td><td style = \"text-align: left;\">Belgium</td><td style = \"text-align: left;\">Canada</td><td style = \"text-align: right;\">0.900901</td><td style = \"text-align: right;\">2.45</td><td style = \"text-align: right;\">3.51</td><td style = \"text-align: right;\">0.526066</td><td style = \"text-align: right;\">0.408163</td><td style = \"text-align: right;\">0.2849</td></tr><tr><td class = \"rowNumber\" style = \"font-weight: bold; text-align: right;\">5</td><td style = \"text-align: left;\">Belgium</td><td style = \"text-align: left;\">Morocco</td><td style = \"text-align: right;\">0.581395</td><td style = \"text-align: right;\">3.21</td><td style = \"text-align: right;\">4.92</td><td style = \"text-align: right;\">0.632353</td><td style = \"text-align: right;\">0.311526</td><td style = \"text-align: right;\">0.203252</td></tr><tr><td class = \"rowNumber\" style = \"font-weight: bold; text-align: right;\">6</td><td style = \"text-align: left;\">Brazil</td><td style = \"text-align: left;\">Serbia</td><td style = \"text-align: right;\">0.5</td><td style = \"text-align: right;\">3.28</td><td style = \"text-align: right;\">6.6</td><td style = \"text-align: right;\">0.666667</td><td style = \"text-align: right;\">0.304878</td><td style = \"text-align: right;\">0.151515</td></tr><tr><td class = \"rowNumber\" style = \"font-weight: bold; text-align: right;\">7</td><td style = \"text-align: left;\">Brazil</td><td style = \"text-align: left;\">Switzerland</td><td style = \"text-align: right;\">0.469484</td><td style = \"text-align: right;\">3.57</td><td style = \"text-align: right;\">6.23</td><td style = \"text-align: right;\">0.680511</td><td style = \"text-align: right;\">0.280112</td><td style = \"text-align: right;\">0.160514</td></tr><tr><td class = \"rowNumber\" style = \"font-weight: bold; text-align: right;\">8</td><td style = \"text-align: left;\">Cameroon</td><td style = \"text-align: left;\">Brazil</td><td style = \"text-align: right;\">7.93</td><td style = \"text-align: right;\">4.32</td><td style = \"text-align: right;\">0.359712</td><td style = \"text-align: right;\">0.126103</td><td style = \"text-align: right;\">0.231481</td><td style = \"text-align: right;\">0.73545</td></tr><tr><td class = \"rowNumber\" style = \"font-weight: bold; text-align: right;\">9</td><td style = \"text-align: left;\">Cameroon</td><td style = \"text-align: left;\">Serbia</td><td style = \"text-align: right;\">4.3</td><td style = \"text-align: right;\">2.77</td><td style = \"text-align: right;\">0.70922</td><td style = \"text-align: right;\">0.232558</td><td style = \"text-align: right;\">0.361011</td><td style = \"text-align: right;\">0.585062</td></tr><tr><td class = \"rowNumber\" style = \"font-weight: bold; text-align: right;\">10</td><td style = \"text-align: left;\">Canada</td><td style = \"text-align: left;\">Morocco</td><td style = \"text-align: right;\">3.78</td><td style = \"text-align: right;\">2.49</td><td style = \"text-align: right;\">0.840336</td><td style = \"text-align: right;\">0.26455</td><td style = \"text-align: right;\">0.401606</td><td style = \"text-align: right;\">0.543379</td></tr><tr><td class = \"rowNumber\" style = \"font-weight: bold; text-align: right;\">11</td><td style = \"text-align: left;\">Costa Rica</td><td style = \"text-align: left;\">Germany</td><td style = \"text-align: right;\">22.79</td><td style = \"text-align: right;\">10.17</td><td style = \"text-align: right;\">0.1</td><td style = \"text-align: right;\">0.0438789</td><td style = \"text-align: right;\">0.0983284</td><td style = \"text-align: right;\">0.909091</td></tr><tr><td class = \"rowNumber\" style = \"font-weight: bold; text-align: right;\">12</td><td style = \"text-align: left;\">Croatia</td><td style = \"text-align: left;\">Belgium</td><td style = \"text-align: right;\">2.02</td><td style = \"text-align: right;\">2.41</td><td style = \"text-align: right;\">1.44</td><td style = \"text-align: right;\">0.49505</td><td style = \"text-align: right;\">0.414938</td><td style = \"text-align: right;\">0.694444</td></tr><tr><td class = \"rowNumber\" style = \"font-weight: bold; text-align: right;\">13</td><td style = \"text-align: left;\">Croatia</td><td style = \"text-align: left;\">Canada</td><td style = \"text-align: right;\">1.23</td><td style = \"text-align: right;\">2.27</td><td style = \"text-align: right;\">2.54</td><td style = \"text-align: right;\">0.813008</td><td style = \"text-align: right;\">0.440529</td><td style = \"text-align: right;\">0.393701</td></tr><tr><td style = \"text-align: right;\">&vellip;</td><td style = \"text-align: right;\">&vellip;</td><td style = \"text-align: right;\">&vellip;</td><td style = \"text-align: right;\">&vellip;</td><td style = \"text-align: right;\">&vellip;</td><td style = \"text-align: right;\">&vellip;</td><td style = \"text-align: right;\">&vellip;</td><td style = \"text-align: right;\">&vellip;</td><td style = \"text-align: right;\">&vellip;</td></tr><tr><td class = \"rowNumber\" style = \"font-weight: bold; text-align: right;\">37</td><td style = \"text-align: left;\">Saudi Arabia</td><td style = \"text-align: left;\">Mexico</td><td style = \"text-align: right;\">4.34</td><td style = \"text-align: right;\">3.28</td><td style = \"text-align: right;\">0.621118</td><td style = \"text-align: right;\">0.230415</td><td style = \"text-align: right;\">0.304878</td><td style = \"text-align: right;\">0.616858</td></tr><tr><td class = \"rowNumber\" style = \"font-weight: bold; text-align: right;\">38</td><td style = \"text-align: left;\">Senegal</td><td style = \"text-align: left;\">Netherlands</td><td style = \"text-align: right;\">5.09</td><td style = \"text-align: right;\">2.67</td><td style = \"text-align: right;\">0.657895</td><td style = \"text-align: right;\">0.196464</td><td style = \"text-align: right;\">0.374532</td><td style = \"text-align: right;\">0.603175</td></tr><tr><td class = \"rowNumber\" style = \"font-weight: bold; text-align: right;\">39</td><td style = \"text-align: left;\">Serbia</td><td style = \"text-align: left;\">Switzerland</td><td style = \"text-align: right;\">1.58</td><td style = \"text-align: right;\">2.36</td><td style = \"text-align: right;\">1.85</td><td style = \"text-align: right;\">0.632911</td><td style = \"text-align: right;\">0.423729</td><td style = \"text-align: right;\">0.540541</td></tr><tr><td class = \"rowNumber\" style = \"font-weight: bold; text-align: right;\">40</td><td style = \"text-align: left;\">Spain</td><td style = \"text-align: left;\">Costa Rica</td><td style = \"text-align: right;\">0.16</td><td style = \"text-align: right;\">7.42</td><td style = \"text-align: right;\">16.43</td><td style = \"text-align: right;\">0.862069</td><td style = \"text-align: right;\">0.134771</td><td style = \"text-align: right;\">0.0608643</td></tr><tr><td class = \"rowNumber\" style = \"font-weight: bold; text-align: right;\">41</td><td style = \"text-align: left;\">Spain</td><td style = \"text-align: left;\">Germany</td><td style = \"text-align: right;\">1.54</td><td style = \"text-align: right;\">2.42</td><td style = \"text-align: right;\">1.84</td><td style = \"text-align: right;\">0.649351</td><td style = \"text-align: right;\">0.413223</td><td style = \"text-align: right;\">0.543478</td></tr><tr><td class = \"rowNumber\" style = \"font-weight: bold; text-align: right;\">42</td><td style = \"text-align: left;\">Switzerland</td><td style = \"text-align: left;\">Cameroon</td><td style = \"text-align: right;\">0.813008</td><td style = \"text-align: right;\">2.45</td><td style = \"text-align: right;\">4.01</td><td style = \"text-align: right;\">0.55157</td><td style = \"text-align: right;\">0.408163</td><td style = \"text-align: right;\">0.249377</td></tr><tr><td class = \"rowNumber\" style = \"font-weight: bold; text-align: right;\">43</td><td style = \"text-align: left;\">Tunisia</td><td style = \"text-align: left;\">Australia</td><td style = \"text-align: right;\">1.21</td><td style = \"text-align: right;\">2.31</td><td style = \"text-align: right;\">2.52</td><td style = \"text-align: right;\">0.616858</td><td style = \"text-align: right;\">0.342466</td><td style = \"text-align: right;\">0.199601</td></tr><tr><td class = \"rowNumber\" style = \"font-weight: bold; text-align: right;\">44</td><td style = \"text-align: left;\">Tunisia</td><td style = \"text-align: left;\">France</td><td style = \"text-align: right;\">5.01</td><td style = \"text-align: right;\">2.92</td><td style = \"text-align: right;\">0.621118</td><td style = \"text-align: right;\">0.396825</td><td style = \"text-align: right;\">0.4329</td><td style = \"text-align: right;\">0.826446</td></tr><tr><td class = \"rowNumber\" style = \"font-weight: bold; text-align: right;\">45</td><td style = \"text-align: left;\">USA</td><td style = \"text-align: left;\">Wales</td><td style = \"text-align: right;\">1.47</td><td style = \"text-align: right;\">2.09</td><td style = \"text-align: right;\">2.22</td><td style = \"text-align: right;\">0.680272</td><td style = \"text-align: right;\">0.478469</td><td style = \"text-align: right;\">0.45045</td></tr><tr><td class = \"rowNumber\" style = \"font-weight: bold; text-align: right;\">46</td><td style = \"text-align: left;\">Uruguay</td><td style = \"text-align: left;\">Korea Republic</td><td style = \"text-align: right;\">0.78125</td><td style = \"text-align: right;\">2.54</td><td style = \"text-align: right;\">4.09</td><td style = \"text-align: right;\">0.561404</td><td style = \"text-align: right;\">0.393701</td><td style = \"text-align: right;\">0.244499</td></tr><tr><td class = \"rowNumber\" style = \"font-weight: bold; text-align: right;\">47</td><td style = \"text-align: left;\">Wales</td><td style = \"text-align: left;\">England</td><td style = \"text-align: right;\">7.81</td><td style = \"text-align: right;\">3.45</td><td style = \"text-align: right;\">0.429185</td><td style = \"text-align: right;\">0.128041</td><td style = \"text-align: right;\">0.289855</td><td style = \"text-align: right;\">0.6997</td></tr><tr><td class = \"rowNumber\" style = \"font-weight: bold; text-align: right;\">48</td><td style = \"text-align: left;\">Wales</td><td style = \"text-align: left;\">Iran</td><td style = \"text-align: right;\">1.14</td><td style = \"text-align: right;\">2.18</td><td style = \"text-align: right;\">2.87</td><td style = \"text-align: right;\">0.877193</td><td style = \"text-align: right;\">0.458716</td><td style = \"text-align: right;\">0.348432</td></tr></tbody></table></div>"
      ],
      "text/latex": [
       "\\begin{tabular}{r|ccccc}\n",
       "\t& home\\_team & away\\_team & home\\_win\\_earnings\\_per\\_dollar & draw\\_earnings\\_per\\_dollar & \\\\\n",
       "\t\\hline\n",
       "\t& String15 & String15 & Float64 & Float64 & \\\\\n",
       "\t\\hline\n",
       "\t1 & Argentina & Mexico & 0.549451 & 2.95 & $\\dots$ \\\\\n",
       "\t2 & Argentina & Saudi Arabia & 0.120048 & 8.21 & $\\dots$ \\\\\n",
       "\t3 & Australia & Denmark & 6.38 & 3.88 & $\\dots$ \\\\\n",
       "\t4 & Belgium & Canada & 0.900901 & 2.45 & $\\dots$ \\\\\n",
       "\t5 & Belgium & Morocco & 0.581395 & 3.21 & $\\dots$ \\\\\n",
       "\t6 & Brazil & Serbia & 0.5 & 3.28 & $\\dots$ \\\\\n",
       "\t7 & Brazil & Switzerland & 0.469484 & 3.57 & $\\dots$ \\\\\n",
       "\t8 & Cameroon & Brazil & 7.93 & 4.32 & $\\dots$ \\\\\n",
       "\t9 & Cameroon & Serbia & 4.3 & 2.77 & $\\dots$ \\\\\n",
       "\t10 & Canada & Morocco & 3.78 & 2.49 & $\\dots$ \\\\\n",
       "\t11 & Costa Rica & Germany & 22.79 & 10.17 & $\\dots$ \\\\\n",
       "\t12 & Croatia & Belgium & 2.02 & 2.41 & $\\dots$ \\\\\n",
       "\t13 & Croatia & Canada & 1.23 & 2.27 & $\\dots$ \\\\\n",
       "\t14 & Denmark & Tunisia & 0.581395 & 2.92 & $\\dots$ \\\\\n",
       "\t15 & Ecuador & Senegal & 1.48 & 2.23 & $\\dots$ \\\\\n",
       "\t16 & England & Iran & 0.480769 & 3.26 & $\\dots$ \\\\\n",
       "\t17 & England & USA & 0.380228 & 3.65 & $\\dots$ \\\\\n",
       "\t18 & France & Australia & 0.819672 & 2.6 & $\\dots$ \\\\\n",
       "\t19 & France & Denmark & 0.21978 & 5.8 & $\\dots$ \\\\\n",
       "\t20 & Germany & Japan & 0.45045 & 3.84 & $\\dots$ \\\\\n",
       "\t21 & Ghana & Uruguay & 3.49 & 2.82 & $\\dots$ \\\\\n",
       "\t22 & Iran & USA & 3.18 & 2.49 & $\\dots$ \\\\\n",
       "\t23 & Japan & Costa Rica & 0.490196 & 3.32 & $\\dots$ \\\\\n",
       "\t24 & Japan & Spain & 6.04 & 3.49 & $\\dots$ \\\\\n",
       "\t25 & Korea Republic & Ghana & 1.75 & 2.13 & $\\dots$ \\\\\n",
       "\t26 & Korea Republic & Portugal & 3.26 & 2.84 & $\\dots$ \\\\\n",
       "\t27 & Mexico & Poland & 1.5 & 2.13 & $\\dots$ \\\\\n",
       "\t28 & Morocco & Croatia & 2.57 & 2.27 & $\\dots$ \\\\\n",
       "\t29 & Netherlands & Ecuador & 0.833333 & 2.44 & $\\dots$ \\\\\n",
       "\t30 & Netherlands & Qatar & 0.210084 & 6.0 & $\\dots$ \\\\\n",
       "\t$\\dots$ & $\\dots$ & $\\dots$ & $\\dots$ & $\\dots$ &  \\\\\n",
       "\\end{tabular}\n"
      ],
      "text/plain": [
       "\u001b[1m48×8 DataFrame\n",
       "\u001b[1m Row │\u001b[1m home_team    \u001b[1m away_team      \u001b[1m home_win_earnings_per_dollar \u001b[1m draw_earnin ⋯\n",
       "     │\u001b[90m String15     \u001b[90m String15       \u001b[90m Float64                      \u001b[90m Float64     ⋯\n",
       "─────┼──────────────────────────────────────────────────────────────────────────\n",
       "   1 │ Argentina     Mexico                              0.549451              ⋯\n",
       "   2 │ Argentina     Saudi Arabia                        0.120048\n",
       "   3 │ Australia     Denmark                             6.38\n",
       "   4 │ Belgium       Canada                              0.900901\n",
       "   5 │ Belgium       Morocco                             0.581395              ⋯\n",
       "   6 │ Brazil        Serbia                              0.5\n",
       "   7 │ Brazil        Switzerland                         0.469484\n",
       "   8 │ Cameroon      Brazil                              7.93\n",
       "   9 │ Cameroon      Serbia                              4.3                   ⋯\n",
       "  10 │ Canada        Morocco                             3.78\n",
       "  11 │ Costa Rica    Germany                            22.79\n",
       "  ⋮  │      ⋮              ⋮                      ⋮                            ⋱\n",
       "  39 │ Serbia        Switzerland                         1.58\n",
       "  40 │ Spain         Costa Rica                          0.16                  ⋯\n",
       "  41 │ Spain         Germany                             1.54\n",
       "  42 │ Switzerland   Cameroon                            0.813008\n",
       "  43 │ Tunisia       Australia                           1.21\n",
       "  44 │ Tunisia       France                              5.01                  ⋯\n",
       "  45 │ USA           Wales                               1.47\n",
       "  46 │ Uruguay       Korea Republic                      0.78125\n",
       "  47 │ Wales         England                             7.81\n",
       "  48 │ Wales         Iran                                1.14                  ⋯\n",
       "\u001b[36m                                                   5 columns and 27 rows omitted"
      ]
     },
     "execution_count": 169,
     "metadata": {},
     "output_type": "execute_result"
    }
   ],
   "source": [
    "returns"
   ]
  },
  {
   "cell_type": "code",
   "execution_count": 170,
   "metadata": {},
   "outputs": [],
   "source": [
    "# check if each row of new_xgb_preds and returns are the same\n",
    "for i in 1:size(new_xgb_preds,1)\n",
    "    if new_xgb_preds[i,1] != returns[i,1] || new_xgb_preds[i,2] != returns[i,2]\n",
    "        println(\"not the same\")\n",
    "    end\n",
    "end\n"
   ]
  },
  {
   "cell_type": "markdown",
   "metadata": {},
   "source": [
    "## ____________________________________________________________________"
   ]
  },
  {
   "cell_type": "code",
   "execution_count": 171,
   "metadata": {},
   "outputs": [
    {
     "data": {
      "text/plain": [
       "FIFA2022_GS_Bettings (generic function with 1 method)"
      ]
     },
     "execution_count": 171,
     "metadata": {},
     "output_type": "execute_result"
    }
   ],
   "source": [
    "function FIFA2022_GS_Bettings(P, R, B, K)\n",
    "    \n",
    "    # define model\n",
    "    model = Model(Gurobi.Optimizer)\n",
    "\n",
    "    # define parameters and decision variables\n",
    "    m = size(P, 1)              # 48 group stage matches\n",
    "    n = size(P, 2)              # 3 outcomes\n",
    "\n",
    "    @variable(model, x[i=1:m, j=1:n] >= 0) # x[i,j] is the amount of money bet on outcome j of match i\n",
    "    @variable(model, z[i=1:m, j=1:n], Bin) # z[i,j] is whether you bet on outcome j of match i\n",
    "\n",
    "    # define objective: maximising expected total returns across all matches\n",
    "    @objective(model, Max, sum(P[i,1]*R[i,1]*x[i,1] + \n",
    "                               P[i,2]*R[i,2]*x[i,2] + \n",
    "                               P[i,3]*R[i,3]*x[i,3] - \n",
    "                               sum(x[i,j] for j=1:n) for i=1:m))\n",
    "\n",
    "    # # constraints\n",
    "    # 1) You can only bet on one outcome for each match\n",
    "    @constraint(model, [i=1:m], sum(z[i,j] for j=1:n) <= 1)\n",
    "\n",
    "    # 2) x[i,j] <= B*z[i,j] for all i and j\n",
    "    @constraint(model, [i=1:m, j=1:n], x[i,j] <= B/12*z[i,j])\n",
    "\n",
    "    # 3) Budget constraints\n",
    "    @constraint(model, sum(x[i,j] for j=1:n, i=1:m) <= B)\n",
    "\n",
    "    # 4) You must spread your risk across at least K matches\n",
    "    @constraint(model, sum(z[i,j] for j=1:n, i=1:m) >= K)\n",
    "\n",
    "    # 5) if z = 1, then x > 0\n",
    "    @constraint(model, [i=1:m, j=1:n], x[i,j] >= 1*z[i,j])\n",
    "\n",
    "    # solve model\n",
    "    optimize!(model)\n",
    "\n",
    "    # get optimal bet amounts (x) and how you bet (z)\n",
    "    opt_val = objective_value(model)\n",
    "    x_opt = value.(x)\n",
    "    z_opt = value.(z)\n",
    "\n",
    "    return opt_val, x_opt, z_opt\n",
    "end"
   ]
  },
  {
   "cell_type": "code",
   "execution_count": 172,
   "metadata": {},
   "outputs": [
    {
     "name": "stdout",
     "output_type": "stream",
     "text": [
      "Set parameter Username\n",
      "Academic license - for non-commercial use only - expires 2023-08-19\n",
      "Gurobi Optimizer version 9.5.2 build v9.5.2rc0 (mac64[x86])\n",
      "Thread count: 4 physical cores, 8 logical processors, using up to 8 threads\n",
      "Optimize a model with 338 rows, 288 columns and 1008 nonzeros\n",
      "Model fingerprint: 0xa8ed24e9\n",
      "Variable types: 144 continuous, 144 integer (144 binary)\n",
      "Coefficient statistics:\n",
      "  Matrix range     [1e+00, 4e+02]\n",
      "  Objective range  [1e-02, 1e+01]\n",
      "  Bounds range     [0e+00, 0e+00]\n",
      "  RHS range        [1e+00, 5e+03]\n",
      "Found heuristic solution: objective 200.5775076\n",
      "Presolve removed 278 rows and 200 columns\n",
      "Presolve time: 0.00s\n",
      "Presolved: 60 rows, 88 columns, 254 nonzeros\n",
      "Found heuristic solution: objective 201.6468878\n",
      "Variable types: 20 continuous, 68 integer (68 binary)\n",
      "Found heuristic solution: objective 201.7622975\n",
      "\n",
      "Root relaxation: objective 8.341491e+03, 17 iterations, 0.00 seconds (0.00 work units)\n",
      "\n",
      "    Nodes    |    Current Node    |     Objective Bounds      |     Work\n",
      " Expl Unexpl |  Obj  Depth IntInf | Incumbent    BestBd   Gap | It/Node Time\n",
      "\n",
      "*    0     0               0    8341.4913600 8341.49136  0.00%     -    0s\n",
      "\n",
      "Explored 1 nodes (17 simplex iterations) in 0.00 seconds (0.00 work units)\n",
      "Thread count was 8 (of 8 available processors)\n",
      "\n",
      "Solution count 4: 8341.49 201.762 201.647 200.578 \n",
      "\n",
      "Optimal solution found (tolerance 1.00e-04)\n",
      "Best objective 8.341491360000e+03, best bound 8.341491360000e+03, gap 0.0000%\n",
      "\n",
      "User-callback calls 313, time in user-callback 0.00 sec\n"
     ]
    }
   ],
   "source": [
    "exp_prof, x_opt, z_opt = FIFA2022_GS_Bettings(new_xgb_probs, returns_matrix, 5000, 5);"
   ]
  },
  {
   "cell_type": "code",
   "execution_count": 173,
   "metadata": {},
   "outputs": [
    {
     "data": {
      "text/plain": [
       "12-element Vector{CartesianIndex{2}}:\n",
       " CartesianIndex(3, 1)\n",
       " CartesianIndex(22, 1)\n",
       " CartesianIndex(37, 1)\n",
       " CartesianIndex(11, 2)\n",
       " CartesianIndex(31, 2)\n",
       " CartesianIndex(35, 2)\n",
       " CartesianIndex(41, 2)\n",
       " CartesianIndex(1, 3)\n",
       " CartesianIndex(6, 3)\n",
       " CartesianIndex(15, 3)\n",
       " CartesianIndex(19, 3)\n",
       " CartesianIndex(45, 3)"
      ]
     },
     "execution_count": 173,
     "metadata": {},
     "output_type": "execute_result"
    }
   ],
   "source": [
    "# which matches to bet on\n",
    "betting_matches = findall(x -> x >= 1, z_opt)"
   ]
  },
  {
   "cell_type": "code",
   "execution_count": 174,
   "metadata": {},
   "outputs": [
    {
     "data": {
      "text/plain": [
       "12-element Vector{Int64}:\n",
       "  3\n",
       " 22\n",
       " 37\n",
       " 11\n",
       " 31\n",
       " 35\n",
       " 41\n",
       "  1\n",
       "  6\n",
       " 15\n",
       " 19\n",
       " 45"
      ]
     },
     "execution_count": 174,
     "metadata": {},
     "output_type": "execute_result"
    }
   ],
   "source": [
    "# make betting matches into list of first index of tuples\n",
    "betting_matches_list = [x[1] for x in betting_matches]\n",
    "betting_matches_outcomes = [x[2] for x in betting_matches]\n",
    "\n",
    "betting_matches_list"
   ]
  },
  {
   "cell_type": "code",
   "execution_count": 175,
   "metadata": {},
   "outputs": [
    {
     "data": {
      "text/plain": [
       "3-element Vector{Float64}:\n",
       "   0.0\n",
       "   0.0\n",
       " 416.66666666666663"
      ]
     },
     "execution_count": 175,
     "metadata": {},
     "output_type": "execute_result"
    }
   ],
   "source": [
    "x_opt[6,:]"
   ]
  },
  {
   "cell_type": "code",
   "execution_count": 176,
   "metadata": {},
   "outputs": [
    {
     "data": {
      "text/html": [
       "<div><div style = \"float: left;\"><span>DataFrameRow (8 columns)</span></div><div style = \"clear: both;\"></div></div><div class = \"data-frame\" style = \"overflow-x: scroll;\"><table class = \"data-frame\" style = \"margin-bottom: 6px;\"><thead><tr class = \"header\"><th class = \"rowLabel\" style = \"font-weight: bold; text-align: right;\">Row</th><th style = \"text-align: left;\">home_team</th><th style = \"text-align: left;\">away_team</th><th style = \"text-align: left;\">home_win_earnings_per_dollar</th><th style = \"text-align: left;\">draw_earnings_per_dollar</th><th style = \"text-align: left;\">away_win_earnings_per_dollar</th><th style = \"text-align: left;\">implied_probability_of_home_win</th><th style = \"text-align: left;\">implied_probability_of_draw</th><th style = \"text-align: left;\">implied_probability_of_away_win</th></tr><tr class = \"subheader headerLastRow\"><th class = \"rowLabel\" style = \"font-weight: bold; text-align: right;\"></th><th title = \"String15\" style = \"text-align: left;\">String15</th><th title = \"String15\" style = \"text-align: left;\">String15</th><th title = \"Float64\" style = \"text-align: left;\">Float64</th><th title = \"Float64\" style = \"text-align: left;\">Float64</th><th title = \"Float64\" style = \"text-align: left;\">Float64</th><th title = \"Float64\" style = \"text-align: left;\">Float64</th><th title = \"Float64\" style = \"text-align: left;\">Float64</th><th title = \"Float64\" style = \"text-align: left;\">Float64</th></tr></thead><tbody><tr><td class = \"rowLabel\" style = \"font-weight: bold; text-align: right;\">6</td><td style = \"text-align: left;\">Brazil</td><td style = \"text-align: left;\">Serbia</td><td style = \"text-align: right;\">0.5</td><td style = \"text-align: right;\">3.28</td><td style = \"text-align: right;\">6.6</td><td style = \"text-align: right;\">0.666667</td><td style = \"text-align: right;\">0.304878</td><td style = \"text-align: right;\">0.151515</td></tr></tbody></table></div>"
      ],
      "text/latex": [
       "\\begin{tabular}{r|cccccc}\n",
       "\t& home\\_team & away\\_team & home\\_win\\_earnings\\_per\\_dollar & draw\\_earnings\\_per\\_dollar & away\\_win\\_earnings\\_per\\_dollar & \\\\\n",
       "\t\\hline\n",
       "\t& String15 & String15 & Float64 & Float64 & Float64 & \\\\\n",
       "\t\\hline\n",
       "\t6 & Brazil & Serbia & 0.5 & 3.28 & 6.6 & $\\dots$ \\\\\n",
       "\\end{tabular}\n"
      ],
      "text/plain": [
       "\u001b[1mDataFrameRow\n",
       "\u001b[1m Row │\u001b[1m home_team \u001b[1m away_team \u001b[1m home_win_earnings_per_dollar \u001b[1m draw_earnings_per_d ⋯\n",
       "     │\u001b[90m String15  \u001b[90m String15  \u001b[90m Float64                      \u001b[90m Float64             ⋯\n",
       "─────┼──────────────────────────────────────────────────────────────────────────\n",
       "   6 │ Brazil     Serbia                              0.5                      ⋯\n",
       "\u001b[36m                                                               5 columns omitted"
      ]
     },
     "execution_count": 176,
     "metadata": {},
     "output_type": "execute_result"
    }
   ],
   "source": [
    "returns[6,:]"
   ]
  },
  {
   "cell_type": "code",
   "execution_count": 177,
   "metadata": {},
   "outputs": [
    {
     "data": {
      "text/html": [
       "<div><div style = \"float: left;\"><span>12×5 DataFrame</span></div><div style = \"clear: both;\"></div></div><div class = \"data-frame\" style = \"overflow-x: scroll;\"><table class = \"data-frame\" style = \"margin-bottom: 6px;\"><thead><tr class = \"header\"><th class = \"rowNumber\" style = \"font-weight: bold; text-align: right;\">Row</th><th style = \"text-align: left;\">home_team</th><th style = \"text-align: left;\">away_team</th><th style = \"text-align: left;\">home_win</th><th style = \"text-align: left;\">draw</th><th style = \"text-align: left;\">home_loss</th></tr><tr class = \"subheader headerLastRow\"><th class = \"rowNumber\" style = \"font-weight: bold; text-align: right;\"></th><th title = \"String15\" style = \"text-align: left;\">String15</th><th title = \"String15\" style = \"text-align: left;\">String15</th><th title = \"Float64\" style = \"text-align: left;\">Float64</th><th title = \"Float64\" style = \"text-align: left;\">Float64</th><th title = \"Float64\" style = \"text-align: left;\">Float64</th></tr></thead><tbody><tr><td class = \"rowNumber\" style = \"font-weight: bold; text-align: right;\">1</td><td style = \"text-align: left;\">Australia</td><td style = \"text-align: left;\">Denmark</td><td style = \"text-align: right;\">0.238239</td><td style = \"text-align: right;\">0.210197</td><td style = \"text-align: right;\">0.551563</td></tr><tr><td class = \"rowNumber\" style = \"font-weight: bold; text-align: right;\">2</td><td style = \"text-align: left;\">Iran</td><td style = \"text-align: left;\">USA</td><td style = \"text-align: right;\">0.515694</td><td style = \"text-align: right;\">0.270426</td><td style = \"text-align: right;\">0.21388</td></tr><tr><td class = \"rowNumber\" style = \"font-weight: bold; text-align: right;\">3</td><td style = \"text-align: left;\">Saudi Arabia</td><td style = \"text-align: left;\">Mexico</td><td style = \"text-align: right;\">0.557936</td><td style = \"text-align: right;\">0.14692</td><td style = \"text-align: right;\">0.295144</td></tr><tr><td class = \"rowNumber\" style = \"font-weight: bold; text-align: right;\">4</td><td style = \"text-align: left;\">Costa Rica</td><td style = \"text-align: left;\">Germany</td><td style = \"text-align: right;\">0.0131862</td><td style = \"text-align: right;\">0.444052</td><td style = \"text-align: right;\">0.542761</td></tr><tr><td class = \"rowNumber\" style = \"font-weight: bold; text-align: right;\">5</td><td style = \"text-align: left;\">Poland</td><td style = \"text-align: left;\">Argentina</td><td style = \"text-align: right;\">0.0124997</td><td style = \"text-align: right;\">0.398129</td><td style = \"text-align: right;\">0.589371</td></tr><tr><td class = \"rowNumber\" style = \"font-weight: bold; text-align: right;\">6</td><td style = \"text-align: left;\">Qatar</td><td style = \"text-align: left;\">Ecuador</td><td style = \"text-align: right;\">0.326202</td><td style = \"text-align: right;\">0.570737</td><td style = \"text-align: right;\">0.103061</td></tr><tr><td class = \"rowNumber\" style = \"font-weight: bold; text-align: right;\">7</td><td style = \"text-align: left;\">Spain</td><td style = \"text-align: left;\">Germany</td><td style = \"text-align: right;\">0.227806</td><td style = \"text-align: right;\">0.54764</td><td style = \"text-align: right;\">0.224554</td></tr><tr><td class = \"rowNumber\" style = \"font-weight: bold; text-align: right;\">8</td><td style = \"text-align: left;\">Argentina</td><td style = \"text-align: left;\">Mexico</td><td style = \"text-align: right;\">0.691677</td><td style = \"text-align: right;\">0.0415087</td><td style = \"text-align: right;\">0.266814</td></tr><tr><td class = \"rowNumber\" style = \"font-weight: bold; text-align: right;\">9</td><td style = \"text-align: left;\">Brazil</td><td style = \"text-align: left;\">Serbia</td><td style = \"text-align: right;\">0.760576</td><td style = \"text-align: right;\">0.0116859</td><td style = \"text-align: right;\">0.227739</td></tr><tr><td class = \"rowNumber\" style = \"font-weight: bold; text-align: right;\">10</td><td style = \"text-align: left;\">Ecuador</td><td style = \"text-align: left;\">Senegal</td><td style = \"text-align: right;\">0.105359</td><td style = \"text-align: right;\">0.180916</td><td style = \"text-align: right;\">0.713725</td></tr><tr><td class = \"rowNumber\" style = \"font-weight: bold; text-align: right;\">11</td><td style = \"text-align: left;\">France</td><td style = \"text-align: left;\">Denmark</td><td style = \"text-align: right;\">0.0639191</td><td style = \"text-align: right;\">0.0319283</td><td style = \"text-align: right;\">0.904153</td></tr><tr><td class = \"rowNumber\" style = \"font-weight: bold; text-align: right;\">12</td><td style = \"text-align: left;\">USA</td><td style = \"text-align: left;\">Wales</td><td style = \"text-align: right;\">0.313079</td><td style = \"text-align: right;\">0.03656</td><td style = \"text-align: right;\">0.650361</td></tr></tbody></table></div>"
      ],
      "text/latex": [
       "\\begin{tabular}{r|ccccc}\n",
       "\t& home\\_team & away\\_team & home\\_win & draw & home\\_loss\\\\\n",
       "\t\\hline\n",
       "\t& String15 & String15 & Float64 & Float64 & Float64\\\\\n",
       "\t\\hline\n",
       "\t1 & Australia & Denmark & 0.238239 & 0.210197 & 0.551563 \\\\\n",
       "\t2 & Iran & USA & 0.515694 & 0.270426 & 0.21388 \\\\\n",
       "\t3 & Saudi Arabia & Mexico & 0.557936 & 0.14692 & 0.295144 \\\\\n",
       "\t4 & Costa Rica & Germany & 0.0131862 & 0.444052 & 0.542761 \\\\\n",
       "\t5 & Poland & Argentina & 0.0124997 & 0.398129 & 0.589371 \\\\\n",
       "\t6 & Qatar & Ecuador & 0.326202 & 0.570737 & 0.103061 \\\\\n",
       "\t7 & Spain & Germany & 0.227806 & 0.54764 & 0.224554 \\\\\n",
       "\t8 & Argentina & Mexico & 0.691677 & 0.0415087 & 0.266814 \\\\\n",
       "\t9 & Brazil & Serbia & 0.760576 & 0.0116859 & 0.227739 \\\\\n",
       "\t10 & Ecuador & Senegal & 0.105359 & 0.180916 & 0.713725 \\\\\n",
       "\t11 & France & Denmark & 0.0639191 & 0.0319283 & 0.904153 \\\\\n",
       "\t12 & USA & Wales & 0.313079 & 0.03656 & 0.650361 \\\\\n",
       "\\end{tabular}\n"
      ],
      "text/plain": [
       "\u001b[1m12×5 DataFrame\n",
       "\u001b[1m Row │\u001b[1m home_team    \u001b[1m away_team \u001b[1m home_win  \u001b[1m draw      \u001b[1m home_loss\n",
       "     │\u001b[90m String15     \u001b[90m String15  \u001b[90m Float64   \u001b[90m Float64   \u001b[90m Float64\n",
       "─────┼──────────────────────────────────────────────────────────\n",
       "   1 │ Australia     Denmark    0.238239   0.210197    0.551563\n",
       "   2 │ Iran          USA        0.515694   0.270426    0.21388\n",
       "   3 │ Saudi Arabia  Mexico     0.557936   0.14692     0.295144\n",
       "   4 │ Costa Rica    Germany    0.0131862  0.444052    0.542761\n",
       "   5 │ Poland        Argentina  0.0124997  0.398129    0.589371\n",
       "   6 │ Qatar         Ecuador    0.326202   0.570737    0.103061\n",
       "   7 │ Spain         Germany    0.227806   0.54764     0.224554\n",
       "   8 │ Argentina     Mexico     0.691677   0.0415087   0.266814\n",
       "   9 │ Brazil        Serbia     0.760576   0.0116859   0.227739\n",
       "  10 │ Ecuador       Senegal    0.105359   0.180916    0.713725\n",
       "  11 │ France        Denmark    0.0639191  0.0319283   0.904153\n",
       "  12 │ USA           Wales      0.313079   0.03656     0.650361"
      ]
     },
     "execution_count": 177,
     "metadata": {},
     "output_type": "execute_result"
    }
   ],
   "source": [
    "outcomes = new_xgb_preds[betting_matches_list,:]"
   ]
  },
  {
   "cell_type": "code",
   "execution_count": 178,
   "metadata": {},
   "outputs": [],
   "source": [
    "outcomes[:,\"bet_amount\"] = [x_opt[i] for i in betting_matches];"
   ]
  },
  {
   "cell_type": "code",
   "execution_count": 179,
   "metadata": {},
   "outputs": [],
   "source": [
    "outcomes[:,\"actual_outcome\"] = [1,3,3,3,3,3,2,1,1,3,1,2];"
   ]
  },
  {
   "cell_type": "code",
   "execution_count": 180,
   "metadata": {},
   "outputs": [],
   "source": [
    "outcomes[:,\"bet_outcome\"] = [x[2] for x in betting_matches];"
   ]
  },
  {
   "cell_type": "code",
   "execution_count": 181,
   "metadata": {},
   "outputs": [],
   "source": [
    "# is actual_outcome = bet_outcome?\n",
    "outcomes[:,\"correct\"] = outcomes[:,\"actual_outcome\"] .== outcomes[:,\"bet_outcome\"];"
   ]
  },
  {
   "cell_type": "code",
   "execution_count": 182,
   "metadata": {},
   "outputs": [
    {
     "data": {
      "text/plain": [
       "4591.491360000001"
      ]
     },
     "execution_count": 182,
     "metadata": {},
     "output_type": "execute_result"
    }
   ],
   "source": [
    "# bet result: if correct == false, then bet_result = -bet_amount, if correct == true, then bet_result = bet_amount*\n",
    "bet_result = exp_prof - sum(outcomes[:,\"bet_amount\"].* (outcomes[:,\"correct\"].==false))"
   ]
  },
  {
   "cell_type": "code",
   "execution_count": 183,
   "metadata": {},
   "outputs": [
    {
     "data": {
      "text/plain": [
       "12-element Vector{CartesianIndex{2}}:\n",
       " CartesianIndex(3, 1)\n",
       " CartesianIndex(22, 1)\n",
       " CartesianIndex(37, 1)\n",
       " CartesianIndex(11, 2)\n",
       " CartesianIndex(31, 2)\n",
       " CartesianIndex(35, 2)\n",
       " CartesianIndex(41, 2)\n",
       " CartesianIndex(1, 3)\n",
       " CartesianIndex(6, 3)\n",
       " CartesianIndex(15, 3)\n",
       " CartesianIndex(19, 3)\n",
       " CartesianIndex(45, 3)"
      ]
     },
     "execution_count": 183,
     "metadata": {},
     "output_type": "execute_result"
    }
   ],
   "source": [
    "betting_matches"
   ]
  },
  {
   "cell_type": "markdown",
   "metadata": {},
   "source": [
    "## money actually earned"
   ]
  },
  {
   "cell_type": "code",
   "execution_count": 184,
   "metadata": {},
   "outputs": [
    {
     "data": {
      "text/html": [
       "<div><div style = \"float: left;\"><span>12×11 DataFrame</span></div><div style = \"clear: both;\"></div></div><div class = \"data-frame\" style = \"overflow-x: scroll;\"><table class = \"data-frame\" style = \"margin-bottom: 6px;\"><thead><tr class = \"header\"><th class = \"rowNumber\" style = \"font-weight: bold; text-align: right;\">Row</th><th style = \"text-align: left;\">home_team</th><th style = \"text-align: left;\">away_team</th><th style = \"text-align: left;\">home_win</th><th style = \"text-align: left;\">draw</th><th style = \"text-align: left;\">home_loss</th><th style = \"text-align: left;\">bet_amount</th><th style = \"text-align: left;\">actual_outcome</th><th style = \"text-align: left;\">bet_outcome</th><th style = \"text-align: left;\">correct</th><th style = \"text-align: left;\">betting_matches_indices</th><th style = \"text-align: left;\">betting_matches_outcomes</th></tr><tr class = \"subheader headerLastRow\"><th class = \"rowNumber\" style = \"font-weight: bold; text-align: right;\"></th><th title = \"String15\" style = \"text-align: left;\">String15</th><th title = \"String15\" style = \"text-align: left;\">String15</th><th title = \"Float64\" style = \"text-align: left;\">Float64</th><th title = \"Float64\" style = \"text-align: left;\">Float64</th><th title = \"Float64\" style = \"text-align: left;\">Float64</th><th title = \"Float64\" style = \"text-align: left;\">Float64</th><th title = \"Int64\" style = \"text-align: left;\">Int64</th><th title = \"Int64\" style = \"text-align: left;\">Int64</th><th title = \"Bool\" style = \"text-align: left;\">Bool</th><th title = \"Int64\" style = \"text-align: left;\">Int64</th><th title = \"Int64\" style = \"text-align: left;\">Int64</th></tr></thead><tbody><tr><td class = \"rowNumber\" style = \"font-weight: bold; text-align: right;\">1</td><td style = \"text-align: left;\">Australia</td><td style = \"text-align: left;\">Denmark</td><td style = \"text-align: right;\">0.238239</td><td style = \"text-align: right;\">0.210197</td><td style = \"text-align: right;\">0.551563</td><td style = \"text-align: right;\">416.667</td><td style = \"text-align: right;\">1</td><td style = \"text-align: right;\">1</td><td style = \"text-align: right;\">true</td><td style = \"text-align: right;\">3</td><td style = \"text-align: right;\">1</td></tr><tr><td class = \"rowNumber\" style = \"font-weight: bold; text-align: right;\">2</td><td style = \"text-align: left;\">Iran</td><td style = \"text-align: left;\">USA</td><td style = \"text-align: right;\">0.515694</td><td style = \"text-align: right;\">0.270426</td><td style = \"text-align: right;\">0.21388</td><td style = \"text-align: right;\">416.667</td><td style = \"text-align: right;\">3</td><td style = \"text-align: right;\">1</td><td style = \"text-align: right;\">false</td><td style = \"text-align: right;\">22</td><td style = \"text-align: right;\">1</td></tr><tr><td class = \"rowNumber\" style = \"font-weight: bold; text-align: right;\">3</td><td style = \"text-align: left;\">Saudi Arabia</td><td style = \"text-align: left;\">Mexico</td><td style = \"text-align: right;\">0.557936</td><td style = \"text-align: right;\">0.14692</td><td style = \"text-align: right;\">0.295144</td><td style = \"text-align: right;\">416.667</td><td style = \"text-align: right;\">3</td><td style = \"text-align: right;\">1</td><td style = \"text-align: right;\">false</td><td style = \"text-align: right;\">37</td><td style = \"text-align: right;\">1</td></tr><tr><td class = \"rowNumber\" style = \"font-weight: bold; text-align: right;\">4</td><td style = \"text-align: left;\">Costa Rica</td><td style = \"text-align: left;\">Germany</td><td style = \"text-align: right;\">0.0131862</td><td style = \"text-align: right;\">0.444052</td><td style = \"text-align: right;\">0.542761</td><td style = \"text-align: right;\">416.667</td><td style = \"text-align: right;\">3</td><td style = \"text-align: right;\">2</td><td style = \"text-align: right;\">false</td><td style = \"text-align: right;\">11</td><td style = \"text-align: right;\">2</td></tr><tr><td class = \"rowNumber\" style = \"font-weight: bold; text-align: right;\">5</td><td style = \"text-align: left;\">Poland</td><td style = \"text-align: left;\">Argentina</td><td style = \"text-align: right;\">0.0124997</td><td style = \"text-align: right;\">0.398129</td><td style = \"text-align: right;\">0.589371</td><td style = \"text-align: right;\">416.667</td><td style = \"text-align: right;\">3</td><td style = \"text-align: right;\">2</td><td style = \"text-align: right;\">false</td><td style = \"text-align: right;\">31</td><td style = \"text-align: right;\">2</td></tr><tr><td class = \"rowNumber\" style = \"font-weight: bold; text-align: right;\">6</td><td style = \"text-align: left;\">Qatar</td><td style = \"text-align: left;\">Ecuador</td><td style = \"text-align: right;\">0.326202</td><td style = \"text-align: right;\">0.570737</td><td style = \"text-align: right;\">0.103061</td><td style = \"text-align: right;\">416.667</td><td style = \"text-align: right;\">3</td><td style = \"text-align: right;\">2</td><td style = \"text-align: right;\">false</td><td style = \"text-align: right;\">35</td><td style = \"text-align: right;\">2</td></tr><tr><td class = \"rowNumber\" style = \"font-weight: bold; text-align: right;\">7</td><td style = \"text-align: left;\">Spain</td><td style = \"text-align: left;\">Germany</td><td style = \"text-align: right;\">0.227806</td><td style = \"text-align: right;\">0.54764</td><td style = \"text-align: right;\">0.224554</td><td style = \"text-align: right;\">416.667</td><td style = \"text-align: right;\">2</td><td style = \"text-align: right;\">2</td><td style = \"text-align: right;\">true</td><td style = \"text-align: right;\">41</td><td style = \"text-align: right;\">2</td></tr><tr><td class = \"rowNumber\" style = \"font-weight: bold; text-align: right;\">8</td><td style = \"text-align: left;\">Argentina</td><td style = \"text-align: left;\">Mexico</td><td style = \"text-align: right;\">0.691677</td><td style = \"text-align: right;\">0.0415087</td><td style = \"text-align: right;\">0.266814</td><td style = \"text-align: right;\">416.667</td><td style = \"text-align: right;\">1</td><td style = \"text-align: right;\">3</td><td style = \"text-align: right;\">false</td><td style = \"text-align: right;\">1</td><td style = \"text-align: right;\">3</td></tr><tr><td class = \"rowNumber\" style = \"font-weight: bold; text-align: right;\">9</td><td style = \"text-align: left;\">Brazil</td><td style = \"text-align: left;\">Serbia</td><td style = \"text-align: right;\">0.760576</td><td style = \"text-align: right;\">0.0116859</td><td style = \"text-align: right;\">0.227739</td><td style = \"text-align: right;\">416.667</td><td style = \"text-align: right;\">1</td><td style = \"text-align: right;\">3</td><td style = \"text-align: right;\">false</td><td style = \"text-align: right;\">6</td><td style = \"text-align: right;\">3</td></tr><tr><td class = \"rowNumber\" style = \"font-weight: bold; text-align: right;\">10</td><td style = \"text-align: left;\">Ecuador</td><td style = \"text-align: left;\">Senegal</td><td style = \"text-align: right;\">0.105359</td><td style = \"text-align: right;\">0.180916</td><td style = \"text-align: right;\">0.713725</td><td style = \"text-align: right;\">416.667</td><td style = \"text-align: right;\">3</td><td style = \"text-align: right;\">3</td><td style = \"text-align: right;\">true</td><td style = \"text-align: right;\">15</td><td style = \"text-align: right;\">3</td></tr><tr><td class = \"rowNumber\" style = \"font-weight: bold; text-align: right;\">11</td><td style = \"text-align: left;\">France</td><td style = \"text-align: left;\">Denmark</td><td style = \"text-align: right;\">0.0639191</td><td style = \"text-align: right;\">0.0319283</td><td style = \"text-align: right;\">0.904153</td><td style = \"text-align: right;\">416.667</td><td style = \"text-align: right;\">1</td><td style = \"text-align: right;\">3</td><td style = \"text-align: right;\">false</td><td style = \"text-align: right;\">19</td><td style = \"text-align: right;\">3</td></tr><tr><td class = \"rowNumber\" style = \"font-weight: bold; text-align: right;\">12</td><td style = \"text-align: left;\">USA</td><td style = \"text-align: left;\">Wales</td><td style = \"text-align: right;\">0.313079</td><td style = \"text-align: right;\">0.03656</td><td style = \"text-align: right;\">0.650361</td><td style = \"text-align: right;\">416.667</td><td style = \"text-align: right;\">2</td><td style = \"text-align: right;\">3</td><td style = \"text-align: right;\">false</td><td style = \"text-align: right;\">45</td><td style = \"text-align: right;\">3</td></tr></tbody></table></div>"
      ],
      "text/latex": [
       "\\begin{tabular}{r|cccccccc}\n",
       "\t& home\\_team & away\\_team & home\\_win & draw & home\\_loss & bet\\_amount & actual\\_outcome & \\\\\n",
       "\t\\hline\n",
       "\t& String15 & String15 & Float64 & Float64 & Float64 & Float64 & Int64 & \\\\\n",
       "\t\\hline\n",
       "\t1 & Australia & Denmark & 0.238239 & 0.210197 & 0.551563 & 416.667 & 1 & $\\dots$ \\\\\n",
       "\t2 & Iran & USA & 0.515694 & 0.270426 & 0.21388 & 416.667 & 3 & $\\dots$ \\\\\n",
       "\t3 & Saudi Arabia & Mexico & 0.557936 & 0.14692 & 0.295144 & 416.667 & 3 & $\\dots$ \\\\\n",
       "\t4 & Costa Rica & Germany & 0.0131862 & 0.444052 & 0.542761 & 416.667 & 3 & $\\dots$ \\\\\n",
       "\t5 & Poland & Argentina & 0.0124997 & 0.398129 & 0.589371 & 416.667 & 3 & $\\dots$ \\\\\n",
       "\t6 & Qatar & Ecuador & 0.326202 & 0.570737 & 0.103061 & 416.667 & 3 & $\\dots$ \\\\\n",
       "\t7 & Spain & Germany & 0.227806 & 0.54764 & 0.224554 & 416.667 & 2 & $\\dots$ \\\\\n",
       "\t8 & Argentina & Mexico & 0.691677 & 0.0415087 & 0.266814 & 416.667 & 1 & $\\dots$ \\\\\n",
       "\t9 & Brazil & Serbia & 0.760576 & 0.0116859 & 0.227739 & 416.667 & 1 & $\\dots$ \\\\\n",
       "\t10 & Ecuador & Senegal & 0.105359 & 0.180916 & 0.713725 & 416.667 & 3 & $\\dots$ \\\\\n",
       "\t11 & France & Denmark & 0.0639191 & 0.0319283 & 0.904153 & 416.667 & 1 & $\\dots$ \\\\\n",
       "\t12 & USA & Wales & 0.313079 & 0.03656 & 0.650361 & 416.667 & 2 & $\\dots$ \\\\\n",
       "\\end{tabular}\n"
      ],
      "text/plain": [
       "\u001b[1m12×11 DataFrame\n",
       "\u001b[1m Row │\u001b[1m home_team    \u001b[1m away_team \u001b[1m home_win  \u001b[1m draw      \u001b[1m home_loss \u001b[1m bet_amount \u001b[1m a ⋯\n",
       "     │\u001b[90m String15     \u001b[90m String15  \u001b[90m Float64   \u001b[90m Float64   \u001b[90m Float64   \u001b[90m Float64    \u001b[90m I ⋯\n",
       "─────┼──────────────────────────────────────────────────────────────────────────\n",
       "   1 │ Australia     Denmark    0.238239   0.210197    0.551563     416.667    ⋯\n",
       "   2 │ Iran          USA        0.515694   0.270426    0.21388      416.667\n",
       "   3 │ Saudi Arabia  Mexico     0.557936   0.14692     0.295144     416.667\n",
       "   4 │ Costa Rica    Germany    0.0131862  0.444052    0.542761     416.667\n",
       "   5 │ Poland        Argentina  0.0124997  0.398129    0.589371     416.667    ⋯\n",
       "   6 │ Qatar         Ecuador    0.326202   0.570737    0.103061     416.667\n",
       "   7 │ Spain         Germany    0.227806   0.54764     0.224554     416.667\n",
       "   8 │ Argentina     Mexico     0.691677   0.0415087   0.266814     416.667\n",
       "   9 │ Brazil        Serbia     0.760576   0.0116859   0.227739     416.667    ⋯\n",
       "  10 │ Ecuador       Senegal    0.105359   0.180916    0.713725     416.667\n",
       "  11 │ France        Denmark    0.0639191  0.0319283   0.904153     416.667\n",
       "  12 │ USA           Wales      0.313079   0.03656     0.650361     416.667\n",
       "\u001b[36m                                                               5 columns omitted"
      ]
     },
     "execution_count": 184,
     "metadata": {},
     "output_type": "execute_result"
    }
   ],
   "source": [
    "outcomes\n",
    "\n",
    "# add betting_matches_list as a column called :betting_indices so we can map to the correct row and columns in 'returns' dataframe\n",
    "outcomes[:,\"betting_matches_indices\"] = betting_matches_list;\n",
    "outcomes[:,\"betting_matches_outcomes\"] = betting_matches_outcomes;\n",
    "outcomes"
   ]
  },
  {
   "cell_type": "code",
   "execution_count": 191,
   "metadata": {},
   "outputs": [
    {
     "data": {
      "text/html": [
       "<div><div style = \"float: left;\"><span>12×12 DataFrame</span></div><div style = \"clear: both;\"></div></div><div class = \"data-frame\" style = \"overflow-x: scroll;\"><table class = \"data-frame\" style = \"margin-bottom: 6px;\"><thead><tr class = \"header\"><th class = \"rowNumber\" style = \"font-weight: bold; text-align: right;\">Row</th><th style = \"text-align: left;\">home_team</th><th style = \"text-align: left;\">away_team</th><th style = \"text-align: left;\">home_win</th><th style = \"text-align: left;\">draw</th><th style = \"text-align: left;\">home_loss</th><th style = \"text-align: left;\">bet_amount</th><th style = \"text-align: left;\">actual_outcome</th><th style = \"text-align: left;\">bet_outcome</th><th style = \"text-align: left;\">correct</th><th style = \"text-align: left;\">betting_matches_indices</th><th style = \"text-align: left;\">betting_matches_outcomes</th><th style = \"text-align: left;\">if_bets_correct_profit</th></tr><tr class = \"subheader headerLastRow\"><th class = \"rowNumber\" style = \"font-weight: bold; text-align: right;\"></th><th title = \"String15\" style = \"text-align: left;\">String15</th><th title = \"String15\" style = \"text-align: left;\">String15</th><th title = \"Float64\" style = \"text-align: left;\">Float64</th><th title = \"Float64\" style = \"text-align: left;\">Float64</th><th title = \"Float64\" style = \"text-align: left;\">Float64</th><th title = \"Float64\" style = \"text-align: left;\">Float64</th><th title = \"Int64\" style = \"text-align: left;\">Int64</th><th title = \"Int64\" style = \"text-align: left;\">Int64</th><th title = \"Bool\" style = \"text-align: left;\">Bool</th><th title = \"Int64\" style = \"text-align: left;\">Int64</th><th title = \"Int64\" style = \"text-align: left;\">Int64</th><th title = \"Float64\" style = \"text-align: left;\">Float64</th></tr></thead><tbody><tr><td class = \"rowNumber\" style = \"font-weight: bold; text-align: right;\">1</td><td style = \"text-align: left;\">Australia</td><td style = \"text-align: left;\">Denmark</td><td style = \"text-align: right;\">0.238239</td><td style = \"text-align: right;\">0.210197</td><td style = \"text-align: right;\">0.551563</td><td style = \"text-align: right;\">416.667</td><td style = \"text-align: right;\">1</td><td style = \"text-align: right;\">1</td><td style = \"text-align: right;\">true</td><td style = \"text-align: right;\">3</td><td style = \"text-align: right;\">1</td><td style = \"text-align: right;\">2241.67</td></tr><tr><td class = \"rowNumber\" style = \"font-weight: bold; text-align: right;\">2</td><td style = \"text-align: left;\">Iran</td><td style = \"text-align: left;\">USA</td><td style = \"text-align: right;\">0.515694</td><td style = \"text-align: right;\">0.270426</td><td style = \"text-align: right;\">0.21388</td><td style = \"text-align: right;\">416.667</td><td style = \"text-align: right;\">3</td><td style = \"text-align: right;\">1</td><td style = \"text-align: right;\">false</td><td style = \"text-align: right;\">22</td><td style = \"text-align: right;\">1</td><td style = \"text-align: right;\">908.333</td></tr><tr><td class = \"rowNumber\" style = \"font-weight: bold; text-align: right;\">3</td><td style = \"text-align: left;\">Saudi Arabia</td><td style = \"text-align: left;\">Mexico</td><td style = \"text-align: right;\">0.557936</td><td style = \"text-align: right;\">0.14692</td><td style = \"text-align: right;\">0.295144</td><td style = \"text-align: right;\">416.667</td><td style = \"text-align: right;\">3</td><td style = \"text-align: right;\">1</td><td style = \"text-align: right;\">false</td><td style = \"text-align: right;\">37</td><td style = \"text-align: right;\">1</td><td style = \"text-align: right;\">1391.67</td></tr><tr><td class = \"rowNumber\" style = \"font-weight: bold; text-align: right;\">4</td><td style = \"text-align: left;\">Costa Rica</td><td style = \"text-align: left;\">Germany</td><td style = \"text-align: right;\">0.0131862</td><td style = \"text-align: right;\">0.444052</td><td style = \"text-align: right;\">0.542761</td><td style = \"text-align: right;\">416.667</td><td style = \"text-align: right;\">3</td><td style = \"text-align: right;\">2</td><td style = \"text-align: right;\">false</td><td style = \"text-align: right;\">11</td><td style = \"text-align: right;\">2</td><td style = \"text-align: right;\">3820.83</td></tr><tr><td class = \"rowNumber\" style = \"font-weight: bold; text-align: right;\">5</td><td style = \"text-align: left;\">Poland</td><td style = \"text-align: left;\">Argentina</td><td style = \"text-align: right;\">0.0124997</td><td style = \"text-align: right;\">0.398129</td><td style = \"text-align: right;\">0.589371</td><td style = \"text-align: right;\">416.667</td><td style = \"text-align: right;\">3</td><td style = \"text-align: right;\">2</td><td style = \"text-align: right;\">false</td><td style = \"text-align: right;\">31</td><td style = \"text-align: right;\">2</td><td style = \"text-align: right;\">1070.83</td></tr><tr><td class = \"rowNumber\" style = \"font-weight: bold; text-align: right;\">6</td><td style = \"text-align: left;\">Qatar</td><td style = \"text-align: left;\">Ecuador</td><td style = \"text-align: right;\">0.326202</td><td style = \"text-align: right;\">0.570737</td><td style = \"text-align: right;\">0.103061</td><td style = \"text-align: right;\">416.667</td><td style = \"text-align: right;\">3</td><td style = \"text-align: right;\">2</td><td style = \"text-align: right;\">false</td><td style = \"text-align: right;\">35</td><td style = \"text-align: right;\">2</td><td style = \"text-align: right;\">666.667</td></tr><tr><td class = \"rowNumber\" style = \"font-weight: bold; text-align: right;\">7</td><td style = \"text-align: left;\">Spain</td><td style = \"text-align: left;\">Germany</td><td style = \"text-align: right;\">0.227806</td><td style = \"text-align: right;\">0.54764</td><td style = \"text-align: right;\">0.224554</td><td style = \"text-align: right;\">416.667</td><td style = \"text-align: right;\">2</td><td style = \"text-align: right;\">2</td><td style = \"text-align: right;\">true</td><td style = \"text-align: right;\">41</td><td style = \"text-align: right;\">2</td><td style = \"text-align: right;\">591.667</td></tr><tr><td class = \"rowNumber\" style = \"font-weight: bold; text-align: right;\">8</td><td style = \"text-align: left;\">Argentina</td><td style = \"text-align: left;\">Mexico</td><td style = \"text-align: right;\">0.691677</td><td style = \"text-align: right;\">0.0415087</td><td style = \"text-align: right;\">0.266814</td><td style = \"text-align: right;\">416.667</td><td style = \"text-align: right;\">1</td><td style = \"text-align: right;\">3</td><td style = \"text-align: right;\">false</td><td style = \"text-align: right;\">1</td><td style = \"text-align: right;\">3</td><td style = \"text-align: right;\">2133.33</td></tr><tr><td class = \"rowNumber\" style = \"font-weight: bold; text-align: right;\">9</td><td style = \"text-align: left;\">Brazil</td><td style = \"text-align: left;\">Serbia</td><td style = \"text-align: right;\">0.760576</td><td style = \"text-align: right;\">0.0116859</td><td style = \"text-align: right;\">0.227739</td><td style = \"text-align: right;\">416.667</td><td style = \"text-align: right;\">1</td><td style = \"text-align: right;\">3</td><td style = \"text-align: right;\">false</td><td style = \"text-align: right;\">6</td><td style = \"text-align: right;\">3</td><td style = \"text-align: right;\">2333.33</td></tr><tr><td class = \"rowNumber\" style = \"font-weight: bold; text-align: right;\">10</td><td style = \"text-align: left;\">Ecuador</td><td style = \"text-align: left;\">Senegal</td><td style = \"text-align: right;\">0.105359</td><td style = \"text-align: right;\">0.180916</td><td style = \"text-align: right;\">0.713725</td><td style = \"text-align: right;\">416.667</td><td style = \"text-align: right;\">3</td><td style = \"text-align: right;\">3</td><td style = \"text-align: right;\">true</td><td style = \"text-align: right;\">15</td><td style = \"text-align: right;\">3</td><td style = \"text-align: right;\">450.0</td></tr><tr><td class = \"rowNumber\" style = \"font-weight: bold; text-align: right;\">11</td><td style = \"text-align: left;\">France</td><td style = \"text-align: left;\">Denmark</td><td style = \"text-align: right;\">0.0639191</td><td style = \"text-align: right;\">0.0319283</td><td style = \"text-align: right;\">0.904153</td><td style = \"text-align: right;\">416.667</td><td style = \"text-align: right;\">1</td><td style = \"text-align: right;\">3</td><td style = \"text-align: right;\">false</td><td style = \"text-align: right;\">19</td><td style = \"text-align: right;\">3</td><td style = \"text-align: right;\">4941.67</td></tr><tr><td class = \"rowNumber\" style = \"font-weight: bold; text-align: right;\">12</td><td style = \"text-align: left;\">USA</td><td style = \"text-align: left;\">Wales</td><td style = \"text-align: right;\">0.313079</td><td style = \"text-align: right;\">0.03656</td><td style = \"text-align: right;\">0.650361</td><td style = \"text-align: right;\">416.667</td><td style = \"text-align: right;\">2</td><td style = \"text-align: right;\">3</td><td style = \"text-align: right;\">false</td><td style = \"text-align: right;\">45</td><td style = \"text-align: right;\">3</td><td style = \"text-align: right;\">508.333</td></tr></tbody></table></div>"
      ],
      "text/latex": [
       "\\begin{tabular}{r|cccccccc}\n",
       "\t& home\\_team & away\\_team & home\\_win & draw & home\\_loss & bet\\_amount & actual\\_outcome & \\\\\n",
       "\t\\hline\n",
       "\t& String15 & String15 & Float64 & Float64 & Float64 & Float64 & Int64 & \\\\\n",
       "\t\\hline\n",
       "\t1 & Australia & Denmark & 0.238239 & 0.210197 & 0.551563 & 416.667 & 1 & $\\dots$ \\\\\n",
       "\t2 & Iran & USA & 0.515694 & 0.270426 & 0.21388 & 416.667 & 3 & $\\dots$ \\\\\n",
       "\t3 & Saudi Arabia & Mexico & 0.557936 & 0.14692 & 0.295144 & 416.667 & 3 & $\\dots$ \\\\\n",
       "\t4 & Costa Rica & Germany & 0.0131862 & 0.444052 & 0.542761 & 416.667 & 3 & $\\dots$ \\\\\n",
       "\t5 & Poland & Argentina & 0.0124997 & 0.398129 & 0.589371 & 416.667 & 3 & $\\dots$ \\\\\n",
       "\t6 & Qatar & Ecuador & 0.326202 & 0.570737 & 0.103061 & 416.667 & 3 & $\\dots$ \\\\\n",
       "\t7 & Spain & Germany & 0.227806 & 0.54764 & 0.224554 & 416.667 & 2 & $\\dots$ \\\\\n",
       "\t8 & Argentina & Mexico & 0.691677 & 0.0415087 & 0.266814 & 416.667 & 1 & $\\dots$ \\\\\n",
       "\t9 & Brazil & Serbia & 0.760576 & 0.0116859 & 0.227739 & 416.667 & 1 & $\\dots$ \\\\\n",
       "\t10 & Ecuador & Senegal & 0.105359 & 0.180916 & 0.713725 & 416.667 & 3 & $\\dots$ \\\\\n",
       "\t11 & France & Denmark & 0.0639191 & 0.0319283 & 0.904153 & 416.667 & 1 & $\\dots$ \\\\\n",
       "\t12 & USA & Wales & 0.313079 & 0.03656 & 0.650361 & 416.667 & 2 & $\\dots$ \\\\\n",
       "\\end{tabular}\n"
      ],
      "text/plain": [
       "\u001b[1m12×12 DataFrame\n",
       "\u001b[1m Row │\u001b[1m home_team    \u001b[1m away_team \u001b[1m home_win  \u001b[1m draw      \u001b[1m home_loss \u001b[1m bet_amount \u001b[1m a ⋯\n",
       "     │\u001b[90m String15     \u001b[90m String15  \u001b[90m Float64   \u001b[90m Float64   \u001b[90m Float64   \u001b[90m Float64    \u001b[90m I ⋯\n",
       "─────┼──────────────────────────────────────────────────────────────────────────\n",
       "   1 │ Australia     Denmark    0.238239   0.210197    0.551563     416.667    ⋯\n",
       "   2 │ Iran          USA        0.515694   0.270426    0.21388      416.667\n",
       "   3 │ Saudi Arabia  Mexico     0.557936   0.14692     0.295144     416.667\n",
       "   4 │ Costa Rica    Germany    0.0131862  0.444052    0.542761     416.667\n",
       "   5 │ Poland        Argentina  0.0124997  0.398129    0.589371     416.667    ⋯\n",
       "   6 │ Qatar         Ecuador    0.326202   0.570737    0.103061     416.667\n",
       "   7 │ Spain         Germany    0.227806   0.54764     0.224554     416.667\n",
       "   8 │ Argentina     Mexico     0.691677   0.0415087   0.266814     416.667\n",
       "   9 │ Brazil        Serbia     0.760576   0.0116859   0.227739     416.667    ⋯\n",
       "  10 │ Ecuador       Senegal    0.105359   0.180916    0.713725     416.667\n",
       "  11 │ France        Denmark    0.0639191  0.0319283   0.904153     416.667\n",
       "  12 │ USA           Wales      0.313079   0.03656     0.650361     416.667\n",
       "\u001b[36m                                                               6 columns omitted"
      ]
     },
     "execution_count": 191,
     "metadata": {},
     "output_type": "execute_result"
    }
   ],
   "source": [
    "# # EXPECTED PROFIT\n",
    "# create a new column called \"if_bets_correct_profit\" that calculates the profit if the bets are correct\n",
    "# initialise new if bets correct profit list\n",
    "if_bets_correct_profit = zeros(size(outcomes,1))\n",
    "\n",
    "# for each row in outcomes, calculate the profit if the bets are correct\n",
    "for i in 1:size(outcomes,1)\n",
    "    if_bets_correct_profit[i] = outcomes[i,\"bet_amount\"] * returns[outcomes[i,\"betting_matches_indices\"],outcomes[i,\"betting_matches_outcomes\"]+2] - outcomes[i,\"bet_amount\"]\n",
    "end\n",
    "\n",
    "# add if_bets_correct_profit to outcomes dataframe\n",
    "outcomes[:,\"if_bets_correct_profit\"] = if_bets_correct_profit;\n",
    "outcomes\n"
   ]
  },
  {
   "cell_type": "code",
   "execution_count": 192,
   "metadata": {},
   "outputs": [
    {
     "data": {
      "text/html": [
       "<div><div style = \"float: left;\"><span>12×13 DataFrame</span></div><div style = \"clear: both;\"></div></div><div class = \"data-frame\" style = \"overflow-x: scroll;\"><table class = \"data-frame\" style = \"margin-bottom: 6px;\"><thead><tr class = \"header\"><th class = \"rowNumber\" style = \"font-weight: bold; text-align: right;\">Row</th><th style = \"text-align: left;\">home_team</th><th style = \"text-align: left;\">away_team</th><th style = \"text-align: left;\">home_win</th><th style = \"text-align: left;\">draw</th><th style = \"text-align: left;\">home_loss</th><th style = \"text-align: left;\">bet_amount</th><th style = \"text-align: left;\">actual_outcome</th><th style = \"text-align: left;\">bet_outcome</th><th style = \"text-align: left;\">correct</th><th style = \"text-align: left;\">betting_matches_indices</th><th style = \"text-align: left;\">betting_matches_outcomes</th><th style = \"text-align: left;\">if_bets_correct_profit</th><th style = \"text-align: left;\">actual_profit</th></tr><tr class = \"subheader headerLastRow\"><th class = \"rowNumber\" style = \"font-weight: bold; text-align: right;\"></th><th title = \"String15\" style = \"text-align: left;\">String15</th><th title = \"String15\" style = \"text-align: left;\">String15</th><th title = \"Float64\" style = \"text-align: left;\">Float64</th><th title = \"Float64\" style = \"text-align: left;\">Float64</th><th title = \"Float64\" style = \"text-align: left;\">Float64</th><th title = \"Float64\" style = \"text-align: left;\">Float64</th><th title = \"Int64\" style = \"text-align: left;\">Int64</th><th title = \"Int64\" style = \"text-align: left;\">Int64</th><th title = \"Bool\" style = \"text-align: left;\">Bool</th><th title = \"Int64\" style = \"text-align: left;\">Int64</th><th title = \"Int64\" style = \"text-align: left;\">Int64</th><th title = \"Float64\" style = \"text-align: left;\">Float64</th><th title = \"Float64\" style = \"text-align: left;\">Float64</th></tr></thead><tbody><tr><td class = \"rowNumber\" style = \"font-weight: bold; text-align: right;\">1</td><td style = \"text-align: left;\">Australia</td><td style = \"text-align: left;\">Denmark</td><td style = \"text-align: right;\">0.238239</td><td style = \"text-align: right;\">0.210197</td><td style = \"text-align: right;\">0.551563</td><td style = \"text-align: right;\">416.667</td><td style = \"text-align: right;\">1</td><td style = \"text-align: right;\">1</td><td style = \"text-align: right;\">true</td><td style = \"text-align: right;\">3</td><td style = \"text-align: right;\">1</td><td style = \"text-align: right;\">2241.67</td><td style = \"text-align: right;\">2241.67</td></tr><tr><td class = \"rowNumber\" style = \"font-weight: bold; text-align: right;\">2</td><td style = \"text-align: left;\">Iran</td><td style = \"text-align: left;\">USA</td><td style = \"text-align: right;\">0.515694</td><td style = \"text-align: right;\">0.270426</td><td style = \"text-align: right;\">0.21388</td><td style = \"text-align: right;\">416.667</td><td style = \"text-align: right;\">3</td><td style = \"text-align: right;\">1</td><td style = \"text-align: right;\">false</td><td style = \"text-align: right;\">22</td><td style = \"text-align: right;\">1</td><td style = \"text-align: right;\">908.333</td><td style = \"text-align: right;\">-416.667</td></tr><tr><td class = \"rowNumber\" style = \"font-weight: bold; text-align: right;\">3</td><td style = \"text-align: left;\">Saudi Arabia</td><td style = \"text-align: left;\">Mexico</td><td style = \"text-align: right;\">0.557936</td><td style = \"text-align: right;\">0.14692</td><td style = \"text-align: right;\">0.295144</td><td style = \"text-align: right;\">416.667</td><td style = \"text-align: right;\">3</td><td style = \"text-align: right;\">1</td><td style = \"text-align: right;\">false</td><td style = \"text-align: right;\">37</td><td style = \"text-align: right;\">1</td><td style = \"text-align: right;\">1391.67</td><td style = \"text-align: right;\">-416.667</td></tr><tr><td class = \"rowNumber\" style = \"font-weight: bold; text-align: right;\">4</td><td style = \"text-align: left;\">Costa Rica</td><td style = \"text-align: left;\">Germany</td><td style = \"text-align: right;\">0.0131862</td><td style = \"text-align: right;\">0.444052</td><td style = \"text-align: right;\">0.542761</td><td style = \"text-align: right;\">416.667</td><td style = \"text-align: right;\">3</td><td style = \"text-align: right;\">2</td><td style = \"text-align: right;\">false</td><td style = \"text-align: right;\">11</td><td style = \"text-align: right;\">2</td><td style = \"text-align: right;\">3820.83</td><td style = \"text-align: right;\">-416.667</td></tr><tr><td class = \"rowNumber\" style = \"font-weight: bold; text-align: right;\">5</td><td style = \"text-align: left;\">Poland</td><td style = \"text-align: left;\">Argentina</td><td style = \"text-align: right;\">0.0124997</td><td style = \"text-align: right;\">0.398129</td><td style = \"text-align: right;\">0.589371</td><td style = \"text-align: right;\">416.667</td><td style = \"text-align: right;\">3</td><td style = \"text-align: right;\">2</td><td style = \"text-align: right;\">false</td><td style = \"text-align: right;\">31</td><td style = \"text-align: right;\">2</td><td style = \"text-align: right;\">1070.83</td><td style = \"text-align: right;\">-416.667</td></tr><tr><td class = \"rowNumber\" style = \"font-weight: bold; text-align: right;\">6</td><td style = \"text-align: left;\">Qatar</td><td style = \"text-align: left;\">Ecuador</td><td style = \"text-align: right;\">0.326202</td><td style = \"text-align: right;\">0.570737</td><td style = \"text-align: right;\">0.103061</td><td style = \"text-align: right;\">416.667</td><td style = \"text-align: right;\">3</td><td style = \"text-align: right;\">2</td><td style = \"text-align: right;\">false</td><td style = \"text-align: right;\">35</td><td style = \"text-align: right;\">2</td><td style = \"text-align: right;\">666.667</td><td style = \"text-align: right;\">-416.667</td></tr><tr><td class = \"rowNumber\" style = \"font-weight: bold; text-align: right;\">7</td><td style = \"text-align: left;\">Spain</td><td style = \"text-align: left;\">Germany</td><td style = \"text-align: right;\">0.227806</td><td style = \"text-align: right;\">0.54764</td><td style = \"text-align: right;\">0.224554</td><td style = \"text-align: right;\">416.667</td><td style = \"text-align: right;\">2</td><td style = \"text-align: right;\">2</td><td style = \"text-align: right;\">true</td><td style = \"text-align: right;\">41</td><td style = \"text-align: right;\">2</td><td style = \"text-align: right;\">591.667</td><td style = \"text-align: right;\">591.667</td></tr><tr><td class = \"rowNumber\" style = \"font-weight: bold; text-align: right;\">8</td><td style = \"text-align: left;\">Argentina</td><td style = \"text-align: left;\">Mexico</td><td style = \"text-align: right;\">0.691677</td><td style = \"text-align: right;\">0.0415087</td><td style = \"text-align: right;\">0.266814</td><td style = \"text-align: right;\">416.667</td><td style = \"text-align: right;\">1</td><td style = \"text-align: right;\">3</td><td style = \"text-align: right;\">false</td><td style = \"text-align: right;\">1</td><td style = \"text-align: right;\">3</td><td style = \"text-align: right;\">2133.33</td><td style = \"text-align: right;\">-416.667</td></tr><tr><td class = \"rowNumber\" style = \"font-weight: bold; text-align: right;\">9</td><td style = \"text-align: left;\">Brazil</td><td style = \"text-align: left;\">Serbia</td><td style = \"text-align: right;\">0.760576</td><td style = \"text-align: right;\">0.0116859</td><td style = \"text-align: right;\">0.227739</td><td style = \"text-align: right;\">416.667</td><td style = \"text-align: right;\">1</td><td style = \"text-align: right;\">3</td><td style = \"text-align: right;\">false</td><td style = \"text-align: right;\">6</td><td style = \"text-align: right;\">3</td><td style = \"text-align: right;\">2333.33</td><td style = \"text-align: right;\">-416.667</td></tr><tr><td class = \"rowNumber\" style = \"font-weight: bold; text-align: right;\">10</td><td style = \"text-align: left;\">Ecuador</td><td style = \"text-align: left;\">Senegal</td><td style = \"text-align: right;\">0.105359</td><td style = \"text-align: right;\">0.180916</td><td style = \"text-align: right;\">0.713725</td><td style = \"text-align: right;\">416.667</td><td style = \"text-align: right;\">3</td><td style = \"text-align: right;\">3</td><td style = \"text-align: right;\">true</td><td style = \"text-align: right;\">15</td><td style = \"text-align: right;\">3</td><td style = \"text-align: right;\">450.0</td><td style = \"text-align: right;\">450.0</td></tr><tr><td class = \"rowNumber\" style = \"font-weight: bold; text-align: right;\">11</td><td style = \"text-align: left;\">France</td><td style = \"text-align: left;\">Denmark</td><td style = \"text-align: right;\">0.0639191</td><td style = \"text-align: right;\">0.0319283</td><td style = \"text-align: right;\">0.904153</td><td style = \"text-align: right;\">416.667</td><td style = \"text-align: right;\">1</td><td style = \"text-align: right;\">3</td><td style = \"text-align: right;\">false</td><td style = \"text-align: right;\">19</td><td style = \"text-align: right;\">3</td><td style = \"text-align: right;\">4941.67</td><td style = \"text-align: right;\">-416.667</td></tr><tr><td class = \"rowNumber\" style = \"font-weight: bold; text-align: right;\">12</td><td style = \"text-align: left;\">USA</td><td style = \"text-align: left;\">Wales</td><td style = \"text-align: right;\">0.313079</td><td style = \"text-align: right;\">0.03656</td><td style = \"text-align: right;\">0.650361</td><td style = \"text-align: right;\">416.667</td><td style = \"text-align: right;\">2</td><td style = \"text-align: right;\">3</td><td style = \"text-align: right;\">false</td><td style = \"text-align: right;\">45</td><td style = \"text-align: right;\">3</td><td style = \"text-align: right;\">508.333</td><td style = \"text-align: right;\">-416.667</td></tr></tbody></table></div>"
      ],
      "text/latex": [
       "\\begin{tabular}{r|cccccccc}\n",
       "\t& home\\_team & away\\_team & home\\_win & draw & home\\_loss & bet\\_amount & actual\\_outcome & \\\\\n",
       "\t\\hline\n",
       "\t& String15 & String15 & Float64 & Float64 & Float64 & Float64 & Int64 & \\\\\n",
       "\t\\hline\n",
       "\t1 & Australia & Denmark & 0.238239 & 0.210197 & 0.551563 & 416.667 & 1 & $\\dots$ \\\\\n",
       "\t2 & Iran & USA & 0.515694 & 0.270426 & 0.21388 & 416.667 & 3 & $\\dots$ \\\\\n",
       "\t3 & Saudi Arabia & Mexico & 0.557936 & 0.14692 & 0.295144 & 416.667 & 3 & $\\dots$ \\\\\n",
       "\t4 & Costa Rica & Germany & 0.0131862 & 0.444052 & 0.542761 & 416.667 & 3 & $\\dots$ \\\\\n",
       "\t5 & Poland & Argentina & 0.0124997 & 0.398129 & 0.589371 & 416.667 & 3 & $\\dots$ \\\\\n",
       "\t6 & Qatar & Ecuador & 0.326202 & 0.570737 & 0.103061 & 416.667 & 3 & $\\dots$ \\\\\n",
       "\t7 & Spain & Germany & 0.227806 & 0.54764 & 0.224554 & 416.667 & 2 & $\\dots$ \\\\\n",
       "\t8 & Argentina & Mexico & 0.691677 & 0.0415087 & 0.266814 & 416.667 & 1 & $\\dots$ \\\\\n",
       "\t9 & Brazil & Serbia & 0.760576 & 0.0116859 & 0.227739 & 416.667 & 1 & $\\dots$ \\\\\n",
       "\t10 & Ecuador & Senegal & 0.105359 & 0.180916 & 0.713725 & 416.667 & 3 & $\\dots$ \\\\\n",
       "\t11 & France & Denmark & 0.0639191 & 0.0319283 & 0.904153 & 416.667 & 1 & $\\dots$ \\\\\n",
       "\t12 & USA & Wales & 0.313079 & 0.03656 & 0.650361 & 416.667 & 2 & $\\dots$ \\\\\n",
       "\\end{tabular}\n"
      ],
      "text/plain": [
       "\u001b[1m12×13 DataFrame\n",
       "\u001b[1m Row │\u001b[1m home_team    \u001b[1m away_team \u001b[1m home_win  \u001b[1m draw      \u001b[1m home_loss \u001b[1m bet_amount \u001b[1m a ⋯\n",
       "     │\u001b[90m String15     \u001b[90m String15  \u001b[90m Float64   \u001b[90m Float64   \u001b[90m Float64   \u001b[90m Float64    \u001b[90m I ⋯\n",
       "─────┼──────────────────────────────────────────────────────────────────────────\n",
       "   1 │ Australia     Denmark    0.238239   0.210197    0.551563     416.667    ⋯\n",
       "   2 │ Iran          USA        0.515694   0.270426    0.21388      416.667\n",
       "   3 │ Saudi Arabia  Mexico     0.557936   0.14692     0.295144     416.667\n",
       "   4 │ Costa Rica    Germany    0.0131862  0.444052    0.542761     416.667\n",
       "   5 │ Poland        Argentina  0.0124997  0.398129    0.589371     416.667    ⋯\n",
       "   6 │ Qatar         Ecuador    0.326202   0.570737    0.103061     416.667\n",
       "   7 │ Spain         Germany    0.227806   0.54764     0.224554     416.667\n",
       "   8 │ Argentina     Mexico     0.691677   0.0415087   0.266814     416.667\n",
       "   9 │ Brazil        Serbia     0.760576   0.0116859   0.227739     416.667    ⋯\n",
       "  10 │ Ecuador       Senegal    0.105359   0.180916    0.713725     416.667\n",
       "  11 │ France        Denmark    0.0639191  0.0319283   0.904153     416.667\n",
       "  12 │ USA           Wales      0.313079   0.03656     0.650361     416.667\n",
       "\u001b[36m                                                               7 columns omitted"
      ]
     },
     "execution_count": 192,
     "metadata": {},
     "output_type": "execute_result"
    }
   ],
   "source": [
    "# # ACTUAL PROFIT\n",
    "# for each row i in outcomes:\n",
    "# if correct == true, then actual_profit = if_bets_correct_profit, \n",
    "# if correct == false, then actual_profit = -bet_amount\n",
    "\n",
    "# initialise new actual profit list\n",
    "actual_profit = zeros(size(outcomes,1))\n",
    "\n",
    "# for each row in outcomes, calculate the actual profit and store in actual_profit list\n",
    "for i in 1:size(outcomes,1)\n",
    "    if outcomes[i,\"correct\"] == true\n",
    "        actual_profit[i] = outcomes[i,\"if_bets_correct_profit\"]\n",
    "    else\n",
    "        actual_profit[i] = -outcomes[i,\"bet_amount\"]\n",
    "    end\n",
    "end\n",
    "\n",
    "# add actual_profit to outcomes dataframe\n",
    "outcomes[:,\"actual_profit\"] = actual_profit;\n",
    "outcomes"
   ]
  },
  {
   "cell_type": "code",
   "execution_count": 193,
   "metadata": {},
   "outputs": [
    {
     "data": {
      "text/plain": [
       "-466.6666666666655"
      ]
     },
     "execution_count": 193,
     "metadata": {},
     "output_type": "execute_result"
    }
   ],
   "source": [
    "# sum outcomes[:,\"actual_earnings\"]\n",
    "sum(outcomes[:,\"actual_profit\"])"
   ]
  },
  {
   "cell_type": "code",
   "execution_count": null,
   "metadata": {},
   "outputs": [],
   "source": []
  }
 ],
 "metadata": {
  "kernelspec": {
   "display_name": "Julia 1.8.1",
   "language": "julia",
   "name": "julia-1.8"
  },
  "language_info": {
   "file_extension": ".jl",
   "mimetype": "application/julia",
   "name": "julia",
   "version": "1.8.1"
  },
  "orig_nbformat": 4
 },
 "nbformat": 4,
 "nbformat_minor": 2
}

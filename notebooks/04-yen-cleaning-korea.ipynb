{
 "cells": [
  {
   "cell_type": "code",
   "execution_count": 2,
   "metadata": {},
   "outputs": [],
   "source": [
    "import numpy as np\n",
    "import pandas as pd\n",
    "import matplotlib.pyplot as plt\n",
    "import seaborn as sns"
   ]
  },
  {
   "cell_type": "code",
   "execution_count": 6,
   "metadata": {},
   "outputs": [
    {
     "name": "stdout",
     "output_type": "stream",
     "text": [
      "True\n"
     ]
    }
   ],
   "source": [
    "# import new_xgb_pred.csv\n",
    "new_xgb_pred = pd.read_csv('/Users/yenhann/Documents/MIT/15.095 Machine Learning/15095-project/notebooks/new_xgb_pred.csv')\n",
    "new_xgb_pred\n",
    "\n",
    "# import gorup_stage_betting_odds.csv\n",
    "group_stage_betting_odds = pd.read_csv('/Users/yenhann/Documents/MIT/15.095 Machine Learning/15095-project/data/group_stage_betting_odds_final.csv')\n",
    "group_stage_betting_odds\n",
    "\n",
    "# check if shape[0] of new_xgb_pred and group_stage_betting_odds are the same\n",
    "print(new_xgb_pred.shape[0] == group_stage_betting_odds.shape[0])"
   ]
  },
  {
   "cell_type": "code",
   "execution_count": 7,
   "metadata": {},
   "outputs": [
    {
     "name": "stdout",
     "output_type": "stream",
     "text": [
      "row 24 is not the same\n",
      "row 25 is not the same\n",
      "row 26 is not the same\n",
      "row 27 is not the same\n",
      "row 28 is not the same\n",
      "row 29 is not the same\n",
      "row 30 is not the same\n",
      "row 31 is not the same\n",
      "row 32 is not the same\n",
      "row 33 is not the same\n",
      "row 34 is not the same\n",
      "row 35 is not the same\n",
      "row 36 is not the same\n",
      "row 37 is not the same\n",
      "row 38 is not the same\n",
      "row 44 is not the same\n",
      "row 45 is not the same\n"
     ]
    }
   ],
   "source": [
    "# for each row in new_xgb_pred, check if the home_team and away_team are the same as in group_stage_betting_odds\n",
    "for i in range(new_xgb_pred.shape[0]):\n",
    "    if new_xgb_pred.iloc[i, 0] != group_stage_betting_odds.iloc[i, 0] or new_xgb_pred.iloc[i, 1] != group_stage_betting_odds.iloc[i, 1]:\n",
    "        print('row', i, 'is not the same')\n"
   ]
  },
  {
   "cell_type": "code",
   "execution_count": 8,
   "metadata": {},
   "outputs": [
    {
     "data": {
      "text/html": [
       "<div>\n",
       "<style scoped>\n",
       "    .dataframe tbody tr th:only-of-type {\n",
       "        vertical-align: middle;\n",
       "    }\n",
       "\n",
       "    .dataframe tbody tr th {\n",
       "        vertical-align: top;\n",
       "    }\n",
       "\n",
       "    .dataframe thead th {\n",
       "        text-align: right;\n",
       "    }\n",
       "</style>\n",
       "<table border=\"1\" class=\"dataframe\">\n",
       "  <thead>\n",
       "    <tr style=\"text-align: right;\">\n",
       "      <th></th>\n",
       "      <th>home_team</th>\n",
       "      <th>away_team</th>\n",
       "      <th>home_win</th>\n",
       "      <th>draw</th>\n",
       "      <th>home_loss</th>\n",
       "    </tr>\n",
       "  </thead>\n",
       "  <tbody>\n",
       "    <tr>\n",
       "      <th>44</th>\n",
       "      <td>USA</td>\n",
       "      <td>Wales</td>\n",
       "      <td>0.313079</td>\n",
       "      <td>0.036560</td>\n",
       "      <td>0.650361</td>\n",
       "    </tr>\n",
       "    <tr>\n",
       "      <th>45</th>\n",
       "      <td>Uruguay</td>\n",
       "      <td>Korea Republic</td>\n",
       "      <td>0.699120</td>\n",
       "      <td>0.157679</td>\n",
       "      <td>0.143201</td>\n",
       "    </tr>\n",
       "  </tbody>\n",
       "</table>\n",
       "</div>"
      ],
      "text/plain": [
       "   home_team       away_team  home_win      draw  home_loss\n",
       "44       USA           Wales  0.313079  0.036560   0.650361\n",
       "45   Uruguay  Korea Republic  0.699120  0.157679   0.143201"
      ]
     },
     "execution_count": 8,
     "metadata": {},
     "output_type": "execute_result"
    }
   ],
   "source": [
    "# print rows 24 to 38 of new_xgb_pred\n",
    "new_xgb_pred.iloc[44:46, :]"
   ]
  },
  {
   "cell_type": "code",
   "execution_count": 9,
   "metadata": {},
   "outputs": [],
   "source": [
    "# if 'South Korea' in home_team or away_team for group_stage_betting_odds, change it to 'Korea Republic'\n",
    "for i in range(group_stage_betting_odds.shape[0]):\n",
    "    if group_stage_betting_odds.loc[i, 'home_team'] == 'South Korea':\n",
    "        group_stage_betting_odds.loc[i, 'home_team'] = 'Korea Republic'\n",
    "    if group_stage_betting_odds.loc[i, 'away_team'] == 'South Korea':\n",
    "        group_stage_betting_odds.loc[i, 'away_team'] = 'Korea Republic'"
   ]
  },
  {
   "cell_type": "code",
   "execution_count": 10,
   "metadata": {},
   "outputs": [],
   "source": [
    "# sort group_stage_betting_odds by home_team and away_team and reset_index\n",
    "group_stage_betting_odds = group_stage_betting_odds.sort_values(by=['home_team', 'away_team']).reset_index(drop=True)"
   ]
  },
  {
   "cell_type": "code",
   "execution_count": 11,
   "metadata": {},
   "outputs": [
    {
     "name": "stdout",
     "output_type": "stream",
     "text": [
      "row 26 is not the same\n"
     ]
    }
   ],
   "source": [
    "# for each row in new_xgb_pred, check if the home_team and away_team are the same as in group_stage_betting_odds\n",
    "for i in range(new_xgb_pred.shape[0]):\n",
    "    if new_xgb_pred.iloc[i, 0] != group_stage_betting_odds.iloc[i, 0] or new_xgb_pred.iloc[i, 1] != group_stage_betting_odds.iloc[i, 1]:\n",
    "        print('row', i, 'is not the same')\n"
   ]
  },
  {
   "cell_type": "code",
   "execution_count": 12,
   "metadata": {},
   "outputs": [
    {
     "data": {
      "text/html": [
       "<div>\n",
       "<style scoped>\n",
       "    .dataframe tbody tr th:only-of-type {\n",
       "        vertical-align: middle;\n",
       "    }\n",
       "\n",
       "    .dataframe tbody tr th {\n",
       "        vertical-align: top;\n",
       "    }\n",
       "\n",
       "    .dataframe thead th {\n",
       "        text-align: right;\n",
       "    }\n",
       "</style>\n",
       "<table border=\"1\" class=\"dataframe\">\n",
       "  <thead>\n",
       "    <tr style=\"text-align: right;\">\n",
       "      <th></th>\n",
       "      <th>home_team</th>\n",
       "      <th>away_team</th>\n",
       "      <th>home_win</th>\n",
       "      <th>draw</th>\n",
       "      <th>home_loss</th>\n",
       "    </tr>\n",
       "  </thead>\n",
       "  <tbody>\n",
       "    <tr>\n",
       "      <th>24</th>\n",
       "      <td>Korea Republic</td>\n",
       "      <td>Ghana</td>\n",
       "      <td>0.228441</td>\n",
       "      <td>0.221633</td>\n",
       "      <td>0.549926</td>\n",
       "    </tr>\n",
       "    <tr>\n",
       "      <th>25</th>\n",
       "      <td>Korea Republic</td>\n",
       "      <td>Portugal</td>\n",
       "      <td>0.052464</td>\n",
       "      <td>0.266551</td>\n",
       "      <td>0.680985</td>\n",
       "    </tr>\n",
       "    <tr>\n",
       "      <th>26</th>\n",
       "      <td>Mexico</td>\n",
       "      <td>Poland</td>\n",
       "      <td>0.451844</td>\n",
       "      <td>0.145664</td>\n",
       "      <td>0.402492</td>\n",
       "    </tr>\n",
       "    <tr>\n",
       "      <th>27</th>\n",
       "      <td>Morocco</td>\n",
       "      <td>Croatia</td>\n",
       "      <td>0.465358</td>\n",
       "      <td>0.434983</td>\n",
       "      <td>0.099659</td>\n",
       "    </tr>\n",
       "    <tr>\n",
       "      <th>28</th>\n",
       "      <td>Netherlands</td>\n",
       "      <td>Ecuador</td>\n",
       "      <td>0.835085</td>\n",
       "      <td>0.113837</td>\n",
       "      <td>0.051078</td>\n",
       "    </tr>\n",
       "    <tr>\n",
       "      <th>29</th>\n",
       "      <td>Netherlands</td>\n",
       "      <td>Qatar</td>\n",
       "      <td>0.855578</td>\n",
       "      <td>0.115547</td>\n",
       "      <td>0.028875</td>\n",
       "    </tr>\n",
       "    <tr>\n",
       "      <th>30</th>\n",
       "      <td>Poland</td>\n",
       "      <td>Argentina</td>\n",
       "      <td>0.012500</td>\n",
       "      <td>0.398129</td>\n",
       "      <td>0.589371</td>\n",
       "    </tr>\n",
       "    <tr>\n",
       "      <th>31</th>\n",
       "      <td>Poland</td>\n",
       "      <td>Saudi Arabia</td>\n",
       "      <td>0.853476</td>\n",
       "      <td>0.118365</td>\n",
       "      <td>0.028159</td>\n",
       "    </tr>\n",
       "    <tr>\n",
       "      <th>32</th>\n",
       "      <td>Portugal</td>\n",
       "      <td>Ghana</td>\n",
       "      <td>0.805563</td>\n",
       "      <td>0.178387</td>\n",
       "      <td>0.016050</td>\n",
       "    </tr>\n",
       "    <tr>\n",
       "      <th>33</th>\n",
       "      <td>Portugal</td>\n",
       "      <td>Uruguay</td>\n",
       "      <td>0.903218</td>\n",
       "      <td>0.064523</td>\n",
       "      <td>0.032259</td>\n",
       "    </tr>\n",
       "    <tr>\n",
       "      <th>34</th>\n",
       "      <td>Qatar</td>\n",
       "      <td>Ecuador</td>\n",
       "      <td>0.326202</td>\n",
       "      <td>0.570737</td>\n",
       "      <td>0.103061</td>\n",
       "    </tr>\n",
       "    <tr>\n",
       "      <th>35</th>\n",
       "      <td>Qatar</td>\n",
       "      <td>Senegal</td>\n",
       "      <td>0.334568</td>\n",
       "      <td>0.053653</td>\n",
       "      <td>0.611779</td>\n",
       "    </tr>\n",
       "    <tr>\n",
       "      <th>36</th>\n",
       "      <td>Saudi Arabia</td>\n",
       "      <td>Mexico</td>\n",
       "      <td>0.557936</td>\n",
       "      <td>0.146920</td>\n",
       "      <td>0.295144</td>\n",
       "    </tr>\n",
       "    <tr>\n",
       "      <th>37</th>\n",
       "      <td>Senegal</td>\n",
       "      <td>Netherlands</td>\n",
       "      <td>0.246266</td>\n",
       "      <td>0.403616</td>\n",
       "      <td>0.350118</td>\n",
       "    </tr>\n",
       "  </tbody>\n",
       "</table>\n",
       "</div>"
      ],
      "text/plain": [
       "         home_team     away_team  home_win      draw  home_loss\n",
       "24  Korea Republic         Ghana  0.228441  0.221633   0.549926\n",
       "25  Korea Republic      Portugal  0.052464  0.266551   0.680985\n",
       "26          Mexico        Poland  0.451844  0.145664   0.402492\n",
       "27         Morocco       Croatia  0.465358  0.434983   0.099659\n",
       "28     Netherlands       Ecuador  0.835085  0.113837   0.051078\n",
       "29     Netherlands         Qatar  0.855578  0.115547   0.028875\n",
       "30          Poland     Argentina  0.012500  0.398129   0.589371\n",
       "31          Poland  Saudi Arabia  0.853476  0.118365   0.028159\n",
       "32        Portugal         Ghana  0.805563  0.178387   0.016050\n",
       "33        Portugal       Uruguay  0.903218  0.064523   0.032259\n",
       "34           Qatar       Ecuador  0.326202  0.570737   0.103061\n",
       "35           Qatar       Senegal  0.334568  0.053653   0.611779\n",
       "36    Saudi Arabia        Mexico  0.557936  0.146920   0.295144\n",
       "37         Senegal   Netherlands  0.246266  0.403616   0.350118"
      ]
     },
     "execution_count": 12,
     "metadata": {},
     "output_type": "execute_result"
    }
   ],
   "source": [
    "# print rows 24 to 38 of new_xgb_pred\n",
    "new_xgb_pred.iloc[24:38, :]"
   ]
  },
  {
   "cell_type": "code",
   "execution_count": 13,
   "metadata": {},
   "outputs": [],
   "source": [
    "# print rows 24 to 38 of group_stage_betting_odds\n",
    "group_stage_betting_odds.iloc[24:38, 0:5]\n",
    "\n",
    "# find where \"Mexcio\" is in 'home_team' or 'away_team' in group_stage_betting_odds and replace with 'Mexico'\n",
    "for i in range(group_stage_betting_odds.shape[0]):\n",
    "    if group_stage_betting_odds.loc[i, 'home_team'] == 'Mexcio':\n",
    "        group_stage_betting_odds.loc[i, 'home_team'] = 'Mexico'\n",
    "    if group_stage_betting_odds.loc[i, 'away_team'] == 'Mexcio':\n",
    "        group_stage_betting_odds.loc[i, 'away_team'] = 'Mexico'"
   ]
  },
  {
   "cell_type": "code",
   "execution_count": 14,
   "metadata": {},
   "outputs": [],
   "source": [
    "# for each row in new_xgb_pred, check if the home_team and away_team are the same as in group_stage_betting_odds\n",
    "for i in range(new_xgb_pred.shape[0]):\n",
    "    if new_xgb_pred.iloc[i, 0] != group_stage_betting_odds.iloc[i, 0] or new_xgb_pred.iloc[i, 1] != group_stage_betting_odds.iloc[i, 1]:\n",
    "        print('row', i, 'is not the same')\n"
   ]
  },
  {
   "cell_type": "code",
   "execution_count": 16,
   "metadata": {},
   "outputs": [],
   "source": [
    "# save group_stage_betting_odds_final as group_stage_betting_odds_final_cleaned.csv\n",
    "group_stage_betting_odds.to_csv('/Users/yenhann/Documents/MIT/15.095 Machine Learning/15095-project/data/group_stage_betting_odds_final_cleaned.csv', index=False)"
   ]
  },
  {
   "cell_type": "code",
   "execution_count": null,
   "metadata": {},
   "outputs": [],
   "source": []
  }
 ],
 "metadata": {
  "kernelspec": {
   "display_name": "Python 3.9.13 ('base')",
   "language": "python",
   "name": "python3"
  },
  "language_info": {
   "codemirror_mode": {
    "name": "ipython",
    "version": 3
   },
   "file_extension": ".py",
   "mimetype": "text/x-python",
   "name": "python",
   "nbconvert_exporter": "python",
   "pygments_lexer": "ipython3",
   "version": "3.9.13"
  },
  "orig_nbformat": 4,
  "vscode": {
   "interpreter": {
    "hash": "4da98d95051a52da8c094cb6991c274a25cedfadc1a6d330cb8064cfb9870c7d"
   }
  }
 },
 "nbformat": 4,
 "nbformat_minor": 2
}

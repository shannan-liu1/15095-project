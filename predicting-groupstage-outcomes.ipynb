{
 "cells": [
  {
   "cell_type": "code",
   "execution_count": 1,
   "metadata": {},
   "outputs": [],
   "source": [
    "import numpy as np\n",
    "import matplotlib.pyplot as plt\n",
    "import pandas as pd"
   ]
  },
  {
   "cell_type": "markdown",
   "metadata": {},
   "source": [
    "### Visualise Home Away Group Stage Results"
   ]
  },
  {
   "cell_type": "code",
   "execution_count": 2,
   "metadata": {},
   "outputs": [],
   "source": [
    "# import home_away_results.csv\n",
    "home_away_results = pd.read_csv('home_away_results.csv')"
   ]
  },
  {
   "cell_type": "code",
   "execution_count": 30,
   "metadata": {},
   "outputs": [],
   "source": [
    "# add new column \"winner\" to home_away_results that contains the winner of each game\n",
    "# if column \"0\" > 0.5, then \"winner\" = \"away_team\". if column \"0\" < 0.5, then \"winner\" = \"home_team\"\n",
    "home_away_results['winner'] = np.where(home_away_results['0'] > 0.5, home_away_results['away_team'], home_away_results['home_team'])\n",
    "home_away_results\n",
    "\n",
    "# partition home_away_results into respective groups\n",
    "# group a: rows 0 to 5\n",
    "# group b: rows 6 to 11\n",
    "# group c: rows 12 to 17\n",
    "# group d: rows 18 to 23\n",
    "# group e: rows 24 to 29\n",
    "# group f: rows 30 to 35\n",
    "# group g: rows 36 to 41\n",
    "# group h: rows 42 to 47\n",
    "\n",
    "group_a = home_away_results.iloc[0:6]\n",
    "group_b = home_away_results.iloc[6:12]\n",
    "group_c = home_away_results.iloc[12:18]\n",
    "group_d = home_away_results.iloc[18:24]\n",
    "group_e = home_away_results.iloc[24:30]\n",
    "group_f = home_away_results.iloc[30:36]\n",
    "group_g = home_away_results.iloc[36:42]\n",
    "group_h = home_away_results.iloc[42:48]\n",
    "\n",
    "# # GROUP A____________________________________________________________________\n",
    "# in group_a, create a new dataframe that counts the number of wins of each team\n",
    "group_a_standings = group_a['winner'].value_counts().to_frame()\n",
    "\n",
    "# add a new row to group_a_wins that contains the remaining team from group_a\n",
    "group_a_standings.loc['Qatar'] = 0\n",
    "\n",
    "# add a new column called \"points\" that multiplies the number of wins by 3\n",
    "group_a_standings['points'] = group_a_standings['winner'] * 3\n",
    "\n",
    "# # GROUP B____________________________________________________________________\n",
    "# in group_b, create a new dataframe that counts the number of wins of each team\n",
    "group_b_standings = group_b['winner'].value_counts().to_frame()\n",
    "\n",
    "# add a new row to group_b_wins that contains the remaining team from group_b\n",
    "group_b_standings\n",
    "\n",
    "# add a new column called \"points\" that multiplies the number of wins by 3\n",
    "group_b_standings['points'] = group_b_standings['winner'] * 3\n",
    "\n",
    "# # GROUP C____________________________________________________________________\n",
    "# in group_c, create a new dataframe that counts the number of wins of each team\n",
    "group_c_standings = group_c['winner'].value_counts().to_frame()\n",
    "\n",
    "# add a new row to group_c_wins that contains the remaining team from group_c\n",
    "group_c_standings.loc['Saudi Arabia'] = 0\n",
    "\n",
    "# add a new column called \"points\" that multiplies the number of wins by 3\n",
    "group_c_standings['points'] = group_c_standings['winner'] * 3\n",
    "\n",
    "# # GROUP D____________________________________________________________________\n",
    "# in group_d, create a new dataframe that counts the number of wins of each team\n",
    "group_d_standings = group_d['winner'].value_counts().to_frame()\n",
    "\n",
    "# add a new row to group_d_wins that contains the remaining team from group_d\n",
    "group_d_standings.loc['Tunisia'] = 0\n",
    "\n",
    "# add a new column called \"points\" that multiplies the number of wins by 3\n",
    "group_d_standings['points'] = group_d_standings['winner'] * 3\n",
    "\n",
    "# # GROUP E____________________________________________________________________\n",
    "# in group_e, create a new dataframe that counts the number of wins of each team\n",
    "group_e_standings = group_e['winner'].value_counts().to_frame()\n",
    "\n",
    "# add a new row to group_e_wins that contains the remaining team from group_e\n",
    "group_e_standings.loc['Japan'] = 0\n",
    "\n",
    "# add a new column called \"points\" that multiplies the number of wins by 3\n",
    "group_e_standings['points'] = group_e_standings['winner'] * 3\n",
    "\n",
    "# # GROUP F____________________________________________________________________\n",
    "# in group_f, create a new dataframe that counts the number of wins of each team\n",
    "group_f_standings = group_f['winner'].value_counts().to_frame()\n",
    "\n",
    "# add a new row to group_f_wins that contains the remaining team from group_f\n",
    "group_f_standings.loc['Canada'] = 0\n",
    "\n",
    "# add a new column called \"points\" that multiplies the number of wins by 3\n",
    "group_f_standings['points'] = group_f_standings['winner'] * 3\n",
    "\n",
    "# # GROUP G____________________________________________________________________\n",
    "# in group_g, create a new dataframe that counts the number of wins of each team\n",
    "group_g_standings = group_g['winner'].value_counts().to_frame()\n",
    "\n",
    "# add a new row to group_g_wins that contains the remaining team from group_g\n",
    "group_g_standings.loc['Cameroon'] = 0\n",
    "\n",
    "# add a new column called \"points\" that multiplies the number of wins by 3\n",
    "group_g_standings['points'] = group_g_standings['winner'] * 3\n",
    "\n",
    "# # GROUP H____________________________________________________________________\n",
    "# in group_h, create a new dataframe that counts the number of wins of each team\n",
    "group_h_standings = group_h['winner'].value_counts().to_frame()\n",
    "\n",
    "# add a new row to group_h_wins that contains the remaining team from group_h\n",
    "group_h_standings.loc['Ghana'] = 0\n",
    "\n",
    "# add a new column called \"points\" that multiplies the number of wins by 3\n",
    "group_h_standings['points'] = group_h_standings['winner'] * 3"
   ]
  },
  {
   "cell_type": "code",
   "execution_count": 47,
   "metadata": {},
   "outputs": [
    {
     "name": "stdout",
     "output_type": "stream",
     "text": [
      "Group A:  ['Netherlands', 'Senegal']\n",
      "Group B:  ['England', 'Wales']\n",
      "Group C:  ['Argentina', 'Poland']\n",
      "Group D:  ['France', 'Denmark']\n",
      "Group E:  ['Germany', 'Spain']\n",
      "Group F:  ['Belgium', 'Croatia']\n",
      "Group G:  ['Brazil', 'Switzerland']\n",
      "Group H:  ['Uruguay', 'Portugal']\n"
     ]
    }
   ],
   "source": [
    "# for each group_standings, print the top 2 indices in a list ranked by points\n",
    "print(\"Group A: \", group_a_standings.nlargest(2, 'points').index.tolist())\n",
    "print(\"Group B: \", group_b_standings.nlargest(2, 'points').index.tolist())\n",
    "print(\"Group C: \", group_c_standings.nlargest(2, 'points').index.tolist())\n",
    "print(\"Group D: \", group_d_standings.nlargest(2, 'points').index.tolist())\n",
    "print(\"Group E: \", group_e_standings.nlargest(2, 'points').index.tolist())\n",
    "print(\"Group F: \", group_f_standings.nlargest(2, 'points').index.tolist())\n",
    "print(\"Group G: \", group_g_standings.nlargest(2, 'points').index.tolist())\n",
    "print(\"Group H: \", group_h_standings.nlargest(2, 'points').index.tolist())"
   ]
  }
 ],
 "metadata": {
  "kernelspec": {
   "display_name": "Python 3.9.12 ('base')",
   "language": "python",
   "name": "python3"
  },
  "language_info": {
   "codemirror_mode": {
    "name": "ipython",
    "version": 3
   },
   "file_extension": ".py",
   "mimetype": "text/x-python",
   "name": "python",
   "nbconvert_exporter": "python",
   "pygments_lexer": "ipython3",
   "version": "3.9.12"
  },
  "orig_nbformat": 4,
  "vscode": {
   "interpreter": {
    "hash": "4da98d95051a52da8c094cb6991c274a25cedfadc1a6d330cb8064cfb9870c7d"
   }
  }
 },
 "nbformat": 4,
 "nbformat_minor": 2
}

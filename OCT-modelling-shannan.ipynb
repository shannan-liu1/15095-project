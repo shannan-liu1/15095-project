{
 "cells": [
  {
   "cell_type": "code",
   "execution_count": 33,
   "metadata": {},
   "outputs": [],
   "source": [
    "# load packages\n",
    "using Gurobi, StatsBase, CSV, DataFrames, \n",
    "    JuMP, LinearAlgebra, Distributions, Random,\n",
    "    GLMNet, ScikitLearn, MLBase, CategoricalArrays, Plots,\n",
    "    Dates, Clustering, Distances, StatsPlots, ProgressMeter"
   ]
  },
  {
   "cell_type": "code",
   "execution_count": 34,
   "metadata": {},
   "outputs": [
    {
     "name": "stdout",
     "output_type": "stream",
     "text": [
      "Set parameter Username\r\n",
      "Academic license - for non-commercial use only - expires 2023-08-16\r\n"
     ]
    },
    {
     "name": "stderr",
     "output_type": "stream",
     "text": [
      "WARNING: redefinition of constant GUROBI_ENV. This may fail, cause incorrect answers, or produce other errors.\n"
     ]
    }
   ],
   "source": [
    "ProgressMeter.ijulia_behavior(:clear);\n",
    "const GUROBI_ENV = Gurobi.Env();"
   ]
  },
  {
   "cell_type": "code",
   "execution_count": 59,
   "metadata": {},
   "outputs": [],
   "source": [
    "# load data\n",
    "function load_csv(path)\n",
    "    data = CSV.read(path, DataFrame) |> Tables.matrix;\n",
    "   return data\n",
    "end;\n",
    "\n",
    "X_train = load_csv(\"X_train.csv\");\n",
    "y_train = load_csv(\"y_train.csv\");\n",
    "X_test = load_csv(\"X_test.csv\");\n",
    "y_test = load_csv(\"y_test.csv\");"
   ]
  },
  {
   "cell_type": "code",
   "execution_count": 60,
   "metadata": {},
   "outputs": [
    {
     "data": {
      "text/plain": [
       "(2041, 191)"
      ]
     },
     "metadata": {},
     "output_type": "display_data"
    }
   ],
   "source": [
    "size(X_train)"
   ]
  },
  {
   "cell_type": "markdown",
   "metadata": {},
   "source": [
    "## Sparse Logistic Regression"
   ]
  },
  {
   "cell_type": "code",
   "execution_count": 66,
   "metadata": {},
   "outputs": [
    {
     "ename": "MethodError",
     "evalue": "MethodError: no method matching fit!(::OptimalTrees.OptimalTreeClassifier, ::Matrix{Float64}, ::Matrix{Int64})\nClosest candidates are:\n  fit!(!Matched::IAIBase.GridSearch{<:IAIBase.SupervisedLearner{<:IAIBase.PolicyTask}}, ::Union{AbstractDataFrame, AbstractMatrix{<:Real}}, ::Union{AbstractDataFrame, AbstractMatrix{<:Real}}; sample_weight, kwargs...) at C:\\Users\\iai\\builds\\InterpretableAI\\SystemImage\\SysImgBuilder\\.julia\\packages\\IAIBase\\qNs6I\\src\\api.jl:96\n  fit!(!Matched::IAIBase.GridSearch{<:IAIBase.SupervisedLearner{<:IAIBase.PolicyTask}}, ::Union{AbstractDataFrame, AbstractMatrix{<:Real}}, ::Union{AbstractDataFrame, AbstractMatrix{<:Real}}, !Matched::Union{AbstractDataFrame, AbstractMatrix{<:Real}}, !Matched::Union{AbstractDataFrame, AbstractMatrix{<:Real}}; sample_weight, kwargs...) at C:\\Users\\iai\\builds\\InterpretableAI\\SystemImage\\SysImgBuilder\\.julia\\packages\\IAIBase\\qNs6I\\src\\api.jl:56\n  fit!(!Matched::IAIBase.GridSearch{<:IAIBase.UnsupervisedLearner{<:IAIBase.ImputationTask}}, ::Union{AbstractDataFrame, AbstractMatrix{<:Real}}, ::Union{AbstractDataFrame, AbstractMatrix{<:Real}}; sample_weight, kwargs...) at C:\\Users\\iai\\builds\\InterpretableAI\\SystemImage\\SysImgBuilder\\.julia\\packages\\IAIBase\\qNs6I\\src\\api.jl:56\n  ...",
     "output_type": "error",
     "traceback": [
      "MethodError: no method matching fit!(::OptimalTrees.OptimalTreeClassifier, ::Matrix{Float64}, ::Matrix{Int64})\n",
      "Closest candidates are:\n",
      "  fit!(!Matched::IAIBase.GridSearch{<:IAIBase.SupervisedLearner{<:IAIBase.PolicyTask}}, ::Union{AbstractDataFrame, AbstractMatrix{<:Real}}, ::Union{AbstractDataFrame, AbstractMatrix{<:Real}}; sample_weight, kwargs...) at C:\\Users\\iai\\builds\\InterpretableAI\\SystemImage\\SysImgBuilder\\.julia\\packages\\IAIBase\\qNs6I\\src\\api.jl:96\n",
      "  fit!(!Matched::IAIBase.GridSearch{<:IAIBase.SupervisedLearner{<:IAIBase.PolicyTask}}, ::Union{AbstractDataFrame, AbstractMatrix{<:Real}}, ::Union{AbstractDataFrame, AbstractMatrix{<:Real}}, !Matched::Union{AbstractDataFrame, AbstractMatrix{<:Real}}, !Matched::Union{AbstractDataFrame, AbstractMatrix{<:Real}}; sample_weight, kwargs...) at C:\\Users\\iai\\builds\\InterpretableAI\\SystemImage\\SysImgBuilder\\.julia\\packages\\IAIBase\\qNs6I\\src\\api.jl:56\n",
      "  fit!(!Matched::IAIBase.GridSearch{<:IAIBase.UnsupervisedLearner{<:IAIBase.ImputationTask}}, ::Union{AbstractDataFrame, AbstractMatrix{<:Real}}, ::Union{AbstractDataFrame, AbstractMatrix{<:Real}}; sample_weight, kwargs...) at C:\\Users\\iai\\builds\\InterpretableAI\\SystemImage\\SysImgBuilder\\.julia\\packages\\IAIBase\\qNs6I\\src\\api.jl:56\n",
      "  ...\n",
      "\n",
      "Stacktrace:\n",
      " [1] top-level scope\n",
      "   @ c:\\Users\\shann\\Documents\\GitHub\\15095-project\\OCT-modelling-shannan.ipynb:7"
     ]
    }
   ],
   "source": [
    "for loss_fn in [:misclassification, :gini, :entropy]\n",
    "    lnr=IAI.OptimalTreeClassifier(criterion=loss_fn, \n",
    "                                    max_depth=3, \n",
    "                                    cp=0.001, \n",
    "                                    minbucket=5,\n",
    "                                    random_seed=42)\n",
    "    display(IAI.fit!(lnr, X_train, y_train))\n",
    "    \n",
    "    train_auc_i = [train_auc_i; IAI.score(lnr, X_train, y_train,criterion=:auc)]\n",
    "    val_auc_i = [val_auc_i; IAI.score(lnr, X_valid, y_valid,criterion=:auc)]\n",
    "end"
   ]
  },
  {
   "cell_type": "code",
   "execution_count": null,
   "metadata": {},
   "outputs": [],
   "source": []
  },
  {
   "cell_type": "code",
   "execution_count": 44,
   "metadata": {},
   "outputs": [
    {
     "ename": "MethodError",
     "evalue": "MethodError: no method matching -(::IAIBase.GridSearch{OptimalFeatureSelection.OptimalFeatureSelectionClassifier, IAIBase.NullGridResult, IAIBase.Data{IAIBase.ClassificationTask, IAIBase.ClassificationTarget}})\nClosest candidates are:\n  -(::Any, !Matched::ChainRulesCore.AbstractThunk) at C:\\Users\\iai\\builds\\InterpretableAI\\SystemImage\\SysImgBuilder\\.julia\\packages\\ChainRulesCore\\C73ay\\src\\tangent_types\\thunks.jl:35\n  -(::T, !Matched::Union{MathOptInterface.ScalarAffineFunction{T}, MathOptInterface.ScalarQuadraticFunction{T}}) where T at C:\\Users\\iai\\builds\\InterpretableAI\\SystemImage\\SysImgBuilder\\.julia\\packages\\MathOptInterface\\Ohzb2\\src\\Utilities\\functions.jl:1812\n  -(::T1, !Matched::DataValues.DataValue{T2}) where {T1, T2} at C:\\Users\\shann\\.julia\\packages\\DataValues\\N7oeL\\src\\scalar\\operations.jl:75\n  ...",
     "output_type": "error",
     "traceback": [
      "MethodError: no method matching -(::IAIBase.GridSearch{OptimalFeatureSelection.OptimalFeatureSelectionClassifier, IAIBase.NullGridResult, IAIBase.Data{IAIBase.ClassificationTask, IAIBase.ClassificationTarget}})\n",
      "Closest candidates are:\n",
      "  -(::Any, !Matched::ChainRulesCore.AbstractThunk) at C:\\Users\\iai\\builds\\InterpretableAI\\SystemImage\\SysImgBuilder\\.julia\\packages\\ChainRulesCore\\C73ay\\src\\tangent_types\\thunks.jl:35\n",
      "  -(::T, !Matched::Union{MathOptInterface.ScalarAffineFunction{T}, MathOptInterface.ScalarQuadraticFunction{T}}) where T at C:\\Users\\iai\\builds\\InterpretableAI\\SystemImage\\SysImgBuilder\\.julia\\packages\\MathOptInterface\\Ohzb2\\src\\Utilities\\functions.jl:1812\n",
      "  -(::T1, !Matched::DataValues.DataValue{T2}) where {T1, T2} at C:\\Users\\shann\\.julia\\packages\\DataValues\\N7oeL\\src\\scalar\\operations.jl:75\n",
      "  ...\n",
      "\n",
      "Stacktrace:\n",
      " [1] top-level scope\n",
      "   @ c:\\Users\\shann\\Documents\\GitHub\\15095-project\\OCT-modelling-shannan.ipynb:1"
     ]
    }
   ],
   "source": [
    "grid <- IAI.GridSearch(\n",
    "    IAI.OptimalFeatureSelectionClassifier(\n",
    "        random_seed = 42,\n",
    "    ),\n",
    "    sparsity = 1:10,\n",
    ")\n",
    "fit(grid, X_train, y_train, validation_criterion = \"auc\")"
   ]
  }
 ],
 "metadata": {
  "kernelspec": {
   "display_name": "Julia 1.8.2",
   "language": "julia",
   "name": "julia-1.8"
  },
  "language_info": {
   "file_extension": ".jl",
   "mimetype": "application/julia",
   "name": "julia",
   "version": "1.8.2"
  },
  "orig_nbformat": 4
 },
 "nbformat": 4,
 "nbformat_minor": 2
}
